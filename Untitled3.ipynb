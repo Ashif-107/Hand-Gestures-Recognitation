{
 "cells": [
  {
   "cell_type": "code",
   "execution_count": 1,
   "id": "4239643a-0370-4d24-b89c-7c0eb2674260",
   "metadata": {},
   "outputs": [
    {
     "name": "stdout",
     "output_type": "stream",
     "text": [
      "Collecting pandas\n",
      "  Downloading pandas-2.0.3-cp38-cp38-win_amd64.whl.metadata (18 kB)\n",
      "Requirement already satisfied: python-dateutil>=2.8.2 in c:\\users\\mohamed ashif\\appdata\\local\\programs\\python\\python38\\lib\\site-packages (from pandas) (2.8.2)\n",
      "Requirement already satisfied: pytz>=2020.1 in c:\\users\\mohamed ashif\\appdata\\local\\programs\\python\\python38\\lib\\site-packages (from pandas) (2023.3.post1)\n",
      "Collecting tzdata>=2022.1 (from pandas)\n",
      "  Downloading tzdata-2023.3-py2.py3-none-any.whl (341 kB)\n",
      "     ---------------------------------------- 0.0/341.8 kB ? eta -:--:--\n",
      "     -------------------------------------- 341.8/341.8 kB 7.1 MB/s eta 0:00:00\n",
      "Requirement already satisfied: numpy>=1.20.3 in c:\\users\\mohamed ashif\\appdata\\local\\programs\\python\\python38\\lib\\site-packages (from pandas) (1.24.3)\n",
      "Requirement already satisfied: six>=1.5 in c:\\users\\mohamed ashif\\appdata\\local\\programs\\python\\python38\\lib\\site-packages (from python-dateutil>=2.8.2->pandas) (1.16.0)\n",
      "Downloading pandas-2.0.3-cp38-cp38-win_amd64.whl (10.8 MB)\n",
      "   ---------------------------------------- 0.0/10.8 MB ? eta -:--:--\n",
      "   --- ------------------------------------ 0.9/10.8 MB 19.4 MB/s eta 0:00:01\n",
      "   ------ --------------------------------- 1.7/10.8 MB 18.3 MB/s eta 0:00:01\n",
      "   --------- ------------------------------ 2.6/10.8 MB 18.5 MB/s eta 0:00:01\n",
      "   --------------- ------------------------ 4.1/10.8 MB 21.8 MB/s eta 0:00:01\n",
      "   ------------------- -------------------- 5.4/10.8 MB 21.5 MB/s eta 0:00:01\n",
      "   ------------------------ --------------- 6.6/10.8 MB 22.1 MB/s eta 0:00:01\n",
      "   ---------------------------- ----------- 7.7/10.8 MB 23.4 MB/s eta 0:00:01\n",
      "   --------------------------------- ------ 9.0/10.8 MB 22.9 MB/s eta 0:00:01\n",
      "   -------------------------------------- - 10.4/10.8 MB 23.4 MB/s eta 0:00:01\n",
      "   ---------------------------------------- 10.8/10.8 MB 23.3 MB/s eta 0:00:00\n",
      "Installing collected packages: tzdata, pandas\n",
      "Successfully installed pandas-2.0.3 tzdata-2023.3\n"
     ]
    },
    {
     "name": "stderr",
     "output_type": "stream",
     "text": [
      "WARNING: Ignoring invalid distribution -ip (c:\\users\\mohamed ashif\\appdata\\local\\programs\\python\\python38\\lib\\site-packages)\n",
      "WARNING: Ignoring invalid distribution -ip (c:\\users\\mohamed ashif\\appdata\\local\\programs\\python\\python38\\lib\\site-packages)\n"
     ]
    }
   ],
   "source": [
    "!pip install pandas\n"
   ]
  },
  {
   "cell_type": "code",
   "execution_count": null,
   "id": "bd95ceb2-5b6d-48ba-9d24-dc18f397e4a8",
   "metadata": {},
   "outputs": [],
   "source": [
    "!pip install seaborn"
   ]
  },
  {
   "cell_type": "code",
   "execution_count": null,
   "id": "a434c091-293f-4301-a4bf-ba9e55d1b392",
   "metadata": {},
   "outputs": [],
   "source": [
    "!pip install matplotlib"
   ]
  },
  {
   "cell_type": "code",
   "execution_count": null,
   "id": "35d94b84-a0fe-47ad-aa93-7e373c8aae01",
   "metadata": {},
   "outputs": [],
   "source": []
  }
 ],
 "metadata": {
  "kernelspec": {
   "display_name": "Python 3 (ipykernel)",
   "language": "python",
   "name": "python3"
  },
  "language_info": {
   "codemirror_mode": {
    "name": "ipython",
    "version": 3
   },
   "file_extension": ".py",
   "mimetype": "text/x-python",
   "name": "python",
   "nbconvert_exporter": "python",
   "pygments_lexer": "ipython3",
   "version": "3.8.10"
  }
 },
 "nbformat": 4,
 "nbformat_minor": 5
}
