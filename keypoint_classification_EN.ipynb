{
 "cells": [
  {
   "cell_type": "code",
   "execution_count": 56,
   "metadata": {
    "id": "igMyGnjE9hEp"
   },
   "outputs": [],
   "source": [
    "import csv\n",
    "\n",
    "import numpy as np\n",
    "import tensorflow as tf\n",
    "from sklearn.model_selection import train_test_split\n",
    "\n",
    "RANDOM_SEED = 42"
   ]
  },
  {
   "cell_type": "markdown",
   "metadata": {
    "id": "t2HDvhIu9hEr"
   },
   "source": [
    "# Specify each path"
   ]
  },
  {
   "cell_type": "code",
   "execution_count": 57,
   "metadata": {
    "id": "9NvZP2Zn9hEy"
   },
   "outputs": [],
   "source": [
    "dataset = 'model/keypoint_classifier/keypoint.csv'\n",
    "model_save_path = 'model/keypoint_classifier/keypoint_classifier.hdf5'\n",
    "tflite_save_path = 'model/keypoint_classifier/keypoint_classifier.tflite'"
   ]
  },
  {
   "cell_type": "markdown",
   "metadata": {
    "id": "s5oMH7x19hEz"
   },
   "source": [
    "# Set number of classes"
   ]
  },
  {
   "cell_type": "code",
   "execution_count": 58,
   "metadata": {
    "id": "du4kodXL9hEz"
   },
   "outputs": [],
   "source": [
    "NUM_CLASSES = 7"
   ]
  },
  {
   "cell_type": "markdown",
   "metadata": {
    "id": "XjnL0uso9hEz"
   },
   "source": [
    "# Dataset reading"
   ]
  },
  {
   "cell_type": "code",
   "execution_count": 59,
   "metadata": {
    "id": "QT5ZqtEz9hE0"
   },
   "outputs": [],
   "source": [
    "X_dataset = np.loadtxt(dataset, delimiter=',', dtype='float32', usecols=list(range(1, (21 * 2) + 1)))"
   ]
  },
  {
   "cell_type": "code",
   "execution_count": 60,
   "metadata": {
    "id": "QmoKFsp49hE0"
   },
   "outputs": [],
   "source": [
    "y_dataset = np.loadtxt(dataset, delimiter=',', dtype='int32', usecols=(0))"
   ]
  },
  {
   "cell_type": "code",
   "execution_count": 61,
   "metadata": {
    "id": "xQU7JTZ_9hE0"
   },
   "outputs": [],
   "source": [
    "X_train, X_test, y_train, y_test = train_test_split(X_dataset, y_dataset, train_size=0.75, random_state=RANDOM_SEED)"
   ]
  },
  {
   "cell_type": "markdown",
   "metadata": {
    "id": "mxK_lETT9hE0"
   },
   "source": [
    "# Model building"
   ]
  },
  {
   "cell_type": "code",
   "execution_count": 62,
   "metadata": {
    "id": "vHBmUf1t9hE1"
   },
   "outputs": [],
   "source": [
    "model = tf.keras.models.Sequential([\n",
    "    tf.keras.layers.Input((21 * 2, )),\n",
    "    tf.keras.layers.Dropout(0.2),\n",
    "    tf.keras.layers.Dense(20, activation='relu'),\n",
    "    tf.keras.layers.Dropout(0.4),\n",
    "    tf.keras.layers.Dense(10, activation='relu'),\n",
    "    tf.keras.layers.Dense(NUM_CLASSES, activation='softmax')\n",
    "])"
   ]
  },
  {
   "cell_type": "code",
   "execution_count": 63,
   "metadata": {
    "colab": {
     "base_uri": "https://localhost:8080/"
    },
    "id": "ypqky9tc9hE1",
    "outputId": "5db082bb-30e3-4110-bf63-a1ee777ecd46"
   },
   "outputs": [
    {
     "name": "stdout",
     "output_type": "stream",
     "text": [
      "Model: \"sequential_2\"\n",
      "_________________________________________________________________\n",
      " Layer (type)                Output Shape              Param #   \n",
      "=================================================================\n",
      " dropout_4 (Dropout)         (None, 42)                0         \n",
      "                                                                 \n",
      " dense_6 (Dense)             (None, 20)                860       \n",
      "                                                                 \n",
      " dropout_5 (Dropout)         (None, 20)                0         \n",
      "                                                                 \n",
      " dense_7 (Dense)             (None, 10)                210       \n",
      "                                                                 \n",
      " dense_8 (Dense)             (None, 7)                 77        \n",
      "                                                                 \n",
      "=================================================================\n",
      "Total params: 1147 (4.48 KB)\n",
      "Trainable params: 1147 (4.48 KB)\n",
      "Non-trainable params: 0 (0.00 Byte)\n",
      "_________________________________________________________________\n"
     ]
    }
   ],
   "source": [
    "model.summary()  # tf.keras.utils.plot_model(model, show_shapes=True)"
   ]
  },
  {
   "cell_type": "code",
   "execution_count": 64,
   "metadata": {
    "id": "MbMjOflQ9hE1"
   },
   "outputs": [],
   "source": [
    "# Model checkpoint callback\n",
    "cp_callback = tf.keras.callbacks.ModelCheckpoint(\n",
    "    model_save_path, verbose=1, save_weights_only=False)\n",
    "# Callback for early stopping\n",
    "es_callback = tf.keras.callbacks.EarlyStopping(patience=20, verbose=1)"
   ]
  },
  {
   "cell_type": "code",
   "execution_count": 65,
   "metadata": {
    "id": "c3Dac0M_9hE2"
   },
   "outputs": [],
   "source": [
    "# Model compilation\n",
    "model.compile(\n",
    "    optimizer='adam',\n",
    "    loss='sparse_categorical_crossentropy',\n",
    "    metrics=['accuracy']\n",
    ")"
   ]
  },
  {
   "cell_type": "markdown",
   "metadata": {
    "id": "7XI0j1Iu9hE2"
   },
   "source": [
    "# Model training"
   ]
  },
  {
   "cell_type": "code",
   "execution_count": 66,
   "metadata": {
    "colab": {
     "base_uri": "https://localhost:8080/"
    },
    "id": "WirBl-JE9hE3",
    "outputId": "71b30ca2-8294-4d9d-8aa2-800d90d399de",
    "scrolled": true
   },
   "outputs": [
    {
     "name": "stdout",
     "output_type": "stream",
     "text": [
      "Epoch 1/1000\n",
      "25/30 [========================>.....] - ETA: 0s - loss: 2.0792 - accuracy: 0.1447 \n",
      "Epoch 1: saving model to model/keypoint_classifier\\keypoint_classifier.hdf5\n",
      "30/30 [==============================] - 1s 8ms/step - loss: 2.0634 - accuracy: 0.1525 - val_loss: 1.9004 - val_accuracy: 0.2543\n",
      "Epoch 2/1000\n",
      "24/30 [=======================>......] - ETA: 0s - loss: 1.9258 - accuracy: 0.1930\n",
      "Epoch 2: saving model to model/keypoint_classifier\\keypoint_classifier.hdf5\n",
      "30/30 [==============================] - 0s 4ms/step - loss: 1.9195 - accuracy: 0.1947 - val_loss: 1.8343 - val_accuracy: 0.2804\n",
      "Epoch 3/1000\n",
      " 1/30 [>.............................] - ETA: 0s - loss: 1.9375 - accuracy: 0.1484"
     ]
    },
    {
     "name": "stderr",
     "output_type": "stream",
     "text": [
      "C:\\Users\\Mohamed Ashif\\AppData\\Local\\Programs\\Python\\Python38\\lib\\site-packages\\keras\\src\\engine\\training.py:3000: UserWarning: You are saving your model as an HDF5 file via `model.save()`. This file format is considered legacy. We recommend using instead the native Keras format, e.g. `model.save('my_model.keras')`.\n",
      "  saving_api.save_model(\n"
     ]
    },
    {
     "name": "stdout",
     "output_type": "stream",
     "text": [
      "21/30 [====================>.........] - ETA: 0s - loss: 1.8738 - accuracy: 0.2333\n",
      "Epoch 3: saving model to model/keypoint_classifier\\keypoint_classifier.hdf5\n",
      "30/30 [==============================] - 0s 4ms/step - loss: 1.8626 - accuracy: 0.2400 - val_loss: 1.7719 - val_accuracy: 0.3807\n",
      "Epoch 4/1000\n",
      "22/30 [=====================>........] - ETA: 0s - loss: 1.8162 - accuracy: 0.2649\n",
      "Epoch 4: saving model to model/keypoint_classifier\\keypoint_classifier.hdf5\n",
      "30/30 [==============================] - 0s 4ms/step - loss: 1.8147 - accuracy: 0.2666 - val_loss: 1.6962 - val_accuracy: 0.4336\n",
      "Epoch 5/1000\n",
      "22/30 [=====================>........] - ETA: 0s - loss: 1.7689 - accuracy: 0.2894\n",
      "Epoch 5: saving model to model/keypoint_classifier\\keypoint_classifier.hdf5\n",
      "30/30 [==============================] - 0s 4ms/step - loss: 1.7604 - accuracy: 0.2940 - val_loss: 1.6072 - val_accuracy: 0.4629\n",
      "Epoch 6/1000\n",
      "22/30 [=====================>........] - ETA: 0s - loss: 1.7004 - accuracy: 0.3054\n",
      "Epoch 6: saving model to model/keypoint_classifier\\keypoint_classifier.hdf5\n",
      "30/30 [==============================] - 0s 4ms/step - loss: 1.6963 - accuracy: 0.3058 - val_loss: 1.5212 - val_accuracy: 0.4850\n",
      "Epoch 7/1000\n",
      "23/30 [======================>.......] - ETA: 0s - loss: 1.6387 - accuracy: 0.3488\n",
      "Epoch 7: saving model to model/keypoint_classifier\\keypoint_classifier.hdf5\n",
      "30/30 [==============================] - 0s 4ms/step - loss: 1.6383 - accuracy: 0.3459 - val_loss: 1.4478 - val_accuracy: 0.5079\n",
      "Epoch 8/1000\n",
      "24/30 [=======================>......] - ETA: 0s - loss: 1.5910 - accuracy: 0.3604\n",
      "Epoch 8: saving model to model/keypoint_classifier\\keypoint_classifier.hdf5\n",
      "30/30 [==============================] - 0s 4ms/step - loss: 1.5849 - accuracy: 0.3612 - val_loss: 1.3759 - val_accuracy: 0.5348\n",
      "Epoch 9/1000\n",
      "25/30 [========================>.....] - ETA: 0s - loss: 1.5318 - accuracy: 0.3837\n",
      "Epoch 9: saving model to model/keypoint_classifier\\keypoint_classifier.hdf5\n",
      "30/30 [==============================] - 0s 4ms/step - loss: 1.5284 - accuracy: 0.3875 - val_loss: 1.3091 - val_accuracy: 0.5924\n",
      "Epoch 10/1000\n",
      "25/30 [========================>.....] - ETA: 0s - loss: 1.4904 - accuracy: 0.4038\n",
      "Epoch 10: saving model to model/keypoint_classifier\\keypoint_classifier.hdf5\n",
      "30/30 [==============================] - 0s 4ms/step - loss: 1.4897 - accuracy: 0.4025 - val_loss: 1.2447 - val_accuracy: 0.6098\n",
      "Epoch 11/1000\n",
      "23/30 [======================>.......] - ETA: 0s - loss: 1.4367 - accuracy: 0.4317\n",
      "Epoch 11: saving model to model/keypoint_classifier\\keypoint_classifier.hdf5\n",
      "30/30 [==============================] - 0s 5ms/step - loss: 1.4354 - accuracy: 0.4297 - val_loss: 1.1820 - val_accuracy: 0.6264\n",
      "Epoch 12/1000\n",
      "22/30 [=====================>........] - ETA: 0s - loss: 1.4138 - accuracy: 0.4407\n",
      "Epoch 12: saving model to model/keypoint_classifier\\keypoint_classifier.hdf5\n",
      "30/30 [==============================] - 0s 4ms/step - loss: 1.4086 - accuracy: 0.4384 - val_loss: 1.1362 - val_accuracy: 0.6611\n",
      "Epoch 13/1000\n",
      "26/30 [=========================>....] - ETA: 0s - loss: 1.3684 - accuracy: 0.4423\n",
      "Epoch 13: saving model to model/keypoint_classifier\\keypoint_classifier.hdf5\n",
      "30/30 [==============================] - 0s 4ms/step - loss: 1.3640 - accuracy: 0.4465 - val_loss: 1.0941 - val_accuracy: 0.6564\n",
      "Epoch 14/1000\n",
      "24/30 [=======================>......] - ETA: 0s - loss: 1.3472 - accuracy: 0.4577\n",
      "Epoch 14: saving model to model/keypoint_classifier\\keypoint_classifier.hdf5\n",
      "30/30 [==============================] - 0s 4ms/step - loss: 1.3466 - accuracy: 0.4602 - val_loss: 1.0603 - val_accuracy: 0.6785\n",
      "Epoch 15/1000\n",
      "20/30 [===================>..........] - ETA: 0s - loss: 1.3323 - accuracy: 0.4551\n",
      "Epoch 15: saving model to model/keypoint_classifier\\keypoint_classifier.hdf5\n",
      "30/30 [==============================] - 0s 4ms/step - loss: 1.3260 - accuracy: 0.4581 - val_loss: 1.0286 - val_accuracy: 0.6675\n",
      "Epoch 16/1000\n",
      "22/30 [=====================>........] - ETA: 0s - loss: 1.3057 - accuracy: 0.4641\n",
      "Epoch 16: saving model to model/keypoint_classifier\\keypoint_classifier.hdf5\n",
      "30/30 [==============================] - 0s 4ms/step - loss: 1.3029 - accuracy: 0.4631 - val_loss: 1.0050 - val_accuracy: 0.6722\n",
      "Epoch 17/1000\n",
      "23/30 [======================>.......] - ETA: 0s - loss: 1.2663 - accuracy: 0.4868\n",
      "Epoch 17: saving model to model/keypoint_classifier\\keypoint_classifier.hdf5\n",
      "30/30 [==============================] - 0s 4ms/step - loss: 1.2714 - accuracy: 0.4887 - val_loss: 0.9750 - val_accuracy: 0.6872\n",
      "Epoch 18/1000\n",
      "20/30 [===================>..........] - ETA: 0s - loss: 1.2778 - accuracy: 0.4785\n",
      "Epoch 18: saving model to model/keypoint_classifier\\keypoint_classifier.hdf5\n",
      "30/30 [==============================] - 0s 4ms/step - loss: 1.2729 - accuracy: 0.4795 - val_loss: 0.9595 - val_accuracy: 0.6809\n",
      "Epoch 19/1000\n",
      "24/30 [=======================>......] - ETA: 0s - loss: 1.2606 - accuracy: 0.4902\n",
      "Epoch 19: saving model to model/keypoint_classifier\\keypoint_classifier.hdf5\n",
      "30/30 [==============================] - 0s 4ms/step - loss: 1.2565 - accuracy: 0.4889 - val_loss: 0.9427 - val_accuracy: 0.6801\n",
      "Epoch 20/1000\n",
      "25/30 [========================>.....] - ETA: 0s - loss: 1.2373 - accuracy: 0.4997\n",
      "Epoch 20: saving model to model/keypoint_classifier\\keypoint_classifier.hdf5\n",
      "30/30 [==============================] - 0s 4ms/step - loss: 1.2465 - accuracy: 0.4968 - val_loss: 0.9324 - val_accuracy: 0.6967\n",
      "Epoch 21/1000\n",
      "21/30 [====================>.........] - ETA: 0s - loss: 1.2328 - accuracy: 0.4981\n",
      "Epoch 21: saving model to model/keypoint_classifier\\keypoint_classifier.hdf5\n",
      "30/30 [==============================] - 0s 4ms/step - loss: 1.2361 - accuracy: 0.4979 - val_loss: 0.9148 - val_accuracy: 0.6880\n",
      "Epoch 22/1000\n",
      "26/30 [=========================>....] - ETA: 0s - loss: 1.2390 - accuracy: 0.5027\n",
      "Epoch 22: saving model to model/keypoint_classifier\\keypoint_classifier.hdf5\n",
      "30/30 [==============================] - 0s 4ms/step - loss: 1.2272 - accuracy: 0.5071 - val_loss: 0.9073 - val_accuracy: 0.6991\n",
      "Epoch 23/1000\n",
      "27/30 [==========================>...] - ETA: 0s - loss: 1.1936 - accuracy: 0.5217\n",
      "Epoch 23: saving model to model/keypoint_classifier\\keypoint_classifier.hdf5\n",
      "30/30 [==============================] - 0s 4ms/step - loss: 1.1878 - accuracy: 0.5203 - val_loss: 0.8859 - val_accuracy: 0.6991\n",
      "Epoch 24/1000\n",
      "24/30 [=======================>......] - ETA: 0s - loss: 1.2053 - accuracy: 0.5101\n",
      "Epoch 24: saving model to model/keypoint_classifier\\keypoint_classifier.hdf5\n",
      "30/30 [==============================] - 0s 4ms/step - loss: 1.2057 - accuracy: 0.5108 - val_loss: 0.8819 - val_accuracy: 0.7046\n",
      "Epoch 25/1000\n",
      "27/30 [==========================>...] - ETA: 0s - loss: 1.1983 - accuracy: 0.5179\n",
      "Epoch 25: saving model to model/keypoint_classifier\\keypoint_classifier.hdf5\n",
      "30/30 [==============================] - 0s 4ms/step - loss: 1.2011 - accuracy: 0.5158 - val_loss: 0.8747 - val_accuracy: 0.7046\n",
      "Epoch 26/1000\n",
      "23/30 [======================>.......] - ETA: 0s - loss: 1.1963 - accuracy: 0.5149\n",
      "Epoch 26: saving model to model/keypoint_classifier\\keypoint_classifier.hdf5\n",
      "30/30 [==============================] - 0s 4ms/step - loss: 1.1895 - accuracy: 0.5134 - val_loss: 0.8729 - val_accuracy: 0.7054\n",
      "Epoch 27/1000\n",
      "21/30 [====================>.........] - ETA: 0s - loss: 1.1731 - accuracy: 0.5312\n",
      "Epoch 27: saving model to model/keypoint_classifier\\keypoint_classifier.hdf5\n",
      "30/30 [==============================] - 0s 4ms/step - loss: 1.1758 - accuracy: 0.5300 - val_loss: 0.8527 - val_accuracy: 0.6991\n",
      "Epoch 28/1000\n",
      "24/30 [=======================>......] - ETA: 0s - loss: 1.1698 - accuracy: 0.5176\n",
      "Epoch 28: saving model to model/keypoint_classifier\\keypoint_classifier.hdf5\n",
      "30/30 [==============================] - 0s 4ms/step - loss: 1.1644 - accuracy: 0.5208 - val_loss: 0.8444 - val_accuracy: 0.7196\n",
      "Epoch 29/1000\n",
      "21/30 [====================>.........] - ETA: 0s - loss: 1.1676 - accuracy: 0.5327\n",
      "Epoch 29: saving model to model/keypoint_classifier\\keypoint_classifier.hdf5\n",
      "30/30 [==============================] - 0s 4ms/step - loss: 1.1619 - accuracy: 0.5306 - val_loss: 0.8364 - val_accuracy: 0.7156\n",
      "Epoch 30/1000\n",
      "26/30 [=========================>....] - ETA: 0s - loss: 1.1587 - accuracy: 0.5460\n",
      "Epoch 30: saving model to model/keypoint_classifier\\keypoint_classifier.hdf5\n",
      "30/30 [==============================] - 0s 4ms/step - loss: 1.1614 - accuracy: 0.5429 - val_loss: 0.8299 - val_accuracy: 0.7172\n",
      "Epoch 31/1000\n",
      "21/30 [====================>.........] - ETA: 0s - loss: 1.1492 - accuracy: 0.5461\n",
      "Epoch 31: saving model to model/keypoint_classifier\\keypoint_classifier.hdf5\n",
      "30/30 [==============================] - 0s 4ms/step - loss: 1.1493 - accuracy: 0.5393 - val_loss: 0.8273 - val_accuracy: 0.7133\n",
      "Epoch 32/1000\n",
      "26/30 [=========================>....] - ETA: 0s - loss: 1.1508 - accuracy: 0.5484\n",
      "Epoch 32: saving model to model/keypoint_classifier\\keypoint_classifier.hdf5\n",
      "30/30 [==============================] - 0s 4ms/step - loss: 1.1441 - accuracy: 0.5551 - val_loss: 0.8179 - val_accuracy: 0.7148\n",
      "Epoch 33/1000\n",
      "26/30 [=========================>....] - ETA: 0s - loss: 1.1456 - accuracy: 0.5409\n",
      "Epoch 33: saving model to model/keypoint_classifier\\keypoint_classifier.hdf5\n",
      "30/30 [==============================] - 0s 4ms/step - loss: 1.1408 - accuracy: 0.5387 - val_loss: 0.8143 - val_accuracy: 0.7212\n",
      "Epoch 34/1000\n",
      "27/30 [==========================>...] - ETA: 0s - loss: 1.1302 - accuracy: 0.5489\n",
      "Epoch 34: saving model to model/keypoint_classifier\\keypoint_classifier.hdf5\n",
      "30/30 [==============================] - 0s 4ms/step - loss: 1.1265 - accuracy: 0.5522 - val_loss: 0.8076 - val_accuracy: 0.7385\n",
      "Epoch 35/1000\n",
      "24/30 [=======================>......] - ETA: 0s - loss: 1.1260 - accuracy: 0.5436\n",
      "Epoch 35: saving model to model/keypoint_classifier\\keypoint_classifier.hdf5\n",
      "30/30 [==============================] - 0s 4ms/step - loss: 1.1260 - accuracy: 0.5450 - val_loss: 0.7937 - val_accuracy: 0.7354\n",
      "Epoch 36/1000\n",
      "26/30 [=========================>....] - ETA: 0s - loss: 1.1161 - accuracy: 0.5646\n",
      "Epoch 36: saving model to model/keypoint_classifier\\keypoint_classifier.hdf5\n",
      "30/30 [==============================] - 0s 4ms/step - loss: 1.1091 - accuracy: 0.5651 - val_loss: 0.7975 - val_accuracy: 0.7338\n",
      "Epoch 37/1000\n",
      "23/30 [======================>.......] - ETA: 0s - loss: 1.1381 - accuracy: 0.5448\n",
      "Epoch 37: saving model to model/keypoint_classifier\\keypoint_classifier.hdf5\n",
      "30/30 [==============================] - 0s 4ms/step - loss: 1.1325 - accuracy: 0.5516 - val_loss: 0.7955 - val_accuracy: 0.7480\n",
      "Epoch 38/1000\n",
      "24/30 [=======================>......] - ETA: 0s - loss: 1.1191 - accuracy: 0.5547\n",
      "Epoch 38: saving model to model/keypoint_classifier\\keypoint_classifier.hdf5\n",
      "30/30 [==============================] - 0s 4ms/step - loss: 1.1230 - accuracy: 0.5551 - val_loss: 0.7886 - val_accuracy: 0.7330\n",
      "Epoch 39/1000\n",
      "25/30 [========================>.....] - ETA: 0s - loss: 1.1110 - accuracy: 0.5534\n",
      "Epoch 39: saving model to model/keypoint_classifier\\keypoint_classifier.hdf5\n",
      "30/30 [==============================] - 0s 4ms/step - loss: 1.1246 - accuracy: 0.5498 - val_loss: 0.7839 - val_accuracy: 0.7401\n",
      "Epoch 40/1000\n",
      "27/30 [==========================>...] - ETA: 0s - loss: 1.1230 - accuracy: 0.5564\n",
      "Epoch 40: saving model to model/keypoint_classifier\\keypoint_classifier.hdf5\n",
      "30/30 [==============================] - 0s 4ms/step - loss: 1.1214 - accuracy: 0.5603 - val_loss: 0.7795 - val_accuracy: 0.7520\n",
      "Epoch 41/1000\n",
      "25/30 [========================>.....] - ETA: 0s - loss: 1.0990 - accuracy: 0.5606\n",
      "Epoch 41: saving model to model/keypoint_classifier\\keypoint_classifier.hdf5\n",
      "30/30 [==============================] - 0s 4ms/step - loss: 1.0961 - accuracy: 0.5661 - val_loss: 0.7710 - val_accuracy: 0.7607\n",
      "Epoch 42/1000\n",
      "25/30 [========================>.....] - ETA: 0s - loss: 1.1152 - accuracy: 0.5697\n",
      "Epoch 42: saving model to model/keypoint_classifier\\keypoint_classifier.hdf5\n",
      "30/30 [==============================] - 0s 4ms/step - loss: 1.1086 - accuracy: 0.5764 - val_loss: 0.7706 - val_accuracy: 0.7504\n",
      "Epoch 43/1000\n",
      "25/30 [========================>.....] - ETA: 0s - loss: 1.1051 - accuracy: 0.5703\n",
      "Epoch 43: saving model to model/keypoint_classifier\\keypoint_classifier.hdf5\n",
      "30/30 [==============================] - 0s 4ms/step - loss: 1.1076 - accuracy: 0.5688 - val_loss: 0.7673 - val_accuracy: 0.7630\n",
      "Epoch 44/1000\n",
      "23/30 [======================>.......] - ETA: 0s - loss: 1.0834 - accuracy: 0.5764\n",
      "Epoch 44: saving model to model/keypoint_classifier\\keypoint_classifier.hdf5\n",
      "30/30 [==============================] - 0s 4ms/step - loss: 1.0934 - accuracy: 0.5735 - val_loss: 0.7669 - val_accuracy: 0.7757\n",
      "Epoch 45/1000\n",
      "26/30 [=========================>....] - ETA: 0s - loss: 1.0881 - accuracy: 0.5748\n",
      "Epoch 45: saving model to model/keypoint_classifier\\keypoint_classifier.hdf5\n",
      "30/30 [==============================] - 0s 4ms/step - loss: 1.0918 - accuracy: 0.5709 - val_loss: 0.7560 - val_accuracy: 0.7788\n",
      "Epoch 46/1000\n",
      "28/30 [===========================>..] - ETA: 0s - loss: 1.0818 - accuracy: 0.5759\n",
      "Epoch 46: saving model to model/keypoint_classifier\\keypoint_classifier.hdf5\n",
      "30/30 [==============================] - 0s 4ms/step - loss: 1.0792 - accuracy: 0.5769 - val_loss: 0.7433 - val_accuracy: 0.7796\n",
      "Epoch 47/1000\n",
      "26/30 [=========================>....] - ETA: 0s - loss: 1.0899 - accuracy: 0.5760\n",
      "Epoch 47: saving model to model/keypoint_classifier\\keypoint_classifier.hdf5\n",
      "30/30 [==============================] - 0s 4ms/step - loss: 1.0923 - accuracy: 0.5743 - val_loss: 0.7468 - val_accuracy: 0.8009\n",
      "Epoch 48/1000\n",
      "29/30 [============================>.] - ETA: 0s - loss: 1.0611 - accuracy: 0.5927\n",
      "Epoch 48: saving model to model/keypoint_classifier\\keypoint_classifier.hdf5\n",
      "30/30 [==============================] - 0s 4ms/step - loss: 1.0594 - accuracy: 0.5927 - val_loss: 0.7308 - val_accuracy: 0.8262\n",
      "Epoch 49/1000\n",
      "24/30 [=======================>......] - ETA: 0s - loss: 1.0701 - accuracy: 0.5781\n",
      "Epoch 49: saving model to model/keypoint_classifier\\keypoint_classifier.hdf5\n",
      "30/30 [==============================] - 0s 4ms/step - loss: 1.0721 - accuracy: 0.5796 - val_loss: 0.7315 - val_accuracy: 0.7970\n",
      "Epoch 50/1000\n",
      "27/30 [==========================>...] - ETA: 0s - loss: 1.0518 - accuracy: 0.5966\n",
      "Epoch 50: saving model to model/keypoint_classifier\\keypoint_classifier.hdf5\n",
      "30/30 [==============================] - 0s 4ms/step - loss: 1.0526 - accuracy: 0.5956 - val_loss: 0.7252 - val_accuracy: 0.8112\n",
      "Epoch 51/1000\n",
      "21/30 [====================>.........] - ETA: 0s - loss: 1.0686 - accuracy: 0.5874\n",
      "Epoch 51: saving model to model/keypoint_classifier\\keypoint_classifier.hdf5\n",
      "30/30 [==============================] - 0s 4ms/step - loss: 1.0771 - accuracy: 0.5777 - val_loss: 0.7244 - val_accuracy: 0.8215\n",
      "Epoch 52/1000\n",
      "26/30 [=========================>....] - ETA: 0s - loss: 1.0569 - accuracy: 0.5925\n",
      "Epoch 52: saving model to model/keypoint_classifier\\keypoint_classifier.hdf5\n",
      "30/30 [==============================] - 0s 4ms/step - loss: 1.0685 - accuracy: 0.5893 - val_loss: 0.7172 - val_accuracy: 0.8420\n",
      "Epoch 53/1000\n",
      "24/30 [=======================>......] - ETA: 0s - loss: 1.0522 - accuracy: 0.5902\n",
      "Epoch 53: saving model to model/keypoint_classifier\\keypoint_classifier.hdf5\n",
      "30/30 [==============================] - 0s 4ms/step - loss: 1.0498 - accuracy: 0.5888 - val_loss: 0.7182 - val_accuracy: 0.8081\n",
      "Epoch 54/1000\n",
      "23/30 [======================>.......] - ETA: 0s - loss: 1.0350 - accuracy: 0.5815\n",
      "Epoch 54: saving model to model/keypoint_classifier\\keypoint_classifier.hdf5\n",
      "30/30 [==============================] - 0s 4ms/step - loss: 1.0502 - accuracy: 0.5817 - val_loss: 0.7054 - val_accuracy: 0.8397\n",
      "Epoch 55/1000\n",
      "21/30 [====================>.........] - ETA: 0s - loss: 1.0489 - accuracy: 0.5978\n",
      "Epoch 55: saving model to model/keypoint_classifier\\keypoint_classifier.hdf5\n",
      "30/30 [==============================] - 0s 4ms/step - loss: 1.0352 - accuracy: 0.6012 - val_loss: 0.7066 - val_accuracy: 0.8183\n",
      "Epoch 56/1000\n",
      "21/30 [====================>.........] - ETA: 0s - loss: 1.0308 - accuracy: 0.6042\n",
      "Epoch 56: saving model to model/keypoint_classifier\\keypoint_classifier.hdf5\n",
      "30/30 [==============================] - 0s 4ms/step - loss: 1.0434 - accuracy: 0.5943 - val_loss: 0.6927 - val_accuracy: 0.8365\n",
      "Epoch 57/1000\n",
      "25/30 [========================>.....] - ETA: 0s - loss: 1.0367 - accuracy: 0.5934\n",
      "Epoch 57: saving model to model/keypoint_classifier\\keypoint_classifier.hdf5\n",
      "30/30 [==============================] - 0s 4ms/step - loss: 1.0275 - accuracy: 0.5975 - val_loss: 0.6952 - val_accuracy: 0.8397\n",
      "Epoch 58/1000\n",
      "23/30 [======================>.......] - ETA: 0s - loss: 1.0527 - accuracy: 0.5849\n",
      "Epoch 58: saving model to model/keypoint_classifier\\keypoint_classifier.hdf5\n",
      "30/30 [==============================] - 0s 4ms/step - loss: 1.0363 - accuracy: 0.5940 - val_loss: 0.6967 - val_accuracy: 0.8404\n",
      "Epoch 59/1000\n",
      "23/30 [======================>.......] - ETA: 0s - loss: 1.0367 - accuracy: 0.5988\n",
      "Epoch 59: saving model to model/keypoint_classifier\\keypoint_classifier.hdf5\n",
      "30/30 [==============================] - 0s 4ms/step - loss: 1.0425 - accuracy: 0.5996 - val_loss: 0.6932 - val_accuracy: 0.8389\n",
      "Epoch 60/1000\n",
      " 1/30 [>.............................] - ETA: 0s - loss: 1.0220 - accuracy: 0.6406\n",
      "Epoch 60: saving model to model/keypoint_classifier\\keypoint_classifier.hdf5\n",
      "30/30 [==============================] - 0s 4ms/step - loss: 1.0253 - accuracy: 0.6043 - val_loss: 0.6893 - val_accuracy: 0.8420\n",
      "Epoch 61/1000\n",
      "29/30 [============================>.] - ETA: 0s - loss: 1.0319 - accuracy: 0.6061\n",
      "Epoch 61: saving model to model/keypoint_classifier\\keypoint_classifier.hdf5\n",
      "30/30 [==============================] - 0s 4ms/step - loss: 1.0343 - accuracy: 0.6043 - val_loss: 0.6869 - val_accuracy: 0.8539\n",
      "Epoch 62/1000\n",
      "26/30 [=========================>....] - ETA: 0s - loss: 1.0236 - accuracy: 0.6061\n",
      "Epoch 62: saving model to model/keypoint_classifier\\keypoint_classifier.hdf5\n",
      "30/30 [==============================] - 0s 4ms/step - loss: 1.0228 - accuracy: 0.6070 - val_loss: 0.6823 - val_accuracy: 0.8578\n",
      "Epoch 63/1000\n",
      "24/30 [=======================>......] - ETA: 0s - loss: 1.0366 - accuracy: 0.6094\n",
      "Epoch 63: saving model to model/keypoint_classifier\\keypoint_classifier.hdf5\n",
      "30/30 [==============================] - 0s 5ms/step - loss: 1.0310 - accuracy: 0.6159 - val_loss: 0.6776 - val_accuracy: 0.8665\n",
      "Epoch 64/1000\n",
      "23/30 [======================>.......] - ETA: 0s - loss: 1.0004 - accuracy: 0.6050\n",
      "Epoch 64: saving model to model/keypoint_classifier\\keypoint_classifier.hdf5\n",
      "30/30 [==============================] - 0s 4ms/step - loss: 1.0100 - accuracy: 0.6056 - val_loss: 0.6776 - val_accuracy: 0.8531\n",
      "Epoch 65/1000\n",
      "24/30 [=======================>......] - ETA: 0s - loss: 1.0167 - accuracy: 0.6113\n",
      "Epoch 65: saving model to model/keypoint_classifier\\keypoint_classifier.hdf5\n",
      "30/30 [==============================] - 0s 4ms/step - loss: 1.0229 - accuracy: 0.6051 - val_loss: 0.6737 - val_accuracy: 0.8665\n",
      "Epoch 66/1000\n",
      "25/30 [========================>.....] - ETA: 0s - loss: 1.0126 - accuracy: 0.6197\n",
      "Epoch 66: saving model to model/keypoint_classifier\\keypoint_classifier.hdf5\n",
      "30/30 [==============================] - 0s 4ms/step - loss: 1.0049 - accuracy: 0.6170 - val_loss: 0.6744 - val_accuracy: 0.8452\n",
      "Epoch 67/1000\n",
      "29/30 [============================>.] - ETA: 0s - loss: 1.0267 - accuracy: 0.5986\n",
      "Epoch 67: saving model to model/keypoint_classifier\\keypoint_classifier.hdf5\n",
      "30/30 [==============================] - 0s 4ms/step - loss: 1.0287 - accuracy: 0.5977 - val_loss: 0.6722 - val_accuracy: 0.8736\n",
      "Epoch 68/1000\n",
      "23/30 [======================>.......] - ETA: 0s - loss: 0.9907 - accuracy: 0.6107\n",
      "Epoch 68: saving model to model/keypoint_classifier\\keypoint_classifier.hdf5\n",
      "30/30 [==============================] - 0s 4ms/step - loss: 0.9989 - accuracy: 0.6080 - val_loss: 0.6709 - val_accuracy: 0.8626\n",
      "Epoch 69/1000\n",
      "21/30 [====================>.........] - ETA: 0s - loss: 0.9928 - accuracy: 0.6302\n",
      "Epoch 69: saving model to model/keypoint_classifier\\keypoint_classifier.hdf5\n",
      "30/30 [==============================] - 0s 4ms/step - loss: 0.9940 - accuracy: 0.6283 - val_loss: 0.6658 - val_accuracy: 0.8752\n",
      "Epoch 70/1000\n",
      "27/30 [==========================>...] - ETA: 0s - loss: 1.0062 - accuracy: 0.6273\n",
      "Epoch 70: saving model to model/keypoint_classifier\\keypoint_classifier.hdf5\n",
      "30/30 [==============================] - 0s 4ms/step - loss: 1.0076 - accuracy: 0.6251 - val_loss: 0.6533 - val_accuracy: 0.8776\n",
      "Epoch 71/1000\n",
      "27/30 [==========================>...] - ETA: 0s - loss: 1.0142 - accuracy: 0.6111\n",
      "Epoch 71: saving model to model/keypoint_classifier\\keypoint_classifier.hdf5\n",
      "30/30 [==============================] - 0s 4ms/step - loss: 1.0116 - accuracy: 0.6146 - val_loss: 0.6636 - val_accuracy: 0.8507\n",
      "Epoch 72/1000\n",
      "25/30 [========================>.....] - ETA: 0s - loss: 0.9938 - accuracy: 0.6134\n",
      "Epoch 72: saving model to model/keypoint_classifier\\keypoint_classifier.hdf5\n",
      "30/30 [==============================] - 0s 4ms/step - loss: 0.9960 - accuracy: 0.6141 - val_loss: 0.6553 - val_accuracy: 0.8728\n",
      "Epoch 73/1000\n",
      "24/30 [=======================>......] - ETA: 0s - loss: 0.9983 - accuracy: 0.6156\n",
      "Epoch 73: saving model to model/keypoint_classifier\\keypoint_classifier.hdf5\n",
      "30/30 [==============================] - 0s 4ms/step - loss: 0.9969 - accuracy: 0.6162 - val_loss: 0.6429 - val_accuracy: 0.8760\n",
      "Epoch 74/1000\n",
      "25/30 [========================>.....] - ETA: 0s - loss: 0.9820 - accuracy: 0.6187\n",
      "Epoch 74: saving model to model/keypoint_classifier\\keypoint_classifier.hdf5\n",
      "30/30 [==============================] - 0s 4ms/step - loss: 0.9827 - accuracy: 0.6193 - val_loss: 0.6505 - val_accuracy: 0.8673\n",
      "Epoch 75/1000\n",
      "25/30 [========================>.....] - ETA: 0s - loss: 0.9638 - accuracy: 0.6375\n",
      "Epoch 75: saving model to model/keypoint_classifier\\keypoint_classifier.hdf5\n",
      "30/30 [==============================] - 0s 4ms/step - loss: 0.9744 - accuracy: 0.6322 - val_loss: 0.6385 - val_accuracy: 0.8784\n",
      "Epoch 76/1000\n",
      "26/30 [=========================>....] - ETA: 0s - loss: 0.9892 - accuracy: 0.6280\n",
      "Epoch 76: saving model to model/keypoint_classifier\\keypoint_classifier.hdf5\n",
      "30/30 [==============================] - 0s 4ms/step - loss: 0.9864 - accuracy: 0.6262 - val_loss: 0.6366 - val_accuracy: 0.8784\n",
      "Epoch 77/1000\n",
      "22/30 [=====================>........] - ETA: 0s - loss: 0.9807 - accuracy: 0.6328\n",
      "Epoch 77: saving model to model/keypoint_classifier\\keypoint_classifier.hdf5\n",
      "30/30 [==============================] - 0s 5ms/step - loss: 0.9821 - accuracy: 0.6270 - val_loss: 0.6431 - val_accuracy: 0.8705\n",
      "Epoch 78/1000\n",
      "25/30 [========================>.....] - ETA: 0s - loss: 0.9613 - accuracy: 0.6353\n",
      "Epoch 78: saving model to model/keypoint_classifier\\keypoint_classifier.hdf5\n",
      "30/30 [==============================] - 0s 4ms/step - loss: 0.9664 - accuracy: 0.6299 - val_loss: 0.6426 - val_accuracy: 0.8752\n",
      "Epoch 79/1000\n",
      "24/30 [=======================>......] - ETA: 0s - loss: 0.9677 - accuracy: 0.6387\n",
      "Epoch 79: saving model to model/keypoint_classifier\\keypoint_classifier.hdf5\n",
      "30/30 [==============================] - 0s 4ms/step - loss: 0.9727 - accuracy: 0.6375 - val_loss: 0.6423 - val_accuracy: 0.8760\n",
      "Epoch 80/1000\n",
      "24/30 [=======================>......] - ETA: 0s - loss: 0.9805 - accuracy: 0.6266\n",
      "Epoch 80: saving model to model/keypoint_classifier\\keypoint_classifier.hdf5\n",
      "30/30 [==============================] - 0s 4ms/step - loss: 0.9739 - accuracy: 0.6296 - val_loss: 0.6281 - val_accuracy: 0.8815\n",
      "Epoch 81/1000\n",
      "26/30 [=========================>....] - ETA: 0s - loss: 0.9758 - accuracy: 0.6238\n",
      "Epoch 81: saving model to model/keypoint_classifier\\keypoint_classifier.hdf5\n",
      "30/30 [==============================] - 0s 4ms/step - loss: 0.9748 - accuracy: 0.6236 - val_loss: 0.6296 - val_accuracy: 0.8799\n",
      "Epoch 82/1000\n",
      "26/30 [=========================>....] - ETA: 0s - loss: 0.9839 - accuracy: 0.6316\n",
      "Epoch 82: saving model to model/keypoint_classifier\\keypoint_classifier.hdf5\n",
      "30/30 [==============================] - 0s 4ms/step - loss: 0.9730 - accuracy: 0.6365 - val_loss: 0.6306 - val_accuracy: 0.8776\n",
      "Epoch 83/1000\n",
      "24/30 [=======================>......] - ETA: 0s - loss: 0.9946 - accuracy: 0.6224\n",
      "Epoch 83: saving model to model/keypoint_classifier\\keypoint_classifier.hdf5\n",
      "30/30 [==============================] - 0s 4ms/step - loss: 0.9880 - accuracy: 0.6238 - val_loss: 0.6281 - val_accuracy: 0.8705\n",
      "Epoch 84/1000\n",
      "25/30 [========================>.....] - ETA: 0s - loss: 0.9494 - accuracy: 0.6419\n",
      "Epoch 84: saving model to model/keypoint_classifier\\keypoint_classifier.hdf5\n",
      "30/30 [==============================] - 0s 4ms/step - loss: 0.9574 - accuracy: 0.6386 - val_loss: 0.6154 - val_accuracy: 0.8823\n",
      "Epoch 85/1000\n",
      "23/30 [======================>.......] - ETA: 0s - loss: 0.9604 - accuracy: 0.6345\n",
      "Epoch 85: saving model to model/keypoint_classifier\\keypoint_classifier.hdf5\n",
      "30/30 [==============================] - 0s 4ms/step - loss: 0.9675 - accuracy: 0.6333 - val_loss: 0.6166 - val_accuracy: 0.8815\n",
      "Epoch 86/1000\n",
      "25/30 [========================>.....] - ETA: 0s - loss: 0.9803 - accuracy: 0.6347\n",
      "Epoch 86: saving model to model/keypoint_classifier\\keypoint_classifier.hdf5\n",
      "30/30 [==============================] - 0s 4ms/step - loss: 0.9730 - accuracy: 0.6349 - val_loss: 0.6242 - val_accuracy: 0.8776\n",
      "Epoch 87/1000\n",
      "23/30 [======================>.......] - ETA: 0s - loss: 0.9503 - accuracy: 0.6457\n",
      "Epoch 87: saving model to model/keypoint_classifier\\keypoint_classifier.hdf5\n",
      "30/30 [==============================] - 0s 4ms/step - loss: 0.9546 - accuracy: 0.6428 - val_loss: 0.6210 - val_accuracy: 0.8776\n",
      "Epoch 88/1000\n",
      "25/30 [========================>.....] - ETA: 0s - loss: 0.9556 - accuracy: 0.6469\n",
      "Epoch 88: saving model to model/keypoint_classifier\\keypoint_classifier.hdf5\n",
      "30/30 [==============================] - 0s 4ms/step - loss: 0.9555 - accuracy: 0.6428 - val_loss: 0.6088 - val_accuracy: 0.8760\n",
      "Epoch 89/1000\n",
      "22/30 [=====================>........] - ETA: 0s - loss: 0.9554 - accuracy: 0.6417\n",
      "Epoch 89: saving model to model/keypoint_classifier\\keypoint_classifier.hdf5\n",
      "30/30 [==============================] - 0s 5ms/step - loss: 0.9669 - accuracy: 0.6370 - val_loss: 0.6181 - val_accuracy: 0.8768\n",
      "Epoch 90/1000\n",
      "21/30 [====================>.........] - ETA: 0s - loss: 0.9760 - accuracy: 0.6239\n",
      "Epoch 90: saving model to model/keypoint_classifier\\keypoint_classifier.hdf5\n",
      "30/30 [==============================] - 0s 5ms/step - loss: 0.9642 - accuracy: 0.6328 - val_loss: 0.6183 - val_accuracy: 0.8720\n",
      "Epoch 91/1000\n",
      "25/30 [========================>.....] - ETA: 0s - loss: 0.9321 - accuracy: 0.6491\n",
      "Epoch 91: saving model to model/keypoint_classifier\\keypoint_classifier.hdf5\n",
      "30/30 [==============================] - 0s 4ms/step - loss: 0.9356 - accuracy: 0.6488 - val_loss: 0.5954 - val_accuracy: 0.8791\n",
      "Epoch 92/1000\n",
      "25/30 [========================>.....] - ETA: 0s - loss: 0.9401 - accuracy: 0.6503\n",
      "Epoch 92: saving model to model/keypoint_classifier\\keypoint_classifier.hdf5\n",
      "30/30 [==============================] - 0s 4ms/step - loss: 0.9414 - accuracy: 0.6478 - val_loss: 0.6086 - val_accuracy: 0.8760\n",
      "Epoch 93/1000\n",
      "27/30 [==========================>...] - ETA: 0s - loss: 0.9542 - accuracy: 0.6406\n",
      "Epoch 93: saving model to model/keypoint_classifier\\keypoint_classifier.hdf5\n",
      "30/30 [==============================] - 0s 4ms/step - loss: 0.9573 - accuracy: 0.6401 - val_loss: 0.6030 - val_accuracy: 0.8831\n",
      "Epoch 94/1000\n",
      "26/30 [=========================>....] - ETA: 0s - loss: 0.9405 - accuracy: 0.6469\n",
      "Epoch 94: saving model to model/keypoint_classifier\\keypoint_classifier.hdf5\n",
      "30/30 [==============================] - 0s 4ms/step - loss: 0.9436 - accuracy: 0.6457 - val_loss: 0.6120 - val_accuracy: 0.8760\n",
      "Epoch 95/1000\n",
      "26/30 [=========================>....] - ETA: 0s - loss: 0.9561 - accuracy: 0.6376\n",
      "Epoch 95: saving model to model/keypoint_classifier\\keypoint_classifier.hdf5\n",
      "30/30 [==============================] - 0s 4ms/step - loss: 0.9490 - accuracy: 0.6425 - val_loss: 0.6035 - val_accuracy: 0.8784\n",
      "Epoch 96/1000\n",
      "24/30 [=======================>......] - ETA: 0s - loss: 0.9533 - accuracy: 0.6377\n",
      "Epoch 96: saving model to model/keypoint_classifier\\keypoint_classifier.hdf5\n",
      "30/30 [==============================] - 0s 4ms/step - loss: 0.9511 - accuracy: 0.6372 - val_loss: 0.6040 - val_accuracy: 0.8799\n",
      "Epoch 97/1000\n",
      "22/30 [=====================>........] - ETA: 0s - loss: 0.9307 - accuracy: 0.6534\n",
      "Epoch 97: saving model to model/keypoint_classifier\\keypoint_classifier.hdf5\n",
      "30/30 [==============================] - 0s 4ms/step - loss: 0.9305 - accuracy: 0.6586 - val_loss: 0.5946 - val_accuracy: 0.8831\n",
      "Epoch 98/1000\n",
      "24/30 [=======================>......] - ETA: 0s - loss: 0.9113 - accuracy: 0.6566\n",
      "Epoch 98: saving model to model/keypoint_classifier\\keypoint_classifier.hdf5\n",
      "30/30 [==============================] - 0s 4ms/step - loss: 0.9260 - accuracy: 0.6531 - val_loss: 0.5998 - val_accuracy: 0.8831\n",
      "Epoch 99/1000\n",
      "27/30 [==========================>...] - ETA: 0s - loss: 0.9308 - accuracy: 0.6505\n",
      "Epoch 99: saving model to model/keypoint_classifier\\keypoint_classifier.hdf5\n",
      "30/30 [==============================] - 0s 4ms/step - loss: 0.9289 - accuracy: 0.6515 - val_loss: 0.5987 - val_accuracy: 0.8791\n",
      "Epoch 100/1000\n",
      "28/30 [===========================>..] - ETA: 0s - loss: 0.9400 - accuracy: 0.6443\n",
      "Epoch 100: saving model to model/keypoint_classifier\\keypoint_classifier.hdf5\n",
      "30/30 [==============================] - 0s 4ms/step - loss: 0.9347 - accuracy: 0.6488 - val_loss: 0.5942 - val_accuracy: 0.8839\n",
      "Epoch 101/1000\n",
      "24/30 [=======================>......] - ETA: 0s - loss: 0.9399 - accuracy: 0.6491\n",
      "Epoch 101: saving model to model/keypoint_classifier\\keypoint_classifier.hdf5\n",
      "30/30 [==============================] - 0s 4ms/step - loss: 0.9492 - accuracy: 0.6420 - val_loss: 0.5986 - val_accuracy: 0.8791\n",
      "Epoch 102/1000\n",
      "25/30 [========================>.....] - ETA: 0s - loss: 0.9313 - accuracy: 0.6628\n",
      "Epoch 102: saving model to model/keypoint_classifier\\keypoint_classifier.hdf5\n",
      "30/30 [==============================] - 0s 4ms/step - loss: 0.9283 - accuracy: 0.6657 - val_loss: 0.5930 - val_accuracy: 0.8807\n",
      "Epoch 103/1000\n",
      "24/30 [=======================>......] - ETA: 0s - loss: 0.9157 - accuracy: 0.6549\n",
      "Epoch 103: saving model to model/keypoint_classifier\\keypoint_classifier.hdf5\n",
      "30/30 [==============================] - 0s 4ms/step - loss: 0.9125 - accuracy: 0.6573 - val_loss: 0.5856 - val_accuracy: 0.8831\n",
      "Epoch 104/1000\n",
      "24/30 [=======================>......] - ETA: 0s - loss: 0.9321 - accuracy: 0.6530\n",
      "Epoch 104: saving model to model/keypoint_classifier\\keypoint_classifier.hdf5\n",
      "30/30 [==============================] - 0s 4ms/step - loss: 0.9222 - accuracy: 0.6570 - val_loss: 0.5789 - val_accuracy: 0.8807\n",
      "Epoch 105/1000\n",
      "26/30 [=========================>....] - ETA: 0s - loss: 0.9543 - accuracy: 0.6472\n",
      "Epoch 105: saving model to model/keypoint_classifier\\keypoint_classifier.hdf5\n",
      "30/30 [==============================] - 0s 4ms/step - loss: 0.9470 - accuracy: 0.6481 - val_loss: 0.5900 - val_accuracy: 0.8823\n",
      "Epoch 106/1000\n",
      "24/30 [=======================>......] - ETA: 0s - loss: 0.9038 - accuracy: 0.6725\n",
      "Epoch 106: saving model to model/keypoint_classifier\\keypoint_classifier.hdf5\n",
      "30/30 [==============================] - 0s 4ms/step - loss: 0.9191 - accuracy: 0.6633 - val_loss: 0.5821 - val_accuracy: 0.8870\n",
      "Epoch 107/1000\n",
      "26/30 [=========================>....] - ETA: 0s - loss: 0.9039 - accuracy: 0.6638\n",
      "Epoch 107: saving model to model/keypoint_classifier\\keypoint_classifier.hdf5\n",
      "30/30 [==============================] - 0s 4ms/step - loss: 0.9114 - accuracy: 0.6604 - val_loss: 0.5886 - val_accuracy: 0.8791\n",
      "Epoch 108/1000\n",
      "26/30 [=========================>....] - ETA: 0s - loss: 0.9243 - accuracy: 0.6689\n",
      "Epoch 108: saving model to model/keypoint_classifier\\keypoint_classifier.hdf5\n",
      "30/30 [==============================] - 0s 4ms/step - loss: 0.9197 - accuracy: 0.6710 - val_loss: 0.5871 - val_accuracy: 0.8768\n",
      "Epoch 109/1000\n",
      "26/30 [=========================>....] - ETA: 0s - loss: 0.9336 - accuracy: 0.6559\n",
      "Epoch 109: saving model to model/keypoint_classifier\\keypoint_classifier.hdf5\n",
      "30/30 [==============================] - 0s 4ms/step - loss: 0.9224 - accuracy: 0.6596 - val_loss: 0.5756 - val_accuracy: 0.8815\n",
      "Epoch 110/1000\n",
      "24/30 [=======================>......] - ETA: 0s - loss: 0.9122 - accuracy: 0.6517\n",
      "Epoch 110: saving model to model/keypoint_classifier\\keypoint_classifier.hdf5\n",
      "30/30 [==============================] - 0s 4ms/step - loss: 0.9077 - accuracy: 0.6544 - val_loss: 0.5790 - val_accuracy: 0.8815\n",
      "Epoch 111/1000\n",
      "27/30 [==========================>...] - ETA: 0s - loss: 0.9055 - accuracy: 0.6661\n",
      "Epoch 111: saving model to model/keypoint_classifier\\keypoint_classifier.hdf5\n",
      "30/30 [==============================] - 0s 4ms/step - loss: 0.9050 - accuracy: 0.6673 - val_loss: 0.5836 - val_accuracy: 0.8791\n",
      "Epoch 112/1000\n",
      "24/30 [=======================>......] - ETA: 0s - loss: 0.9100 - accuracy: 0.6667\n",
      "Epoch 112: saving model to model/keypoint_classifier\\keypoint_classifier.hdf5\n",
      "30/30 [==============================] - 0s 4ms/step - loss: 0.9120 - accuracy: 0.6670 - val_loss: 0.5809 - val_accuracy: 0.8784\n",
      "Epoch 113/1000\n",
      "27/30 [==========================>...] - ETA: 0s - loss: 0.9367 - accuracy: 0.6427\n",
      "Epoch 113: saving model to model/keypoint_classifier\\keypoint_classifier.hdf5\n",
      "30/30 [==============================] - 0s 4ms/step - loss: 0.9362 - accuracy: 0.6462 - val_loss: 0.5811 - val_accuracy: 0.8736\n",
      "Epoch 114/1000\n",
      "22/30 [=====================>........] - ETA: 0s - loss: 0.8975 - accuracy: 0.6680\n",
      "Epoch 114: saving model to model/keypoint_classifier\\keypoint_classifier.hdf5\n",
      "30/30 [==============================] - 0s 4ms/step - loss: 0.9039 - accuracy: 0.6652 - val_loss: 0.5757 - val_accuracy: 0.8768\n",
      "Epoch 115/1000\n",
      "23/30 [======================>.......] - ETA: 0s - loss: 0.9071 - accuracy: 0.6647\n",
      "Epoch 115: saving model to model/keypoint_classifier\\keypoint_classifier.hdf5\n",
      "30/30 [==============================] - 0s 4ms/step - loss: 0.9052 - accuracy: 0.6654 - val_loss: 0.5773 - val_accuracy: 0.8760\n",
      "Epoch 116/1000\n",
      "25/30 [========================>.....] - ETA: 0s - loss: 0.9352 - accuracy: 0.6525\n",
      "Epoch 116: saving model to model/keypoint_classifier\\keypoint_classifier.hdf5\n",
      "30/30 [==============================] - 0s 4ms/step - loss: 0.9333 - accuracy: 0.6512 - val_loss: 0.5811 - val_accuracy: 0.8752\n",
      "Epoch 117/1000\n",
      "25/30 [========================>.....] - ETA: 0s - loss: 0.9147 - accuracy: 0.6553\n",
      "Epoch 117: saving model to model/keypoint_classifier\\keypoint_classifier.hdf5\n",
      "30/30 [==============================] - 0s 4ms/step - loss: 0.9080 - accuracy: 0.6562 - val_loss: 0.5675 - val_accuracy: 0.8791\n",
      "Epoch 118/1000\n",
      "24/30 [=======================>......] - ETA: 0s - loss: 0.8974 - accuracy: 0.6735\n",
      "Epoch 118: saving model to model/keypoint_classifier\\keypoint_classifier.hdf5\n",
      "30/30 [==============================] - 0s 4ms/step - loss: 0.9016 - accuracy: 0.6720 - val_loss: 0.5745 - val_accuracy: 0.8823\n",
      "Epoch 119/1000\n",
      "26/30 [=========================>....] - ETA: 0s - loss: 0.9057 - accuracy: 0.6608\n",
      "Epoch 119: saving model to model/keypoint_classifier\\keypoint_classifier.hdf5\n",
      "30/30 [==============================] - 0s 4ms/step - loss: 0.8999 - accuracy: 0.6631 - val_loss: 0.5718 - val_accuracy: 0.8776\n",
      "Epoch 120/1000\n",
      "23/30 [======================>.......] - ETA: 0s - loss: 0.9309 - accuracy: 0.6651\n",
      "Epoch 120: saving model to model/keypoint_classifier\\keypoint_classifier.hdf5\n",
      "30/30 [==============================] - 0s 4ms/step - loss: 0.9295 - accuracy: 0.6633 - val_loss: 0.5737 - val_accuracy: 0.8791\n",
      "Epoch 121/1000\n",
      "25/30 [========================>.....] - ETA: 0s - loss: 0.9095 - accuracy: 0.6572\n",
      "Epoch 121: saving model to model/keypoint_classifier\\keypoint_classifier.hdf5\n",
      "30/30 [==============================] - 0s 4ms/step - loss: 0.9038 - accuracy: 0.6583 - val_loss: 0.5667 - val_accuracy: 0.8823\n",
      "Epoch 122/1000\n",
      "23/30 [======================>.......] - ETA: 0s - loss: 0.8840 - accuracy: 0.6726\n",
      "Epoch 122: saving model to model/keypoint_classifier\\keypoint_classifier.hdf5\n",
      "30/30 [==============================] - 0s 4ms/step - loss: 0.8918 - accuracy: 0.6723 - val_loss: 0.5671 - val_accuracy: 0.8815\n",
      "Epoch 123/1000\n",
      "24/30 [=======================>......] - ETA: 0s - loss: 0.9203 - accuracy: 0.6562\n",
      "Epoch 123: saving model to model/keypoint_classifier\\keypoint_classifier.hdf5\n",
      "30/30 [==============================] - 0s 4ms/step - loss: 0.9175 - accuracy: 0.6602 - val_loss: 0.5731 - val_accuracy: 0.8791\n",
      "Epoch 124/1000\n",
      "24/30 [=======================>......] - ETA: 0s - loss: 0.8627 - accuracy: 0.6839\n",
      "Epoch 124: saving model to model/keypoint_classifier\\keypoint_classifier.hdf5\n",
      "30/30 [==============================] - 0s 4ms/step - loss: 0.8782 - accuracy: 0.6789 - val_loss: 0.5683 - val_accuracy: 0.8815\n",
      "Epoch 125/1000\n",
      "25/30 [========================>.....] - ETA: 0s - loss: 0.9149 - accuracy: 0.6600\n",
      "Epoch 125: saving model to model/keypoint_classifier\\keypoint_classifier.hdf5\n",
      "30/30 [==============================] - 0s 4ms/step - loss: 0.9139 - accuracy: 0.6636 - val_loss: 0.5610 - val_accuracy: 0.8799\n",
      "Epoch 126/1000\n",
      "23/30 [======================>.......] - ETA: 0s - loss: 0.9109 - accuracy: 0.6546\n",
      "Epoch 126: saving model to model/keypoint_classifier\\keypoint_classifier.hdf5\n",
      "30/30 [==============================] - 0s 5ms/step - loss: 0.9061 - accuracy: 0.6575 - val_loss: 0.5659 - val_accuracy: 0.8768\n",
      "Epoch 127/1000\n",
      "22/30 [=====================>........] - ETA: 0s - loss: 0.8831 - accuracy: 0.6687\n",
      "Epoch 127: saving model to model/keypoint_classifier\\keypoint_classifier.hdf5\n",
      "30/30 [==============================] - 0s 5ms/step - loss: 0.8936 - accuracy: 0.6628 - val_loss: 0.5727 - val_accuracy: 0.8697\n",
      "Epoch 128/1000\n",
      "22/30 [=====================>........] - ETA: 0s - loss: 0.8995 - accuracy: 0.6612\n",
      "Epoch 128: saving model to model/keypoint_classifier\\keypoint_classifier.hdf5\n",
      "30/30 [==============================] - 0s 4ms/step - loss: 0.9221 - accuracy: 0.6581 - val_loss: 0.5659 - val_accuracy: 0.8760\n",
      "Epoch 129/1000\n",
      "23/30 [======================>.......] - ETA: 0s - loss: 0.9167 - accuracy: 0.6610\n",
      "Epoch 129: saving model to model/keypoint_classifier\\keypoint_classifier.hdf5\n",
      "30/30 [==============================] - 0s 5ms/step - loss: 0.9099 - accuracy: 0.6633 - val_loss: 0.5743 - val_accuracy: 0.8752\n",
      "Epoch 130/1000\n",
      "22/30 [=====================>........] - ETA: 0s - loss: 0.9426 - accuracy: 0.6591\n",
      "Epoch 130: saving model to model/keypoint_classifier\\keypoint_classifier.hdf5\n",
      "30/30 [==============================] - 0s 4ms/step - loss: 0.9166 - accuracy: 0.6678 - val_loss: 0.5587 - val_accuracy: 0.8784\n",
      "Epoch 131/1000\n",
      "23/30 [======================>.......] - ETA: 0s - loss: 0.9056 - accuracy: 0.6712\n",
      "Epoch 131: saving model to model/keypoint_classifier\\keypoint_classifier.hdf5\n",
      "30/30 [==============================] - 0s 4ms/step - loss: 0.9014 - accuracy: 0.6694 - val_loss: 0.5709 - val_accuracy: 0.8697\n",
      "Epoch 132/1000\n",
      "24/30 [=======================>......] - ETA: 0s - loss: 0.8880 - accuracy: 0.6709\n",
      "Epoch 132: saving model to model/keypoint_classifier\\keypoint_classifier.hdf5\n",
      "30/30 [==============================] - 0s 4ms/step - loss: 0.8917 - accuracy: 0.6646 - val_loss: 0.5677 - val_accuracy: 0.8760\n",
      "Epoch 133/1000\n",
      "25/30 [========================>.....] - ETA: 0s - loss: 0.8907 - accuracy: 0.6747\n",
      "Epoch 133: saving model to model/keypoint_classifier\\keypoint_classifier.hdf5\n",
      "30/30 [==============================] - 0s 4ms/step - loss: 0.8972 - accuracy: 0.6731 - val_loss: 0.5657 - val_accuracy: 0.8728\n",
      "Epoch 134/1000\n",
      "23/30 [======================>.......] - ETA: 0s - loss: 0.9171 - accuracy: 0.6603\n",
      "Epoch 134: saving model to model/keypoint_classifier\\keypoint_classifier.hdf5\n",
      "30/30 [==============================] - 0s 4ms/step - loss: 0.9057 - accuracy: 0.6615 - val_loss: 0.5809 - val_accuracy: 0.8697\n",
      "Epoch 135/1000\n",
      "24/30 [=======================>......] - ETA: 0s - loss: 0.9080 - accuracy: 0.6576\n",
      "Epoch 135: saving model to model/keypoint_classifier\\keypoint_classifier.hdf5\n",
      "30/30 [==============================] - 0s 4ms/step - loss: 0.9021 - accuracy: 0.6639 - val_loss: 0.5643 - val_accuracy: 0.8847\n",
      "Epoch 136/1000\n",
      "25/30 [========================>.....] - ETA: 0s - loss: 0.9038 - accuracy: 0.6691\n",
      "Epoch 136: saving model to model/keypoint_classifier\\keypoint_classifier.hdf5\n",
      "30/30 [==============================] - 0s 4ms/step - loss: 0.8929 - accuracy: 0.6694 - val_loss: 0.5785 - val_accuracy: 0.8697\n",
      "Epoch 137/1000\n",
      "23/30 [======================>.......] - ETA: 0s - loss: 0.8844 - accuracy: 0.6709\n",
      "Epoch 137: saving model to model/keypoint_classifier\\keypoint_classifier.hdf5\n",
      "30/30 [==============================] - 0s 5ms/step - loss: 0.8902 - accuracy: 0.6694 - val_loss: 0.5513 - val_accuracy: 0.8807\n",
      "Epoch 138/1000\n",
      "26/30 [=========================>....] - ETA: 0s - loss: 0.8982 - accuracy: 0.6656\n",
      "Epoch 138: saving model to model/keypoint_classifier\\keypoint_classifier.hdf5\n",
      "30/30 [==============================] - 0s 4ms/step - loss: 0.8981 - accuracy: 0.6649 - val_loss: 0.5636 - val_accuracy: 0.8752\n",
      "Epoch 139/1000\n",
      "27/30 [==========================>...] - ETA: 0s - loss: 0.9082 - accuracy: 0.6739\n",
      "Epoch 139: saving model to model/keypoint_classifier\\keypoint_classifier.hdf5\n",
      "30/30 [==============================] - 0s 4ms/step - loss: 0.9059 - accuracy: 0.6726 - val_loss: 0.5764 - val_accuracy: 0.8760\n",
      "Epoch 140/1000\n",
      "27/30 [==========================>...] - ETA: 0s - loss: 0.8812 - accuracy: 0.6751\n",
      "Epoch 140: saving model to model/keypoint_classifier\\keypoint_classifier.hdf5\n",
      "30/30 [==============================] - 0s 4ms/step - loss: 0.8784 - accuracy: 0.6773 - val_loss: 0.5585 - val_accuracy: 0.8791\n",
      "Epoch 141/1000\n",
      "27/30 [==========================>...] - ETA: 0s - loss: 0.8808 - accuracy: 0.6725\n",
      "Epoch 141: saving model to model/keypoint_classifier\\keypoint_classifier.hdf5\n",
      "30/30 [==============================] - 0s 4ms/step - loss: 0.8800 - accuracy: 0.6731 - val_loss: 0.5483 - val_accuracy: 0.8815\n",
      "Epoch 142/1000\n",
      "21/30 [====================>.........] - ETA: 0s - loss: 0.8895 - accuracy: 0.6656\n",
      "Epoch 142: saving model to model/keypoint_classifier\\keypoint_classifier.hdf5\n",
      "30/30 [==============================] - 0s 4ms/step - loss: 0.8862 - accuracy: 0.6718 - val_loss: 0.5583 - val_accuracy: 0.8736\n",
      "Epoch 143/1000\n",
      "22/30 [=====================>........] - ETA: 0s - loss: 0.8958 - accuracy: 0.6715\n",
      "Epoch 143: saving model to model/keypoint_classifier\\keypoint_classifier.hdf5\n",
      "30/30 [==============================] - 0s 4ms/step - loss: 0.8809 - accuracy: 0.6736 - val_loss: 0.5617 - val_accuracy: 0.8760\n",
      "Epoch 144/1000\n",
      "25/30 [========================>.....] - ETA: 0s - loss: 0.8909 - accuracy: 0.6769\n",
      "Epoch 144: saving model to model/keypoint_classifier\\keypoint_classifier.hdf5\n",
      "30/30 [==============================] - 0s 4ms/step - loss: 0.8812 - accuracy: 0.6797 - val_loss: 0.5523 - val_accuracy: 0.8776\n",
      "Epoch 145/1000\n",
      "29/30 [============================>.] - ETA: 0s - loss: 0.8749 - accuracy: 0.6791\n",
      "Epoch 145: saving model to model/keypoint_classifier\\keypoint_classifier.hdf5\n",
      "30/30 [==============================] - 0s 4ms/step - loss: 0.8750 - accuracy: 0.6799 - val_loss: 0.5531 - val_accuracy: 0.8791\n",
      "Epoch 146/1000\n",
      "26/30 [=========================>....] - ETA: 0s - loss: 0.9088 - accuracy: 0.6608\n",
      "Epoch 146: saving model to model/keypoint_classifier\\keypoint_classifier.hdf5\n",
      "30/30 [==============================] - 0s 4ms/step - loss: 0.9020 - accuracy: 0.6612 - val_loss: 0.5588 - val_accuracy: 0.8728\n",
      "Epoch 147/1000\n",
      "23/30 [======================>.......] - ETA: 0s - loss: 0.9009 - accuracy: 0.6702\n",
      "Epoch 147: saving model to model/keypoint_classifier\\keypoint_classifier.hdf5\n",
      "30/30 [==============================] - 0s 4ms/step - loss: 0.8989 - accuracy: 0.6726 - val_loss: 0.5569 - val_accuracy: 0.8760\n",
      "Epoch 148/1000\n",
      "26/30 [=========================>....] - ETA: 0s - loss: 0.8499 - accuracy: 0.6839\n",
      "Epoch 148: saving model to model/keypoint_classifier\\keypoint_classifier.hdf5\n",
      "30/30 [==============================] - 0s 4ms/step - loss: 0.8577 - accuracy: 0.6812 - val_loss: 0.5575 - val_accuracy: 0.8776\n",
      "Epoch 149/1000\n",
      "28/30 [===========================>..] - ETA: 0s - loss: 0.8687 - accuracy: 0.6777\n",
      "Epoch 149: saving model to model/keypoint_classifier\\keypoint_classifier.hdf5\n",
      "30/30 [==============================] - 0s 4ms/step - loss: 0.8650 - accuracy: 0.6799 - val_loss: 0.5501 - val_accuracy: 0.8807\n",
      "Epoch 150/1000\n",
      "24/30 [=======================>......] - ETA: 0s - loss: 0.8966 - accuracy: 0.6673\n",
      "Epoch 150: saving model to model/keypoint_classifier\\keypoint_classifier.hdf5\n",
      "30/30 [==============================] - 0s 4ms/step - loss: 0.8849 - accuracy: 0.6733 - val_loss: 0.5668 - val_accuracy: 0.8728\n",
      "Epoch 151/1000\n",
      "23/30 [======================>.......] - ETA: 0s - loss: 0.8632 - accuracy: 0.6851\n",
      "Epoch 151: saving model to model/keypoint_classifier\\keypoint_classifier.hdf5\n",
      "30/30 [==============================] - 0s 5ms/step - loss: 0.8600 - accuracy: 0.6844 - val_loss: 0.5482 - val_accuracy: 0.8878\n",
      "Epoch 152/1000\n",
      "23/30 [======================>.......] - ETA: 0s - loss: 0.8864 - accuracy: 0.6681\n",
      "Epoch 152: saving model to model/keypoint_classifier\\keypoint_classifier.hdf5\n",
      "30/30 [==============================] - 0s 4ms/step - loss: 0.8930 - accuracy: 0.6683 - val_loss: 0.5503 - val_accuracy: 0.8799\n",
      "Epoch 153/1000\n",
      "24/30 [=======================>......] - ETA: 0s - loss: 0.8902 - accuracy: 0.6657\n",
      "Epoch 153: saving model to model/keypoint_classifier\\keypoint_classifier.hdf5\n",
      "30/30 [==============================] - 0s 4ms/step - loss: 0.8930 - accuracy: 0.6683 - val_loss: 0.5610 - val_accuracy: 0.8697\n",
      "Epoch 154/1000\n",
      "25/30 [========================>.....] - ETA: 0s - loss: 0.8649 - accuracy: 0.6756\n",
      "Epoch 154: saving model to model/keypoint_classifier\\keypoint_classifier.hdf5\n",
      "30/30 [==============================] - 0s 4ms/step - loss: 0.8701 - accuracy: 0.6744 - val_loss: 0.5566 - val_accuracy: 0.8799\n",
      "Epoch 155/1000\n",
      "22/30 [=====================>........] - ETA: 0s - loss: 0.8942 - accuracy: 0.6626\n",
      "Epoch 155: saving model to model/keypoint_classifier\\keypoint_classifier.hdf5\n",
      "30/30 [==============================] - 0s 4ms/step - loss: 0.8805 - accuracy: 0.6694 - val_loss: 0.5517 - val_accuracy: 0.8815\n",
      "Epoch 156/1000\n",
      "24/30 [=======================>......] - ETA: 0s - loss: 0.8874 - accuracy: 0.6836\n",
      "Epoch 156: saving model to model/keypoint_classifier\\keypoint_classifier.hdf5\n",
      "30/30 [==============================] - 0s 4ms/step - loss: 0.8858 - accuracy: 0.6818 - val_loss: 0.5603 - val_accuracy: 0.8784\n",
      "Epoch 157/1000\n",
      "24/30 [=======================>......] - ETA: 0s - loss: 0.8740 - accuracy: 0.6702\n",
      "Epoch 157: saving model to model/keypoint_classifier\\keypoint_classifier.hdf5\n",
      "30/30 [==============================] - 0s 4ms/step - loss: 0.8710 - accuracy: 0.6686 - val_loss: 0.5581 - val_accuracy: 0.8823\n",
      "Epoch 158/1000\n",
      "23/30 [======================>.......] - ETA: 0s - loss: 0.8518 - accuracy: 0.6841\n",
      "Epoch 158: saving model to model/keypoint_classifier\\keypoint_classifier.hdf5\n",
      "30/30 [==============================] - 0s 4ms/step - loss: 0.8582 - accuracy: 0.6791 - val_loss: 0.5434 - val_accuracy: 0.8839\n",
      "Epoch 159/1000\n",
      "24/30 [=======================>......] - ETA: 0s - loss: 0.8639 - accuracy: 0.6732\n",
      "Epoch 159: saving model to model/keypoint_classifier\\keypoint_classifier.hdf5\n",
      "30/30 [==============================] - 0s 4ms/step - loss: 0.8655 - accuracy: 0.6715 - val_loss: 0.5484 - val_accuracy: 0.8815\n",
      "Epoch 160/1000\n",
      "26/30 [=========================>....] - ETA: 0s - loss: 0.8515 - accuracy: 0.6848\n",
      "Epoch 160: saving model to model/keypoint_classifier\\keypoint_classifier.hdf5\n",
      "30/30 [==============================] - 0s 4ms/step - loss: 0.8517 - accuracy: 0.6852 - val_loss: 0.5529 - val_accuracy: 0.8776\n",
      "Epoch 161/1000\n",
      "23/30 [======================>.......] - ETA: 0s - loss: 0.8385 - accuracy: 0.6909\n",
      "Epoch 161: saving model to model/keypoint_classifier\\keypoint_classifier.hdf5\n",
      "30/30 [==============================] - 0s 4ms/step - loss: 0.8485 - accuracy: 0.6860 - val_loss: 0.5546 - val_accuracy: 0.8791\n",
      "Epoch 162/1000\n",
      "26/30 [=========================>....] - ETA: 0s - loss: 0.8597 - accuracy: 0.6905\n",
      "Epoch 162: saving model to model/keypoint_classifier\\keypoint_classifier.hdf5\n",
      "30/30 [==============================] - 0s 4ms/step - loss: 0.8588 - accuracy: 0.6902 - val_loss: 0.5469 - val_accuracy: 0.8823\n",
      "Epoch 163/1000\n",
      "24/30 [=======================>......] - ETA: 0s - loss: 0.8474 - accuracy: 0.6898\n",
      "Epoch 163: saving model to model/keypoint_classifier\\keypoint_classifier.hdf5\n",
      "30/30 [==============================] - 0s 4ms/step - loss: 0.8541 - accuracy: 0.6862 - val_loss: 0.5511 - val_accuracy: 0.8784\n",
      "Epoch 164/1000\n",
      "22/30 [=====================>........] - ETA: 0s - loss: 0.8509 - accuracy: 0.6864\n",
      "Epoch 164: saving model to model/keypoint_classifier\\keypoint_classifier.hdf5\n",
      "30/30 [==============================] - 0s 4ms/step - loss: 0.8550 - accuracy: 0.6836 - val_loss: 0.5517 - val_accuracy: 0.8784\n",
      "Epoch 165/1000\n",
      "25/30 [========================>.....] - ETA: 0s - loss: 0.8735 - accuracy: 0.6778\n",
      "Epoch 165: saving model to model/keypoint_classifier\\keypoint_classifier.hdf5\n",
      "30/30 [==============================] - 0s 5ms/step - loss: 0.8772 - accuracy: 0.6773 - val_loss: 0.5458 - val_accuracy: 0.8768\n",
      "Epoch 166/1000\n",
      "24/30 [=======================>......] - ETA: 0s - loss: 0.8839 - accuracy: 0.6667\n",
      "Epoch 166: saving model to model/keypoint_classifier\\keypoint_classifier.hdf5\n",
      "30/30 [==============================] - 0s 5ms/step - loss: 0.8879 - accuracy: 0.6683 - val_loss: 0.5602 - val_accuracy: 0.8736\n",
      "Epoch 167/1000\n",
      "24/30 [=======================>......] - ETA: 0s - loss: 0.8597 - accuracy: 0.6895\n",
      "Epoch 167: saving model to model/keypoint_classifier\\keypoint_classifier.hdf5\n",
      "30/30 [==============================] - 0s 4ms/step - loss: 0.8532 - accuracy: 0.6891 - val_loss: 0.5500 - val_accuracy: 0.8831\n",
      "Epoch 168/1000\n",
      "25/30 [========================>.....] - ETA: 0s - loss: 0.8713 - accuracy: 0.6775\n",
      "Epoch 168: saving model to model/keypoint_classifier\\keypoint_classifier.hdf5\n",
      "30/30 [==============================] - 0s 4ms/step - loss: 0.8692 - accuracy: 0.6812 - val_loss: 0.5537 - val_accuracy: 0.8776\n",
      "Epoch 169/1000\n",
      "25/30 [========================>.....] - ETA: 0s - loss: 0.8436 - accuracy: 0.6794\n",
      "Epoch 169: saving model to model/keypoint_classifier\\keypoint_classifier.hdf5\n",
      "30/30 [==============================] - 0s 4ms/step - loss: 0.8509 - accuracy: 0.6776 - val_loss: 0.5500 - val_accuracy: 0.8839\n",
      "Epoch 170/1000\n",
      "25/30 [========================>.....] - ETA: 0s - loss: 0.8781 - accuracy: 0.6681\n",
      "Epoch 170: saving model to model/keypoint_classifier\\keypoint_classifier.hdf5\n",
      "30/30 [==============================] - 0s 4ms/step - loss: 0.8761 - accuracy: 0.6681 - val_loss: 0.5588 - val_accuracy: 0.8752\n",
      "Epoch 171/1000\n",
      "27/30 [==========================>...] - ETA: 0s - loss: 0.8393 - accuracy: 0.6872\n",
      "Epoch 171: saving model to model/keypoint_classifier\\keypoint_classifier.hdf5\n",
      "30/30 [==============================] - 0s 4ms/step - loss: 0.8427 - accuracy: 0.6857 - val_loss: 0.5465 - val_accuracy: 0.8815\n",
      "Epoch 172/1000\n",
      "23/30 [======================>.......] - ETA: 0s - loss: 0.8624 - accuracy: 0.6868\n",
      "Epoch 172: saving model to model/keypoint_classifier\\keypoint_classifier.hdf5\n",
      "30/30 [==============================] - 0s 4ms/step - loss: 0.8656 - accuracy: 0.6852 - val_loss: 0.5456 - val_accuracy: 0.8776\n",
      "Epoch 173/1000\n",
      "26/30 [=========================>....] - ETA: 0s - loss: 0.8586 - accuracy: 0.6662\n",
      "Epoch 173: saving model to model/keypoint_classifier\\keypoint_classifier.hdf5\n",
      "30/30 [==============================] - 0s 4ms/step - loss: 0.8678 - accuracy: 0.6652 - val_loss: 0.5558 - val_accuracy: 0.8776\n",
      "Epoch 174/1000\n",
      "23/30 [======================>.......] - ETA: 0s - loss: 0.8293 - accuracy: 0.6902\n",
      "Epoch 174: saving model to model/keypoint_classifier\\keypoint_classifier.hdf5\n",
      "30/30 [==============================] - 0s 5ms/step - loss: 0.8472 - accuracy: 0.6823 - val_loss: 0.5287 - val_accuracy: 0.8791\n",
      "Epoch 175/1000\n",
      "24/30 [=======================>......] - ETA: 0s - loss: 0.8360 - accuracy: 0.6930\n",
      "Epoch 175: saving model to model/keypoint_classifier\\keypoint_classifier.hdf5\n",
      "30/30 [==============================] - 0s 4ms/step - loss: 0.8354 - accuracy: 0.6876 - val_loss: 0.5486 - val_accuracy: 0.8744\n",
      "Epoch 176/1000\n",
      "24/30 [=======================>......] - ETA: 0s - loss: 0.8323 - accuracy: 0.6885\n",
      "Epoch 176: saving model to model/keypoint_classifier\\keypoint_classifier.hdf5\n",
      "30/30 [==============================] - 0s 4ms/step - loss: 0.8333 - accuracy: 0.6884 - val_loss: 0.5457 - val_accuracy: 0.8823\n",
      "Epoch 177/1000\n",
      "25/30 [========================>.....] - ETA: 0s - loss: 0.8616 - accuracy: 0.6831\n",
      "Epoch 177: saving model to model/keypoint_classifier\\keypoint_classifier.hdf5\n",
      "30/30 [==============================] - 0s 4ms/step - loss: 0.8602 - accuracy: 0.6836 - val_loss: 0.5383 - val_accuracy: 0.8839\n",
      "Epoch 178/1000\n",
      "25/30 [========================>.....] - ETA: 0s - loss: 0.8572 - accuracy: 0.6825\n",
      "Epoch 178: saving model to model/keypoint_classifier\\keypoint_classifier.hdf5\n",
      "30/30 [==============================] - 0s 4ms/step - loss: 0.8521 - accuracy: 0.6841 - val_loss: 0.5449 - val_accuracy: 0.8839\n",
      "Epoch 179/1000\n",
      "25/30 [========================>.....] - ETA: 0s - loss: 0.8453 - accuracy: 0.6856\n",
      "Epoch 179: saving model to model/keypoint_classifier\\keypoint_classifier.hdf5\n",
      "30/30 [==============================] - 0s 4ms/step - loss: 0.8323 - accuracy: 0.6905 - val_loss: 0.5496 - val_accuracy: 0.8768\n",
      "Epoch 180/1000\n",
      "22/30 [=====================>........] - ETA: 0s - loss: 0.8376 - accuracy: 0.6843\n",
      "Epoch 180: saving model to model/keypoint_classifier\\keypoint_classifier.hdf5\n",
      "30/30 [==============================] - 0s 4ms/step - loss: 0.8490 - accuracy: 0.6794 - val_loss: 0.5455 - val_accuracy: 0.8823\n",
      "Epoch 181/1000\n",
      "24/30 [=======================>......] - ETA: 0s - loss: 0.8499 - accuracy: 0.6833\n",
      "Epoch 181: saving model to model/keypoint_classifier\\keypoint_classifier.hdf5\n",
      "30/30 [==============================] - 0s 4ms/step - loss: 0.8487 - accuracy: 0.6857 - val_loss: 0.5387 - val_accuracy: 0.8807\n",
      "Epoch 182/1000\n",
      "25/30 [========================>.....] - ETA: 0s - loss: 0.8438 - accuracy: 0.6888\n",
      "Epoch 182: saving model to model/keypoint_classifier\\keypoint_classifier.hdf5\n",
      "30/30 [==============================] - 0s 4ms/step - loss: 0.8426 - accuracy: 0.6889 - val_loss: 0.5454 - val_accuracy: 0.8831\n",
      "Epoch 183/1000\n",
      "23/30 [======================>.......] - ETA: 0s - loss: 0.8144 - accuracy: 0.6916\n",
      "Epoch 183: saving model to model/keypoint_classifier\\keypoint_classifier.hdf5\n",
      "30/30 [==============================] - 0s 4ms/step - loss: 0.8206 - accuracy: 0.6902 - val_loss: 0.5344 - val_accuracy: 0.8815\n",
      "Epoch 184/1000\n",
      "23/30 [======================>.......] - ETA: 0s - loss: 0.8604 - accuracy: 0.6776\n",
      "Epoch 184: saving model to model/keypoint_classifier\\keypoint_classifier.hdf5\n",
      "30/30 [==============================] - 0s 4ms/step - loss: 0.8625 - accuracy: 0.6791 - val_loss: 0.5567 - val_accuracy: 0.8736\n",
      "Epoch 185/1000\n",
      "23/30 [======================>.......] - ETA: 0s - loss: 0.8546 - accuracy: 0.6807\n",
      "Epoch 185: saving model to model/keypoint_classifier\\keypoint_classifier.hdf5\n",
      "30/30 [==============================] - 0s 5ms/step - loss: 0.8498 - accuracy: 0.6855 - val_loss: 0.5495 - val_accuracy: 0.8728\n",
      "Epoch 186/1000\n",
      "23/30 [======================>.......] - ETA: 0s - loss: 0.8318 - accuracy: 0.6940\n",
      "Epoch 186: saving model to model/keypoint_classifier\\keypoint_classifier.hdf5\n",
      "30/30 [==============================] - 0s 4ms/step - loss: 0.8287 - accuracy: 0.6942 - val_loss: 0.5478 - val_accuracy: 0.8752\n",
      "Epoch 187/1000\n",
      "25/30 [========================>.....] - ETA: 0s - loss: 0.8420 - accuracy: 0.6972\n",
      "Epoch 187: saving model to model/keypoint_classifier\\keypoint_classifier.hdf5\n",
      "30/30 [==============================] - 0s 4ms/step - loss: 0.8407 - accuracy: 0.6960 - val_loss: 0.5411 - val_accuracy: 0.8807\n",
      "Epoch 188/1000\n",
      "27/30 [==========================>...] - ETA: 0s - loss: 0.8256 - accuracy: 0.6953\n",
      "Epoch 188: saving model to model/keypoint_classifier\\keypoint_classifier.hdf5\n",
      "30/30 [==============================] - 0s 4ms/step - loss: 0.8309 - accuracy: 0.6931 - val_loss: 0.5452 - val_accuracy: 0.8791\n",
      "Epoch 189/1000\n",
      "27/30 [==========================>...] - ETA: 0s - loss: 0.8388 - accuracy: 0.6866\n",
      "Epoch 189: saving model to model/keypoint_classifier\\keypoint_classifier.hdf5\n",
      "30/30 [==============================] - 0s 4ms/step - loss: 0.8364 - accuracy: 0.6876 - val_loss: 0.5441 - val_accuracy: 0.8744\n",
      "Epoch 190/1000\n",
      "26/30 [=========================>....] - ETA: 0s - loss: 0.8462 - accuracy: 0.6866\n",
      "Epoch 190: saving model to model/keypoint_classifier\\keypoint_classifier.hdf5\n",
      "30/30 [==============================] - 0s 4ms/step - loss: 0.8466 - accuracy: 0.6868 - val_loss: 0.5426 - val_accuracy: 0.8752\n",
      "Epoch 191/1000\n",
      "24/30 [=======================>......] - ETA: 0s - loss: 0.8484 - accuracy: 0.6810\n",
      "Epoch 191: saving model to model/keypoint_classifier\\keypoint_classifier.hdf5\n",
      "30/30 [==============================] - 0s 5ms/step - loss: 0.8471 - accuracy: 0.6815 - val_loss: 0.5444 - val_accuracy: 0.8815\n",
      "Epoch 192/1000\n",
      "26/30 [=========================>....] - ETA: 0s - loss: 0.8708 - accuracy: 0.6782\n",
      "Epoch 192: saving model to model/keypoint_classifier\\keypoint_classifier.hdf5\n",
      "30/30 [==============================] - 0s 4ms/step - loss: 0.8619 - accuracy: 0.6815 - val_loss: 0.5465 - val_accuracy: 0.8807\n",
      "Epoch 193/1000\n",
      "24/30 [=======================>......] - ETA: 0s - loss: 0.8676 - accuracy: 0.6774\n",
      "Epoch 193: saving model to model/keypoint_classifier\\keypoint_classifier.hdf5\n",
      "30/30 [==============================] - 0s 4ms/step - loss: 0.8576 - accuracy: 0.6810 - val_loss: 0.5619 - val_accuracy: 0.8665\n",
      "Epoch 194/1000\n",
      "24/30 [=======================>......] - ETA: 0s - loss: 0.8602 - accuracy: 0.6699\n",
      "Epoch 194: saving model to model/keypoint_classifier\\keypoint_classifier.hdf5\n",
      "30/30 [==============================] - 0s 4ms/step - loss: 0.8416 - accuracy: 0.6786 - val_loss: 0.5496 - val_accuracy: 0.8791\n",
      "Epoch 194: early stopping\n"
     ]
    },
    {
     "data": {
      "text/plain": [
       "<keras.src.callbacks.History at 0x1916bfb9b50>"
      ]
     },
     "execution_count": 66,
     "metadata": {},
     "output_type": "execute_result"
    }
   ],
   "source": [
    "model.fit(\n",
    "    X_train,\n",
    "    y_train,\n",
    "    epochs=1000,\n",
    "    batch_size=128,\n",
    "    validation_data=(X_test, y_test),\n",
    "    callbacks=[cp_callback, es_callback]\n",
    ")"
   ]
  },
  {
   "cell_type": "code",
   "execution_count": 67,
   "metadata": {
    "colab": {
     "base_uri": "https://localhost:8080/"
    },
    "id": "pxvb2Y299hE3",
    "outputId": "59eb3185-2e37-4b9e-bc9d-ab1b8ac29b7f"
   },
   "outputs": [
    {
     "name": "stdout",
     "output_type": "stream",
     "text": [
      "10/10 [==============================] - 0s 684us/step - loss: 0.5496 - accuracy: 0.8791\n"
     ]
    }
   ],
   "source": [
    "# Model evaluation\n",
    "val_loss, val_acc = model.evaluate(X_test, y_test, batch_size=128)"
   ]
  },
  {
   "cell_type": "code",
   "execution_count": 68,
   "metadata": {
    "id": "RBkmDeUW9hE4"
   },
   "outputs": [],
   "source": [
    "# Loading the saved model\n",
    "model = tf.keras.models.load_model(model_save_path)"
   ]
  },
  {
   "cell_type": "code",
   "execution_count": 69,
   "metadata": {
    "colab": {
     "base_uri": "https://localhost:8080/"
    },
    "id": "tFz9Tb0I9hE4",
    "outputId": "1c3b3528-54ae-4ee2-ab04-77429211cbef"
   },
   "outputs": [
    {
     "name": "stdout",
     "output_type": "stream",
     "text": [
      "1/1 [==============================] - 0s 47ms/step\n",
      "[2.1422774e-02 6.0879448e-03 3.0524202e-04 7.0646226e-01 4.0619657e-03\n",
      " 3.4889411e-02 2.2677036e-01]\n",
      "3\n"
     ]
    }
   ],
   "source": [
    "# Inference test\n",
    "predict_result = model.predict(np.array([X_test[0]]))\n",
    "print(np.squeeze(predict_result))\n",
    "print(np.argmax(np.squeeze(predict_result)))"
   ]
  },
  {
   "cell_type": "markdown",
   "metadata": {
    "id": "S3U4yNWx9hE4"
   },
   "source": [
    "# Confusion matrix"
   ]
  },
  {
   "cell_type": "code",
   "execution_count": 70,
   "metadata": {
    "colab": {
     "base_uri": "https://localhost:8080/",
     "height": 582
    },
    "id": "AP1V6SCk9hE5",
    "outputId": "08e41a80-7a4a-4619-8125-ecc371368d19"
   },
   "outputs": [
    {
     "name": "stdout",
     "output_type": "stream",
     "text": [
      "40/40 [==============================] - 0s 1ms/step\n"
     ]
    },
    {
     "data": {
      "image/png": "[encoded data removed]",
      "text/plain": [
       "<Figure size 700x600 with 2 Axes>"
      ]
     },
     "metadata": {},
     "output_type": "display_data"
    },
    {
     "name": "stdout",
     "output_type": "stream",
     "text": [
      "Classification Report\n",
      "              precision    recall  f1-score   support\n",
      "\n",
      "           0       0.72      0.85      0.78       278\n",
      "           1       0.98      0.92      0.95       169\n",
      "           2       0.95      0.58      0.72       168\n",
      "           3       0.97      0.97      0.97       147\n",
      "           4       0.89      0.93      0.91       286\n",
      "           5       0.92      1.00      0.96       134\n",
      "           6       0.99      0.98      0.98        84\n",
      "\n",
      "    accuracy                           0.88      1266\n",
      "   macro avg       0.92      0.89      0.89      1266\n",
      "weighted avg       0.89      0.88      0.88      1266\n",
      "\n"
     ]
    }
   ],
   "source": [
    "import pandas as pd\n",
    "import seaborn as sns\n",
    "import matplotlib.pyplot as plt\n",
    "from sklearn.metrics import confusion_matrix, classification_report\n",
    "\n",
    "def print_confusion_matrix(y_true, y_pred, report=True):\n",
    "    labels = sorted(list(set(y_true)))\n",
    "    cmx_data = confusion_matrix(y_true, y_pred, labels=labels)\n",
    "    \n",
    "    df_cmx = pd.DataFrame(cmx_data, index=labels, columns=labels)\n",
    " \n",
    "    fig, ax = plt.subplots(figsize=(7, 6))\n",
    "    sns.heatmap(df_cmx, annot=True, fmt='g' ,square=False)\n",
    "    ax.set_ylim(len(set(y_true)), 0)\n",
    "    plt.show()\n",
    "    \n",
    "    if report:\n",
    "        print('Classification Report')\n",
    "        print(classification_report(y_test, y_pred))\n",
    "\n",
    "Y_pred = model.predict(X_test)\n",
    "y_pred = np.argmax(Y_pred, axis=1)\n",
    "\n",
    "print_confusion_matrix(y_test, y_pred)"
   ]
  },
  {
   "cell_type": "markdown",
   "metadata": {
    "id": "FNP6aqzc9hE5"
   },
   "source": [
    "# Convert to model for Tensorflow-Lite"
   ]
  },
  {
   "cell_type": "code",
   "execution_count": 71,
   "metadata": {
    "id": "ODjnYyld9hE6"
   },
   "outputs": [
    {
     "name": "stderr",
     "output_type": "stream",
     "text": [
      "C:\\Users\\Mohamed Ashif\\AppData\\Local\\Programs\\Python\\Python38\\lib\\site-packages\\keras\\src\\engine\\training.py:3000: UserWarning: You are saving your model as an HDF5 file via `model.save()`. This file format is considered legacy. We recommend using instead the native Keras format, e.g. `model.save('my_model.keras')`.\n",
      "  saving_api.save_model(\n"
     ]
    }
   ],
   "source": [
    "# Save as a model dedicated to inference\n",
    "model.save(model_save_path, include_optimizer=False)"
   ]
  },
  {
   "cell_type": "code",
   "execution_count": 72,
   "metadata": {
    "colab": {
     "base_uri": "https://localhost:8080/"
    },
    "id": "zRfuK8Y59hE6",
    "outputId": "a4ca585c-b5d5-4244-8291-8674063209bb"
   },
   "outputs": [
    {
     "name": "stdout",
     "output_type": "stream",
     "text": [
      "INFO:tensorflow:Assets written to: C:\\Users\\MOHAME~1\\AppData\\Local\\Temp\\tmpwotnis0u\\assets\n"
     ]
    },
    {
     "name": "stderr",
     "output_type": "stream",
     "text": [
      "INFO:tensorflow:Assets written to: C:\\Users\\MOHAME~1\\AppData\\Local\\Temp\\tmpwotnis0u\\assets\n"
     ]
    },
    {
     "data": {
      "text/plain": [
       "6704"
      ]
     },
     "execution_count": 72,
     "metadata": {},
     "output_type": "execute_result"
    }
   ],
   "source": [
    "# Transform model (quantization)\n",
    "\n",
    "converter = tf.lite.TFLiteConverter.from_keras_model(model)\n",
    "converter.optimizations = [tf.lite.Optimize.DEFAULT]\n",
    "tflite_quantized_model = converter.convert()\n",
    "\n",
    "open(tflite_save_path, 'wb').write(tflite_quantized_model)"
   ]
  },
  {
   "cell_type": "markdown",
   "metadata": {
    "id": "CHBPBXdx9hE6"
   },
   "source": [
    "# Inference test"
   ]
  },
  {
   "cell_type": "code",
   "execution_count": 73,
   "metadata": {
    "id": "mGAzLocO9hE7"
   },
   "outputs": [],
   "source": [
    "interpreter = tf.lite.Interpreter(model_path=tflite_save_path)\n",
    "interpreter.allocate_tensors()"
   ]
  },
  {
   "cell_type": "code",
   "execution_count": 74,
   "metadata": {
    "id": "oQuDK8YS9hE7"
   },
   "outputs": [],
   "source": [
    "# Get I / O tensor\n",
    "input_details = interpreter.get_input_details()\n",
    "output_details = interpreter.get_output_details()"
   ]
  },
  {
   "cell_type": "code",
   "execution_count": 75,
   "metadata": {
    "id": "2_ixAf_l9hE7"
   },
   "outputs": [],
   "source": [
    "interpreter.set_tensor(input_details[0]['index'], np.array([X_test[0]]))"
   ]
  },
  {
   "cell_type": "code",
   "execution_count": 76,
   "metadata": {
    "colab": {
     "base_uri": "https://localhost:8080/"
    },
    "id": "s4FoAnuc9hE7",
    "outputId": "91f18257-8d8b-4ef3-c558-e9b5f94fabbf",
    "scrolled": true
   },
   "outputs": [
    {
     "name": "stdout",
     "output_type": "stream",
     "text": [
      "CPU times: total: 0 ns\n",
      "Wall time: 0 ns\n"
     ]
    }
   ],
   "source": [
    "%%time\n",
    "# Inference implementation\n",
    "interpreter.invoke()\n",
    "tflite_results = interpreter.get_tensor(output_details[0]['index'])"
   ]
  },
  {
   "cell_type": "code",
   "execution_count": 77,
   "metadata": {
    "colab": {
     "base_uri": "https://localhost:8080/"
    },
    "id": "vONjp19J9hE8",
    "outputId": "77205e24-fd00-42c4-f7b6-e06e527c2cba"
   },
   "outputs": [
    {
     "name": "stdout",
     "output_type": "stream",
     "text": [
      "[2.1422777e-02 6.0879453e-03 3.0524220e-04 7.0646238e-01 4.0619648e-03\n",
      " 3.4889448e-02 2.2677024e-01]\n",
      "3\n"
     ]
    }
   ],
   "source": [
    "print(np.squeeze(tflite_results))\n",
    "print(np.argmax(np.squeeze(tflite_results)))"
   ]
  }
 ],
 "metadata": {
  "accelerator": "GPU",
  "colab": {
   "collapsed_sections": [],
   "name": "keypoint_classification_EN.ipynb",
   "provenance": [],
   "toc_visible": true
  },
  "kernelspec": {
   "display_name": "Python 3 (ipykernel)",
   "language": "python",
   "name": "python3"
  },
  "language_info": {
   "codemirror_mode": {
    "name": "ipython",
    "version": 3
   },
   "file_extension": ".py",
   "mimetype": "text/x-python",
   "name": "python",
   "nbconvert_exporter": "python",
   "pygments_lexer": "ipython3",
   "version": "3.8.10"
  }
 },
 "nbformat": 4,
 "nbformat_minor": 4
}
