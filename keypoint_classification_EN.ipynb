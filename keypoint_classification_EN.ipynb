{
 "cells": [
  {
   "cell_type": "code",
   "execution_count": 1,
   "metadata": {
    "id": "igMyGnjE9hEp"
   },
   "outputs": [],
   "source": [
    "import csv\n",
    "\n",
    "import numpy as np\n",
    "import tensorflow as tf\n",
    "from sklearn.model_selection import train_test_split\n",
    "\n",
    "RANDOM_SEED = 42"
   ]
  },
  {
   "cell_type": "markdown",
   "metadata": {
    "id": "t2HDvhIu9hEr"
   },
   "source": [
    "# Specify each path"
   ]
  },
  {
   "cell_type": "code",
   "execution_count": 2,
   "metadata": {
    "id": "9NvZP2Zn9hEy"
   },
   "outputs": [],
   "source": [
    "dataset = 'model/keypoint_classifier/keypoint.csv'\n",
    "model_save_path = 'model/keypoint_classifier/keypoint_classifier.hdf5'\n",
    "tflite_save_path = 'model/keypoint_classifier/keypoint_classifier.tflite'"
   ]
  },
  {
   "cell_type": "markdown",
   "metadata": {
    "id": "s5oMH7x19hEz"
   },
   "source": [
    "# Set number of classes"
   ]
  },
  {
   "cell_type": "code",
   "execution_count": 3,
   "metadata": {
    "id": "du4kodXL9hEz"
   },
   "outputs": [],
   "source": [
    "NUM_CLASSES = 10"
   ]
  },
  {
   "cell_type": "markdown",
   "metadata": {
    "id": "XjnL0uso9hEz"
   },
   "source": [
    "# Dataset reading"
   ]
  },
  {
   "cell_type": "code",
   "execution_count": 4,
   "metadata": {
    "id": "QT5ZqtEz9hE0"
   },
   "outputs": [],
   "source": [
    "X_dataset = np.loadtxt(dataset, delimiter=',', dtype='float32', usecols=list(range(1, (21 * 2) + 1)))"
   ]
  },
  {
   "cell_type": "code",
   "execution_count": 5,
   "metadata": {
    "id": "QmoKFsp49hE0"
   },
   "outputs": [],
   "source": [
    "y_dataset = np.loadtxt(dataset, delimiter=',', dtype='int32', usecols=(0))"
   ]
  },
  {
   "cell_type": "code",
   "execution_count": 6,
   "metadata": {
    "id": "xQU7JTZ_9hE0"
   },
   "outputs": [],
   "source": [
    "X_train, X_test, y_train, y_test = train_test_split(X_dataset, y_dataset, train_size=0.75, random_state=RANDOM_SEED)"
   ]
  },
  {
   "cell_type": "markdown",
   "metadata": {
    "id": "mxK_lETT9hE0"
   },
   "source": [
    "# Model building"
   ]
  },
  {
   "cell_type": "code",
   "execution_count": 7,
   "metadata": {
    "id": "vHBmUf1t9hE1"
   },
   "outputs": [],
   "source": [
    "model = tf.keras.models.Sequential([\n",
    "    tf.keras.layers.Input((21 * 2, )),\n",
    "    tf.keras.layers.Dropout(0.2),\n",
    "    tf.keras.layers.Dense(20, activation='relu'),\n",
    "    tf.keras.layers.Dropout(0.4),\n",
    "    tf.keras.layers.Dense(10, activation='relu'),\n",
    "    tf.keras.layers.Dense(NUM_CLASSES, activation='softmax')\n",
    "])"
   ]
  },
  {
   "cell_type": "code",
   "execution_count": 8,
   "metadata": {
    "colab": {
     "base_uri": "https://localhost:8080/"
    },
    "id": "ypqky9tc9hE1",
    "outputId": "5db082bb-30e3-4110-bf63-a1ee777ecd46"
   },
   "outputs": [
    {
     "name": "stdout",
     "output_type": "stream",
     "text": [
      "Model: \"sequential\"\n",
      "_________________________________________________________________\n",
      " Layer (type)                Output Shape              Param #   \n",
      "=================================================================\n",
      " dropout (Dropout)           (None, 42)                0         \n",
      "                                                                 \n",
      " dense (Dense)               (None, 20)                860       \n",
      "                                                                 \n",
      " dropout_1 (Dropout)         (None, 20)                0         \n",
      "                                                                 \n",
      " dense_1 (Dense)             (None, 10)                210       \n",
      "                                                                 \n",
      " dense_2 (Dense)             (None, 10)                110       \n",
      "                                                                 \n",
      "=================================================================\n",
      "Total params: 1180 (4.61 KB)\n",
      "Trainable params: 1180 (4.61 KB)\n",
      "Non-trainable params: 0 (0.00 Byte)\n",
      "_________________________________________________________________\n"
     ]
    }
   ],
   "source": [
    "model.summary()  # tf.keras.utils.plot_model(model, show_shapes=True)"
   ]
  },
  {
   "cell_type": "code",
   "execution_count": 9,
   "metadata": {
    "id": "MbMjOflQ9hE1"
   },
   "outputs": [],
   "source": [
    "# Model checkpoint callback\n",
    "cp_callback = tf.keras.callbacks.ModelCheckpoint(\n",
    "    model_save_path, verbose=1, save_weights_only=False)\n",
    "# Callback for early stopping\n",
    "es_callback = tf.keras.callbacks.EarlyStopping(patience=20, verbose=1)"
   ]
  },
  {
   "cell_type": "code",
   "execution_count": 10,
   "metadata": {
    "id": "c3Dac0M_9hE2"
   },
   "outputs": [],
   "source": [
    "# Model compilation\n",
    "model.compile(\n",
    "    optimizer='adam',\n",
    "    loss='sparse_categorical_crossentropy',\n",
    "    metrics=['accuracy']\n",
    ")"
   ]
  },
  {
   "cell_type": "markdown",
   "metadata": {
    "id": "7XI0j1Iu9hE2"
   },
   "source": [
    "# Model training"
   ]
  },
  {
   "cell_type": "code",
   "execution_count": 11,
   "metadata": {
    "colab": {
     "base_uri": "https://localhost:8080/"
    },
    "id": "WirBl-JE9hE3",
    "outputId": "71b30ca2-8294-4d9d-8aa2-800d90d399de",
    "scrolled": true
   },
   "outputs": [
    {
     "name": "stdout",
     "output_type": "stream",
     "text": [
      "Epoch 1/1000\n",
      "48/49 [============================>.] - ETA: 0s - loss: 2.2810 - accuracy: 0.1385\n",
      "Epoch 1: saving model to model/keypoint_classifier\\keypoint_classifier.hdf5\n",
      "49/49 [==============================] - 2s 13ms/step - loss: 2.2806 - accuracy: 0.1388 - val_loss: 2.2297 - val_accuracy: 0.2116\n",
      "Epoch 2/1000\n",
      "28/49 [================>.............] - ETA: 0s - loss: 2.1892 - accuracy: 0.1925"
     ]
    },
    {
     "name": "stderr",
     "output_type": "stream",
     "text": [
      "C:\\Users\\Mohamed Ashif\\AppData\\Local\\Programs\\Python\\Python38\\lib\\site-packages\\keras\\src\\engine\\training.py:3000: UserWarning: You are saving your model as an HDF5 file via `model.save()`. This file format is considered legacy. We recommend using instead the native Keras format, e.g. `model.save('my_model.keras')`.\n",
      "  saving_api.save_model(\n"
     ]
    },
    {
     "name": "stdout",
     "output_type": "stream",
     "text": [
      "43/49 [=========================>....] - ETA: 0s - loss: 2.1746 - accuracy: 0.1935\n",
      "Epoch 2: saving model to model/keypoint_classifier\\keypoint_classifier.hdf5\n",
      "49/49 [==============================] - 0s 7ms/step - loss: 2.1687 - accuracy: 0.1961 - val_loss: 2.0812 - val_accuracy: 0.2301\n",
      "Epoch 3/1000\n",
      "44/49 [=========================>....] - ETA: 0s - loss: 2.0806 - accuracy: 0.2195\n",
      "Epoch 3: saving model to model/keypoint_classifier\\keypoint_classifier.hdf5\n",
      "49/49 [==============================] - 0s 6ms/step - loss: 2.0740 - accuracy: 0.2259 - val_loss: 1.9768 - val_accuracy: 0.2393\n",
      "Epoch 4/1000\n",
      "44/49 [=========================>....] - ETA: 0s - loss: 2.0098 - accuracy: 0.2449\n",
      "Epoch 4: saving model to model/keypoint_classifier\\keypoint_classifier.hdf5\n",
      "49/49 [==============================] - 0s 6ms/step - loss: 2.0092 - accuracy: 0.2441 - val_loss: 1.8866 - val_accuracy: 0.2709\n",
      "Epoch 5/1000\n",
      "44/49 [=========================>....] - ETA: 0s - loss: 1.9517 - accuracy: 0.2658\n",
      "Epoch 5: saving model to model/keypoint_classifier\\keypoint_classifier.hdf5\n",
      "49/49 [==============================] - 0s 7ms/step - loss: 1.9449 - accuracy: 0.2674 - val_loss: 1.7816 - val_accuracy: 0.3200\n",
      "Epoch 6/1000\n",
      "45/49 [==========================>...] - ETA: 0s - loss: 1.8637 - accuracy: 0.2983\n",
      "Epoch 6: saving model to model/keypoint_classifier\\keypoint_classifier.hdf5\n",
      "49/49 [==============================] - 0s 6ms/step - loss: 1.8619 - accuracy: 0.2987 - val_loss: 1.6634 - val_accuracy: 0.4066\n",
      "Epoch 7/1000\n",
      "46/49 [===========================>..] - ETA: 0s - loss: 1.8073 - accuracy: 0.3098\n",
      "Epoch 7: saving model to model/keypoint_classifier\\keypoint_classifier.hdf5\n",
      "49/49 [==============================] - 0s 6ms/step - loss: 1.8035 - accuracy: 0.3120 - val_loss: 1.5772 - val_accuracy: 0.4703\n",
      "Epoch 8/1000\n",
      "44/49 [=========================>....] - ETA: 0s - loss: 1.7415 - accuracy: 0.3365\n",
      "Epoch 8: saving model to model/keypoint_classifier\\keypoint_classifier.hdf5\n",
      "49/49 [==============================] - 0s 7ms/step - loss: 1.7359 - accuracy: 0.3399 - val_loss: 1.4995 - val_accuracy: 0.5112\n",
      "Epoch 9/1000\n",
      "47/49 [===========================>..] - ETA: 0s - loss: 1.7036 - accuracy: 0.3441\n",
      "Epoch 9: saving model to model/keypoint_classifier\\keypoint_classifier.hdf5\n",
      "49/49 [==============================] - 0s 6ms/step - loss: 1.7032 - accuracy: 0.3451 - val_loss: 1.4425 - val_accuracy: 0.5516\n",
      "Epoch 10/1000\n",
      "45/49 [==========================>...] - ETA: 0s - loss: 1.6576 - accuracy: 0.3717\n",
      "Epoch 10: saving model to model/keypoint_classifier\\keypoint_classifier.hdf5\n",
      "49/49 [==============================] - 0s 7ms/step - loss: 1.6534 - accuracy: 0.3740 - val_loss: 1.3840 - val_accuracy: 0.5550\n",
      "Epoch 11/1000\n",
      "47/49 [===========================>..] - ETA: 0s - loss: 1.6144 - accuracy: 0.3831\n",
      "Epoch 11: saving model to model/keypoint_classifier\\keypoint_classifier.hdf5\n",
      "49/49 [==============================] - 0s 6ms/step - loss: 1.6138 - accuracy: 0.3837 - val_loss: 1.3393 - val_accuracy: 0.5681\n",
      "Epoch 12/1000\n",
      "48/49 [============================>.] - ETA: 0s - loss: 1.5945 - accuracy: 0.3921\n",
      "Epoch 12: saving model to model/keypoint_classifier\\keypoint_classifier.hdf5\n",
      "49/49 [==============================] - 0s 6ms/step - loss: 1.5941 - accuracy: 0.3925 - val_loss: 1.3013 - val_accuracy: 0.5973\n",
      "Epoch 13/1000\n",
      "47/49 [===========================>..] - ETA: 0s - loss: 1.5749 - accuracy: 0.4048\n",
      "Epoch 13: saving model to model/keypoint_classifier\\keypoint_classifier.hdf5\n",
      "49/49 [==============================] - 0s 6ms/step - loss: 1.5725 - accuracy: 0.4053 - val_loss: 1.2594 - val_accuracy: 0.6031\n",
      "Epoch 14/1000\n",
      "47/49 [===========================>..] - ETA: 0s - loss: 1.5437 - accuracy: 0.4149\n",
      "Epoch 14: saving model to model/keypoint_classifier\\keypoint_classifier.hdf5\n",
      "49/49 [==============================] - 0s 6ms/step - loss: 1.5415 - accuracy: 0.4139 - val_loss: 1.2392 - val_accuracy: 0.6109\n",
      "Epoch 15/1000\n",
      "44/49 [=========================>....] - ETA: 0s - loss: 1.5064 - accuracy: 0.4288\n",
      "Epoch 15: saving model to model/keypoint_classifier\\keypoint_classifier.hdf5\n",
      "49/49 [==============================] - 0s 6ms/step - loss: 1.5063 - accuracy: 0.4273 - val_loss: 1.1934 - val_accuracy: 0.6226\n",
      "Epoch 16/1000\n",
      "45/49 [==========================>...] - ETA: 0s - loss: 1.4933 - accuracy: 0.4299\n",
      "Epoch 16: saving model to model/keypoint_classifier\\keypoint_classifier.hdf5\n",
      "49/49 [==============================] - 0s 6ms/step - loss: 1.4922 - accuracy: 0.4322 - val_loss: 1.1689 - val_accuracy: 0.6308\n",
      "Epoch 17/1000\n",
      "42/49 [========================>.....] - ETA: 0s - loss: 1.4837 - accuracy: 0.4399\n",
      "Epoch 17: saving model to model/keypoint_classifier\\keypoint_classifier.hdf5\n",
      "49/49 [==============================] - 0s 6ms/step - loss: 1.4831 - accuracy: 0.4437 - val_loss: 1.1459 - val_accuracy: 0.6177\n",
      "Epoch 18/1000\n",
      "44/49 [=========================>....] - ETA: 0s - loss: 1.4495 - accuracy: 0.4432\n",
      "Epoch 18: saving model to model/keypoint_classifier\\keypoint_classifier.hdf5\n",
      "49/49 [==============================] - 0s 6ms/step - loss: 1.4511 - accuracy: 0.4432 - val_loss: 1.1200 - val_accuracy: 0.6304\n",
      "Epoch 19/1000\n",
      "37/49 [=====================>........] - ETA: 0s - loss: 1.4563 - accuracy: 0.4405\n",
      "Epoch 19: saving model to model/keypoint_classifier\\keypoint_classifier.hdf5\n",
      "49/49 [==============================] - 0s 7ms/step - loss: 1.4376 - accuracy: 0.4536 - val_loss: 1.0949 - val_accuracy: 0.6406\n",
      "Epoch 20/1000\n",
      "47/49 [===========================>..] - ETA: 0s - loss: 1.4288 - accuracy: 0.4563\n",
      "Epoch 20: saving model to model/keypoint_classifier\\keypoint_classifier.hdf5\n",
      "49/49 [==============================] - 0s 6ms/step - loss: 1.4285 - accuracy: 0.4564 - val_loss: 1.0790 - val_accuracy: 0.6503\n",
      "Epoch 21/1000\n",
      "48/49 [============================>.] - ETA: 0s - loss: 1.4112 - accuracy: 0.4601\n",
      "Epoch 21: saving model to model/keypoint_classifier\\keypoint_classifier.hdf5\n",
      "49/49 [==============================] - 0s 6ms/step - loss: 1.4107 - accuracy: 0.4603 - val_loss: 1.0676 - val_accuracy: 0.6498\n",
      "Epoch 22/1000\n",
      "43/49 [=========================>....] - ETA: 0s - loss: 1.3817 - accuracy: 0.4717\n",
      "Epoch 22: saving model to model/keypoint_classifier\\keypoint_classifier.hdf5\n",
      "49/49 [==============================] - 0s 7ms/step - loss: 1.3840 - accuracy: 0.4719 - val_loss: 1.0435 - val_accuracy: 0.6590\n",
      "Epoch 23/1000\n",
      "42/49 [========================>.....] - ETA: 0s - loss: 1.3963 - accuracy: 0.4654\n",
      "Epoch 23: saving model to model/keypoint_classifier\\keypoint_classifier.hdf5\n",
      "49/49 [==============================] - 0s 6ms/step - loss: 1.3952 - accuracy: 0.4668 - val_loss: 1.0302 - val_accuracy: 0.6722\n",
      "Epoch 24/1000\n",
      "44/49 [=========================>....] - ETA: 0s - loss: 1.3731 - accuracy: 0.4737\n",
      "Epoch 24: saving model to model/keypoint_classifier\\keypoint_classifier.hdf5\n",
      "49/49 [==============================] - 0s 6ms/step - loss: 1.3727 - accuracy: 0.4742 - val_loss: 1.0145 - val_accuracy: 0.6780\n",
      "Epoch 25/1000\n",
      "42/49 [========================>.....] - ETA: 0s - loss: 1.3607 - accuracy: 0.4801\n",
      "Epoch 25: saving model to model/keypoint_classifier\\keypoint_classifier.hdf5\n",
      "49/49 [==============================] - 0s 6ms/step - loss: 1.3574 - accuracy: 0.4813 - val_loss: 0.9912 - val_accuracy: 0.6751\n",
      "Epoch 26/1000\n",
      "45/49 [==========================>...] - ETA: 0s - loss: 1.3378 - accuracy: 0.4783\n",
      "Epoch 26: saving model to model/keypoint_classifier\\keypoint_classifier.hdf5\n",
      "49/49 [==============================] - 0s 6ms/step - loss: 1.3402 - accuracy: 0.4797 - val_loss: 0.9767 - val_accuracy: 0.6746\n",
      "Epoch 27/1000\n",
      "43/49 [=========================>....] - ETA: 0s - loss: 1.3450 - accuracy: 0.4869\n",
      "Epoch 27: saving model to model/keypoint_classifier\\keypoint_classifier.hdf5\n",
      "49/49 [==============================] - 0s 7ms/step - loss: 1.3360 - accuracy: 0.4903 - val_loss: 0.9627 - val_accuracy: 0.6902\n",
      "Epoch 28/1000\n",
      "46/49 [===========================>..] - ETA: 0s - loss: 1.3028 - accuracy: 0.5008\n",
      "Epoch 28: saving model to model/keypoint_classifier\\keypoint_classifier.hdf5\n",
      "49/49 [==============================] - 0s 6ms/step - loss: 1.3054 - accuracy: 0.4990 - val_loss: 0.9486 - val_accuracy: 0.6916\n",
      "Epoch 29/1000\n",
      "45/49 [==========================>...] - ETA: 0s - loss: 1.3261 - accuracy: 0.4941\n",
      "Epoch 29: saving model to model/keypoint_classifier\\keypoint_classifier.hdf5\n",
      "49/49 [==============================] - 0s 6ms/step - loss: 1.3250 - accuracy: 0.4924 - val_loss: 0.9387 - val_accuracy: 0.6848\n",
      "Epoch 30/1000\n",
      "48/49 [============================>.] - ETA: 0s - loss: 1.3058 - accuracy: 0.5008\n",
      "Epoch 30: saving model to model/keypoint_classifier\\keypoint_classifier.hdf5\n",
      "49/49 [==============================] - 0s 6ms/step - loss: 1.3054 - accuracy: 0.5010 - val_loss: 0.9284 - val_accuracy: 0.6989\n",
      "Epoch 31/1000\n",
      "43/49 [=========================>....] - ETA: 0s - loss: 1.2946 - accuracy: 0.5009\n",
      "Epoch 31: saving model to model/keypoint_classifier\\keypoint_classifier.hdf5\n",
      "49/49 [==============================] - 0s 6ms/step - loss: 1.2926 - accuracy: 0.4972 - val_loss: 0.9154 - val_accuracy: 0.6916\n",
      "Epoch 32/1000\n",
      "48/49 [============================>.] - ETA: 0s - loss: 1.2981 - accuracy: 0.5029\n",
      "Epoch 32: saving model to model/keypoint_classifier\\keypoint_classifier.hdf5\n",
      "49/49 [==============================] - 0s 6ms/step - loss: 1.2984 - accuracy: 0.5024 - val_loss: 0.9099 - val_accuracy: 0.6989\n",
      "Epoch 33/1000\n",
      "46/49 [===========================>..] - ETA: 0s - loss: 1.2829 - accuracy: 0.5007\n",
      "Epoch 33: saving model to model/keypoint_classifier\\keypoint_classifier.hdf5\n",
      "49/49 [==============================] - 0s 6ms/step - loss: 1.2798 - accuracy: 0.5008 - val_loss: 0.9101 - val_accuracy: 0.6926\n",
      "Epoch 34/1000\n",
      "44/49 [=========================>....] - ETA: 0s - loss: 1.2688 - accuracy: 0.5046\n",
      "Epoch 34: saving model to model/keypoint_classifier\\keypoint_classifier.hdf5\n",
      "49/49 [==============================] - 0s 7ms/step - loss: 1.2708 - accuracy: 0.5037 - val_loss: 0.8895 - val_accuracy: 0.7033\n",
      "Epoch 35/1000\n",
      "44/49 [=========================>....] - ETA: 0s - loss: 1.2856 - accuracy: 0.5115\n",
      "Epoch 35: saving model to model/keypoint_classifier\\keypoint_classifier.hdf5\n",
      "49/49 [==============================] - 0s 7ms/step - loss: 1.2816 - accuracy: 0.5127 - val_loss: 0.8852 - val_accuracy: 0.7082\n",
      "Epoch 36/1000\n",
      "44/49 [=========================>....] - ETA: 0s - loss: 1.2721 - accuracy: 0.5025\n",
      "Epoch 36: saving model to model/keypoint_classifier\\keypoint_classifier.hdf5\n",
      "49/49 [==============================] - 0s 6ms/step - loss: 1.2675 - accuracy: 0.5052 - val_loss: 0.8796 - val_accuracy: 0.7023\n",
      "Epoch 37/1000\n",
      "47/49 [===========================>..] - ETA: 0s - loss: 1.2651 - accuracy: 0.5073\n",
      "Epoch 37: saving model to model/keypoint_classifier\\keypoint_classifier.hdf5\n",
      "49/49 [==============================] - 0s 6ms/step - loss: 1.2681 - accuracy: 0.5066 - val_loss: 0.8798 - val_accuracy: 0.7053\n",
      "Epoch 38/1000\n",
      "44/49 [=========================>....] - ETA: 0s - loss: 1.2695 - accuracy: 0.5005\n",
      "Epoch 38: saving model to model/keypoint_classifier\\keypoint_classifier.hdf5\n",
      "49/49 [==============================] - 0s 6ms/step - loss: 1.2690 - accuracy: 0.5000 - val_loss: 0.8772 - val_accuracy: 0.6994\n",
      "Epoch 39/1000\n",
      "43/49 [=========================>....] - ETA: 0s - loss: 1.2545 - accuracy: 0.5178\n",
      "Epoch 39: saving model to model/keypoint_classifier\\keypoint_classifier.hdf5\n",
      "49/49 [==============================] - 0s 6ms/step - loss: 1.2512 - accuracy: 0.5170 - val_loss: 0.8602 - val_accuracy: 0.7004\n",
      "Epoch 40/1000\n",
      "46/49 [===========================>..] - ETA: 0s - loss: 1.2526 - accuracy: 0.5083\n",
      "Epoch 40: saving model to model/keypoint_classifier\\keypoint_classifier.hdf5\n",
      "49/49 [==============================] - 0s 6ms/step - loss: 1.2533 - accuracy: 0.5076 - val_loss: 0.8483 - val_accuracy: 0.7106\n",
      "Epoch 41/1000\n",
      "47/49 [===========================>..] - ETA: 0s - loss: 1.2515 - accuracy: 0.5101\n",
      "Epoch 41: saving model to model/keypoint_classifier\\keypoint_classifier.hdf5\n",
      "49/49 [==============================] - 0s 6ms/step - loss: 1.2507 - accuracy: 0.5114 - val_loss: 0.8567 - val_accuracy: 0.7048\n",
      "Epoch 42/1000\n",
      "48/49 [============================>.] - ETA: 0s - loss: 1.2269 - accuracy: 0.5239\n",
      "Epoch 42: saving model to model/keypoint_classifier\\keypoint_classifier.hdf5\n",
      "49/49 [==============================] - 0s 6ms/step - loss: 1.2270 - accuracy: 0.5235 - val_loss: 0.8432 - val_accuracy: 0.7077\n",
      "Epoch 43/1000\n",
      "44/49 [=========================>....] - ETA: 0s - loss: 1.2481 - accuracy: 0.5092\n",
      "Epoch 43: saving model to model/keypoint_classifier\\keypoint_classifier.hdf5\n",
      "49/49 [==============================] - 0s 7ms/step - loss: 1.2455 - accuracy: 0.5099 - val_loss: 0.8405 - val_accuracy: 0.7232\n",
      "Epoch 44/1000\n",
      "48/49 [============================>.] - ETA: 0s - loss: 1.2236 - accuracy: 0.5246\n",
      "Epoch 44: saving model to model/keypoint_classifier\\keypoint_classifier.hdf5\n",
      "49/49 [==============================] - 0s 6ms/step - loss: 1.2235 - accuracy: 0.5247 - val_loss: 0.8341 - val_accuracy: 0.7130\n",
      "Epoch 45/1000\n",
      "47/49 [===========================>..] - ETA: 0s - loss: 1.2213 - accuracy: 0.5236\n",
      "Epoch 45: saving model to model/keypoint_classifier\\keypoint_classifier.hdf5\n",
      "49/49 [==============================] - 0s 6ms/step - loss: 1.2214 - accuracy: 0.5229 - val_loss: 0.8249 - val_accuracy: 0.7364\n",
      "Epoch 46/1000\n",
      "47/49 [===========================>..] - ETA: 0s - loss: 1.2279 - accuracy: 0.5234\n",
      "Epoch 46: saving model to model/keypoint_classifier\\keypoint_classifier.hdf5\n",
      "49/49 [==============================] - 0s 6ms/step - loss: 1.2278 - accuracy: 0.5253 - val_loss: 0.8235 - val_accuracy: 0.7296\n",
      "Epoch 47/1000\n",
      "48/49 [============================>.] - ETA: 0s - loss: 1.2234 - accuracy: 0.5259\n",
      "Epoch 47: saving model to model/keypoint_classifier\\keypoint_classifier.hdf5\n",
      "49/49 [==============================] - 0s 6ms/step - loss: 1.2228 - accuracy: 0.5259 - val_loss: 0.8173 - val_accuracy: 0.7203\n",
      "Epoch 48/1000\n",
      "45/49 [==========================>...] - ETA: 0s - loss: 1.2179 - accuracy: 0.5278\n",
      "Epoch 48: saving model to model/keypoint_classifier\\keypoint_classifier.hdf5\n",
      "49/49 [==============================] - 0s 6ms/step - loss: 1.2165 - accuracy: 0.5289 - val_loss: 0.8212 - val_accuracy: 0.7252\n",
      "Epoch 49/1000\n",
      "46/49 [===========================>..] - ETA: 0s - loss: 1.2288 - accuracy: 0.5190\n",
      "Epoch 49: saving model to model/keypoint_classifier\\keypoint_classifier.hdf5\n",
      "49/49 [==============================] - 0s 6ms/step - loss: 1.2277 - accuracy: 0.5209 - val_loss: 0.8152 - val_accuracy: 0.7121\n",
      "Epoch 50/1000\n",
      "48/49 [============================>.] - ETA: 0s - loss: 1.2070 - accuracy: 0.5291\n",
      "Epoch 50: saving model to model/keypoint_classifier\\keypoint_classifier.hdf5\n",
      "49/49 [==============================] - 0s 6ms/step - loss: 1.2062 - accuracy: 0.5292 - val_loss: 0.8063 - val_accuracy: 0.7325\n",
      "Epoch 51/1000\n",
      "45/49 [==========================>...] - ETA: 0s - loss: 1.2199 - accuracy: 0.5273\n",
      "Epoch 51: saving model to model/keypoint_classifier\\keypoint_classifier.hdf5\n",
      "49/49 [==============================] - 0s 6ms/step - loss: 1.2200 - accuracy: 0.5268 - val_loss: 0.8005 - val_accuracy: 0.7344\n",
      "Epoch 52/1000\n",
      "40/49 [=======================>......] - ETA: 0s - loss: 1.2254 - accuracy: 0.5316\n",
      "Epoch 52: saving model to model/keypoint_classifier\\keypoint_classifier.hdf5\n",
      "49/49 [==============================] - 0s 7ms/step - loss: 1.2176 - accuracy: 0.5319 - val_loss: 0.8055 - val_accuracy: 0.7281\n",
      "Epoch 53/1000\n",
      "47/49 [===========================>..] - ETA: 0s - loss: 1.2084 - accuracy: 0.5248\n",
      "Epoch 53: saving model to model/keypoint_classifier\\keypoint_classifier.hdf5\n",
      "49/49 [==============================] - 0s 6ms/step - loss: 1.2107 - accuracy: 0.5242 - val_loss: 0.8097 - val_accuracy: 0.7242\n",
      "Epoch 54/1000\n",
      "49/49 [==============================] - ETA: 0s - loss: 1.1945 - accuracy: 0.5414\n",
      "Epoch 54: saving model to model/keypoint_classifier\\keypoint_classifier.hdf5\n",
      "49/49 [==============================] - 0s 6ms/step - loss: 1.1945 - accuracy: 0.5414 - val_loss: 0.7978 - val_accuracy: 0.7291\n",
      "Epoch 55/1000\n",
      "46/49 [===========================>..] - ETA: 0s - loss: 1.1915 - accuracy: 0.5389\n",
      "Epoch 55: saving model to model/keypoint_classifier\\keypoint_classifier.hdf5\n",
      "49/49 [==============================] - 0s 6ms/step - loss: 1.1946 - accuracy: 0.5362 - val_loss: 0.7806 - val_accuracy: 0.7476\n",
      "Epoch 56/1000\n",
      "45/49 [==========================>...] - ETA: 0s - loss: 1.1901 - accuracy: 0.5413\n",
      "Epoch 56: saving model to model/keypoint_classifier\\keypoint_classifier.hdf5\n",
      "49/49 [==============================] - 0s 6ms/step - loss: 1.1908 - accuracy: 0.5420 - val_loss: 0.7741 - val_accuracy: 0.7427\n",
      "Epoch 57/1000\n",
      "49/49 [==============================] - ETA: 0s - loss: 1.2002 - accuracy: 0.5342\n",
      "Epoch 57: saving model to model/keypoint_classifier\\keypoint_classifier.hdf5\n",
      "49/49 [==============================] - 0s 6ms/step - loss: 1.2002 - accuracy: 0.5342 - val_loss: 0.7816 - val_accuracy: 0.7495\n",
      "Epoch 58/1000\n",
      "47/49 [===========================>..] - ETA: 0s - loss: 1.1963 - accuracy: 0.5414\n",
      "Epoch 58: saving model to model/keypoint_classifier\\keypoint_classifier.hdf5\n",
      "49/49 [==============================] - 0s 6ms/step - loss: 1.1975 - accuracy: 0.5407 - val_loss: 0.7867 - val_accuracy: 0.7612\n",
      "Epoch 59/1000\n",
      "47/49 [===========================>..] - ETA: 0s - loss: 1.2016 - accuracy: 0.5339\n",
      "Epoch 59: saving model to model/keypoint_classifier\\keypoint_classifier.hdf5\n",
      "49/49 [==============================] - 0s 6ms/step - loss: 1.1985 - accuracy: 0.5355 - val_loss: 0.7793 - val_accuracy: 0.7456\n",
      "Epoch 60/1000\n",
      "47/49 [===========================>..] - ETA: 0s - loss: 1.1945 - accuracy: 0.5329\n",
      "Epoch 60: saving model to model/keypoint_classifier\\keypoint_classifier.hdf5\n",
      "49/49 [==============================] - 0s 6ms/step - loss: 1.1923 - accuracy: 0.5336 - val_loss: 0.7755 - val_accuracy: 0.7505\n",
      "Epoch 61/1000\n",
      "46/49 [===========================>..] - ETA: 0s - loss: 1.1798 - accuracy: 0.5369\n",
      "Epoch 61: saving model to model/keypoint_classifier\\keypoint_classifier.hdf5\n",
      "49/49 [==============================] - 0s 6ms/step - loss: 1.1741 - accuracy: 0.5402 - val_loss: 0.7778 - val_accuracy: 0.7485\n",
      "Epoch 62/1000\n",
      "47/49 [===========================>..] - ETA: 0s - loss: 1.1603 - accuracy: 0.5615\n",
      "Epoch 62: saving model to model/keypoint_classifier\\keypoint_classifier.hdf5\n",
      "49/49 [==============================] - 0s 6ms/step - loss: 1.1620 - accuracy: 0.5611 - val_loss: 0.7639 - val_accuracy: 0.7636\n",
      "Epoch 63/1000\n",
      "48/49 [============================>.] - ETA: 0s - loss: 1.1820 - accuracy: 0.5413\n",
      "Epoch 63: saving model to model/keypoint_classifier\\keypoint_classifier.hdf5\n",
      "49/49 [==============================] - 0s 6ms/step - loss: 1.1823 - accuracy: 0.5412 - val_loss: 0.7659 - val_accuracy: 0.7578\n",
      "Epoch 64/1000\n",
      "47/49 [===========================>..] - ETA: 0s - loss: 1.1670 - accuracy: 0.5512\n",
      "Epoch 64: saving model to model/keypoint_classifier\\keypoint_classifier.hdf5\n",
      "49/49 [==============================] - 0s 6ms/step - loss: 1.1656 - accuracy: 0.5521 - val_loss: 0.7591 - val_accuracy: 0.7588\n",
      "Epoch 65/1000\n",
      "44/49 [=========================>....] - ETA: 0s - loss: 1.1635 - accuracy: 0.5504\n",
      "Epoch 65: saving model to model/keypoint_classifier\\keypoint_classifier.hdf5\n",
      "49/49 [==============================] - 0s 6ms/step - loss: 1.1580 - accuracy: 0.5498 - val_loss: 0.7539 - val_accuracy: 0.7529\n",
      "Epoch 66/1000\n",
      "44/49 [=========================>....] - ETA: 0s - loss: 1.1687 - accuracy: 0.5391\n",
      "Epoch 66: saving model to model/keypoint_classifier\\keypoint_classifier.hdf5\n",
      "49/49 [==============================] - 0s 6ms/step - loss: 1.1709 - accuracy: 0.5381 - val_loss: 0.7693 - val_accuracy: 0.7607\n",
      "Epoch 67/1000\n",
      "46/49 [===========================>..] - ETA: 0s - loss: 1.1448 - accuracy: 0.5510\n",
      "Epoch 67: saving model to model/keypoint_classifier\\keypoint_classifier.hdf5\n",
      "49/49 [==============================] - 0s 6ms/step - loss: 1.1485 - accuracy: 0.5498 - val_loss: 0.7559 - val_accuracy: 0.7515\n",
      "Epoch 68/1000\n",
      "46/49 [===========================>..] - ETA: 0s - loss: 1.1472 - accuracy: 0.5499\n",
      "Epoch 68: saving model to model/keypoint_classifier\\keypoint_classifier.hdf5\n",
      "49/49 [==============================] - 0s 7ms/step - loss: 1.1473 - accuracy: 0.5491 - val_loss: 0.7503 - val_accuracy: 0.7636\n",
      "Epoch 69/1000\n",
      "46/49 [===========================>..] - ETA: 0s - loss: 1.1608 - accuracy: 0.5537\n",
      "Epoch 69: saving model to model/keypoint_classifier\\keypoint_classifier.hdf5\n",
      "49/49 [==============================] - 0s 6ms/step - loss: 1.1555 - accuracy: 0.5547 - val_loss: 0.7482 - val_accuracy: 0.7568\n",
      "Epoch 70/1000\n",
      "44/49 [=========================>....] - ETA: 0s - loss: 1.1346 - accuracy: 0.5536\n",
      "Epoch 70: saving model to model/keypoint_classifier\\keypoint_classifier.hdf5\n",
      "49/49 [==============================] - 0s 6ms/step - loss: 1.1330 - accuracy: 0.5550 - val_loss: 0.7439 - val_accuracy: 0.7685\n",
      "Epoch 71/1000\n",
      "47/49 [===========================>..] - ETA: 0s - loss: 1.1748 - accuracy: 0.5436\n",
      "Epoch 71: saving model to model/keypoint_classifier\\keypoint_classifier.hdf5\n",
      "49/49 [==============================] - 0s 6ms/step - loss: 1.1723 - accuracy: 0.5436 - val_loss: 0.7522 - val_accuracy: 0.7500\n",
      "Epoch 72/1000\n",
      "46/49 [===========================>..] - ETA: 0s - loss: 1.1667 - accuracy: 0.5516\n",
      "Epoch 72: saving model to model/keypoint_classifier\\keypoint_classifier.hdf5\n",
      "49/49 [==============================] - 0s 6ms/step - loss: 1.1669 - accuracy: 0.5522 - val_loss: 0.7681 - val_accuracy: 0.7680\n",
      "Epoch 73/1000\n",
      "45/49 [==========================>...] - ETA: 0s - loss: 1.1421 - accuracy: 0.5608\n",
      "Epoch 73: saving model to model/keypoint_classifier\\keypoint_classifier.hdf5\n",
      "49/49 [==============================] - 0s 7ms/step - loss: 1.1393 - accuracy: 0.5642 - val_loss: 0.7423 - val_accuracy: 0.7631\n",
      "Epoch 74/1000\n",
      "44/49 [=========================>....] - ETA: 0s - loss: 1.1408 - accuracy: 0.5630\n",
      "Epoch 74: saving model to model/keypoint_classifier\\keypoint_classifier.hdf5\n",
      "49/49 [==============================] - 0s 7ms/step - loss: 1.1420 - accuracy: 0.5642 - val_loss: 0.7489 - val_accuracy: 0.7777\n",
      "Epoch 75/1000\n",
      "45/49 [==========================>...] - ETA: 0s - loss: 1.1504 - accuracy: 0.5557\n",
      "Epoch 75: saving model to model/keypoint_classifier\\keypoint_classifier.hdf5\n",
      "49/49 [==============================] - 0s 7ms/step - loss: 1.1477 - accuracy: 0.5563 - val_loss: 0.7491 - val_accuracy: 0.7680\n",
      "Epoch 76/1000\n",
      "43/49 [=========================>....] - ETA: 0s - loss: 1.1277 - accuracy: 0.5623\n",
      "Epoch 76: saving model to model/keypoint_classifier\\keypoint_classifier.hdf5\n",
      "49/49 [==============================] - 0s 7ms/step - loss: 1.1319 - accuracy: 0.5615 - val_loss: 0.7329 - val_accuracy: 0.7617\n",
      "Epoch 77/1000\n",
      "43/49 [=========================>....] - ETA: 0s - loss: 1.1325 - accuracy: 0.5618\n",
      "Epoch 77: saving model to model/keypoint_classifier\\keypoint_classifier.hdf5\n",
      "49/49 [==============================] - 0s 7ms/step - loss: 1.1362 - accuracy: 0.5598 - val_loss: 0.7358 - val_accuracy: 0.7675\n",
      "Epoch 78/1000\n",
      "44/49 [=========================>....] - ETA: 0s - loss: 1.1624 - accuracy: 0.5568\n",
      "Epoch 78: saving model to model/keypoint_classifier\\keypoint_classifier.hdf5\n",
      "49/49 [==============================] - 0s 6ms/step - loss: 1.1592 - accuracy: 0.5566 - val_loss: 0.7390 - val_accuracy: 0.7631\n",
      "Epoch 79/1000\n",
      "46/49 [===========================>..] - ETA: 0s - loss: 1.1376 - accuracy: 0.5659\n",
      "Epoch 79: saving model to model/keypoint_classifier\\keypoint_classifier.hdf5\n",
      "49/49 [==============================] - 0s 6ms/step - loss: 1.1334 - accuracy: 0.5650 - val_loss: 0.7364 - val_accuracy: 0.7792\n",
      "Epoch 80/1000\n",
      "45/49 [==========================>...] - ETA: 0s - loss: 1.1451 - accuracy: 0.5571\n",
      "Epoch 80: saving model to model/keypoint_classifier\\keypoint_classifier.hdf5\n",
      "49/49 [==============================] - 0s 6ms/step - loss: 1.1463 - accuracy: 0.5571 - val_loss: 0.7445 - val_accuracy: 0.7840\n",
      "Epoch 81/1000\n",
      "45/49 [==========================>...] - ETA: 0s - loss: 1.1409 - accuracy: 0.5510\n",
      "Epoch 81: saving model to model/keypoint_classifier\\keypoint_classifier.hdf5\n",
      "49/49 [==============================] - 0s 6ms/step - loss: 1.1354 - accuracy: 0.5543 - val_loss: 0.7406 - val_accuracy: 0.7763\n",
      "Epoch 82/1000\n",
      "45/49 [==========================>...] - ETA: 0s - loss: 1.1453 - accuracy: 0.5595\n",
      "Epoch 82: saving model to model/keypoint_classifier\\keypoint_classifier.hdf5\n",
      "49/49 [==============================] - 0s 6ms/step - loss: 1.1444 - accuracy: 0.5563 - val_loss: 0.7420 - val_accuracy: 0.7855\n",
      "Epoch 83/1000\n",
      "44/49 [=========================>....] - ETA: 0s - loss: 1.1385 - accuracy: 0.5604\n",
      "Epoch 83: saving model to model/keypoint_classifier\\keypoint_classifier.hdf5\n",
      "49/49 [==============================] - 0s 6ms/step - loss: 1.1380 - accuracy: 0.5610 - val_loss: 0.7393 - val_accuracy: 0.7797\n",
      "Epoch 84/1000\n",
      "47/49 [===========================>..] - ETA: 0s - loss: 1.1040 - accuracy: 0.5731\n",
      "Epoch 84: saving model to model/keypoint_classifier\\keypoint_classifier.hdf5\n",
      "49/49 [==============================] - 0s 6ms/step - loss: 1.1038 - accuracy: 0.5736 - val_loss: 0.7241 - val_accuracy: 0.7724\n",
      "Epoch 85/1000\n",
      "46/49 [===========================>..] - ETA: 0s - loss: 1.1200 - accuracy: 0.5623\n",
      "Epoch 85: saving model to model/keypoint_classifier\\keypoint_classifier.hdf5\n",
      "49/49 [==============================] - 0s 6ms/step - loss: 1.1214 - accuracy: 0.5613 - val_loss: 0.7232 - val_accuracy: 0.7928\n",
      "Epoch 86/1000\n",
      "46/49 [===========================>..] - ETA: 0s - loss: 1.1314 - accuracy: 0.5615\n",
      "Epoch 86: saving model to model/keypoint_classifier\\keypoint_classifier.hdf5\n",
      "49/49 [==============================] - 0s 6ms/step - loss: 1.1346 - accuracy: 0.5597 - val_loss: 0.7270 - val_accuracy: 0.7845\n",
      "Epoch 87/1000\n",
      "44/49 [=========================>....] - ETA: 0s - loss: 1.1390 - accuracy: 0.5543\n",
      "Epoch 87: saving model to model/keypoint_classifier\\keypoint_classifier.hdf5\n",
      "49/49 [==============================] - 0s 6ms/step - loss: 1.1406 - accuracy: 0.5548 - val_loss: 0.7400 - val_accuracy: 0.7748\n",
      "Epoch 88/1000\n",
      "48/49 [============================>.] - ETA: 0s - loss: 1.1390 - accuracy: 0.5617\n",
      "Epoch 88: saving model to model/keypoint_classifier\\keypoint_classifier.hdf5\n",
      "49/49 [==============================] - 0s 6ms/step - loss: 1.1386 - accuracy: 0.5616 - val_loss: 0.7308 - val_accuracy: 0.7923\n",
      "Epoch 89/1000\n",
      "47/49 [===========================>..] - ETA: 0s - loss: 1.1329 - accuracy: 0.5701\n",
      "Epoch 89: saving model to model/keypoint_classifier\\keypoint_classifier.hdf5\n",
      "49/49 [==============================] - 0s 6ms/step - loss: 1.1336 - accuracy: 0.5696 - val_loss: 0.7141 - val_accuracy: 0.7884\n",
      "Epoch 90/1000\n",
      "46/49 [===========================>..] - ETA: 0s - loss: 1.0987 - accuracy: 0.5701\n",
      "Epoch 90: saving model to model/keypoint_classifier\\keypoint_classifier.hdf5\n",
      "49/49 [==============================] - 0s 6ms/step - loss: 1.1007 - accuracy: 0.5704 - val_loss: 0.7309 - val_accuracy: 0.7797\n",
      "Epoch 91/1000\n",
      "46/49 [===========================>..] - ETA: 0s - loss: 1.1434 - accuracy: 0.5576\n",
      "Epoch 91: saving model to model/keypoint_classifier\\keypoint_classifier.hdf5\n",
      "49/49 [==============================] - 0s 6ms/step - loss: 1.1418 - accuracy: 0.5589 - val_loss: 0.7261 - val_accuracy: 0.7748\n",
      "Epoch 92/1000\n",
      "46/49 [===========================>..] - ETA: 0s - loss: 1.1233 - accuracy: 0.5666\n",
      "Epoch 92: saving model to model/keypoint_classifier\\keypoint_classifier.hdf5\n",
      "49/49 [==============================] - 0s 6ms/step - loss: 1.1288 - accuracy: 0.5655 - val_loss: 0.7251 - val_accuracy: 0.7889\n",
      "Epoch 93/1000\n",
      "47/49 [===========================>..] - ETA: 0s - loss: 1.1158 - accuracy: 0.5652\n",
      "Epoch 93: saving model to model/keypoint_classifier\\keypoint_classifier.hdf5\n",
      "49/49 [==============================] - 0s 6ms/step - loss: 1.1152 - accuracy: 0.5655 - val_loss: 0.7198 - val_accuracy: 0.7889\n",
      "Epoch 94/1000\n",
      "46/49 [===========================>..] - ETA: 0s - loss: 1.1246 - accuracy: 0.5550\n",
      "Epoch 94: saving model to model/keypoint_classifier\\keypoint_classifier.hdf5\n",
      "49/49 [==============================] - 0s 6ms/step - loss: 1.1261 - accuracy: 0.5551 - val_loss: 0.7228 - val_accuracy: 0.7904\n",
      "Epoch 95/1000\n",
      "44/49 [=========================>....] - ETA: 0s - loss: 1.1159 - accuracy: 0.5623\n",
      "Epoch 95: saving model to model/keypoint_classifier\\keypoint_classifier.hdf5\n",
      "49/49 [==============================] - 0s 6ms/step - loss: 1.1180 - accuracy: 0.5616 - val_loss: 0.7240 - val_accuracy: 0.7918\n",
      "Epoch 96/1000\n",
      "46/49 [===========================>..] - ETA: 0s - loss: 1.1353 - accuracy: 0.5572\n",
      "Epoch 96: saving model to model/keypoint_classifier\\keypoint_classifier.hdf5\n",
      "49/49 [==============================] - 0s 6ms/step - loss: 1.1342 - accuracy: 0.5576 - val_loss: 0.7276 - val_accuracy: 0.7909\n",
      "Epoch 97/1000\n",
      "45/49 [==========================>...] - ETA: 0s - loss: 1.1151 - accuracy: 0.5708\n",
      "Epoch 97: saving model to model/keypoint_classifier\\keypoint_classifier.hdf5\n",
      "49/49 [==============================] - 0s 6ms/step - loss: 1.1129 - accuracy: 0.5725 - val_loss: 0.7267 - val_accuracy: 0.7884\n",
      "Epoch 98/1000\n",
      "46/49 [===========================>..] - ETA: 0s - loss: 1.1338 - accuracy: 0.5632\n",
      "Epoch 98: saving model to model/keypoint_classifier\\keypoint_classifier.hdf5\n",
      "49/49 [==============================] - 0s 6ms/step - loss: 1.1342 - accuracy: 0.5631 - val_loss: 0.7218 - val_accuracy: 0.7758\n",
      "Epoch 99/1000\n",
      "46/49 [===========================>..] - ETA: 0s - loss: 1.1107 - accuracy: 0.5662\n",
      "Epoch 99: saving model to model/keypoint_classifier\\keypoint_classifier.hdf5\n",
      "49/49 [==============================] - 0s 6ms/step - loss: 1.1119 - accuracy: 0.5675 - val_loss: 0.7202 - val_accuracy: 0.7855\n",
      "Epoch 100/1000\n",
      "45/49 [==========================>...] - ETA: 0s - loss: 1.0968 - accuracy: 0.5753\n",
      "Epoch 100: saving model to model/keypoint_classifier\\keypoint_classifier.hdf5\n",
      "49/49 [==============================] - 0s 6ms/step - loss: 1.0998 - accuracy: 0.5728 - val_loss: 0.7062 - val_accuracy: 0.7884\n",
      "Epoch 101/1000\n",
      "45/49 [==========================>...] - ETA: 0s - loss: 1.0941 - accuracy: 0.5788\n",
      "Epoch 101: saving model to model/keypoint_classifier\\keypoint_classifier.hdf5\n",
      "49/49 [==============================] - 0s 6ms/step - loss: 1.0944 - accuracy: 0.5772 - val_loss: 0.7064 - val_accuracy: 0.7977\n",
      "Epoch 102/1000\n",
      "46/49 [===========================>..] - ETA: 0s - loss: 1.0993 - accuracy: 0.5700\n",
      "Epoch 102: saving model to model/keypoint_classifier\\keypoint_classifier.hdf5\n",
      "49/49 [==============================] - 0s 6ms/step - loss: 1.1021 - accuracy: 0.5683 - val_loss: 0.7052 - val_accuracy: 0.7904\n",
      "Epoch 103/1000\n",
      "46/49 [===========================>..] - ETA: 0s - loss: 1.1057 - accuracy: 0.5757\n",
      "Epoch 103: saving model to model/keypoint_classifier\\keypoint_classifier.hdf5\n",
      "49/49 [==============================] - 0s 6ms/step - loss: 1.1031 - accuracy: 0.5762 - val_loss: 0.7196 - val_accuracy: 0.7913\n",
      "Epoch 104/1000\n",
      "47/49 [===========================>..] - ETA: 0s - loss: 1.0996 - accuracy: 0.5735\n",
      "Epoch 104: saving model to model/keypoint_classifier\\keypoint_classifier.hdf5\n",
      "49/49 [==============================] - 0s 6ms/step - loss: 1.1007 - accuracy: 0.5723 - val_loss: 0.7065 - val_accuracy: 0.7787\n",
      "Epoch 105/1000\n",
      "44/49 [=========================>....] - ETA: 0s - loss: 1.0735 - accuracy: 0.5833\n",
      "Epoch 105: saving model to model/keypoint_classifier\\keypoint_classifier.hdf5\n",
      "49/49 [==============================] - 0s 6ms/step - loss: 1.0739 - accuracy: 0.5850 - val_loss: 0.6965 - val_accuracy: 0.7865\n",
      "Epoch 106/1000\n",
      "49/49 [==============================] - ETA: 0s - loss: 1.0868 - accuracy: 0.5761\n",
      "Epoch 106: saving model to model/keypoint_classifier\\keypoint_classifier.hdf5\n",
      "49/49 [==============================] - 0s 6ms/step - loss: 1.0868 - accuracy: 0.5761 - val_loss: 0.7017 - val_accuracy: 0.7977\n",
      "Epoch 107/1000\n",
      "39/49 [======================>.......] - ETA: 0s - loss: 1.1247 - accuracy: 0.5657\n",
      "Epoch 107: saving model to model/keypoint_classifier\\keypoint_classifier.hdf5\n",
      "49/49 [==============================] - 0s 7ms/step - loss: 1.1067 - accuracy: 0.5704 - val_loss: 0.7080 - val_accuracy: 0.8040\n",
      "Epoch 108/1000\n",
      "46/49 [===========================>..] - ETA: 0s - loss: 1.1028 - accuracy: 0.5691\n",
      "Epoch 108: saving model to model/keypoint_classifier\\keypoint_classifier.hdf5\n",
      "49/49 [==============================] - 0s 6ms/step - loss: 1.1055 - accuracy: 0.5688 - val_loss: 0.7044 - val_accuracy: 0.7977\n",
      "Epoch 109/1000\n",
      "45/49 [==========================>...] - ETA: 0s - loss: 1.1100 - accuracy: 0.5696\n",
      "Epoch 109: saving model to model/keypoint_classifier\\keypoint_classifier.hdf5\n",
      "49/49 [==============================] - 0s 6ms/step - loss: 1.1100 - accuracy: 0.5684 - val_loss: 0.7112 - val_accuracy: 0.7811\n",
      "Epoch 110/1000\n",
      "48/49 [============================>.] - ETA: 0s - loss: 1.0862 - accuracy: 0.5705\n",
      "Epoch 110: saving model to model/keypoint_classifier\\keypoint_classifier.hdf5\n",
      "49/49 [==============================] - 0s 6ms/step - loss: 1.0863 - accuracy: 0.5704 - val_loss: 0.7045 - val_accuracy: 0.7967\n",
      "Epoch 111/1000\n",
      "46/49 [===========================>..] - ETA: 0s - loss: 1.0918 - accuracy: 0.5742\n",
      "Epoch 111: saving model to model/keypoint_classifier\\keypoint_classifier.hdf5\n",
      "49/49 [==============================] - 0s 6ms/step - loss: 1.0904 - accuracy: 0.5733 - val_loss: 0.7048 - val_accuracy: 0.7884\n",
      "Epoch 112/1000\n",
      "47/49 [===========================>..] - ETA: 0s - loss: 1.0875 - accuracy: 0.5716\n",
      "Epoch 112: saving model to model/keypoint_classifier\\keypoint_classifier.hdf5\n",
      "49/49 [==============================] - 0s 6ms/step - loss: 1.0859 - accuracy: 0.5717 - val_loss: 0.6910 - val_accuracy: 0.7991\n",
      "Epoch 113/1000\n",
      "45/49 [==========================>...] - ETA: 0s - loss: 1.0995 - accuracy: 0.5722\n",
      "Epoch 113: saving model to model/keypoint_classifier\\keypoint_classifier.hdf5\n",
      "49/49 [==============================] - 0s 6ms/step - loss: 1.0937 - accuracy: 0.5731 - val_loss: 0.7067 - val_accuracy: 0.7938\n",
      "Epoch 114/1000\n",
      "48/49 [============================>.] - ETA: 0s - loss: 1.0950 - accuracy: 0.5659\n",
      "Epoch 114: saving model to model/keypoint_classifier\\keypoint_classifier.hdf5\n",
      "49/49 [==============================] - 0s 6ms/step - loss: 1.0960 - accuracy: 0.5655 - val_loss: 0.7149 - val_accuracy: 0.7816\n",
      "Epoch 115/1000\n",
      "45/49 [==========================>...] - ETA: 0s - loss: 1.0910 - accuracy: 0.5720\n",
      "Epoch 115: saving model to model/keypoint_classifier\\keypoint_classifier.hdf5\n",
      "49/49 [==============================] - 0s 6ms/step - loss: 1.0911 - accuracy: 0.5727 - val_loss: 0.7020 - val_accuracy: 0.7913\n",
      "Epoch 116/1000\n",
      "46/49 [===========================>..] - ETA: 0s - loss: 1.1047 - accuracy: 0.5724\n",
      "Epoch 116: saving model to model/keypoint_classifier\\keypoint_classifier.hdf5\n",
      "49/49 [==============================] - 0s 6ms/step - loss: 1.1013 - accuracy: 0.5736 - val_loss: 0.7021 - val_accuracy: 0.7972\n",
      "Epoch 117/1000\n",
      "47/49 [===========================>..] - ETA: 0s - loss: 1.0720 - accuracy: 0.5821\n",
      "Epoch 117: saving model to model/keypoint_classifier\\keypoint_classifier.hdf5\n",
      "49/49 [==============================] - 0s 6ms/step - loss: 1.0725 - accuracy: 0.5814 - val_loss: 0.6894 - val_accuracy: 0.7943\n",
      "Epoch 118/1000\n",
      "46/49 [===========================>..] - ETA: 0s - loss: 1.0998 - accuracy: 0.5780\n",
      "Epoch 118: saving model to model/keypoint_classifier\\keypoint_classifier.hdf5\n",
      "49/49 [==============================] - 0s 6ms/step - loss: 1.1007 - accuracy: 0.5772 - val_loss: 0.7052 - val_accuracy: 0.7962\n",
      "Epoch 119/1000\n",
      "35/49 [====================>.........] - ETA: 0s - loss: 1.0975 - accuracy: 0.5679\n",
      "Epoch 119: saving model to model/keypoint_classifier\\keypoint_classifier.hdf5\n",
      "49/49 [==============================] - 0s 6ms/step - loss: 1.0982 - accuracy: 0.5701 - val_loss: 0.7081 - val_accuracy: 0.7982\n",
      "Epoch 120/1000\n",
      "46/49 [===========================>..] - ETA: 0s - loss: 1.0843 - accuracy: 0.5807\n",
      "Epoch 120: saving model to model/keypoint_classifier\\keypoint_classifier.hdf5\n",
      "49/49 [==============================] - 0s 7ms/step - loss: 1.0807 - accuracy: 0.5821 - val_loss: 0.6976 - val_accuracy: 0.7967\n",
      "Epoch 121/1000\n",
      "44/49 [=========================>....] - ETA: 0s - loss: 1.0954 - accuracy: 0.5763\n",
      "Epoch 121: saving model to model/keypoint_classifier\\keypoint_classifier.hdf5\n",
      "49/49 [==============================] - 0s 7ms/step - loss: 1.0904 - accuracy: 0.5769 - val_loss: 0.7026 - val_accuracy: 0.7894\n",
      "Epoch 122/1000\n",
      "46/49 [===========================>..] - ETA: 0s - loss: 1.0738 - accuracy: 0.5883\n",
      "Epoch 122: saving model to model/keypoint_classifier\\keypoint_classifier.hdf5\n",
      "49/49 [==============================] - 0s 7ms/step - loss: 1.0751 - accuracy: 0.5881 - val_loss: 0.7047 - val_accuracy: 0.7923\n",
      "Epoch 123/1000\n",
      "39/49 [======================>.......] - ETA: 0s - loss: 1.0806 - accuracy: 0.5707\n",
      "Epoch 123: saving model to model/keypoint_classifier\\keypoint_classifier.hdf5\n",
      "49/49 [==============================] - 0s 7ms/step - loss: 1.0796 - accuracy: 0.5740 - val_loss: 0.6926 - val_accuracy: 0.7982\n",
      "Epoch 124/1000\n",
      "44/49 [=========================>....] - ETA: 0s - loss: 1.0849 - accuracy: 0.5852\n",
      "Epoch 124: saving model to model/keypoint_classifier\\keypoint_classifier.hdf5\n",
      "49/49 [==============================] - 0s 6ms/step - loss: 1.0911 - accuracy: 0.5819 - val_loss: 0.6965 - val_accuracy: 0.8006\n",
      "Epoch 125/1000\n",
      "47/49 [===========================>..] - ETA: 0s - loss: 1.0840 - accuracy: 0.5808\n",
      "Epoch 125: saving model to model/keypoint_classifier\\keypoint_classifier.hdf5\n",
      "49/49 [==============================] - 0s 6ms/step - loss: 1.0835 - accuracy: 0.5806 - val_loss: 0.6982 - val_accuracy: 0.7899\n",
      "Epoch 126/1000\n",
      "48/49 [============================>.] - ETA: 0s - loss: 1.0710 - accuracy: 0.5785\n",
      "Epoch 126: saving model to model/keypoint_classifier\\keypoint_classifier.hdf5\n",
      "49/49 [==============================] - 0s 6ms/step - loss: 1.0716 - accuracy: 0.5775 - val_loss: 0.6873 - val_accuracy: 0.7889\n",
      "Epoch 127/1000\n",
      "43/49 [=========================>....] - ETA: 0s - loss: 1.0728 - accuracy: 0.5858\n",
      "Epoch 127: saving model to model/keypoint_classifier\\keypoint_classifier.hdf5\n",
      "49/49 [==============================] - 0s 6ms/step - loss: 1.0788 - accuracy: 0.5835 - val_loss: 0.6915 - val_accuracy: 0.7952\n",
      "Epoch 128/1000\n",
      "43/49 [=========================>....] - ETA: 0s - loss: 1.0794 - accuracy: 0.5819\n",
      "Epoch 128: saving model to model/keypoint_classifier\\keypoint_classifier.hdf5\n",
      "49/49 [==============================] - 0s 7ms/step - loss: 1.0768 - accuracy: 0.5814 - val_loss: 0.6930 - val_accuracy: 0.7947\n",
      "Epoch 129/1000\n",
      "48/49 [============================>.] - ETA: 0s - loss: 1.0722 - accuracy: 0.5801\n",
      "Epoch 129: saving model to model/keypoint_classifier\\keypoint_classifier.hdf5\n",
      "49/49 [==============================] - 0s 6ms/step - loss: 1.0730 - accuracy: 0.5800 - val_loss: 0.6870 - val_accuracy: 0.7947\n",
      "Epoch 130/1000\n",
      "47/49 [===========================>..] - ETA: 0s - loss: 1.0802 - accuracy: 0.5791\n",
      "Epoch 130: saving model to model/keypoint_classifier\\keypoint_classifier.hdf5\n",
      "49/49 [==============================] - 0s 6ms/step - loss: 1.0770 - accuracy: 0.5822 - val_loss: 0.6980 - val_accuracy: 0.7957\n",
      "Epoch 131/1000\n",
      "39/49 [======================>.......] - ETA: 0s - loss: 1.0751 - accuracy: 0.5823\n",
      "Epoch 131: saving model to model/keypoint_classifier\\keypoint_classifier.hdf5\n",
      "49/49 [==============================] - 0s 9ms/step - loss: 1.0676 - accuracy: 0.5825 - val_loss: 0.6794 - val_accuracy: 0.7991\n",
      "Epoch 132/1000\n",
      "43/49 [=========================>....] - ETA: 0s - loss: 1.0708 - accuracy: 0.5841\n",
      "Epoch 132: saving model to model/keypoint_classifier\\keypoint_classifier.hdf5\n",
      "49/49 [==============================] - 0s 7ms/step - loss: 1.0739 - accuracy: 0.5835 - val_loss: 0.6884 - val_accuracy: 0.7884\n",
      "Epoch 133/1000\n",
      "37/49 [=====================>........] - ETA: 0s - loss: 1.0624 - accuracy: 0.5851\n",
      "Epoch 133: saving model to model/keypoint_classifier\\keypoint_classifier.hdf5\n",
      "49/49 [==============================] - 0s 7ms/step - loss: 1.0619 - accuracy: 0.5864 - val_loss: 0.6857 - val_accuracy: 0.8006\n",
      "Epoch 134/1000\n",
      "46/49 [===========================>..] - ETA: 0s - loss: 1.0820 - accuracy: 0.5766\n",
      "Epoch 134: saving model to model/keypoint_classifier\\keypoint_classifier.hdf5\n",
      "49/49 [==============================] - 0s 6ms/step - loss: 1.0877 - accuracy: 0.5756 - val_loss: 0.6861 - val_accuracy: 0.8025\n",
      "Epoch 135/1000\n",
      "45/49 [==========================>...] - ETA: 0s - loss: 1.0831 - accuracy: 0.5719\n",
      "Epoch 135: saving model to model/keypoint_classifier\\keypoint_classifier.hdf5\n",
      "49/49 [==============================] - 0s 6ms/step - loss: 1.0842 - accuracy: 0.5701 - val_loss: 0.6874 - val_accuracy: 0.8030\n",
      "Epoch 136/1000\n",
      "45/49 [==========================>...] - ETA: 0s - loss: 1.0501 - accuracy: 0.5865\n",
      "Epoch 136: saving model to model/keypoint_classifier\\keypoint_classifier.hdf5\n",
      "49/49 [==============================] - 0s 6ms/step - loss: 1.0498 - accuracy: 0.5877 - val_loss: 0.6807 - val_accuracy: 0.8093\n",
      "Epoch 137/1000\n",
      "48/49 [============================>.] - ETA: 0s - loss: 1.0667 - accuracy: 0.5801\n",
      "Epoch 137: saving model to model/keypoint_classifier\\keypoint_classifier.hdf5\n",
      "49/49 [==============================] - 0s 6ms/step - loss: 1.0664 - accuracy: 0.5801 - val_loss: 0.6944 - val_accuracy: 0.7899\n",
      "Epoch 138/1000\n",
      "33/49 [===================>..........] - ETA: 0s - loss: 1.0904 - accuracy: 0.5736\n",
      "Epoch 138: saving model to model/keypoint_classifier\\keypoint_classifier.hdf5\n",
      "49/49 [==============================] - 0s 6ms/step - loss: 1.0784 - accuracy: 0.5795 - val_loss: 0.6842 - val_accuracy: 0.8127\n",
      "Epoch 139/1000\n",
      "49/49 [==============================] - ETA: 0s - loss: 1.0665 - accuracy: 0.5920\n",
      "Epoch 139: saving model to model/keypoint_classifier\\keypoint_classifier.hdf5\n",
      "49/49 [==============================] - 0s 6ms/step - loss: 1.0665 - accuracy: 0.5920 - val_loss: 0.6898 - val_accuracy: 0.7962\n",
      "Epoch 140/1000\n",
      "45/49 [==========================>...] - ETA: 0s - loss: 1.0678 - accuracy: 0.5833\n",
      "Epoch 140: saving model to model/keypoint_classifier\\keypoint_classifier.hdf5\n",
      "49/49 [==============================] - 0s 6ms/step - loss: 1.0684 - accuracy: 0.5829 - val_loss: 0.6952 - val_accuracy: 0.8059\n",
      "Epoch 141/1000\n",
      "44/49 [=========================>....] - ETA: 0s - loss: 1.0597 - accuracy: 0.5826\n",
      "Epoch 141: saving model to model/keypoint_classifier\\keypoint_classifier.hdf5\n",
      "49/49 [==============================] - 0s 6ms/step - loss: 1.0578 - accuracy: 0.5814 - val_loss: 0.6848 - val_accuracy: 0.8079\n",
      "Epoch 142/1000\n",
      "44/49 [=========================>....] - ETA: 0s - loss: 1.0568 - accuracy: 0.5856\n",
      "Epoch 142: saving model to model/keypoint_classifier\\keypoint_classifier.hdf5\n",
      "49/49 [==============================] - 0s 6ms/step - loss: 1.0585 - accuracy: 0.5866 - val_loss: 0.6852 - val_accuracy: 0.7884\n",
      "Epoch 143/1000\n",
      "45/49 [==========================>...] - ETA: 0s - loss: 1.0671 - accuracy: 0.5840\n",
      "Epoch 143: saving model to model/keypoint_classifier\\keypoint_classifier.hdf5\n",
      "49/49 [==============================] - 0s 6ms/step - loss: 1.0688 - accuracy: 0.5847 - val_loss: 0.6936 - val_accuracy: 0.8016\n",
      "Epoch 144/1000\n",
      "47/49 [===========================>..] - ETA: 0s - loss: 1.0512 - accuracy: 0.5849\n",
      "Epoch 144: saving model to model/keypoint_classifier\\keypoint_classifier.hdf5\n",
      "49/49 [==============================] - 0s 6ms/step - loss: 1.0508 - accuracy: 0.5847 - val_loss: 0.6770 - val_accuracy: 0.7972\n",
      "Epoch 145/1000\n",
      "37/49 [=====================>........] - ETA: 0s - loss: 1.0588 - accuracy: 0.5777\n",
      "Epoch 145: saving model to model/keypoint_classifier\\keypoint_classifier.hdf5\n",
      "49/49 [==============================] - 0s 6ms/step - loss: 1.0551 - accuracy: 0.5829 - val_loss: 0.6875 - val_accuracy: 0.8011\n",
      "Epoch 146/1000\n",
      "33/49 [===================>..........] - ETA: 0s - loss: 1.0648 - accuracy: 0.5869\n",
      "Epoch 146: saving model to model/keypoint_classifier\\keypoint_classifier.hdf5\n",
      "49/49 [==============================] - 0s 6ms/step - loss: 1.0659 - accuracy: 0.5903 - val_loss: 0.6730 - val_accuracy: 0.8069\n",
      "Epoch 147/1000\n",
      "40/49 [=======================>......] - ETA: 0s - loss: 1.0703 - accuracy: 0.5943\n",
      "Epoch 147: saving model to model/keypoint_classifier\\keypoint_classifier.hdf5\n",
      "49/49 [==============================] - 0s 7ms/step - loss: 1.0663 - accuracy: 0.5929 - val_loss: 0.6841 - val_accuracy: 0.8074\n",
      "Epoch 148/1000\n",
      "44/49 [=========================>....] - ETA: 0s - loss: 1.0473 - accuracy: 0.5891\n",
      "Epoch 148: saving model to model/keypoint_classifier\\keypoint_classifier.hdf5\n",
      "49/49 [==============================] - 0s 6ms/step - loss: 1.0479 - accuracy: 0.5895 - val_loss: 0.6722 - val_accuracy: 0.7957\n",
      "Epoch 149/1000\n",
      "47/49 [===========================>..] - ETA: 0s - loss: 1.0548 - accuracy: 0.5898\n",
      "Epoch 149: saving model to model/keypoint_classifier\\keypoint_classifier.hdf5\n",
      "49/49 [==============================] - 0s 6ms/step - loss: 1.0561 - accuracy: 0.5894 - val_loss: 0.6725 - val_accuracy: 0.8127\n",
      "Epoch 150/1000\n",
      "43/49 [=========================>....] - ETA: 0s - loss: 1.0343 - accuracy: 0.5950\n",
      "Epoch 150: saving model to model/keypoint_classifier\\keypoint_classifier.hdf5\n",
      "49/49 [==============================] - 0s 6ms/step - loss: 1.0338 - accuracy: 0.5936 - val_loss: 0.6834 - val_accuracy: 0.7870\n",
      "Epoch 151/1000\n",
      "45/49 [==========================>...] - ETA: 0s - loss: 1.0537 - accuracy: 0.5844\n",
      "Epoch 151: saving model to model/keypoint_classifier\\keypoint_classifier.hdf5\n",
      "49/49 [==============================] - 0s 7ms/step - loss: 1.0541 - accuracy: 0.5874 - val_loss: 0.6804 - val_accuracy: 0.7943\n",
      "Epoch 152/1000\n",
      "44/49 [=========================>....] - ETA: 0s - loss: 1.0539 - accuracy: 0.5836\n",
      "Epoch 152: saving model to model/keypoint_classifier\\keypoint_classifier.hdf5\n",
      "49/49 [==============================] - 0s 7ms/step - loss: 1.0518 - accuracy: 0.5832 - val_loss: 0.6840 - val_accuracy: 0.8064\n",
      "Epoch 153/1000\n",
      "43/49 [=========================>....] - ETA: 0s - loss: 1.0312 - accuracy: 0.5905\n",
      "Epoch 153: saving model to model/keypoint_classifier\\keypoint_classifier.hdf5\n",
      "49/49 [==============================] - 0s 7ms/step - loss: 1.0297 - accuracy: 0.5923 - val_loss: 0.6729 - val_accuracy: 0.8074\n",
      "Epoch 154/1000\n",
      "46/49 [===========================>..] - ETA: 0s - loss: 1.0282 - accuracy: 0.6092\n",
      "Epoch 154: saving model to model/keypoint_classifier\\keypoint_classifier.hdf5\n",
      "49/49 [==============================] - 0s 6ms/step - loss: 1.0284 - accuracy: 0.6080 - val_loss: 0.6781 - val_accuracy: 0.7952\n",
      "Epoch 155/1000\n",
      "48/49 [============================>.] - ETA: 0s - loss: 1.0450 - accuracy: 0.5872\n",
      "Epoch 155: saving model to model/keypoint_classifier\\keypoint_classifier.hdf5\n",
      "49/49 [==============================] - 0s 6ms/step - loss: 1.0468 - accuracy: 0.5869 - val_loss: 0.6720 - val_accuracy: 0.7904\n",
      "Epoch 156/1000\n",
      "48/49 [============================>.] - ETA: 0s - loss: 1.0529 - accuracy: 0.5941\n",
      "Epoch 156: saving model to model/keypoint_classifier\\keypoint_classifier.hdf5\n",
      "49/49 [==============================] - 0s 6ms/step - loss: 1.0546 - accuracy: 0.5941 - val_loss: 0.6797 - val_accuracy: 0.8011\n",
      "Epoch 157/1000\n",
      "42/49 [========================>.....] - ETA: 0s - loss: 1.0475 - accuracy: 0.5947\n",
      "Epoch 157: saving model to model/keypoint_classifier\\keypoint_classifier.hdf5\n",
      "49/49 [==============================] - 0s 6ms/step - loss: 1.0538 - accuracy: 0.5923 - val_loss: 0.6740 - val_accuracy: 0.8035\n",
      "Epoch 158/1000\n",
      "43/49 [=========================>....] - ETA: 0s - loss: 1.0490 - accuracy: 0.6010\n",
      "Epoch 158: saving model to model/keypoint_classifier\\keypoint_classifier.hdf5\n",
      "49/49 [==============================] - 0s 6ms/step - loss: 1.0514 - accuracy: 0.5988 - val_loss: 0.6759 - val_accuracy: 0.8147\n",
      "Epoch 159/1000\n",
      "42/49 [========================>.....] - ETA: 0s - loss: 1.0524 - accuracy: 0.5824\n",
      "Epoch 159: saving model to model/keypoint_classifier\\keypoint_classifier.hdf5\n",
      "49/49 [==============================] - 0s 6ms/step - loss: 1.0571 - accuracy: 0.5835 - val_loss: 0.6725 - val_accuracy: 0.7977\n",
      "Epoch 160/1000\n",
      "45/49 [==========================>...] - ETA: 0s - loss: 1.0495 - accuracy: 0.5927\n",
      "Epoch 160: saving model to model/keypoint_classifier\\keypoint_classifier.hdf5\n",
      "49/49 [==============================] - 0s 6ms/step - loss: 1.0441 - accuracy: 0.5944 - val_loss: 0.6882 - val_accuracy: 0.7991\n",
      "Epoch 161/1000\n",
      "45/49 [==========================>...] - ETA: 0s - loss: 1.0559 - accuracy: 0.5953\n",
      "Epoch 161: saving model to model/keypoint_classifier\\keypoint_classifier.hdf5\n",
      "49/49 [==============================] - 0s 6ms/step - loss: 1.0547 - accuracy: 0.5954 - val_loss: 0.6781 - val_accuracy: 0.8147\n",
      "Epoch 162/1000\n",
      "44/49 [=========================>....] - ETA: 0s - loss: 1.0305 - accuracy: 0.6016\n",
      "Epoch 162: saving model to model/keypoint_classifier\\keypoint_classifier.hdf5\n",
      "49/49 [==============================] - 0s 6ms/step - loss: 1.0326 - accuracy: 0.5993 - val_loss: 0.6710 - val_accuracy: 0.8074\n",
      "Epoch 163/1000\n",
      "47/49 [===========================>..] - ETA: 0s - loss: 1.0381 - accuracy: 0.5952\n",
      "Epoch 163: saving model to model/keypoint_classifier\\keypoint_classifier.hdf5\n",
      "49/49 [==============================] - 0s 6ms/step - loss: 1.0413 - accuracy: 0.5937 - val_loss: 0.6673 - val_accuracy: 0.8127\n",
      "Epoch 164/1000\n",
      "47/49 [===========================>..] - ETA: 0s - loss: 1.0451 - accuracy: 0.5909\n",
      "Epoch 164: saving model to model/keypoint_classifier\\keypoint_classifier.hdf5\n",
      "49/49 [==============================] - 0s 7ms/step - loss: 1.0437 - accuracy: 0.5915 - val_loss: 0.6681 - val_accuracy: 0.8137\n",
      "Epoch 165/1000\n",
      "45/49 [==========================>...] - ETA: 0s - loss: 1.0244 - accuracy: 0.6021\n",
      "Epoch 165: saving model to model/keypoint_classifier\\keypoint_classifier.hdf5\n",
      "49/49 [==============================] - 0s 6ms/step - loss: 1.0242 - accuracy: 0.6022 - val_loss: 0.6561 - val_accuracy: 0.8059\n",
      "Epoch 166/1000\n",
      "45/49 [==========================>...] - ETA: 0s - loss: 1.0380 - accuracy: 0.5901\n",
      "Epoch 166: saving model to model/keypoint_classifier\\keypoint_classifier.hdf5\n",
      "49/49 [==============================] - 0s 6ms/step - loss: 1.0355 - accuracy: 0.5915 - val_loss: 0.6634 - val_accuracy: 0.8093\n",
      "Epoch 167/1000\n",
      "48/49 [============================>.] - ETA: 0s - loss: 1.0318 - accuracy: 0.5972\n",
      "Epoch 167: saving model to model/keypoint_classifier\\keypoint_classifier.hdf5\n",
      "49/49 [==============================] - 0s 6ms/step - loss: 1.0307 - accuracy: 0.5976 - val_loss: 0.6584 - val_accuracy: 0.7977\n",
      "Epoch 168/1000\n",
      "46/49 [===========================>..] - ETA: 0s - loss: 1.0225 - accuracy: 0.6046\n",
      "Epoch 168: saving model to model/keypoint_classifier\\keypoint_classifier.hdf5\n",
      "49/49 [==============================] - 0s 6ms/step - loss: 1.0200 - accuracy: 0.6040 - val_loss: 0.6675 - val_accuracy: 0.7884\n",
      "Epoch 169/1000\n",
      "43/49 [=========================>....] - ETA: 0s - loss: 1.0096 - accuracy: 0.6066\n",
      "Epoch 169: saving model to model/keypoint_classifier\\keypoint_classifier.hdf5\n",
      "49/49 [==============================] - 0s 6ms/step - loss: 1.0116 - accuracy: 0.6059 - val_loss: 0.6674 - val_accuracy: 0.7957\n",
      "Epoch 170/1000\n",
      "44/49 [=========================>....] - ETA: 0s - loss: 1.0343 - accuracy: 0.6019\n",
      "Epoch 170: saving model to model/keypoint_classifier\\keypoint_classifier.hdf5\n",
      "49/49 [==============================] - 0s 6ms/step - loss: 1.0342 - accuracy: 0.6022 - val_loss: 0.6659 - val_accuracy: 0.8113\n",
      "Epoch 171/1000\n",
      "45/49 [==========================>...] - ETA: 0s - loss: 1.0298 - accuracy: 0.6033\n",
      "Epoch 171: saving model to model/keypoint_classifier\\keypoint_classifier.hdf5\n",
      "49/49 [==============================] - 0s 6ms/step - loss: 1.0346 - accuracy: 0.6009 - val_loss: 0.6857 - val_accuracy: 0.7962\n",
      "Epoch 172/1000\n",
      "47/49 [===========================>..] - ETA: 0s - loss: 1.0262 - accuracy: 0.6077\n",
      "Epoch 172: saving model to model/keypoint_classifier\\keypoint_classifier.hdf5\n",
      "49/49 [==============================] - 0s 6ms/step - loss: 1.0234 - accuracy: 0.6090 - val_loss: 0.6649 - val_accuracy: 0.8147\n",
      "Epoch 173/1000\n",
      "47/49 [===========================>..] - ETA: 0s - loss: 1.0352 - accuracy: 0.5954\n",
      "Epoch 173: saving model to model/keypoint_classifier\\keypoint_classifier.hdf5\n",
      "49/49 [==============================] - 0s 7ms/step - loss: 1.0334 - accuracy: 0.5968 - val_loss: 0.6817 - val_accuracy: 0.8069\n",
      "Epoch 174/1000\n",
      "43/49 [=========================>....] - ETA: 0s - loss: 1.0309 - accuracy: 0.6019\n",
      "Epoch 174: saving model to model/keypoint_classifier\\keypoint_classifier.hdf5\n",
      "49/49 [==============================] - 0s 7ms/step - loss: 1.0296 - accuracy: 0.6031 - val_loss: 0.6690 - val_accuracy: 0.8210\n",
      "Epoch 175/1000\n",
      "38/49 [======================>.......] - ETA: 0s - loss: 1.0128 - accuracy: 0.6020\n",
      "Epoch 175: saving model to model/keypoint_classifier\\keypoint_classifier.hdf5\n",
      "49/49 [==============================] - 0s 7ms/step - loss: 1.0133 - accuracy: 0.5991 - val_loss: 0.6767 - val_accuracy: 0.8001\n",
      "Epoch 176/1000\n",
      "48/49 [============================>.] - ETA: 0s - loss: 1.0250 - accuracy: 0.5998\n",
      "Epoch 176: saving model to model/keypoint_classifier\\keypoint_classifier.hdf5\n",
      "49/49 [==============================] - 0s 6ms/step - loss: 1.0250 - accuracy: 0.5993 - val_loss: 0.6611 - val_accuracy: 0.7991\n",
      "Epoch 177/1000\n",
      "44/49 [=========================>....] - ETA: 0s - loss: 1.0206 - accuracy: 0.6003\n",
      "Epoch 177: saving model to model/keypoint_classifier\\keypoint_classifier.hdf5\n",
      "49/49 [==============================] - 0s 7ms/step - loss: 1.0222 - accuracy: 0.6004 - val_loss: 0.6606 - val_accuracy: 0.8093\n",
      "Epoch 178/1000\n",
      "44/49 [=========================>....] - ETA: 0s - loss: 1.0148 - accuracy: 0.5987\n",
      "Epoch 178: saving model to model/keypoint_classifier\\keypoint_classifier.hdf5\n",
      "49/49 [==============================] - 0s 7ms/step - loss: 1.0070 - accuracy: 0.6023 - val_loss: 0.6735 - val_accuracy: 0.8152\n",
      "Epoch 179/1000\n",
      "44/49 [=========================>....] - ETA: 0s - loss: 1.0247 - accuracy: 0.6010\n",
      "Epoch 179: saving model to model/keypoint_classifier\\keypoint_classifier.hdf5\n",
      "49/49 [==============================] - 0s 6ms/step - loss: 1.0198 - accuracy: 0.6035 - val_loss: 0.6658 - val_accuracy: 0.8157\n",
      "Epoch 180/1000\n",
      "44/49 [=========================>....] - ETA: 0s - loss: 1.0250 - accuracy: 0.6026\n",
      "Epoch 180: saving model to model/keypoint_classifier\\keypoint_classifier.hdf5\n",
      "49/49 [==============================] - 0s 6ms/step - loss: 1.0255 - accuracy: 0.6025 - val_loss: 0.6773 - val_accuracy: 0.7904\n",
      "Epoch 181/1000\n",
      "45/49 [==========================>...] - ETA: 0s - loss: 1.0222 - accuracy: 0.5972\n",
      "Epoch 181: saving model to model/keypoint_classifier\\keypoint_classifier.hdf5\n",
      "49/49 [==============================] - 0s 6ms/step - loss: 1.0191 - accuracy: 0.5989 - val_loss: 0.6685 - val_accuracy: 0.8050\n",
      "Epoch 182/1000\n",
      "46/49 [===========================>..] - ETA: 0s - loss: 1.0169 - accuracy: 0.6118\n",
      "Epoch 182: saving model to model/keypoint_classifier\\keypoint_classifier.hdf5\n",
      "49/49 [==============================] - 0s 6ms/step - loss: 1.0183 - accuracy: 0.6103 - val_loss: 0.6615 - val_accuracy: 0.8089\n",
      "Epoch 183/1000\n",
      "46/49 [===========================>..] - ETA: 0s - loss: 1.0132 - accuracy: 0.6063\n",
      "Epoch 183: saving model to model/keypoint_classifier\\keypoint_classifier.hdf5\n",
      "49/49 [==============================] - 0s 6ms/step - loss: 1.0132 - accuracy: 0.6083 - val_loss: 0.6577 - val_accuracy: 0.8225\n",
      "Epoch 184/1000\n",
      "46/49 [===========================>..] - ETA: 0s - loss: 1.0095 - accuracy: 0.6123\n",
      "Epoch 184: saving model to model/keypoint_classifier\\keypoint_classifier.hdf5\n",
      "49/49 [==============================] - 0s 6ms/step - loss: 1.0061 - accuracy: 0.6132 - val_loss: 0.6652 - val_accuracy: 0.8200\n",
      "Epoch 185/1000\n",
      "48/49 [============================>.] - ETA: 0s - loss: 0.9969 - accuracy: 0.6082\n",
      "Epoch 185: saving model to model/keypoint_classifier\\keypoint_classifier.hdf5\n",
      "49/49 [==============================] - 0s 6ms/step - loss: 0.9961 - accuracy: 0.6085 - val_loss: 0.6537 - val_accuracy: 0.8118\n",
      "Epoch 186/1000\n",
      "45/49 [==========================>...] - ETA: 0s - loss: 1.0220 - accuracy: 0.6087\n",
      "Epoch 186: saving model to model/keypoint_classifier\\keypoint_classifier.hdf5\n",
      "49/49 [==============================] - 0s 6ms/step - loss: 1.0247 - accuracy: 0.6080 - val_loss: 0.6840 - val_accuracy: 0.8045\n",
      "Epoch 187/1000\n",
      "45/49 [==========================>...] - ETA: 0s - loss: 1.0362 - accuracy: 0.5917\n",
      "Epoch 187: saving model to model/keypoint_classifier\\keypoint_classifier.hdf5\n",
      "49/49 [==============================] - 0s 7ms/step - loss: 1.0391 - accuracy: 0.5902 - val_loss: 0.6815 - val_accuracy: 0.8050\n",
      "Epoch 188/1000\n",
      "43/49 [=========================>....] - ETA: 0s - loss: 0.9953 - accuracy: 0.6179\n",
      "Epoch 188: saving model to model/keypoint_classifier\\keypoint_classifier.hdf5\n",
      "49/49 [==============================] - 0s 7ms/step - loss: 0.9902 - accuracy: 0.6161 - val_loss: 0.6568 - val_accuracy: 0.8035\n",
      "Epoch 189/1000\n",
      "41/49 [========================>.....] - ETA: 0s - loss: 1.0108 - accuracy: 0.6021\n",
      "Epoch 189: saving model to model/keypoint_classifier\\keypoint_classifier.hdf5\n",
      "49/49 [==============================] - 0s 6ms/step - loss: 1.0117 - accuracy: 0.6036 - val_loss: 0.6670 - val_accuracy: 0.8064\n",
      "Epoch 190/1000\n",
      "48/49 [============================>.] - ETA: 0s - loss: 0.9873 - accuracy: 0.6131\n",
      "Epoch 190: saving model to model/keypoint_classifier\\keypoint_classifier.hdf5\n",
      "49/49 [==============================] - 0s 6ms/step - loss: 0.9873 - accuracy: 0.6130 - val_loss: 0.6743 - val_accuracy: 0.7879\n",
      "Epoch 191/1000\n",
      "47/49 [===========================>..] - ETA: 0s - loss: 1.0023 - accuracy: 0.6087\n",
      "Epoch 191: saving model to model/keypoint_classifier\\keypoint_classifier.hdf5\n",
      "49/49 [==============================] - 0s 6ms/step - loss: 1.0048 - accuracy: 0.6064 - val_loss: 0.6640 - val_accuracy: 0.7913\n",
      "Epoch 192/1000\n",
      "47/49 [===========================>..] - ETA: 0s - loss: 1.0083 - accuracy: 0.6114\n",
      "Epoch 192: saving model to model/keypoint_classifier\\keypoint_classifier.hdf5\n",
      "49/49 [==============================] - 0s 6ms/step - loss: 1.0076 - accuracy: 0.6114 - val_loss: 0.6653 - val_accuracy: 0.7986\n",
      "Epoch 193/1000\n",
      "47/49 [===========================>..] - ETA: 0s - loss: 1.0126 - accuracy: 0.6159\n",
      "Epoch 193: saving model to model/keypoint_classifier\\keypoint_classifier.hdf5\n",
      "49/49 [==============================] - 0s 6ms/step - loss: 1.0100 - accuracy: 0.6151 - val_loss: 0.6572 - val_accuracy: 0.8050\n",
      "Epoch 194/1000\n",
      "34/49 [===================>..........] - ETA: 0s - loss: 0.9946 - accuracy: 0.6183\n",
      "Epoch 194: saving model to model/keypoint_classifier\\keypoint_classifier.hdf5\n",
      "49/49 [==============================] - 0s 6ms/step - loss: 0.9970 - accuracy: 0.6187 - val_loss: 0.6721 - val_accuracy: 0.7962\n",
      "Epoch 195/1000\n",
      "46/49 [===========================>..] - ETA: 0s - loss: 1.0050 - accuracy: 0.6177\n",
      "Epoch 195: saving model to model/keypoint_classifier\\keypoint_classifier.hdf5\n",
      "49/49 [==============================] - 0s 6ms/step - loss: 1.0000 - accuracy: 0.6195 - val_loss: 0.6731 - val_accuracy: 0.8093\n",
      "Epoch 196/1000\n",
      "48/49 [============================>.] - ETA: 0s - loss: 0.9894 - accuracy: 0.6156\n",
      "Epoch 196: saving model to model/keypoint_classifier\\keypoint_classifier.hdf5\n",
      "49/49 [==============================] - 0s 6ms/step - loss: 0.9907 - accuracy: 0.6153 - val_loss: 0.6742 - val_accuracy: 0.7870\n",
      "Epoch 197/1000\n",
      "46/49 [===========================>..] - ETA: 0s - loss: 0.9881 - accuracy: 0.6160\n",
      "Epoch 197: saving model to model/keypoint_classifier\\keypoint_classifier.hdf5\n",
      "49/49 [==============================] - 0s 6ms/step - loss: 0.9849 - accuracy: 0.6155 - val_loss: 0.6775 - val_accuracy: 0.7782\n",
      "Epoch 198/1000\n",
      "46/49 [===========================>..] - ETA: 0s - loss: 1.0025 - accuracy: 0.6075\n",
      "Epoch 198: saving model to model/keypoint_classifier\\keypoint_classifier.hdf5\n",
      "49/49 [==============================] - 0s 6ms/step - loss: 0.9970 - accuracy: 0.6087 - val_loss: 0.6683 - val_accuracy: 0.8016\n",
      "Epoch 199/1000\n",
      "47/49 [===========================>..] - ETA: 0s - loss: 1.0011 - accuracy: 0.6087\n",
      "Epoch 199: saving model to model/keypoint_classifier\\keypoint_classifier.hdf5\n",
      "49/49 [==============================] - 0s 6ms/step - loss: 1.0007 - accuracy: 0.6093 - val_loss: 0.6646 - val_accuracy: 0.8113\n",
      "Epoch 200/1000\n",
      "45/49 [==========================>...] - ETA: 0s - loss: 1.0145 - accuracy: 0.6036\n",
      "Epoch 200: saving model to model/keypoint_classifier\\keypoint_classifier.hdf5\n",
      "49/49 [==============================] - 0s 6ms/step - loss: 1.0129 - accuracy: 0.6036 - val_loss: 0.6881 - val_accuracy: 0.7850\n",
      "Epoch 201/1000\n",
      "48/49 [============================>.] - ETA: 0s - loss: 0.9833 - accuracy: 0.6074\n",
      "Epoch 201: saving model to model/keypoint_classifier\\keypoint_classifier.hdf5\n",
      "49/49 [==============================] - 0s 6ms/step - loss: 0.9836 - accuracy: 0.6072 - val_loss: 0.6710 - val_accuracy: 0.7845\n",
      "Epoch 202/1000\n",
      "44/49 [=========================>....] - ETA: 0s - loss: 1.0059 - accuracy: 0.6158\n",
      "Epoch 202: saving model to model/keypoint_classifier\\keypoint_classifier.hdf5\n",
      "49/49 [==============================] - 0s 7ms/step - loss: 1.0017 - accuracy: 0.6168 - val_loss: 0.6680 - val_accuracy: 0.7894\n",
      "Epoch 203/1000\n",
      "42/49 [========================>.....] - ETA: 0s - loss: 0.9969 - accuracy: 0.6187\n",
      "Epoch 203: saving model to model/keypoint_classifier\\keypoint_classifier.hdf5\n",
      "49/49 [==============================] - 0s 7ms/step - loss: 0.9988 - accuracy: 0.6194 - val_loss: 0.6748 - val_accuracy: 0.7928\n",
      "Epoch 204/1000\n",
      "42/49 [========================>.....] - ETA: 0s - loss: 0.9863 - accuracy: 0.6133\n",
      "Epoch 204: saving model to model/keypoint_classifier\\keypoint_classifier.hdf5\n",
      "49/49 [==============================] - 0s 6ms/step - loss: 0.9836 - accuracy: 0.6150 - val_loss: 0.6581 - val_accuracy: 0.8069\n",
      "Epoch 205/1000\n",
      "45/49 [==========================>...] - ETA: 0s - loss: 1.0035 - accuracy: 0.6106\n",
      "Epoch 205: saving model to model/keypoint_classifier\\keypoint_classifier.hdf5\n",
      "49/49 [==============================] - 0s 7ms/step - loss: 1.0050 - accuracy: 0.6100 - val_loss: 0.6751 - val_accuracy: 0.7962\n",
      "Epoch 205: early stopping\n"
     ]
    },
    {
     "data": {
      "text/plain": [
       "<keras.src.callbacks.History at 0x26db5592670>"
      ]
     },
     "execution_count": 11,
     "metadata": {},
     "output_type": "execute_result"
    }
   ],
   "source": [
    "model.fit(\n",
    "    X_train,\n",
    "    y_train,\n",
    "    epochs=1000,\n",
    "    batch_size=128,\n",
    "    validation_data=(X_test, y_test),\n",
    "    callbacks=[cp_callback, es_callback]\n",
    ")"
   ]
  },
  {
   "cell_type": "code",
   "execution_count": 12,
   "metadata": {
    "colab": {
     "base_uri": "https://localhost:8080/"
    },
    "id": "pxvb2Y299hE3",
    "outputId": "59eb3185-2e37-4b9e-bc9d-ab1b8ac29b7f"
   },
   "outputs": [
    {
     "name": "stdout",
     "output_type": "stream",
     "text": [
      "17/17 [==============================] - 0s 3ms/step - loss: 0.6751 - accuracy: 0.7962\n"
     ]
    }
   ],
   "source": [
    "# Model evaluation\n",
    "val_loss, val_acc = model.evaluate(X_test, y_test, batch_size=128)"
   ]
  },
  {
   "cell_type": "code",
   "execution_count": 13,
   "metadata": {
    "id": "RBkmDeUW9hE4"
   },
   "outputs": [],
   "source": [
    "# Loading the saved model\n",
    "model = tf.keras.models.load_model(model_save_path)"
   ]
  },
  {
   "cell_type": "code",
   "execution_count": 14,
   "metadata": {
    "colab": {
     "base_uri": "https://localhost:8080/"
    },
    "id": "tFz9Tb0I9hE4",
    "outputId": "1c3b3528-54ae-4ee2-ab04-77429211cbef"
   },
   "outputs": [
    {
     "name": "stdout",
     "output_type": "stream",
     "text": [
      "1/1 [==============================] - 0s 163ms/step\n",
      "[2.3162020e-02 4.8290021e-03 2.5391480e-04 8.8970400e-03 1.2142200e-02\n",
      " 2.1394987e-04 9.4666106e-01 3.2649029e-03 5.7547679e-04 4.2433132e-07]\n",
      "6\n"
     ]
    }
   ],
   "source": [
    "# Inference test\n",
    "predict_result = model.predict(np.array([X_test[0]]))\n",
    "print(np.squeeze(predict_result))\n",
    "print(np.argmax(np.squeeze(predict_result)))"
   ]
  },
  {
   "cell_type": "markdown",
   "metadata": {
    "id": "S3U4yNWx9hE4"
   },
   "source": [
    "# Confusion matrix"
   ]
  },
  {
   "cell_type": "code",
   "execution_count": 15,
   "metadata": {
    "colab": {
     "base_uri": "https://localhost:8080/",
     "height": 582
    },
    "id": "AP1V6SCk9hE5",
    "outputId": "08e41a80-7a4a-4619-8125-ecc371368d19"
   },
   "outputs": [
    {
     "name": "stdout",
     "output_type": "stream",
     "text": [
      "65/65 [==============================] - 0s 2ms/step\n"
     ]
    },
    {
     "data": {
      "image/png": "[encoded data removed]",
      "text/plain": [
       "<Figure size 700x600 with 2 Axes>"
      ]
     },
     "metadata": {},
     "output_type": "display_data"
    },
    {
     "name": "stdout",
     "output_type": "stream",
     "text": [
      "Classification Report\n",
      "              precision    recall  f1-score   support\n",
      "\n",
      "           0       0.72      0.31      0.43       304\n",
      "           1       0.99      0.89      0.94       180\n",
      "           2       0.82      0.64      0.72       339\n",
      "           3       0.93      0.90      0.92       138\n",
      "           4       0.61      0.96      0.74       451\n",
      "           5       0.94      0.99      0.97       141\n",
      "           6       0.92      0.89      0.91       219\n",
      "           7       0.98      0.91      0.95       128\n",
      "           8       0.92      0.99      0.95       156\n",
      "\n",
      "    accuracy                           0.80      2056\n",
      "   macro avg       0.87      0.83      0.84      2056\n",
      "weighted avg       0.82      0.80      0.78      2056\n",
      "\n"
     ]
    }
   ],
   "source": [
    "import pandas as pd\n",
    "import seaborn as sns\n",
    "import matplotlib.pyplot as plt\n",
    "from sklearn.metrics import confusion_matrix, classification_report\n",
    "\n",
    "def print_confusion_matrix(y_true, y_pred, report=True):\n",
    "    labels = sorted(list(set(y_true)))\n",
    "    cmx_data = confusion_matrix(y_true, y_pred, labels=labels)\n",
    "    \n",
    "    df_cmx = pd.DataFrame(cmx_data, index=labels, columns=labels)\n",
    " \n",
    "    fig, ax = plt.subplots(figsize=(7, 6))\n",
    "    sns.heatmap(df_cmx, annot=True, fmt='g' ,square=False)\n",
    "    ax.set_ylim(len(set(y_true)), 0)\n",
    "    plt.show()\n",
    "    \n",
    "    if report:\n",
    "        print('Classification Report')\n",
    "        print(classification_report(y_test, y_pred))\n",
    "\n",
    "Y_pred = model.predict(X_test)\n",
    "y_pred = np.argmax(Y_pred, axis=1)\n",
    "\n",
    "print_confusion_matrix(y_test, y_pred)"
   ]
  },
  {
   "cell_type": "markdown",
   "metadata": {
    "id": "FNP6aqzc9hE5"
   },
   "source": [
    "# Convert to model for Tensorflow-Lite"
   ]
  },
  {
   "cell_type": "code",
   "execution_count": 16,
   "metadata": {
    "id": "ODjnYyld9hE6"
   },
   "outputs": [
    {
     "name": "stderr",
     "output_type": "stream",
     "text": [
      "C:\\Users\\Mohamed Ashif\\AppData\\Local\\Programs\\Python\\Python38\\lib\\site-packages\\keras\\src\\engine\\training.py:3000: UserWarning: You are saving your model as an HDF5 file via `model.save()`. This file format is considered legacy. We recommend using instead the native Keras format, e.g. `model.save('my_model.keras')`.\n",
      "  saving_api.save_model(\n"
     ]
    }
   ],
   "source": [
    "# Save as a model dedicated to inference\n",
    "model.save(model_save_path, include_optimizer=False)"
   ]
  },
  {
   "cell_type": "code",
   "execution_count": 17,
   "metadata": {
    "colab": {
     "base_uri": "https://localhost:8080/"
    },
    "id": "zRfuK8Y59hE6",
    "outputId": "a4ca585c-b5d5-4244-8291-8674063209bb"
   },
   "outputs": [
    {
     "name": "stdout",
     "output_type": "stream",
     "text": [
      "INFO:tensorflow:Assets written to: C:\\Users\\MOHAME~1\\AppData\\Local\\Temp\\tmpsk8m28ya\\assets\n"
     ]
    },
    {
     "name": "stderr",
     "output_type": "stream",
     "text": [
      "INFO:tensorflow:Assets written to: C:\\Users\\MOHAME~1\\AppData\\Local\\Temp\\tmpsk8m28ya\\assets\n"
     ]
    },
    {
     "data": {
      "text/plain": [
       "6808"
      ]
     },
     "execution_count": 17,
     "metadata": {},
     "output_type": "execute_result"
    }
   ],
   "source": [
    "# Transform model (quantization)\n",
    "\n",
    "converter = tf.lite.TFLiteConverter.from_keras_model(model)\n",
    "converter.optimizations = [tf.lite.Optimize.DEFAULT]\n",
    "tflite_quantized_model = converter.convert()\n",
    "\n",
    "open(tflite_save_path, 'wb').write(tflite_quantized_model)"
   ]
  },
  {
   "cell_type": "markdown",
   "metadata": {
    "id": "CHBPBXdx9hE6"
   },
   "source": [
    "# Inference test"
   ]
  },
  {
   "cell_type": "code",
   "execution_count": 18,
   "metadata": {
    "id": "mGAzLocO9hE7"
   },
   "outputs": [],
   "source": [
    "interpreter = tf.lite.Interpreter(model_path=tflite_save_path)\n",
    "interpreter.allocate_tensors()"
   ]
  },
  {
   "cell_type": "code",
   "execution_count": 19,
   "metadata": {
    "id": "oQuDK8YS9hE7"
   },
   "outputs": [],
   "source": [
    "# Get I / O tensor\n",
    "input_details = interpreter.get_input_details()\n",
    "output_details = interpreter.get_output_details()"
   ]
  },
  {
   "cell_type": "code",
   "execution_count": 20,
   "metadata": {
    "id": "2_ixAf_l9hE7"
   },
   "outputs": [],
   "source": [
    "interpreter.set_tensor(input_details[0]['index'], np.array([X_test[0]]))"
   ]
  },
  {
   "cell_type": "code",
   "execution_count": 21,
   "metadata": {
    "colab": {
     "base_uri": "https://localhost:8080/"
    },
    "id": "s4FoAnuc9hE7",
    "outputId": "91f18257-8d8b-4ef3-c558-e9b5f94fabbf",
    "scrolled": true
   },
   "outputs": [
    {
     "name": "stdout",
     "output_type": "stream",
     "text": [
      "CPU times: total: 0 ns\n",
      "Wall time: 0 ns\n"
     ]
    }
   ],
   "source": [
    "%%time\n",
    "# Inference implementation\n",
    "interpreter.invoke()\n",
    "tflite_results = interpreter.get_tensor(output_details[0]['index'])"
   ]
  },
  {
   "cell_type": "code",
   "execution_count": 22,
   "metadata": {
    "colab": {
     "base_uri": "https://localhost:8080/"
    },
    "id": "vONjp19J9hE8",
    "outputId": "77205e24-fd00-42c4-f7b6-e06e527c2cba"
   },
   "outputs": [
    {
     "name": "stdout",
     "output_type": "stream",
     "text": [
      "[2.3162019e-02 4.8290025e-03 2.5391477e-04 8.8970391e-03 1.2142199e-02\n",
      " 2.1394987e-04 9.4666106e-01 3.2649026e-03 5.7547679e-04 4.2433132e-07]\n",
      "6\n"
     ]
    }
   ],
   "source": [
    "print(np.squeeze(tflite_results))\n",
    "print(np.argmax(np.squeeze(tflite_results)))"
   ]
  }
 ],
 "metadata": {
  "accelerator": "GPU",
  "colab": {
   "collapsed_sections": [],
   "name": "keypoint_classification_EN.ipynb",
   "provenance": [],
   "toc_visible": true
  },
  "kernelspec": {
   "display_name": "Python 3 (ipykernel)",
   "language": "python",
   "name": "python3"
  },
  "language_info": {
   "codemirror_mode": {
    "name": "ipython",
    "version": 3
   },
   "file_extension": ".py",
   "mimetype": "text/x-python",
   "name": "python",
   "nbconvert_exporter": "python",
   "pygments_lexer": "ipython3",
   "version": "3.8.10"
  }
 },
 "nbformat": 4,
 "nbformat_minor": 4
}
