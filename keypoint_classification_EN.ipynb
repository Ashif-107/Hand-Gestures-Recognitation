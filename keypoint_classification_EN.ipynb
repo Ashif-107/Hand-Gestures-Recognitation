{
 "cells": [
  {
   "cell_type": "code",
   "execution_count": 1,
   "metadata": {
    "id": "igMyGnjE9hEp"
   },
   "outputs": [],
   "source": [
    "import csv\n",
    "\n",
    "import numpy as np\n",
    "import tensorflow as tf\n",
    "from sklearn.model_selection import train_test_split\n",
    "\n",
    "RANDOM_SEED = 42"
   ]
  },
  {
   "cell_type": "markdown",
   "metadata": {
    "id": "t2HDvhIu9hEr"
   },
   "source": [
    "# Specify each path"
   ]
  },
  {
   "cell_type": "code",
   "execution_count": 2,
   "metadata": {
    "id": "9NvZP2Zn9hEy"
   },
   "outputs": [],
   "source": [
    "dataset = 'model/keypoint_classifier/keypoint.csv'\n",
    "model_save_path = 'model/keypoint_classifier/keypoint_classifier.hdf5'\n",
    "tflite_save_path = 'model/keypoint_classifier/keypoint_classifier.tflite'"
   ]
  },
  {
   "cell_type": "markdown",
   "metadata": {
    "id": "s5oMH7x19hEz"
   },
   "source": [
    "# Set number of classes"
   ]
  },
  {
   "cell_type": "code",
   "execution_count": 3,
   "metadata": {
    "id": "du4kodXL9hEz"
   },
   "outputs": [],
   "source": [
    "NUM_CLASSES = 10"
   ]
  },
  {
   "cell_type": "markdown",
   "metadata": {
    "id": "XjnL0uso9hEz"
   },
   "source": [
    "# Dataset reading"
   ]
  },
  {
   "cell_type": "code",
   "execution_count": 4,
   "metadata": {
    "id": "QT5ZqtEz9hE0"
   },
   "outputs": [],
   "source": [
    "X_dataset = np.loadtxt(dataset, delimiter=',', dtype='float32', usecols=list(range(1, (21 * 2) + 1)))"
   ]
  },
  {
   "cell_type": "code",
   "execution_count": 5,
   "metadata": {
    "id": "QmoKFsp49hE0"
   },
   "outputs": [],
   "source": [
    "y_dataset = np.loadtxt(dataset, delimiter=',', dtype='int32', usecols=(0))"
   ]
  },
  {
   "cell_type": "code",
   "execution_count": 6,
   "metadata": {
    "id": "xQU7JTZ_9hE0"
   },
   "outputs": [],
   "source": [
    "X_train, X_test, y_train, y_test = train_test_split(X_dataset, y_dataset, train_size=0.75, random_state=RANDOM_SEED)"
   ]
  },
  {
   "cell_type": "markdown",
   "metadata": {
    "id": "mxK_lETT9hE0"
   },
   "source": [
    "# Model building"
   ]
  },
  {
   "cell_type": "code",
   "execution_count": 7,
   "metadata": {
    "id": "vHBmUf1t9hE1"
   },
   "outputs": [],
   "source": [
    "model = tf.keras.models.Sequential([\n",
    "    tf.keras.layers.Input((21 * 2, )),\n",
    "    tf.keras.layers.Dropout(0.2),\n",
    "    tf.keras.layers.Dense(20, activation='relu'),\n",
    "    tf.keras.layers.Dropout(0.4),\n",
    "    tf.keras.layers.Dense(10, activation='relu'),\n",
    "    tf.keras.layers.Dense(NUM_CLASSES, activation='softmax')\n",
    "])"
   ]
  },
  {
   "cell_type": "code",
   "execution_count": 8,
   "metadata": {
    "colab": {
     "base_uri": "https://localhost:8080/"
    },
    "id": "ypqky9tc9hE1",
    "outputId": "5db082bb-30e3-4110-bf63-a1ee777ecd46"
   },
   "outputs": [
    {
     "name": "stdout",
     "output_type": "stream",
     "text": [
      "Model: \"sequential\"\n",
      "_________________________________________________________________\n",
      " Layer (type)                Output Shape              Param #   \n",
      "=================================================================\n",
      " dropout (Dropout)           (None, 42)                0         \n",
      "                                                                 \n",
      " dense (Dense)               (None, 20)                860       \n",
      "                                                                 \n",
      " dropout_1 (Dropout)         (None, 20)                0         \n",
      "                                                                 \n",
      " dense_1 (Dense)             (None, 10)                210       \n",
      "                                                                 \n",
      " dense_2 (Dense)             (None, 10)                110       \n",
      "                                                                 \n",
      "=================================================================\n",
      "Total params: 1180 (4.61 KB)\n",
      "Trainable params: 1180 (4.61 KB)\n",
      "Non-trainable params: 0 (0.00 Byte)\n",
      "_________________________________________________________________\n"
     ]
    }
   ],
   "source": [
    "model.summary()  # tf.keras.utils.plot_model(model, show_shapes=True)"
   ]
  },
  {
   "cell_type": "code",
   "execution_count": 9,
   "metadata": {
    "id": "MbMjOflQ9hE1"
   },
   "outputs": [],
   "source": [
    "# Model checkpoint callback\n",
    "cp_callback = tf.keras.callbacks.ModelCheckpoint(\n",
    "    model_save_path, verbose=1, save_weights_only=False)\n",
    "# Callback for early stopping\n",
    "es_callback = tf.keras.callbacks.EarlyStopping(patience=20, verbose=1)"
   ]
  },
  {
   "cell_type": "code",
   "execution_count": 10,
   "metadata": {
    "id": "c3Dac0M_9hE2"
   },
   "outputs": [],
   "source": [
    "# Model compilation\n",
    "model.compile(\n",
    "    optimizer='adam',\n",
    "    loss='sparse_categorical_crossentropy',\n",
    "    metrics=['accuracy']\n",
    ")"
   ]
  },
  {
   "cell_type": "markdown",
   "metadata": {
    "id": "7XI0j1Iu9hE2"
   },
   "source": [
    "# Model training"
   ]
  },
  {
   "cell_type": "code",
   "execution_count": 11,
   "metadata": {
    "colab": {
     "base_uri": "https://localhost:8080/"
    },
    "id": "WirBl-JE9hE3",
    "outputId": "71b30ca2-8294-4d9d-8aa2-800d90d399de",
    "scrolled": true
   },
   "outputs": [
    {
     "name": "stdout",
     "output_type": "stream",
     "text": [
      "Epoch 1/1000\n",
      "41/49 [========================>.....] - ETA: 0s - loss: 2.2692 - accuracy: 0.1370\n",
      "Epoch 1: saving model to model/keypoint_classifier\\keypoint_classifier.hdf5\n",
      "49/49 [==============================] - 2s 12ms/step - loss: 2.2623 - accuracy: 0.1430 - val_loss: 2.1901 - val_accuracy: 0.1843\n",
      "Epoch 2/1000\n",
      "30/49 [=================>............] - ETA: 0s - loss: 2.1640 - accuracy: 0.1917"
     ]
    },
    {
     "name": "stderr",
     "output_type": "stream",
     "text": [
      "C:\\Users\\Mohamed Ashif\\AppData\\Local\\Programs\\Python\\Python38\\lib\\site-packages\\keras\\src\\engine\\training.py:3000: UserWarning: You are saving your model as an HDF5 file via `model.save()`. This file format is considered legacy. We recommend using instead the native Keras format, e.g. `model.save('my_model.keras')`.\n",
      "  saving_api.save_model(\n"
     ]
    },
    {
     "name": "stdout",
     "output_type": "stream",
     "text": [
      "44/49 [=========================>....] - ETA: 0s - loss: 2.1507 - accuracy: 0.1983\n",
      "Epoch 2: saving model to model/keypoint_classifier\\keypoint_classifier.hdf5\n",
      "49/49 [==============================] - 0s 6ms/step - loss: 2.1463 - accuracy: 0.1970 - val_loss: 2.0699 - val_accuracy: 0.2116\n",
      "Epoch 3/1000\n",
      "43/49 [=========================>....] - ETA: 0s - loss: 2.0589 - accuracy: 0.2364\n",
      "Epoch 3: saving model to model/keypoint_classifier\\keypoint_classifier.hdf5\n",
      "49/49 [==============================] - 0s 6ms/step - loss: 2.0550 - accuracy: 0.2420 - val_loss: 1.9343 - val_accuracy: 0.2904\n",
      "Epoch 4/1000\n",
      "46/49 [===========================>..] - ETA: 0s - loss: 1.9713 - accuracy: 0.2656\n",
      "Epoch 4: saving model to model/keypoint_classifier\\keypoint_classifier.hdf5\n",
      "49/49 [==============================] - 0s 6ms/step - loss: 1.9720 - accuracy: 0.2660 - val_loss: 1.8071 - val_accuracy: 0.3074\n",
      "Epoch 5/1000\n",
      "46/49 [===========================>..] - ETA: 0s - loss: 1.8965 - accuracy: 0.2906\n",
      "Epoch 5: saving model to model/keypoint_classifier\\keypoint_classifier.hdf5\n",
      "49/49 [==============================] - 0s 6ms/step - loss: 1.8926 - accuracy: 0.2922 - val_loss: 1.7088 - val_accuracy: 0.3813\n",
      "Epoch 6/1000\n",
      "47/49 [===========================>..] - ETA: 0s - loss: 1.8256 - accuracy: 0.3035\n",
      "Epoch 6: saving model to model/keypoint_classifier\\keypoint_classifier.hdf5\n",
      "49/49 [==============================] - 0s 6ms/step - loss: 1.8263 - accuracy: 0.3031 - val_loss: 1.6130 - val_accuracy: 0.3954\n",
      "Epoch 7/1000\n",
      "43/49 [=========================>....] - ETA: 0s - loss: 1.7775 - accuracy: 0.3140\n",
      "Epoch 7: saving model to model/keypoint_classifier\\keypoint_classifier.hdf5\n",
      "49/49 [==============================] - 0s 6ms/step - loss: 1.7691 - accuracy: 0.3184 - val_loss: 1.5411 - val_accuracy: 0.4173\n",
      "Epoch 8/1000\n",
      "46/49 [===========================>..] - ETA: 0s - loss: 1.7257 - accuracy: 0.3290\n",
      "Epoch 8: saving model to model/keypoint_classifier\\keypoint_classifier.hdf5\n",
      "49/49 [==============================] - 0s 6ms/step - loss: 1.7227 - accuracy: 0.3297 - val_loss: 1.4772 - val_accuracy: 0.4324\n",
      "Epoch 9/1000\n",
      "47/49 [===========================>..] - ETA: 0s - loss: 1.6887 - accuracy: 0.3378\n",
      "Epoch 9: saving model to model/keypoint_classifier\\keypoint_classifier.hdf5\n",
      "49/49 [==============================] - 0s 6ms/step - loss: 1.6885 - accuracy: 0.3370 - val_loss: 1.4267 - val_accuracy: 0.4946\n",
      "Epoch 10/1000\n",
      "48/49 [============================>.] - ETA: 0s - loss: 1.6486 - accuracy: 0.3727\n",
      "Epoch 10: saving model to model/keypoint_classifier\\keypoint_classifier.hdf5\n",
      "49/49 [==============================] - 0s 6ms/step - loss: 1.6483 - accuracy: 0.3732 - val_loss: 1.3803 - val_accuracy: 0.5409\n",
      "Epoch 11/1000\n",
      "42/49 [========================>.....] - ETA: 0s - loss: 1.6303 - accuracy: 0.3744\n",
      "Epoch 11: saving model to model/keypoint_classifier\\keypoint_classifier.hdf5\n",
      "49/49 [==============================] - 0s 7ms/step - loss: 1.6262 - accuracy: 0.3738 - val_loss: 1.3282 - val_accuracy: 0.5554\n",
      "Epoch 12/1000\n",
      "47/49 [===========================>..] - ETA: 0s - loss: 1.5786 - accuracy: 0.3921\n",
      "Epoch 12: saving model to model/keypoint_classifier\\keypoint_classifier.hdf5\n",
      "49/49 [==============================] - 0s 6ms/step - loss: 1.5793 - accuracy: 0.3913 - val_loss: 1.2821 - val_accuracy: 0.5953\n",
      "Epoch 13/1000\n",
      "46/49 [===========================>..] - ETA: 0s - loss: 1.5512 - accuracy: 0.4015\n",
      "Epoch 13: saving model to model/keypoint_classifier\\keypoint_classifier.hdf5\n",
      "49/49 [==============================] - 0s 6ms/step - loss: 1.5470 - accuracy: 0.4045 - val_loss: 1.2428 - val_accuracy: 0.6104\n",
      "Epoch 14/1000\n",
      "45/49 [==========================>...] - ETA: 0s - loss: 1.5306 - accuracy: 0.4122\n",
      "Epoch 14: saving model to model/keypoint_classifier\\keypoint_classifier.hdf5\n",
      "49/49 [==============================] - 0s 6ms/step - loss: 1.5260 - accuracy: 0.4134 - val_loss: 1.2000 - val_accuracy: 0.6260\n",
      "Epoch 15/1000\n",
      "46/49 [===========================>..] - ETA: 0s - loss: 1.5002 - accuracy: 0.4271\n",
      "Epoch 15: saving model to model/keypoint_classifier\\keypoint_classifier.hdf5\n",
      "49/49 [==============================] - 0s 6ms/step - loss: 1.5023 - accuracy: 0.4262 - val_loss: 1.1706 - val_accuracy: 0.6367\n",
      "Epoch 16/1000\n",
      "49/49 [==============================] - ETA: 0s - loss: 1.4901 - accuracy: 0.4254\n",
      "Epoch 16: saving model to model/keypoint_classifier\\keypoint_classifier.hdf5\n",
      "49/49 [==============================] - 0s 6ms/step - loss: 1.4901 - accuracy: 0.4254 - val_loss: 1.1677 - val_accuracy: 0.6445\n",
      "Epoch 17/1000\n",
      "47/49 [===========================>..] - ETA: 0s - loss: 1.4690 - accuracy: 0.4330\n",
      "Epoch 17: saving model to model/keypoint_classifier\\keypoint_classifier.hdf5\n",
      "49/49 [==============================] - 0s 6ms/step - loss: 1.4675 - accuracy: 0.4316 - val_loss: 1.1284 - val_accuracy: 0.6425\n",
      "Epoch 18/1000\n",
      "47/49 [===========================>..] - ETA: 0s - loss: 1.4616 - accuracy: 0.4388\n",
      "Epoch 18: saving model to model/keypoint_classifier\\keypoint_classifier.hdf5\n",
      "49/49 [==============================] - 0s 6ms/step - loss: 1.4569 - accuracy: 0.4402 - val_loss: 1.1122 - val_accuracy: 0.6508\n",
      "Epoch 19/1000\n",
      "47/49 [===========================>..] - ETA: 0s - loss: 1.4435 - accuracy: 0.4422\n",
      "Epoch 19: saving model to model/keypoint_classifier\\keypoint_classifier.hdf5\n",
      "49/49 [==============================] - 0s 7ms/step - loss: 1.4432 - accuracy: 0.4416 - val_loss: 1.1002 - val_accuracy: 0.6469\n",
      "Epoch 20/1000\n",
      "48/49 [============================>.] - ETA: 0s - loss: 1.4335 - accuracy: 0.4523\n",
      "Epoch 20: saving model to model/keypoint_classifier\\keypoint_classifier.hdf5\n",
      "49/49 [==============================] - 0s 6ms/step - loss: 1.4331 - accuracy: 0.4525 - val_loss: 1.0790 - val_accuracy: 0.6469\n",
      "Epoch 21/1000\n",
      "48/49 [============================>.] - ETA: 0s - loss: 1.4222 - accuracy: 0.4422\n",
      "Epoch 21: saving model to model/keypoint_classifier\\keypoint_classifier.hdf5\n",
      "49/49 [==============================] - 0s 6ms/step - loss: 1.4220 - accuracy: 0.4419 - val_loss: 1.0684 - val_accuracy: 0.6561\n",
      "Epoch 22/1000\n",
      "47/49 [===========================>..] - ETA: 0s - loss: 1.4260 - accuracy: 0.4408\n",
      "Epoch 22: saving model to model/keypoint_classifier\\keypoint_classifier.hdf5\n",
      "49/49 [==============================] - 0s 6ms/step - loss: 1.4258 - accuracy: 0.4402 - val_loss: 1.0601 - val_accuracy: 0.6590\n",
      "Epoch 23/1000\n",
      "43/49 [=========================>....] - ETA: 0s - loss: 1.3942 - accuracy: 0.4571\n",
      "Epoch 23: saving model to model/keypoint_classifier\\keypoint_classifier.hdf5\n",
      "49/49 [==============================] - 0s 6ms/step - loss: 1.3979 - accuracy: 0.4578 - val_loss: 1.0520 - val_accuracy: 0.6693\n",
      "Epoch 24/1000\n",
      "44/49 [=========================>....] - ETA: 0s - loss: 1.3839 - accuracy: 0.4675\n",
      "Epoch 24: saving model to model/keypoint_classifier\\keypoint_classifier.hdf5\n",
      "49/49 [==============================] - 0s 6ms/step - loss: 1.3855 - accuracy: 0.4655 - val_loss: 1.0418 - val_accuracy: 0.6663\n",
      "Epoch 25/1000\n",
      "48/49 [============================>.] - ETA: 0s - loss: 1.3705 - accuracy: 0.4792\n",
      "Epoch 25: saving model to model/keypoint_classifier\\keypoint_classifier.hdf5\n",
      "49/49 [==============================] - 0s 6ms/step - loss: 1.3695 - accuracy: 0.4792 - val_loss: 1.0225 - val_accuracy: 0.6780\n",
      "Epoch 26/1000\n",
      "46/49 [===========================>..] - ETA: 0s - loss: 1.3656 - accuracy: 0.4664\n",
      "Epoch 26: saving model to model/keypoint_classifier\\keypoint_classifier.hdf5\n",
      "49/49 [==============================] - 0s 6ms/step - loss: 1.3647 - accuracy: 0.4684 - val_loss: 1.0143 - val_accuracy: 0.6678\n",
      "Epoch 27/1000\n",
      "45/49 [==========================>...] - ETA: 0s - loss: 1.3579 - accuracy: 0.4649\n",
      "Epoch 27: saving model to model/keypoint_classifier\\keypoint_classifier.hdf5\n",
      "49/49 [==============================] - 0s 6ms/step - loss: 1.3583 - accuracy: 0.4653 - val_loss: 1.0054 - val_accuracy: 0.6873\n",
      "Epoch 28/1000\n",
      "45/49 [==========================>...] - ETA: 0s - loss: 1.3529 - accuracy: 0.4837\n",
      "Epoch 28: saving model to model/keypoint_classifier\\keypoint_classifier.hdf5\n",
      "49/49 [==============================] - 0s 6ms/step - loss: 1.3545 - accuracy: 0.4823 - val_loss: 1.0001 - val_accuracy: 0.6756\n",
      "Epoch 29/1000\n",
      "46/49 [===========================>..] - ETA: 0s - loss: 1.3560 - accuracy: 0.4708\n",
      "Epoch 29: saving model to model/keypoint_classifier\\keypoint_classifier.hdf5\n",
      "49/49 [==============================] - 0s 6ms/step - loss: 1.3547 - accuracy: 0.4718 - val_loss: 0.9933 - val_accuracy: 0.6887\n",
      "Epoch 30/1000\n",
      "45/49 [==========================>...] - ETA: 0s - loss: 1.3288 - accuracy: 0.4906\n",
      "Epoch 30: saving model to model/keypoint_classifier\\keypoint_classifier.hdf5\n",
      "49/49 [==============================] - 0s 6ms/step - loss: 1.3306 - accuracy: 0.4862 - val_loss: 0.9866 - val_accuracy: 0.6868\n",
      "Epoch 31/1000\n",
      "45/49 [==========================>...] - ETA: 0s - loss: 1.3218 - accuracy: 0.4896\n",
      "Epoch 31: saving model to model/keypoint_classifier\\keypoint_classifier.hdf5\n",
      "49/49 [==============================] - 0s 6ms/step - loss: 1.3188 - accuracy: 0.4908 - val_loss: 0.9766 - val_accuracy: 0.6965\n",
      "Epoch 32/1000\n",
      "47/49 [===========================>..] - ETA: 0s - loss: 1.3232 - accuracy: 0.4892\n",
      "Epoch 32: saving model to model/keypoint_classifier\\keypoint_classifier.hdf5\n",
      "49/49 [==============================] - 0s 6ms/step - loss: 1.3221 - accuracy: 0.4901 - val_loss: 0.9626 - val_accuracy: 0.6926\n",
      "Epoch 33/1000\n",
      "42/49 [========================>.....] - ETA: 0s - loss: 1.3307 - accuracy: 0.4842\n",
      "Epoch 33: saving model to model/keypoint_classifier\\keypoint_classifier.hdf5\n",
      "49/49 [==============================] - 0s 6ms/step - loss: 1.3211 - accuracy: 0.4893 - val_loss: 0.9595 - val_accuracy: 0.6970\n",
      "Epoch 34/1000\n",
      "45/49 [==========================>...] - ETA: 0s - loss: 1.2982 - accuracy: 0.4946\n",
      "Epoch 34: saving model to model/keypoint_classifier\\keypoint_classifier.hdf5\n",
      "49/49 [==============================] - 0s 6ms/step - loss: 1.2974 - accuracy: 0.4953 - val_loss: 0.9431 - val_accuracy: 0.6950\n",
      "Epoch 35/1000\n",
      "48/49 [============================>.] - ETA: 0s - loss: 1.3006 - accuracy: 0.4922\n",
      "Epoch 35: saving model to model/keypoint_classifier\\keypoint_classifier.hdf5\n",
      "49/49 [==============================] - 0s 6ms/step - loss: 1.3021 - accuracy: 0.4917 - val_loss: 0.9406 - val_accuracy: 0.6936\n",
      "Epoch 36/1000\n",
      "47/49 [===========================>..] - ETA: 0s - loss: 1.2969 - accuracy: 0.4965\n",
      "Epoch 36: saving model to model/keypoint_classifier\\keypoint_classifier.hdf5\n",
      "49/49 [==============================] - 0s 6ms/step - loss: 1.2951 - accuracy: 0.4951 - val_loss: 0.9416 - val_accuracy: 0.6989\n",
      "Epoch 37/1000\n",
      "49/49 [==============================] - ETA: 0s - loss: 1.2846 - accuracy: 0.4990\n",
      "Epoch 37: saving model to model/keypoint_classifier\\keypoint_classifier.hdf5\n",
      "49/49 [==============================] - 0s 6ms/step - loss: 1.2846 - accuracy: 0.4990 - val_loss: 0.9272 - val_accuracy: 0.6960\n",
      "Epoch 38/1000\n",
      "46/49 [===========================>..] - ETA: 0s - loss: 1.2785 - accuracy: 0.5022\n",
      "Epoch 38: saving model to model/keypoint_classifier\\keypoint_classifier.hdf5\n",
      "49/49 [==============================] - 0s 6ms/step - loss: 1.2810 - accuracy: 0.5013 - val_loss: 0.9202 - val_accuracy: 0.6989\n",
      "Epoch 39/1000\n",
      "44/49 [=========================>....] - ETA: 0s - loss: 1.2854 - accuracy: 0.4934\n",
      "Epoch 39: saving model to model/keypoint_classifier\\keypoint_classifier.hdf5\n",
      "49/49 [==============================] - 0s 6ms/step - loss: 1.2858 - accuracy: 0.4935 - val_loss: 0.9066 - val_accuracy: 0.6999\n",
      "Epoch 40/1000\n",
      "37/49 [=====================>........] - ETA: 0s - loss: 1.2814 - accuracy: 0.4962\n",
      "Epoch 40: saving model to model/keypoint_classifier\\keypoint_classifier.hdf5\n",
      "49/49 [==============================] - 0s 7ms/step - loss: 1.2810 - accuracy: 0.4966 - val_loss: 0.9154 - val_accuracy: 0.7062\n",
      "Epoch 41/1000\n",
      "45/49 [==========================>...] - ETA: 0s - loss: 1.2689 - accuracy: 0.5000\n",
      "Epoch 41: saving model to model/keypoint_classifier\\keypoint_classifier.hdf5\n",
      "49/49 [==============================] - 0s 6ms/step - loss: 1.2700 - accuracy: 0.4994 - val_loss: 0.9009 - val_accuracy: 0.7038\n",
      "Epoch 42/1000\n",
      "46/49 [===========================>..] - ETA: 0s - loss: 1.2551 - accuracy: 0.5065\n",
      "Epoch 42: saving model to model/keypoint_classifier\\keypoint_classifier.hdf5\n",
      "49/49 [==============================] - 0s 6ms/step - loss: 1.2551 - accuracy: 0.5062 - val_loss: 0.8920 - val_accuracy: 0.6941\n",
      "Epoch 43/1000\n",
      "33/49 [===================>..........] - ETA: 0s - loss: 1.2615 - accuracy: 0.5052\n",
      "Epoch 43: saving model to model/keypoint_classifier\\keypoint_classifier.hdf5\n",
      "49/49 [==============================] - 0s 6ms/step - loss: 1.2552 - accuracy: 0.5089 - val_loss: 0.8826 - val_accuracy: 0.7057\n",
      "Epoch 44/1000\n",
      "48/49 [============================>.] - ETA: 0s - loss: 1.2529 - accuracy: 0.5036\n",
      "Epoch 44: saving model to model/keypoint_classifier\\keypoint_classifier.hdf5\n",
      "49/49 [==============================] - 0s 6ms/step - loss: 1.2532 - accuracy: 0.5034 - val_loss: 0.8738 - val_accuracy: 0.7062\n",
      "Epoch 45/1000\n",
      "46/49 [===========================>..] - ETA: 0s - loss: 1.2433 - accuracy: 0.5105\n",
      "Epoch 45: saving model to model/keypoint_classifier\\keypoint_classifier.hdf5\n",
      "49/49 [==============================] - 0s 7ms/step - loss: 1.2461 - accuracy: 0.5092 - val_loss: 0.8730 - val_accuracy: 0.7018\n",
      "Epoch 46/1000\n",
      "46/49 [===========================>..] - ETA: 0s - loss: 1.2442 - accuracy: 0.5049\n",
      "Epoch 46: saving model to model/keypoint_classifier\\keypoint_classifier.hdf5\n",
      "49/49 [==============================] - 0s 7ms/step - loss: 1.2432 - accuracy: 0.5057 - val_loss: 0.8733 - val_accuracy: 0.7130\n",
      "Epoch 47/1000\n",
      "45/49 [==========================>...] - ETA: 0s - loss: 1.2251 - accuracy: 0.5163\n",
      "Epoch 47: saving model to model/keypoint_classifier\\keypoint_classifier.hdf5\n",
      "49/49 [==============================] - 0s 6ms/step - loss: 1.2316 - accuracy: 0.5164 - val_loss: 0.8570 - val_accuracy: 0.7106\n",
      "Epoch 48/1000\n",
      "46/49 [===========================>..] - ETA: 0s - loss: 1.2443 - accuracy: 0.5160\n",
      "Epoch 48: saving model to model/keypoint_classifier\\keypoint_classifier.hdf5\n",
      "49/49 [==============================] - 0s 6ms/step - loss: 1.2439 - accuracy: 0.5170 - val_loss: 0.8696 - val_accuracy: 0.7194\n",
      "Epoch 49/1000\n",
      "45/49 [==========================>...] - ETA: 0s - loss: 1.2385 - accuracy: 0.5128\n",
      "Epoch 49: saving model to model/keypoint_classifier\\keypoint_classifier.hdf5\n",
      "49/49 [==============================] - 0s 6ms/step - loss: 1.2345 - accuracy: 0.5141 - val_loss: 0.8505 - val_accuracy: 0.7140\n",
      "Epoch 50/1000\n",
      "49/49 [==============================] - ETA: 0s - loss: 1.2144 - accuracy: 0.5217\n",
      "Epoch 50: saving model to model/keypoint_classifier\\keypoint_classifier.hdf5\n",
      "49/49 [==============================] - 0s 6ms/step - loss: 1.2144 - accuracy: 0.5217 - val_loss: 0.8515 - val_accuracy: 0.7155\n",
      "Epoch 51/1000\n",
      "33/49 [===================>..........] - ETA: 0s - loss: 1.2197 - accuracy: 0.5142\n",
      "Epoch 51: saving model to model/keypoint_classifier\\keypoint_classifier.hdf5\n",
      "49/49 [==============================] - 0s 6ms/step - loss: 1.2162 - accuracy: 0.5122 - val_loss: 0.8389 - val_accuracy: 0.7179\n",
      "Epoch 52/1000\n",
      "47/49 [===========================>..] - ETA: 0s - loss: 1.2132 - accuracy: 0.5241\n",
      "Epoch 52: saving model to model/keypoint_classifier\\keypoint_classifier.hdf5\n",
      "49/49 [==============================] - 0s 6ms/step - loss: 1.2127 - accuracy: 0.5245 - val_loss: 0.8409 - val_accuracy: 0.7174\n",
      "Epoch 53/1000\n",
      "46/49 [===========================>..] - ETA: 0s - loss: 1.2086 - accuracy: 0.5355\n",
      "Epoch 53: saving model to model/keypoint_classifier\\keypoint_classifier.hdf5\n",
      "49/49 [==============================] - 0s 6ms/step - loss: 1.2056 - accuracy: 0.5371 - val_loss: 0.8397 - val_accuracy: 0.7169\n",
      "Epoch 54/1000\n",
      "44/49 [=========================>....] - ETA: 0s - loss: 1.2049 - accuracy: 0.5266\n",
      "Epoch 54: saving model to model/keypoint_classifier\\keypoint_classifier.hdf5\n",
      "49/49 [==============================] - 0s 6ms/step - loss: 1.2026 - accuracy: 0.5258 - val_loss: 0.8372 - val_accuracy: 0.7237\n",
      "Epoch 55/1000\n",
      "45/49 [==========================>...] - ETA: 0s - loss: 1.1886 - accuracy: 0.5377\n",
      "Epoch 55: saving model to model/keypoint_classifier\\keypoint_classifier.hdf5\n",
      "49/49 [==============================] - 0s 7ms/step - loss: 1.1872 - accuracy: 0.5357 - val_loss: 0.8224 - val_accuracy: 0.7203\n",
      "Epoch 56/1000\n",
      "46/49 [===========================>..] - ETA: 0s - loss: 1.2004 - accuracy: 0.5245\n",
      "Epoch 56: saving model to model/keypoint_classifier\\keypoint_classifier.hdf5\n",
      "49/49 [==============================] - 0s 6ms/step - loss: 1.2039 - accuracy: 0.5250 - val_loss: 0.8416 - val_accuracy: 0.7359\n",
      "Epoch 57/1000\n",
      "49/49 [==============================] - ETA: 0s - loss: 1.1950 - accuracy: 0.5290\n",
      "Epoch 57: saving model to model/keypoint_classifier\\keypoint_classifier.hdf5\n",
      "49/49 [==============================] - 0s 6ms/step - loss: 1.1950 - accuracy: 0.5290 - val_loss: 0.8232 - val_accuracy: 0.7164\n",
      "Epoch 58/1000\n",
      "45/49 [==========================>...] - ETA: 0s - loss: 1.2015 - accuracy: 0.5224\n",
      "Epoch 58: saving model to model/keypoint_classifier\\keypoint_classifier.hdf5\n",
      "49/49 [==============================] - 0s 7ms/step - loss: 1.1976 - accuracy: 0.5258 - val_loss: 0.8253 - val_accuracy: 0.7388\n",
      "Epoch 59/1000\n",
      "46/49 [===========================>..] - ETA: 0s - loss: 1.1935 - accuracy: 0.5258\n",
      "Epoch 59: saving model to model/keypoint_classifier\\keypoint_classifier.hdf5\n",
      "49/49 [==============================] - 0s 6ms/step - loss: 1.1945 - accuracy: 0.5255 - val_loss: 0.8133 - val_accuracy: 0.7208\n",
      "Epoch 60/1000\n",
      "45/49 [==========================>...] - ETA: 0s - loss: 1.1772 - accuracy: 0.5302\n",
      "Epoch 60: saving model to model/keypoint_classifier\\keypoint_classifier.hdf5\n",
      "49/49 [==============================] - 0s 6ms/step - loss: 1.1789 - accuracy: 0.5315 - val_loss: 0.8176 - val_accuracy: 0.7461\n",
      "Epoch 61/1000\n",
      "46/49 [===========================>..] - ETA: 0s - loss: 1.1960 - accuracy: 0.5270\n",
      "Epoch 61: saving model to model/keypoint_classifier\\keypoint_classifier.hdf5\n",
      "49/49 [==============================] - 0s 7ms/step - loss: 1.1925 - accuracy: 0.5282 - val_loss: 0.8062 - val_accuracy: 0.7310\n",
      "Epoch 62/1000\n",
      "45/49 [==========================>...] - ETA: 0s - loss: 1.1995 - accuracy: 0.5264\n",
      "Epoch 62: saving model to model/keypoint_classifier\\keypoint_classifier.hdf5\n",
      "49/49 [==============================] - 0s 7ms/step - loss: 1.1967 - accuracy: 0.5285 - val_loss: 0.8079 - val_accuracy: 0.7320\n",
      "Epoch 63/1000\n",
      "47/49 [===========================>..] - ETA: 0s - loss: 1.1881 - accuracy: 0.5411\n",
      "Epoch 63: saving model to model/keypoint_classifier\\keypoint_classifier.hdf5\n",
      "49/49 [==============================] - 0s 6ms/step - loss: 1.1862 - accuracy: 0.5427 - val_loss: 0.8020 - val_accuracy: 0.7437\n",
      "Epoch 64/1000\n",
      "43/49 [=========================>....] - ETA: 0s - loss: 1.1503 - accuracy: 0.5472\n",
      "Epoch 64: saving model to model/keypoint_classifier\\keypoint_classifier.hdf5\n",
      "49/49 [==============================] - 0s 6ms/step - loss: 1.1526 - accuracy: 0.5451 - val_loss: 0.7842 - val_accuracy: 0.7446\n",
      "Epoch 65/1000\n",
      "46/49 [===========================>..] - ETA: 0s - loss: 1.1793 - accuracy: 0.5462\n",
      "Epoch 65: saving model to model/keypoint_classifier\\keypoint_classifier.hdf5\n",
      "49/49 [==============================] - 0s 6ms/step - loss: 1.1774 - accuracy: 0.5451 - val_loss: 0.7887 - val_accuracy: 0.7456\n",
      "Epoch 66/1000\n",
      "44/49 [=========================>....] - ETA: 0s - loss: 1.1498 - accuracy: 0.5494\n",
      "Epoch 66: saving model to model/keypoint_classifier\\keypoint_classifier.hdf5\n",
      "49/49 [==============================] - 0s 6ms/step - loss: 1.1520 - accuracy: 0.5490 - val_loss: 0.7840 - val_accuracy: 0.7364\n",
      "Epoch 67/1000\n",
      "45/49 [==========================>...] - ETA: 0s - loss: 1.1409 - accuracy: 0.5500\n",
      "Epoch 67: saving model to model/keypoint_classifier\\keypoint_classifier.hdf5\n",
      "49/49 [==============================] - 0s 6ms/step - loss: 1.1415 - accuracy: 0.5506 - val_loss: 0.7871 - val_accuracy: 0.7461\n",
      "Epoch 68/1000\n",
      "46/49 [===========================>..] - ETA: 0s - loss: 1.1539 - accuracy: 0.5414\n",
      "Epoch 68: saving model to model/keypoint_classifier\\keypoint_classifier.hdf5\n",
      "49/49 [==============================] - 0s 6ms/step - loss: 1.1564 - accuracy: 0.5397 - val_loss: 0.7928 - val_accuracy: 0.7602\n",
      "Epoch 69/1000\n",
      "45/49 [==========================>...] - ETA: 0s - loss: 1.1509 - accuracy: 0.5498\n",
      "Epoch 69: saving model to model/keypoint_classifier\\keypoint_classifier.hdf5\n",
      "49/49 [==============================] - 0s 7ms/step - loss: 1.1569 - accuracy: 0.5475 - val_loss: 0.7759 - val_accuracy: 0.7471\n",
      "Epoch 70/1000\n",
      "46/49 [===========================>..] - ETA: 0s - loss: 1.1477 - accuracy: 0.5372\n",
      "Epoch 70: saving model to model/keypoint_classifier\\keypoint_classifier.hdf5\n",
      "49/49 [==============================] - 0s 6ms/step - loss: 1.1462 - accuracy: 0.5389 - val_loss: 0.7810 - val_accuracy: 0.7685\n",
      "Epoch 71/1000\n",
      "47/49 [===========================>..] - ETA: 0s - loss: 1.1547 - accuracy: 0.5419\n",
      "Epoch 71: saving model to model/keypoint_classifier\\keypoint_classifier.hdf5\n",
      "49/49 [==============================] - 0s 6ms/step - loss: 1.1547 - accuracy: 0.5423 - val_loss: 0.7913 - val_accuracy: 0.7695\n",
      "Epoch 72/1000\n",
      "42/49 [========================>.....] - ETA: 0s - loss: 1.1532 - accuracy: 0.5392\n",
      "Epoch 72: saving model to model/keypoint_classifier\\keypoint_classifier.hdf5\n",
      "49/49 [==============================] - 0s 7ms/step - loss: 1.1535 - accuracy: 0.5389 - val_loss: 0.7818 - val_accuracy: 0.7510\n",
      "Epoch 73/1000\n",
      "45/49 [==========================>...] - ETA: 0s - loss: 1.1355 - accuracy: 0.5516\n",
      "Epoch 73: saving model to model/keypoint_classifier\\keypoint_classifier.hdf5\n",
      "49/49 [==============================] - 0s 6ms/step - loss: 1.1338 - accuracy: 0.5527 - val_loss: 0.7673 - val_accuracy: 0.7729\n",
      "Epoch 74/1000\n",
      "45/49 [==========================>...] - ETA: 0s - loss: 1.1535 - accuracy: 0.5491\n",
      "Epoch 74: saving model to model/keypoint_classifier\\keypoint_classifier.hdf5\n",
      "49/49 [==============================] - 0s 6ms/step - loss: 1.1559 - accuracy: 0.5480 - val_loss: 0.7787 - val_accuracy: 0.7768\n",
      "Epoch 75/1000\n",
      "46/49 [===========================>..] - ETA: 0s - loss: 1.1444 - accuracy: 0.5583\n",
      "Epoch 75: saving model to model/keypoint_classifier\\keypoint_classifier.hdf5\n",
      "49/49 [==============================] - 0s 6ms/step - loss: 1.1497 - accuracy: 0.5553 - val_loss: 0.7747 - val_accuracy: 0.7719\n",
      "Epoch 76/1000\n",
      "47/49 [===========================>..] - ETA: 0s - loss: 1.1422 - accuracy: 0.5517\n",
      "Epoch 76: saving model to model/keypoint_classifier\\keypoint_classifier.hdf5\n",
      "49/49 [==============================] - 0s 6ms/step - loss: 1.1407 - accuracy: 0.5524 - val_loss: 0.7589 - val_accuracy: 0.7685\n",
      "Epoch 77/1000\n",
      "45/49 [==========================>...] - ETA: 0s - loss: 1.1407 - accuracy: 0.5557\n",
      "Epoch 77: saving model to model/keypoint_classifier\\keypoint_classifier.hdf5\n",
      "49/49 [==============================] - 0s 6ms/step - loss: 1.1457 - accuracy: 0.5545 - val_loss: 0.7795 - val_accuracy: 0.7670\n",
      "Epoch 78/1000\n",
      "44/49 [=========================>....] - ETA: 0s - loss: 1.1516 - accuracy: 0.5490\n",
      "Epoch 78: saving model to model/keypoint_classifier\\keypoint_classifier.hdf5\n",
      "49/49 [==============================] - 0s 6ms/step - loss: 1.1545 - accuracy: 0.5478 - val_loss: 0.7749 - val_accuracy: 0.7685\n",
      "Epoch 79/1000\n",
      "37/49 [=====================>........] - ETA: 0s - loss: 1.1309 - accuracy: 0.5576\n",
      "Epoch 79: saving model to model/keypoint_classifier\\keypoint_classifier.hdf5\n",
      "49/49 [==============================] - 0s 7ms/step - loss: 1.1363 - accuracy: 0.5543 - val_loss: 0.7747 - val_accuracy: 0.7782\n",
      "Epoch 80/1000\n",
      "47/49 [===========================>..] - ETA: 0s - loss: 1.1124 - accuracy: 0.5603\n",
      "Epoch 80: saving model to model/keypoint_classifier\\keypoint_classifier.hdf5\n",
      "49/49 [==============================] - 0s 6ms/step - loss: 1.1114 - accuracy: 0.5602 - val_loss: 0.7508 - val_accuracy: 0.7772\n",
      "Epoch 81/1000\n",
      "47/49 [===========================>..] - ETA: 0s - loss: 1.1432 - accuracy: 0.5482\n",
      "Epoch 81: saving model to model/keypoint_classifier\\keypoint_classifier.hdf5\n",
      "49/49 [==============================] - 0s 6ms/step - loss: 1.1425 - accuracy: 0.5495 - val_loss: 0.7616 - val_accuracy: 0.7870\n",
      "Epoch 82/1000\n",
      "47/49 [===========================>..] - ETA: 0s - loss: 1.1231 - accuracy: 0.5597\n",
      "Epoch 82: saving model to model/keypoint_classifier\\keypoint_classifier.hdf5\n",
      "49/49 [==============================] - 0s 6ms/step - loss: 1.1223 - accuracy: 0.5602 - val_loss: 0.7590 - val_accuracy: 0.7753\n",
      "Epoch 83/1000\n",
      "48/49 [============================>.] - ETA: 0s - loss: 1.1253 - accuracy: 0.5575\n",
      "Epoch 83: saving model to model/keypoint_classifier\\keypoint_classifier.hdf5\n",
      "49/49 [==============================] - 0s 6ms/step - loss: 1.1256 - accuracy: 0.5577 - val_loss: 0.7510 - val_accuracy: 0.7855\n",
      "Epoch 84/1000\n",
      "45/49 [==========================>...] - ETA: 0s - loss: 1.1336 - accuracy: 0.5597\n",
      "Epoch 84: saving model to model/keypoint_classifier\\keypoint_classifier.hdf5\n",
      "49/49 [==============================] - 0s 6ms/step - loss: 1.1324 - accuracy: 0.5584 - val_loss: 0.7456 - val_accuracy: 0.7889\n",
      "Epoch 85/1000\n",
      "46/49 [===========================>..] - ETA: 0s - loss: 1.1286 - accuracy: 0.5516\n",
      "Epoch 85: saving model to model/keypoint_classifier\\keypoint_classifier.hdf5\n",
      "49/49 [==============================] - 0s 6ms/step - loss: 1.1269 - accuracy: 0.5521 - val_loss: 0.7507 - val_accuracy: 0.7860\n",
      "Epoch 86/1000\n",
      "44/49 [=========================>....] - ETA: 0s - loss: 1.1240 - accuracy: 0.5487\n",
      "Epoch 86: saving model to model/keypoint_classifier\\keypoint_classifier.hdf5\n",
      "49/49 [==============================] - 0s 6ms/step - loss: 1.1176 - accuracy: 0.5504 - val_loss: 0.7491 - val_accuracy: 0.7967\n",
      "Epoch 87/1000\n",
      "46/49 [===========================>..] - ETA: 0s - loss: 1.1252 - accuracy: 0.5521\n",
      "Epoch 87: saving model to model/keypoint_classifier\\keypoint_classifier.hdf5\n",
      "49/49 [==============================] - 0s 7ms/step - loss: 1.1225 - accuracy: 0.5548 - val_loss: 0.7567 - val_accuracy: 0.7928\n",
      "Epoch 88/1000\n",
      "41/49 [========================>.....] - ETA: 0s - loss: 1.1175 - accuracy: 0.5697\n",
      "Epoch 88: saving model to model/keypoint_classifier\\keypoint_classifier.hdf5\n",
      "49/49 [==============================] - 0s 7ms/step - loss: 1.1264 - accuracy: 0.5665 - val_loss: 0.7613 - val_accuracy: 0.7738\n",
      "Epoch 89/1000\n",
      "45/49 [==========================>...] - ETA: 0s - loss: 1.1068 - accuracy: 0.5613\n",
      "Epoch 89: saving model to model/keypoint_classifier\\keypoint_classifier.hdf5\n",
      "49/49 [==============================] - 0s 7ms/step - loss: 1.1111 - accuracy: 0.5611 - val_loss: 0.7468 - val_accuracy: 0.7802\n",
      "Epoch 90/1000\n",
      "44/49 [=========================>....] - ETA: 0s - loss: 1.1070 - accuracy: 0.5689\n",
      "Epoch 90: saving model to model/keypoint_classifier\\keypoint_classifier.hdf5\n",
      "49/49 [==============================] - 0s 6ms/step - loss: 1.1119 - accuracy: 0.5662 - val_loss: 0.7383 - val_accuracy: 0.7899\n",
      "Epoch 91/1000\n",
      "45/49 [==========================>...] - ETA: 0s - loss: 1.1147 - accuracy: 0.5531\n",
      "Epoch 91: saving model to model/keypoint_classifier\\keypoint_classifier.hdf5\n",
      "49/49 [==============================] - 0s 6ms/step - loss: 1.1082 - accuracy: 0.5566 - val_loss: 0.7394 - val_accuracy: 0.7904\n",
      "Epoch 92/1000\n",
      "35/49 [====================>.........] - ETA: 0s - loss: 1.1041 - accuracy: 0.5605\n",
      "Epoch 92: saving model to model/keypoint_classifier\\keypoint_classifier.hdf5\n",
      "49/49 [==============================] - 0s 6ms/step - loss: 1.1123 - accuracy: 0.5620 - val_loss: 0.7379 - val_accuracy: 0.7952\n",
      "Epoch 93/1000\n",
      "46/49 [===========================>..] - ETA: 0s - loss: 1.1028 - accuracy: 0.5622\n",
      "Epoch 93: saving model to model/keypoint_classifier\\keypoint_classifier.hdf5\n",
      "49/49 [==============================] - 0s 6ms/step - loss: 1.1063 - accuracy: 0.5607 - val_loss: 0.7376 - val_accuracy: 0.7889\n",
      "Epoch 94/1000\n",
      "45/49 [==========================>...] - ETA: 0s - loss: 1.0970 - accuracy: 0.5656\n",
      "Epoch 94: saving model to model/keypoint_classifier\\keypoint_classifier.hdf5\n",
      "49/49 [==============================] - 0s 7ms/step - loss: 1.1017 - accuracy: 0.5639 - val_loss: 0.7535 - val_accuracy: 0.7904\n",
      "Epoch 95/1000\n",
      "45/49 [==========================>...] - ETA: 0s - loss: 1.1109 - accuracy: 0.5615\n",
      "Epoch 95: saving model to model/keypoint_classifier\\keypoint_classifier.hdf5\n",
      "49/49 [==============================] - 0s 6ms/step - loss: 1.1055 - accuracy: 0.5637 - val_loss: 0.7340 - val_accuracy: 0.8001\n",
      "Epoch 96/1000\n",
      "47/49 [===========================>..] - ETA: 0s - loss: 1.1242 - accuracy: 0.5545\n",
      "Epoch 96: saving model to model/keypoint_classifier\\keypoint_classifier.hdf5\n",
      "49/49 [==============================] - 0s 6ms/step - loss: 1.1222 - accuracy: 0.5551 - val_loss: 0.7487 - val_accuracy: 0.7986\n",
      "Epoch 97/1000\n",
      "45/49 [==========================>...] - ETA: 0s - loss: 1.1059 - accuracy: 0.5710\n",
      "Epoch 97: saving model to model/keypoint_classifier\\keypoint_classifier.hdf5\n",
      "49/49 [==============================] - 0s 6ms/step - loss: 1.1000 - accuracy: 0.5710 - val_loss: 0.7330 - val_accuracy: 0.7947\n",
      "Epoch 98/1000\n",
      "45/49 [==========================>...] - ETA: 0s - loss: 1.0921 - accuracy: 0.5750\n",
      "Epoch 98: saving model to model/keypoint_classifier\\keypoint_classifier.hdf5\n",
      "49/49 [==============================] - 0s 6ms/step - loss: 1.0926 - accuracy: 0.5720 - val_loss: 0.7143 - val_accuracy: 0.7909\n",
      "Epoch 99/1000\n",
      "43/49 [=========================>....] - ETA: 0s - loss: 1.1100 - accuracy: 0.5683\n",
      "Epoch 99: saving model to model/keypoint_classifier\\keypoint_classifier.hdf5\n",
      "49/49 [==============================] - 0s 6ms/step - loss: 1.1083 - accuracy: 0.5684 - val_loss: 0.7376 - val_accuracy: 0.8020\n",
      "Epoch 100/1000\n",
      "41/49 [========================>.....] - ETA: 0s - loss: 1.1091 - accuracy: 0.5680\n",
      "Epoch 100: saving model to model/keypoint_classifier\\keypoint_classifier.hdf5\n",
      "49/49 [==============================] - 0s 7ms/step - loss: 1.0987 - accuracy: 0.5710 - val_loss: 0.7438 - val_accuracy: 0.8054\n",
      "Epoch 101/1000\n",
      "43/49 [=========================>....] - ETA: 0s - loss: 1.1185 - accuracy: 0.5589\n",
      "Epoch 101: saving model to model/keypoint_classifier\\keypoint_classifier.hdf5\n",
      "49/49 [==============================] - 0s 7ms/step - loss: 1.1158 - accuracy: 0.5616 - val_loss: 0.7304 - val_accuracy: 0.7982\n",
      "Epoch 102/1000\n",
      "45/49 [==========================>...] - ETA: 0s - loss: 1.0946 - accuracy: 0.5752\n",
      "Epoch 102: saving model to model/keypoint_classifier\\keypoint_classifier.hdf5\n",
      "49/49 [==============================] - 0s 6ms/step - loss: 1.0954 - accuracy: 0.5749 - val_loss: 0.7104 - val_accuracy: 0.7870\n",
      "Epoch 103/1000\n",
      "38/49 [======================>.......] - ETA: 0s - loss: 1.1131 - accuracy: 0.5637\n",
      "Epoch 103: saving model to model/keypoint_classifier\\keypoint_classifier.hdf5\n",
      "49/49 [==============================] - 0s 7ms/step - loss: 1.1097 - accuracy: 0.5658 - val_loss: 0.7283 - val_accuracy: 0.8103\n",
      "Epoch 104/1000\n",
      "44/49 [=========================>....] - ETA: 0s - loss: 1.0900 - accuracy: 0.5721\n",
      "Epoch 104: saving model to model/keypoint_classifier\\keypoint_classifier.hdf5\n",
      "49/49 [==============================] - 0s 6ms/step - loss: 1.0875 - accuracy: 0.5730 - val_loss: 0.7216 - val_accuracy: 0.8123\n",
      "Epoch 105/1000\n",
      "46/49 [===========================>..] - ETA: 0s - loss: 1.1003 - accuracy: 0.5773\n",
      "Epoch 105: saving model to model/keypoint_classifier\\keypoint_classifier.hdf5\n",
      "49/49 [==============================] - 0s 6ms/step - loss: 1.0980 - accuracy: 0.5787 - val_loss: 0.7389 - val_accuracy: 0.8064\n",
      "Epoch 106/1000\n",
      "45/49 [==========================>...] - ETA: 0s - loss: 1.0808 - accuracy: 0.5736\n",
      "Epoch 106: saving model to model/keypoint_classifier\\keypoint_classifier.hdf5\n",
      "49/49 [==============================] - 0s 6ms/step - loss: 1.0801 - accuracy: 0.5751 - val_loss: 0.7266 - val_accuracy: 0.8030\n",
      "Epoch 107/1000\n",
      "42/49 [========================>.....] - ETA: 0s - loss: 1.1054 - accuracy: 0.5712\n",
      "Epoch 107: saving model to model/keypoint_classifier\\keypoint_classifier.hdf5\n",
      "49/49 [==============================] - 0s 6ms/step - loss: 1.1029 - accuracy: 0.5699 - val_loss: 0.7199 - val_accuracy: 0.7923\n",
      "Epoch 108/1000\n",
      "45/49 [==========================>...] - ETA: 0s - loss: 1.0892 - accuracy: 0.5797\n",
      "Epoch 108: saving model to model/keypoint_classifier\\keypoint_classifier.hdf5\n",
      "49/49 [==============================] - 0s 6ms/step - loss: 1.0868 - accuracy: 0.5790 - val_loss: 0.7199 - val_accuracy: 0.8118\n",
      "Epoch 109/1000\n",
      "44/49 [=========================>....] - ETA: 0s - loss: 1.0705 - accuracy: 0.5740\n",
      "Epoch 109: saving model to model/keypoint_classifier\\keypoint_classifier.hdf5\n",
      "49/49 [==============================] - 0s 7ms/step - loss: 1.0760 - accuracy: 0.5723 - val_loss: 0.7077 - val_accuracy: 0.8103\n",
      "Epoch 110/1000\n",
      "42/49 [========================>.....] - ETA: 0s - loss: 1.0691 - accuracy: 0.5876\n",
      "Epoch 110: saving model to model/keypoint_classifier\\keypoint_classifier.hdf5\n",
      "49/49 [==============================] - 0s 7ms/step - loss: 1.0736 - accuracy: 0.5858 - val_loss: 0.7110 - val_accuracy: 0.8166\n",
      "Epoch 111/1000\n",
      "41/49 [========================>.....] - ETA: 0s - loss: 1.0641 - accuracy: 0.5762\n",
      "Epoch 111: saving model to model/keypoint_classifier\\keypoint_classifier.hdf5\n",
      "49/49 [==============================] - 0s 6ms/step - loss: 1.0660 - accuracy: 0.5761 - val_loss: 0.7061 - val_accuracy: 0.8103\n",
      "Epoch 112/1000\n",
      "46/49 [===========================>..] - ETA: 0s - loss: 1.0868 - accuracy: 0.5795\n",
      "Epoch 112: saving model to model/keypoint_classifier\\keypoint_classifier.hdf5\n",
      "49/49 [==============================] - 0s 6ms/step - loss: 1.0883 - accuracy: 0.5791 - val_loss: 0.7014 - val_accuracy: 0.8016\n",
      "Epoch 113/1000\n",
      "41/49 [========================>.....] - ETA: 0s - loss: 1.0577 - accuracy: 0.5903\n",
      "Epoch 113: saving model to model/keypoint_classifier\\keypoint_classifier.hdf5\n",
      "49/49 [==============================] - 0s 7ms/step - loss: 1.0594 - accuracy: 0.5902 - val_loss: 0.7004 - val_accuracy: 0.8050\n",
      "Epoch 114/1000\n",
      "46/49 [===========================>..] - ETA: 0s - loss: 1.0846 - accuracy: 0.5764\n",
      "Epoch 114: saving model to model/keypoint_classifier\\keypoint_classifier.hdf5\n",
      "49/49 [==============================] - 0s 6ms/step - loss: 1.0822 - accuracy: 0.5765 - val_loss: 0.7195 - val_accuracy: 0.8035\n",
      "Epoch 115/1000\n",
      "43/49 [=========================>....] - ETA: 0s - loss: 1.0769 - accuracy: 0.5778\n",
      "Epoch 115: saving model to model/keypoint_classifier\\keypoint_classifier.hdf5\n",
      "49/49 [==============================] - 0s 6ms/step - loss: 1.0755 - accuracy: 0.5787 - val_loss: 0.7070 - val_accuracy: 0.8089\n",
      "Epoch 116/1000\n",
      "42/49 [========================>.....] - ETA: 0s - loss: 1.0899 - accuracy: 0.5791\n",
      "Epoch 116: saving model to model/keypoint_classifier\\keypoint_classifier.hdf5\n",
      "49/49 [==============================] - 0s 7ms/step - loss: 1.0832 - accuracy: 0.5796 - val_loss: 0.7211 - val_accuracy: 0.8147\n",
      "Epoch 117/1000\n",
      "44/49 [=========================>....] - ETA: 0s - loss: 1.0811 - accuracy: 0.5772\n",
      "Epoch 117: saving model to model/keypoint_classifier\\keypoint_classifier.hdf5\n",
      "49/49 [==============================] - 0s 7ms/step - loss: 1.0766 - accuracy: 0.5811 - val_loss: 0.7001 - val_accuracy: 0.8157\n",
      "Epoch 118/1000\n",
      "44/49 [=========================>....] - ETA: 0s - loss: 1.0747 - accuracy: 0.5898\n",
      "Epoch 118: saving model to model/keypoint_classifier\\keypoint_classifier.hdf5\n",
      "49/49 [==============================] - 0s 7ms/step - loss: 1.0753 - accuracy: 0.5907 - val_loss: 0.7158 - val_accuracy: 0.8030\n",
      "Epoch 119/1000\n",
      "46/49 [===========================>..] - ETA: 0s - loss: 1.0500 - accuracy: 0.5919\n",
      "Epoch 119: saving model to model/keypoint_classifier\\keypoint_classifier.hdf5\n",
      "49/49 [==============================] - 0s 6ms/step - loss: 1.0492 - accuracy: 0.5931 - val_loss: 0.7038 - val_accuracy: 0.8030\n",
      "Epoch 120/1000\n",
      "40/49 [=======================>......] - ETA: 0s - loss: 1.0802 - accuracy: 0.5783\n",
      "Epoch 120: saving model to model/keypoint_classifier\\keypoint_classifier.hdf5\n",
      "49/49 [==============================] - 0s 7ms/step - loss: 1.0769 - accuracy: 0.5801 - val_loss: 0.6953 - val_accuracy: 0.7928\n",
      "Epoch 121/1000\n",
      "44/49 [=========================>....] - ETA: 0s - loss: 1.0792 - accuracy: 0.5820\n",
      "Epoch 121: saving model to model/keypoint_classifier\\keypoint_classifier.hdf5\n",
      "49/49 [==============================] - 0s 6ms/step - loss: 1.0776 - accuracy: 0.5813 - val_loss: 0.7057 - val_accuracy: 0.8035\n",
      "Epoch 122/1000\n",
      "44/49 [=========================>....] - ETA: 0s - loss: 1.0509 - accuracy: 0.5969\n",
      "Epoch 122: saving model to model/keypoint_classifier\\keypoint_classifier.hdf5\n",
      "49/49 [==============================] - 0s 6ms/step - loss: 1.0470 - accuracy: 0.5981 - val_loss: 0.6967 - val_accuracy: 0.8020\n",
      "Epoch 123/1000\n",
      "45/49 [==========================>...] - ETA: 0s - loss: 1.0574 - accuracy: 0.5894\n",
      "Epoch 123: saving model to model/keypoint_classifier\\keypoint_classifier.hdf5\n",
      "49/49 [==============================] - 0s 6ms/step - loss: 1.0579 - accuracy: 0.5900 - val_loss: 0.6970 - val_accuracy: 0.8123\n",
      "Epoch 124/1000\n",
      "44/49 [=========================>....] - ETA: 0s - loss: 1.0984 - accuracy: 0.5767\n",
      "Epoch 124: saving model to model/keypoint_classifier\\keypoint_classifier.hdf5\n",
      "49/49 [==============================] - 0s 6ms/step - loss: 1.0979 - accuracy: 0.5770 - val_loss: 0.7064 - val_accuracy: 0.7865\n",
      "Epoch 125/1000\n",
      "45/49 [==========================>...] - ETA: 0s - loss: 1.0604 - accuracy: 0.5938\n",
      "Epoch 125: saving model to model/keypoint_classifier\\keypoint_classifier.hdf5\n",
      "49/49 [==============================] - 0s 6ms/step - loss: 1.0559 - accuracy: 0.5937 - val_loss: 0.6971 - val_accuracy: 0.8171\n",
      "Epoch 126/1000\n",
      "47/49 [===========================>..] - ETA: 0s - loss: 1.0608 - accuracy: 0.5886\n",
      "Epoch 126: saving model to model/keypoint_classifier\\keypoint_classifier.hdf5\n",
      "49/49 [==============================] - 0s 6ms/step - loss: 1.0601 - accuracy: 0.5886 - val_loss: 0.7059 - val_accuracy: 0.8006\n",
      "Epoch 127/1000\n",
      "45/49 [==========================>...] - ETA: 0s - loss: 1.0580 - accuracy: 0.5877\n",
      "Epoch 127: saving model to model/keypoint_classifier\\keypoint_classifier.hdf5\n",
      "49/49 [==============================] - 0s 6ms/step - loss: 1.0570 - accuracy: 0.5871 - val_loss: 0.7034 - val_accuracy: 0.7923\n",
      "Epoch 128/1000\n",
      "40/49 [=======================>......] - ETA: 0s - loss: 1.0674 - accuracy: 0.5795\n",
      "Epoch 128: saving model to model/keypoint_classifier\\keypoint_classifier.hdf5\n",
      "49/49 [==============================] - 0s 7ms/step - loss: 1.0643 - accuracy: 0.5830 - val_loss: 0.7024 - val_accuracy: 0.7899\n",
      "Epoch 129/1000\n",
      "44/49 [=========================>....] - ETA: 0s - loss: 1.0704 - accuracy: 0.5854\n",
      "Epoch 129: saving model to model/keypoint_classifier\\keypoint_classifier.hdf5\n",
      "49/49 [==============================] - 0s 6ms/step - loss: 1.0696 - accuracy: 0.5873 - val_loss: 0.6962 - val_accuracy: 0.7806\n",
      "Epoch 130/1000\n",
      "46/49 [===========================>..] - ETA: 0s - loss: 1.0634 - accuracy: 0.5944\n",
      "Epoch 130: saving model to model/keypoint_classifier\\keypoint_classifier.hdf5\n",
      "49/49 [==============================] - 0s 6ms/step - loss: 1.0604 - accuracy: 0.5967 - val_loss: 0.6778 - val_accuracy: 0.7991\n",
      "Epoch 131/1000\n",
      "46/49 [===========================>..] - ETA: 0s - loss: 1.0615 - accuracy: 0.5910\n",
      "Epoch 131: saving model to model/keypoint_classifier\\keypoint_classifier.hdf5\n",
      "49/49 [==============================] - 0s 6ms/step - loss: 1.0626 - accuracy: 0.5907 - val_loss: 0.6910 - val_accuracy: 0.7763\n",
      "Epoch 132/1000\n",
      "47/49 [===========================>..] - ETA: 0s - loss: 1.0474 - accuracy: 0.6029\n",
      "Epoch 132: saving model to model/keypoint_classifier\\keypoint_classifier.hdf5\n",
      "49/49 [==============================] - 0s 6ms/step - loss: 1.0482 - accuracy: 0.6020 - val_loss: 0.6904 - val_accuracy: 0.8030\n",
      "Epoch 133/1000\n",
      "43/49 [=========================>....] - ETA: 0s - loss: 1.0696 - accuracy: 0.5861\n",
      "Epoch 133: saving model to model/keypoint_classifier\\keypoint_classifier.hdf5\n",
      "49/49 [==============================] - 0s 6ms/step - loss: 1.0622 - accuracy: 0.5894 - val_loss: 0.6954 - val_accuracy: 0.7768\n",
      "Epoch 134/1000\n",
      "46/49 [===========================>..] - ETA: 0s - loss: 1.0558 - accuracy: 0.5907\n",
      "Epoch 134: saving model to model/keypoint_classifier\\keypoint_classifier.hdf5\n",
      "49/49 [==============================] - 0s 6ms/step - loss: 1.0540 - accuracy: 0.5903 - val_loss: 0.7044 - val_accuracy: 0.7753\n",
      "Epoch 135/1000\n",
      "44/49 [=========================>....] - ETA: 0s - loss: 1.0289 - accuracy: 0.5973\n",
      "Epoch 135: saving model to model/keypoint_classifier\\keypoint_classifier.hdf5\n",
      "49/49 [==============================] - 0s 6ms/step - loss: 1.0375 - accuracy: 0.5946 - val_loss: 0.6715 - val_accuracy: 0.7831\n",
      "Epoch 136/1000\n",
      "46/49 [===========================>..] - ETA: 0s - loss: 1.0660 - accuracy: 0.5836\n",
      "Epoch 136: saving model to model/keypoint_classifier\\keypoint_classifier.hdf5\n",
      "49/49 [==============================] - 0s 6ms/step - loss: 1.0663 - accuracy: 0.5843 - val_loss: 0.6974 - val_accuracy: 0.7753\n",
      "Epoch 137/1000\n",
      "46/49 [===========================>..] - ETA: 0s - loss: 1.0646 - accuracy: 0.5871\n",
      "Epoch 137: saving model to model/keypoint_classifier\\keypoint_classifier.hdf5\n",
      "49/49 [==============================] - 0s 7ms/step - loss: 1.0661 - accuracy: 0.5866 - val_loss: 0.7042 - val_accuracy: 0.7763\n",
      "Epoch 138/1000\n",
      "46/49 [===========================>..] - ETA: 0s - loss: 1.0489 - accuracy: 0.5898\n",
      "Epoch 138: saving model to model/keypoint_classifier\\keypoint_classifier.hdf5\n",
      "49/49 [==============================] - 0s 6ms/step - loss: 1.0485 - accuracy: 0.5898 - val_loss: 0.6795 - val_accuracy: 0.7777\n",
      "Epoch 139/1000\n",
      "48/49 [============================>.] - ETA: 0s - loss: 1.0597 - accuracy: 0.5918\n",
      "Epoch 139: saving model to model/keypoint_classifier\\keypoint_classifier.hdf5\n",
      "49/49 [==============================] - 0s 6ms/step - loss: 1.0586 - accuracy: 0.5926 - val_loss: 0.6974 - val_accuracy: 0.7806\n",
      "Epoch 140/1000\n",
      "47/49 [===========================>..] - ETA: 0s - loss: 1.0444 - accuracy: 0.5843\n",
      "Epoch 140: saving model to model/keypoint_classifier\\keypoint_classifier.hdf5\n",
      "49/49 [==============================] - 0s 6ms/step - loss: 1.0433 - accuracy: 0.5858 - val_loss: 0.6801 - val_accuracy: 0.7826\n",
      "Epoch 141/1000\n",
      "45/49 [==========================>...] - ETA: 0s - loss: 1.0545 - accuracy: 0.5898\n",
      "Epoch 141: saving model to model/keypoint_classifier\\keypoint_classifier.hdf5\n",
      "49/49 [==============================] - 0s 6ms/step - loss: 1.0510 - accuracy: 0.5923 - val_loss: 0.7010 - val_accuracy: 0.7743\n",
      "Epoch 142/1000\n",
      "45/49 [==========================>...] - ETA: 0s - loss: 1.0384 - accuracy: 0.6017\n",
      "Epoch 142: saving model to model/keypoint_classifier\\keypoint_classifier.hdf5\n",
      "49/49 [==============================] - 0s 7ms/step - loss: 1.0383 - accuracy: 0.6022 - val_loss: 0.6742 - val_accuracy: 0.7768\n",
      "Epoch 143/1000\n",
      "47/49 [===========================>..] - ETA: 0s - loss: 1.0474 - accuracy: 0.5903\n",
      "Epoch 143: saving model to model/keypoint_classifier\\keypoint_classifier.hdf5\n",
      "49/49 [==============================] - 0s 6ms/step - loss: 1.0463 - accuracy: 0.5905 - val_loss: 0.6864 - val_accuracy: 0.7802\n",
      "Epoch 144/1000\n",
      "48/49 [============================>.] - ETA: 0s - loss: 1.0191 - accuracy: 0.6094\n",
      "Epoch 144: saving model to model/keypoint_classifier\\keypoint_classifier.hdf5\n",
      "49/49 [==============================] - 0s 6ms/step - loss: 1.0191 - accuracy: 0.6098 - val_loss: 0.6870 - val_accuracy: 0.7777\n",
      "Epoch 145/1000\n",
      "46/49 [===========================>..] - ETA: 0s - loss: 1.0329 - accuracy: 0.5966\n",
      "Epoch 145: saving model to model/keypoint_classifier\\keypoint_classifier.hdf5\n",
      "49/49 [==============================] - 0s 6ms/step - loss: 1.0318 - accuracy: 0.5967 - val_loss: 0.6783 - val_accuracy: 0.7738\n",
      "Epoch 146/1000\n",
      "37/49 [=====================>........] - ETA: 0s - loss: 1.0346 - accuracy: 0.6087\n",
      "Epoch 146: saving model to model/keypoint_classifier\\keypoint_classifier.hdf5\n",
      "49/49 [==============================] - 0s 7ms/step - loss: 1.0361 - accuracy: 0.6064 - val_loss: 0.6808 - val_accuracy: 0.7768\n",
      "Epoch 147/1000\n",
      "45/49 [==========================>...] - ETA: 0s - loss: 1.0230 - accuracy: 0.6049\n",
      "Epoch 147: saving model to model/keypoint_classifier\\keypoint_classifier.hdf5\n",
      "49/49 [==============================] - 0s 7ms/step - loss: 1.0195 - accuracy: 0.6053 - val_loss: 0.6726 - val_accuracy: 0.7738\n",
      "Epoch 148/1000\n",
      "44/49 [=========================>....] - ETA: 0s - loss: 1.0391 - accuracy: 0.5930\n",
      "Epoch 148: saving model to model/keypoint_classifier\\keypoint_classifier.hdf5\n",
      "49/49 [==============================] - 0s 6ms/step - loss: 1.0375 - accuracy: 0.5928 - val_loss: 0.6722 - val_accuracy: 0.7738\n",
      "Epoch 149/1000\n",
      "44/49 [=========================>....] - ETA: 0s - loss: 1.0232 - accuracy: 0.6048\n",
      "Epoch 149: saving model to model/keypoint_classifier\\keypoint_classifier.hdf5\n",
      "49/49 [==============================] - 0s 7ms/step - loss: 1.0241 - accuracy: 0.6041 - val_loss: 0.6721 - val_accuracy: 0.7816\n",
      "Epoch 150/1000\n",
      "46/49 [===========================>..] - ETA: 0s - loss: 1.0282 - accuracy: 0.5994\n",
      "Epoch 150: saving model to model/keypoint_classifier\\keypoint_classifier.hdf5\n",
      "49/49 [==============================] - 0s 6ms/step - loss: 1.0335 - accuracy: 0.5975 - val_loss: 0.6794 - val_accuracy: 0.7748\n",
      "Epoch 151/1000\n",
      "48/49 [============================>.] - ETA: 0s - loss: 1.0316 - accuracy: 0.6037\n",
      "Epoch 151: saving model to model/keypoint_classifier\\keypoint_classifier.hdf5\n",
      "49/49 [==============================] - 0s 6ms/step - loss: 1.0311 - accuracy: 0.6040 - val_loss: 0.6569 - val_accuracy: 0.7816\n",
      "Epoch 152/1000\n",
      "45/49 [==========================>...] - ETA: 0s - loss: 1.0260 - accuracy: 0.6054\n",
      "Epoch 152: saving model to model/keypoint_classifier\\keypoint_classifier.hdf5\n",
      "49/49 [==============================] - 0s 6ms/step - loss: 1.0278 - accuracy: 0.6046 - val_loss: 0.6830 - val_accuracy: 0.7758\n",
      "Epoch 153/1000\n",
      "45/49 [==========================>...] - ETA: 0s - loss: 1.0260 - accuracy: 0.6076\n",
      "Epoch 153: saving model to model/keypoint_classifier\\keypoint_classifier.hdf5\n",
      "49/49 [==============================] - 0s 6ms/step - loss: 1.0255 - accuracy: 0.6080 - val_loss: 0.6724 - val_accuracy: 0.7899\n",
      "Epoch 154/1000\n",
      "48/49 [============================>.] - ETA: 0s - loss: 1.0286 - accuracy: 0.6030\n",
      "Epoch 154: saving model to model/keypoint_classifier\\keypoint_classifier.hdf5\n",
      "49/49 [==============================] - 0s 6ms/step - loss: 1.0277 - accuracy: 0.6036 - val_loss: 0.6613 - val_accuracy: 0.7894\n",
      "Epoch 155/1000\n",
      "47/49 [===========================>..] - ETA: 0s - loss: 1.0166 - accuracy: 0.6134\n",
      "Epoch 155: saving model to model/keypoint_classifier\\keypoint_classifier.hdf5\n",
      "49/49 [==============================] - 0s 6ms/step - loss: 1.0154 - accuracy: 0.6139 - val_loss: 0.6651 - val_accuracy: 0.7802\n",
      "Epoch 156/1000\n",
      "39/49 [======================>.......] - ETA: 0s - loss: 1.0419 - accuracy: 0.6030\n",
      "Epoch 156: saving model to model/keypoint_classifier\\keypoint_classifier.hdf5\n",
      "49/49 [==============================] - 0s 7ms/step - loss: 1.0357 - accuracy: 0.6056 - val_loss: 0.6748 - val_accuracy: 0.7787\n",
      "Epoch 157/1000\n",
      "44/49 [=========================>....] - ETA: 0s - loss: 1.0009 - accuracy: 0.6246\n",
      "Epoch 157: saving model to model/keypoint_classifier\\keypoint_classifier.hdf5\n",
      "49/49 [==============================] - 0s 6ms/step - loss: 0.9961 - accuracy: 0.6249 - val_loss: 0.6566 - val_accuracy: 0.7836\n",
      "Epoch 158/1000\n",
      "43/49 [=========================>....] - ETA: 0s - loss: 1.0267 - accuracy: 0.6007\n",
      "Epoch 158: saving model to model/keypoint_classifier\\keypoint_classifier.hdf5\n",
      "49/49 [==============================] - 0s 6ms/step - loss: 1.0204 - accuracy: 0.6020 - val_loss: 0.6739 - val_accuracy: 0.7816\n",
      "Epoch 159/1000\n",
      "49/49 [==============================] - ETA: 0s - loss: 1.0270 - accuracy: 0.6043\n",
      "Epoch 159: saving model to model/keypoint_classifier\\keypoint_classifier.hdf5\n",
      "49/49 [==============================] - 0s 6ms/step - loss: 1.0270 - accuracy: 0.6043 - val_loss: 0.6692 - val_accuracy: 0.7797\n",
      "Epoch 160/1000\n",
      "48/49 [============================>.] - ETA: 0s - loss: 1.0108 - accuracy: 0.6071\n",
      "Epoch 160: saving model to model/keypoint_classifier\\keypoint_classifier.hdf5\n",
      "49/49 [==============================] - 0s 7ms/step - loss: 1.0109 - accuracy: 0.6070 - val_loss: 0.6813 - val_accuracy: 0.7797\n",
      "Epoch 161/1000\n",
      "46/49 [===========================>..] - ETA: 0s - loss: 1.0137 - accuracy: 0.6092\n",
      "Epoch 161: saving model to model/keypoint_classifier\\keypoint_classifier.hdf5\n",
      "49/49 [==============================] - 0s 7ms/step - loss: 1.0128 - accuracy: 0.6090 - val_loss: 0.6571 - val_accuracy: 0.7845\n",
      "Epoch 162/1000\n",
      "45/49 [==========================>...] - ETA: 0s - loss: 1.0169 - accuracy: 0.6056\n",
      "Epoch 162: saving model to model/keypoint_classifier\\keypoint_classifier.hdf5\n",
      "49/49 [==============================] - 0s 6ms/step - loss: 1.0189 - accuracy: 0.6069 - val_loss: 0.6573 - val_accuracy: 0.7836\n",
      "Epoch 163/1000\n",
      "46/49 [===========================>..] - ETA: 0s - loss: 1.0137 - accuracy: 0.6202\n",
      "Epoch 163: saving model to model/keypoint_classifier\\keypoint_classifier.hdf5\n",
      "49/49 [==============================] - 0s 6ms/step - loss: 1.0090 - accuracy: 0.6218 - val_loss: 0.6697 - val_accuracy: 0.7875\n",
      "Epoch 164/1000\n",
      "46/49 [===========================>..] - ETA: 0s - loss: 1.0084 - accuracy: 0.6145\n",
      "Epoch 164: saving model to model/keypoint_classifier\\keypoint_classifier.hdf5\n",
      "49/49 [==============================] - 0s 6ms/step - loss: 1.0156 - accuracy: 0.6126 - val_loss: 0.6682 - val_accuracy: 0.7845\n",
      "Epoch 165/1000\n",
      "49/49 [==============================] - ETA: 0s - loss: 1.0031 - accuracy: 0.6171\n",
      "Epoch 165: saving model to model/keypoint_classifier\\keypoint_classifier.hdf5\n",
      "49/49 [==============================] - 0s 6ms/step - loss: 1.0031 - accuracy: 0.6171 - val_loss: 0.6647 - val_accuracy: 0.7816\n",
      "Epoch 166/1000\n",
      "47/49 [===========================>..] - ETA: 0s - loss: 1.0101 - accuracy: 0.6021\n",
      "Epoch 166: saving model to model/keypoint_classifier\\keypoint_classifier.hdf5\n",
      "49/49 [==============================] - 0s 6ms/step - loss: 1.0088 - accuracy: 0.6040 - val_loss: 0.6706 - val_accuracy: 0.7802\n",
      "Epoch 167/1000\n",
      "46/49 [===========================>..] - ETA: 0s - loss: 0.9976 - accuracy: 0.6085\n",
      "Epoch 167: saving model to model/keypoint_classifier\\keypoint_classifier.hdf5\n",
      "49/49 [==============================] - 0s 6ms/step - loss: 1.0014 - accuracy: 0.6057 - val_loss: 0.6529 - val_accuracy: 0.7821\n",
      "Epoch 168/1000\n",
      "46/49 [===========================>..] - ETA: 0s - loss: 1.0111 - accuracy: 0.6133\n",
      "Epoch 168: saving model to model/keypoint_classifier\\keypoint_classifier.hdf5\n",
      "49/49 [==============================] - 0s 6ms/step - loss: 1.0074 - accuracy: 0.6150 - val_loss: 0.6693 - val_accuracy: 0.7840\n",
      "Epoch 169/1000\n",
      "47/49 [===========================>..] - ETA: 0s - loss: 1.0103 - accuracy: 0.6061\n",
      "Epoch 169: saving model to model/keypoint_classifier\\keypoint_classifier.hdf5\n",
      "49/49 [==============================] - 0s 6ms/step - loss: 1.0069 - accuracy: 0.6064 - val_loss: 0.6647 - val_accuracy: 0.7855\n",
      "Epoch 170/1000\n",
      "46/49 [===========================>..] - ETA: 0s - loss: 1.0020 - accuracy: 0.6197\n",
      "Epoch 170: saving model to model/keypoint_classifier\\keypoint_classifier.hdf5\n",
      "49/49 [==============================] - 0s 6ms/step - loss: 1.0010 - accuracy: 0.6200 - val_loss: 0.6520 - val_accuracy: 0.7928\n",
      "Epoch 171/1000\n",
      "48/49 [============================>.] - ETA: 0s - loss: 1.0227 - accuracy: 0.6042\n",
      "Epoch 171: saving model to model/keypoint_classifier\\keypoint_classifier.hdf5\n",
      "49/49 [==============================] - 0s 6ms/step - loss: 1.0221 - accuracy: 0.6048 - val_loss: 0.6597 - val_accuracy: 0.7855\n",
      "Epoch 172/1000\n",
      "47/49 [===========================>..] - ETA: 0s - loss: 0.9964 - accuracy: 0.6200\n",
      "Epoch 172: saving model to model/keypoint_classifier\\keypoint_classifier.hdf5\n",
      "49/49 [==============================] - 0s 6ms/step - loss: 0.9949 - accuracy: 0.6207 - val_loss: 0.6766 - val_accuracy: 0.7840\n",
      "Epoch 173/1000\n",
      "46/49 [===========================>..] - ETA: 0s - loss: 1.0031 - accuracy: 0.6208\n",
      "Epoch 173: saving model to model/keypoint_classifier\\keypoint_classifier.hdf5\n",
      "49/49 [==============================] - 0s 7ms/step - loss: 1.0006 - accuracy: 0.6203 - val_loss: 0.6495 - val_accuracy: 0.7899\n",
      "Epoch 174/1000\n",
      "46/49 [===========================>..] - ETA: 0s - loss: 1.0052 - accuracy: 0.6158\n",
      "Epoch 174: saving model to model/keypoint_classifier\\keypoint_classifier.hdf5\n",
      "49/49 [==============================] - 0s 6ms/step - loss: 1.0036 - accuracy: 0.6169 - val_loss: 0.6604 - val_accuracy: 0.7904\n",
      "Epoch 175/1000\n",
      "47/49 [===========================>..] - ETA: 0s - loss: 1.0047 - accuracy: 0.6137\n",
      "Epoch 175: saving model to model/keypoint_classifier\\keypoint_classifier.hdf5\n",
      "49/49 [==============================] - 0s 6ms/step - loss: 1.0045 - accuracy: 0.6140 - val_loss: 0.6675 - val_accuracy: 0.7836\n",
      "Epoch 176/1000\n",
      "46/49 [===========================>..] - ETA: 0s - loss: 0.9983 - accuracy: 0.6151\n",
      "Epoch 176: saving model to model/keypoint_classifier\\keypoint_classifier.hdf5\n",
      "49/49 [==============================] - 0s 7ms/step - loss: 0.9982 - accuracy: 0.6163 - val_loss: 0.6567 - val_accuracy: 0.7879\n",
      "Epoch 177/1000\n",
      "45/49 [==========================>...] - ETA: 0s - loss: 0.9976 - accuracy: 0.6191\n",
      "Epoch 177: saving model to model/keypoint_classifier\\keypoint_classifier.hdf5\n",
      "49/49 [==============================] - 0s 7ms/step - loss: 0.9997 - accuracy: 0.6192 - val_loss: 0.6421 - val_accuracy: 0.7947\n",
      "Epoch 178/1000\n",
      "46/49 [===========================>..] - ETA: 0s - loss: 1.0078 - accuracy: 0.6167\n",
      "Epoch 178: saving model to model/keypoint_classifier\\keypoint_classifier.hdf5\n",
      "49/49 [==============================] - 0s 6ms/step - loss: 1.0063 - accuracy: 0.6151 - val_loss: 0.6538 - val_accuracy: 0.7845\n",
      "Epoch 179/1000\n",
      "44/49 [=========================>....] - ETA: 0s - loss: 0.9811 - accuracy: 0.6204\n",
      "Epoch 179: saving model to model/keypoint_classifier\\keypoint_classifier.hdf5\n",
      "49/49 [==============================] - 0s 7ms/step - loss: 0.9827 - accuracy: 0.6202 - val_loss: 0.6580 - val_accuracy: 0.8045\n",
      "Epoch 180/1000\n",
      "47/49 [===========================>..] - ETA: 0s - loss: 0.9952 - accuracy: 0.6278\n",
      "Epoch 180: saving model to model/keypoint_classifier\\keypoint_classifier.hdf5\n",
      "49/49 [==============================] - 0s 7ms/step - loss: 0.9904 - accuracy: 0.6312 - val_loss: 0.6456 - val_accuracy: 0.7972\n",
      "Epoch 181/1000\n",
      "33/49 [===================>..........] - ETA: 0s - loss: 0.9892 - accuracy: 0.6222\n",
      "Epoch 181: saving model to model/keypoint_classifier\\keypoint_classifier.hdf5\n",
      "49/49 [==============================] - 0s 6ms/step - loss: 0.9971 - accuracy: 0.6179 - val_loss: 0.6506 - val_accuracy: 0.7875\n",
      "Epoch 182/1000\n",
      "47/49 [===========================>..] - ETA: 0s - loss: 0.9879 - accuracy: 0.6238\n",
      "Epoch 182: saving model to model/keypoint_classifier\\keypoint_classifier.hdf5\n",
      "49/49 [==============================] - 0s 6ms/step - loss: 0.9860 - accuracy: 0.6231 - val_loss: 0.6475 - val_accuracy: 0.7870\n",
      "Epoch 183/1000\n",
      "48/49 [============================>.] - ETA: 0s - loss: 0.9919 - accuracy: 0.6152\n",
      "Epoch 183: saving model to model/keypoint_classifier\\keypoint_classifier.hdf5\n",
      "49/49 [==============================] - 0s 6ms/step - loss: 0.9909 - accuracy: 0.6156 - val_loss: 0.6563 - val_accuracy: 0.7875\n",
      "Epoch 184/1000\n",
      "47/49 [===========================>..] - ETA: 0s - loss: 0.9927 - accuracy: 0.6225\n",
      "Epoch 184: saving model to model/keypoint_classifier\\keypoint_classifier.hdf5\n",
      "49/49 [==============================] - 0s 6ms/step - loss: 0.9916 - accuracy: 0.6223 - val_loss: 0.6580 - val_accuracy: 0.7850\n",
      "Epoch 185/1000\n",
      "46/49 [===========================>..] - ETA: 0s - loss: 0.9744 - accuracy: 0.6347\n",
      "Epoch 185: saving model to model/keypoint_classifier\\keypoint_classifier.hdf5\n",
      "49/49 [==============================] - 0s 6ms/step - loss: 0.9709 - accuracy: 0.6336 - val_loss: 0.6393 - val_accuracy: 0.7855\n",
      "Epoch 186/1000\n",
      "46/49 [===========================>..] - ETA: 0s - loss: 1.0013 - accuracy: 0.6141\n",
      "Epoch 186: saving model to model/keypoint_classifier\\keypoint_classifier.hdf5\n",
      "49/49 [==============================] - 0s 7ms/step - loss: 1.0022 - accuracy: 0.6137 - val_loss: 0.6405 - val_accuracy: 0.7913\n",
      "Epoch 187/1000\n",
      "44/49 [=========================>....] - ETA: 0s - loss: 0.9636 - accuracy: 0.6314\n",
      "Epoch 187: saving model to model/keypoint_classifier\\keypoint_classifier.hdf5\n",
      "49/49 [==============================] - 0s 7ms/step - loss: 0.9608 - accuracy: 0.6323 - val_loss: 0.6425 - val_accuracy: 0.7918\n",
      "Epoch 188/1000\n",
      "39/49 [======================>.......] - ETA: 0s - loss: 0.9763 - accuracy: 0.6182\n",
      "Epoch 188: saving model to model/keypoint_classifier\\keypoint_classifier.hdf5\n",
      "49/49 [==============================] - 0s 7ms/step - loss: 0.9818 - accuracy: 0.6182 - val_loss: 0.6452 - val_accuracy: 0.8011\n",
      "Epoch 189/1000\n",
      "47/49 [===========================>..] - ETA: 0s - loss: 0.9814 - accuracy: 0.6162\n",
      "Epoch 189: saving model to model/keypoint_classifier\\keypoint_classifier.hdf5\n",
      "49/49 [==============================] - 0s 6ms/step - loss: 0.9813 - accuracy: 0.6168 - val_loss: 0.6516 - val_accuracy: 0.7918\n",
      "Epoch 190/1000\n",
      "48/49 [============================>.] - ETA: 0s - loss: 0.9847 - accuracy: 0.6222\n",
      "Epoch 190: saving model to model/keypoint_classifier\\keypoint_classifier.hdf5\n",
      "49/49 [==============================] - 0s 6ms/step - loss: 0.9837 - accuracy: 0.6226 - val_loss: 0.6392 - val_accuracy: 0.7982\n",
      "Epoch 191/1000\n",
      "45/49 [==========================>...] - ETA: 0s - loss: 0.9816 - accuracy: 0.6267\n",
      "Epoch 191: saving model to model/keypoint_classifier\\keypoint_classifier.hdf5\n",
      "49/49 [==============================] - 0s 6ms/step - loss: 0.9810 - accuracy: 0.6263 - val_loss: 0.6679 - val_accuracy: 0.7991\n",
      "Epoch 192/1000\n",
      "46/49 [===========================>..] - ETA: 0s - loss: 0.9919 - accuracy: 0.6165\n",
      "Epoch 192: saving model to model/keypoint_classifier\\keypoint_classifier.hdf5\n",
      "49/49 [==============================] - 0s 6ms/step - loss: 0.9935 - accuracy: 0.6150 - val_loss: 0.6287 - val_accuracy: 0.7938\n",
      "Epoch 193/1000\n",
      "48/49 [============================>.] - ETA: 0s - loss: 0.9683 - accuracy: 0.6313\n",
      "Epoch 193: saving model to model/keypoint_classifier\\keypoint_classifier.hdf5\n",
      "49/49 [==============================] - 0s 6ms/step - loss: 0.9689 - accuracy: 0.6312 - val_loss: 0.6454 - val_accuracy: 0.7913\n",
      "Epoch 194/1000\n",
      "46/49 [===========================>..] - ETA: 0s - loss: 0.9811 - accuracy: 0.6248\n",
      "Epoch 194: saving model to model/keypoint_classifier\\keypoint_classifier.hdf5\n",
      "49/49 [==============================] - 0s 6ms/step - loss: 0.9842 - accuracy: 0.6223 - val_loss: 0.6449 - val_accuracy: 0.7947\n",
      "Epoch 195/1000\n",
      "46/49 [===========================>..] - ETA: 0s - loss: 0.9953 - accuracy: 0.6282\n",
      "Epoch 195: saving model to model/keypoint_classifier\\keypoint_classifier.hdf5\n",
      "49/49 [==============================] - 0s 6ms/step - loss: 0.9908 - accuracy: 0.6312 - val_loss: 0.6643 - val_accuracy: 0.8011\n",
      "Epoch 196/1000\n",
      "45/49 [==========================>...] - ETA: 0s - loss: 0.9692 - accuracy: 0.6314\n",
      "Epoch 196: saving model to model/keypoint_classifier\\keypoint_classifier.hdf5\n",
      "49/49 [==============================] - 0s 6ms/step - loss: 0.9651 - accuracy: 0.6328 - val_loss: 0.6475 - val_accuracy: 0.7962\n",
      "Epoch 197/1000\n",
      "47/49 [===========================>..] - ETA: 0s - loss: 0.9694 - accuracy: 0.6268\n",
      "Epoch 197: saving model to model/keypoint_classifier\\keypoint_classifier.hdf5\n",
      "49/49 [==============================] - 0s 6ms/step - loss: 0.9698 - accuracy: 0.6263 - val_loss: 0.6595 - val_accuracy: 0.7952\n",
      "Epoch 198/1000\n",
      "43/49 [=========================>....] - ETA: 0s - loss: 0.9907 - accuracy: 0.6299\n",
      "Epoch 198: saving model to model/keypoint_classifier\\keypoint_classifier.hdf5\n",
      "49/49 [==============================] - 0s 6ms/step - loss: 0.9953 - accuracy: 0.6267 - val_loss: 0.6578 - val_accuracy: 0.8030\n",
      "Epoch 199/1000\n",
      "45/49 [==========================>...] - ETA: 0s - loss: 0.9828 - accuracy: 0.6240\n",
      "Epoch 199: saving model to model/keypoint_classifier\\keypoint_classifier.hdf5\n",
      "49/49 [==============================] - 0s 6ms/step - loss: 0.9855 - accuracy: 0.6255 - val_loss: 0.6512 - val_accuracy: 0.7918\n",
      "Epoch 200/1000\n",
      "47/49 [===========================>..] - ETA: 0s - loss: 0.9935 - accuracy: 0.6172\n",
      "Epoch 200: saving model to model/keypoint_classifier\\keypoint_classifier.hdf5\n",
      "49/49 [==============================] - 0s 6ms/step - loss: 0.9920 - accuracy: 0.6190 - val_loss: 0.6659 - val_accuracy: 0.7845\n",
      "Epoch 201/1000\n",
      "47/49 [===========================>..] - ETA: 0s - loss: 0.9770 - accuracy: 0.6223\n",
      "Epoch 201: saving model to model/keypoint_classifier\\keypoint_classifier.hdf5\n",
      "49/49 [==============================] - 0s 6ms/step - loss: 0.9788 - accuracy: 0.6205 - val_loss: 0.6578 - val_accuracy: 0.7860\n",
      "Epoch 202/1000\n",
      "46/49 [===========================>..] - ETA: 0s - loss: 0.9849 - accuracy: 0.6240\n",
      "Epoch 202: saving model to model/keypoint_classifier\\keypoint_classifier.hdf5\n",
      "49/49 [==============================] - 0s 6ms/step - loss: 0.9842 - accuracy: 0.6252 - val_loss: 0.6426 - val_accuracy: 0.8050\n",
      "Epoch 203/1000\n",
      "41/49 [========================>.....] - ETA: 0s - loss: 0.9718 - accuracy: 0.6319\n",
      "Epoch 203: saving model to model/keypoint_classifier\\keypoint_classifier.hdf5\n",
      "49/49 [==============================] - 0s 7ms/step - loss: 0.9717 - accuracy: 0.6328 - val_loss: 0.6399 - val_accuracy: 0.7991\n",
      "Epoch 204/1000\n",
      "48/49 [============================>.] - ETA: 0s - loss: 0.9667 - accuracy: 0.6366\n",
      "Epoch 204: saving model to model/keypoint_classifier\\keypoint_classifier.hdf5\n",
      "49/49 [==============================] - 0s 6ms/step - loss: 0.9667 - accuracy: 0.6366 - val_loss: 0.6471 - val_accuracy: 0.7884\n",
      "Epoch 205/1000\n",
      "41/49 [========================>.....] - ETA: 0s - loss: 0.9605 - accuracy: 0.6343\n",
      "Epoch 205: saving model to model/keypoint_classifier\\keypoint_classifier.hdf5\n",
      "49/49 [==============================] - 0s 7ms/step - loss: 0.9661 - accuracy: 0.6315 - val_loss: 0.6501 - val_accuracy: 0.7933\n",
      "Epoch 206/1000\n",
      "46/49 [===========================>..] - ETA: 0s - loss: 0.9778 - accuracy: 0.6360\n",
      "Epoch 206: saving model to model/keypoint_classifier\\keypoint_classifier.hdf5\n",
      "49/49 [==============================] - 0s 6ms/step - loss: 0.9784 - accuracy: 0.6369 - val_loss: 0.6436 - val_accuracy: 0.7879\n",
      "Epoch 207/1000\n",
      "48/49 [============================>.] - ETA: 0s - loss: 0.9816 - accuracy: 0.6250\n",
      "Epoch 207: saving model to model/keypoint_classifier\\keypoint_classifier.hdf5\n",
      "49/49 [==============================] - 0s 6ms/step - loss: 0.9816 - accuracy: 0.6254 - val_loss: 0.6538 - val_accuracy: 0.7923\n",
      "Epoch 208/1000\n",
      "48/49 [============================>.] - ETA: 0s - loss: 0.9732 - accuracy: 0.6354\n",
      "Epoch 208: saving model to model/keypoint_classifier\\keypoint_classifier.hdf5\n",
      "49/49 [==============================] - 0s 6ms/step - loss: 0.9727 - accuracy: 0.6356 - val_loss: 0.6407 - val_accuracy: 0.8020\n",
      "Epoch 209/1000\n",
      "48/49 [============================>.] - ETA: 0s - loss: 0.9847 - accuracy: 0.6279\n",
      "Epoch 209: saving model to model/keypoint_classifier\\keypoint_classifier.hdf5\n",
      "49/49 [==============================] - 0s 6ms/step - loss: 0.9843 - accuracy: 0.6280 - val_loss: 0.6527 - val_accuracy: 0.7962\n",
      "Epoch 210/1000\n",
      "47/49 [===========================>..] - ETA: 0s - loss: 0.9725 - accuracy: 0.6235\n",
      "Epoch 210: saving model to model/keypoint_classifier\\keypoint_classifier.hdf5\n",
      "49/49 [==============================] - 0s 6ms/step - loss: 0.9718 - accuracy: 0.6237 - val_loss: 0.6433 - val_accuracy: 0.7923\n",
      "Epoch 211/1000\n",
      "48/49 [============================>.] - ETA: 0s - loss: 0.9782 - accuracy: 0.6258\n",
      "Epoch 211: saving model to model/keypoint_classifier\\keypoint_classifier.hdf5\n",
      "49/49 [==============================] - 0s 6ms/step - loss: 0.9780 - accuracy: 0.6257 - val_loss: 0.6552 - val_accuracy: 0.7957\n",
      "Epoch 212/1000\n",
      "40/49 [=======================>......] - ETA: 0s - loss: 0.9643 - accuracy: 0.6346\n",
      "Epoch 212: saving model to model/keypoint_classifier\\keypoint_classifier.hdf5\n",
      "49/49 [==============================] - 0s 7ms/step - loss: 0.9753 - accuracy: 0.6309 - val_loss: 0.6793 - val_accuracy: 0.7899\n",
      "Epoch 212: early stopping\n"
     ]
    },
    {
     "data": {
      "text/plain": [
       "<keras.src.callbacks.History at 0x1d10cdd9a90>"
      ]
     },
     "execution_count": 11,
     "metadata": {},
     "output_type": "execute_result"
    }
   ],
   "source": [
    "model.fit(\n",
    "    X_train,\n",
    "    y_train,\n",
    "    epochs=1000,\n",
    "    batch_size=128,\n",
    "    validation_data=(X_test, y_test),\n",
    "    callbacks=[cp_callback, es_callback]\n",
    ")"
   ]
  },
  {
   "cell_type": "code",
   "execution_count": 12,
   "metadata": {
    "colab": {
     "base_uri": "https://localhost:8080/"
    },
    "id": "pxvb2Y299hE3",
    "outputId": "59eb3185-2e37-4b9e-bc9d-ab1b8ac29b7f"
   },
   "outputs": [
    {
     "name": "stdout",
     "output_type": "stream",
     "text": [
      "17/17 [==============================] - 0s 3ms/step - loss: 0.6793 - accuracy: 0.7899\n"
     ]
    }
   ],
   "source": [
    "# Model evaluation\n",
    "val_loss, val_acc = model.evaluate(X_test, y_test, batch_size=128)"
   ]
  },
  {
   "cell_type": "code",
   "execution_count": 13,
   "metadata": {
    "id": "RBkmDeUW9hE4"
   },
   "outputs": [],
   "source": [
    "# Loading the saved model\n",
    "model = tf.keras.models.load_model(model_save_path)"
   ]
  },
  {
   "cell_type": "code",
   "execution_count": 14,
   "metadata": {
    "colab": {
     "base_uri": "https://localhost:8080/"
    },
    "id": "tFz9Tb0I9hE4",
    "outputId": "1c3b3528-54ae-4ee2-ab04-77429211cbef"
   },
   "outputs": [
    {
     "name": "stdout",
     "output_type": "stream",
     "text": [
      "1/1 [==============================] - 0s 151ms/step\n",
      "[9.9720210e-03 3.8635738e-03 2.7524785e-03 4.0908948e-02 1.6475411e-02\n",
      " 5.9554516e-04 8.3172965e-01 9.2779152e-02 9.2315569e-04 1.1872824e-08]\n",
      "6\n"
     ]
    }
   ],
   "source": [
    "# Inference test\n",
    "predict_result = model.predict(np.array([X_test[0]]))\n",
    "print(np.squeeze(predict_result))\n",
    "print(np.argmax(np.squeeze(predict_result)))"
   ]
  },
  {
   "cell_type": "markdown",
   "metadata": {
    "id": "S3U4yNWx9hE4"
   },
   "source": [
    "# Confusion matrix"
   ]
  },
  {
   "cell_type": "code",
   "execution_count": 15,
   "metadata": {
    "colab": {
     "base_uri": "https://localhost:8080/",
     "height": 582
    },
    "id": "AP1V6SCk9hE5",
    "outputId": "08e41a80-7a4a-4619-8125-ecc371368d19"
   },
   "outputs": [
    {
     "name": "stdout",
     "output_type": "stream",
     "text": [
      "65/65 [==============================] - 0s 2ms/step\n"
     ]
    },
    {
     "data": {
      "image/png": "[encoded data removed]",
      "text/plain": [
       "<Figure size 700x600 with 2 Axes>"
      ]
     },
     "metadata": {},
     "output_type": "display_data"
    },
    {
     "name": "stdout",
     "output_type": "stream",
     "text": [
      "Classification Report\n",
      "              precision    recall  f1-score   support\n",
      "\n",
      "           0       0.50      0.05      0.09       304\n",
      "           1       0.99      0.87      0.93       180\n",
      "           2       0.65      0.93      0.77       339\n",
      "           3       1.00      0.63      0.77       138\n",
      "           4       0.73      0.95      0.82       451\n",
      "           5       0.88      1.00      0.94       141\n",
      "           6       0.81      0.94      0.87       219\n",
      "           7       0.96      0.97      0.96       128\n",
      "           8       0.92      0.98      0.95       156\n",
      "\n",
      "    accuracy                           0.79      2056\n",
      "   macro avg       0.83      0.81      0.79      2056\n",
      "weighted avg       0.77      0.79      0.74      2056\n",
      "\n"
     ]
    }
   ],
   "source": [
    "import pandas as pd\n",
    "import seaborn as sns\n",
    "import matplotlib.pyplot as plt\n",
    "from sklearn.metrics import confusion_matrix, classification_report\n",
    "\n",
    "def print_confusion_matrix(y_true, y_pred, report=True):\n",
    "    labels = sorted(list(set(y_true)))\n",
    "    cmx_data = confusion_matrix(y_true, y_pred, labels=labels)\n",
    "    \n",
    "    df_cmx = pd.DataFrame(cmx_data, index=labels, columns=labels)\n",
    " \n",
    "    fig, ax = plt.subplots(figsize=(7, 6))\n",
    "    sns.heatmap(df_cmx, annot=True, fmt='g' ,square=False)\n",
    "    ax.set_ylim(len(set(y_true)), 0)\n",
    "    plt.show()\n",
    "    \n",
    "    if report:\n",
    "        print('Classification Report')\n",
    "        print(classification_report(y_test, y_pred))\n",
    "\n",
    "Y_pred = model.predict(X_test)\n",
    "y_pred = np.argmax(Y_pred, axis=1)\n",
    "\n",
    "print_confusion_matrix(y_test, y_pred)"
   ]
  },
  {
   "cell_type": "markdown",
   "metadata": {
    "id": "FNP6aqzc9hE5"
   },
   "source": [
    "# Convert to model for Tensorflow-Lite"
   ]
  },
  {
   "cell_type": "code",
   "execution_count": 16,
   "metadata": {
    "id": "ODjnYyld9hE6"
   },
   "outputs": [
    {
     "name": "stderr",
     "output_type": "stream",
     "text": [
      "C:\\Users\\Mohamed Ashif\\AppData\\Local\\Programs\\Python\\Python38\\lib\\site-packages\\keras\\src\\engine\\training.py:3000: UserWarning: You are saving your model as an HDF5 file via `model.save()`. This file format is considered legacy. We recommend using instead the native Keras format, e.g. `model.save('my_model.keras')`.\n",
      "  saving_api.save_model(\n"
     ]
    }
   ],
   "source": [
    "# Save as a model dedicated to inference\n",
    "model.save(model_save_path, include_optimizer=False)"
   ]
  },
  {
   "cell_type": "code",
   "execution_count": 17,
   "metadata": {
    "colab": {
     "base_uri": "https://localhost:8080/"
    },
    "id": "zRfuK8Y59hE6",
    "outputId": "a4ca585c-b5d5-4244-8291-8674063209bb"
   },
   "outputs": [
    {
     "name": "stdout",
     "output_type": "stream",
     "text": [
      "INFO:tensorflow:Assets written to: C:\\Users\\MOHAME~1\\AppData\\Local\\Temp\\tmpw9wf0lm1\\assets\n"
     ]
    },
    {
     "name": "stderr",
     "output_type": "stream",
     "text": [
      "INFO:tensorflow:Assets written to: C:\\Users\\MOHAME~1\\AppData\\Local\\Temp\\tmpw9wf0lm1\\assets\n"
     ]
    },
    {
     "data": {
      "text/plain": [
       "6808"
      ]
     },
     "execution_count": 17,
     "metadata": {},
     "output_type": "execute_result"
    }
   ],
   "source": [
    "# Transform model (quantization)\n",
    "\n",
    "converter = tf.lite.TFLiteConverter.from_keras_model(model)\n",
    "converter.optimizations = [tf.lite.Optimize.DEFAULT]\n",
    "tflite_quantized_model = converter.convert()\n",
    "\n",
    "open(tflite_save_path, 'wb').write(tflite_quantized_model)"
   ]
  },
  {
   "cell_type": "markdown",
   "metadata": {
    "id": "CHBPBXdx9hE6"
   },
   "source": [
    "# Inference test"
   ]
  },
  {
   "cell_type": "code",
   "execution_count": 18,
   "metadata": {
    "id": "mGAzLocO9hE7"
   },
   "outputs": [],
   "source": [
    "interpreter = tf.lite.Interpreter(model_path=tflite_save_path)\n",
    "interpreter.allocate_tensors()"
   ]
  },
  {
   "cell_type": "code",
   "execution_count": 19,
   "metadata": {
    "id": "oQuDK8YS9hE7"
   },
   "outputs": [],
   "source": [
    "# Get I / O tensor\n",
    "input_details = interpreter.get_input_details()\n",
    "output_details = interpreter.get_output_details()"
   ]
  },
  {
   "cell_type": "code",
   "execution_count": 20,
   "metadata": {
    "id": "2_ixAf_l9hE7"
   },
   "outputs": [],
   "source": [
    "interpreter.set_tensor(input_details[0]['index'], np.array([X_test[0]]))"
   ]
  },
  {
   "cell_type": "code",
   "execution_count": 21,
   "metadata": {
    "colab": {
     "base_uri": "https://localhost:8080/"
    },
    "id": "s4FoAnuc9hE7",
    "outputId": "91f18257-8d8b-4ef3-c558-e9b5f94fabbf",
    "scrolled": true
   },
   "outputs": [
    {
     "name": "stdout",
     "output_type": "stream",
     "text": [
      "CPU times: total: 0 ns\n",
      "Wall time: 0 ns\n"
     ]
    }
   ],
   "source": [
    "%%time\n",
    "# Inference implementation\n",
    "interpreter.invoke()\n",
    "tflite_results = interpreter.get_tensor(output_details[0]['index'])"
   ]
  },
  {
   "cell_type": "code",
   "execution_count": 22,
   "metadata": {
    "colab": {
     "base_uri": "https://localhost:8080/"
    },
    "id": "vONjp19J9hE8",
    "outputId": "77205e24-fd00-42c4-f7b6-e06e527c2cba"
   },
   "outputs": [
    {
     "name": "stdout",
     "output_type": "stream",
     "text": [
      "[9.9720163e-03 3.8635733e-03 2.7524782e-03 4.0908918e-02 1.6475411e-02\n",
      " 5.9554487e-04 8.3172965e-01 9.2779189e-02 9.2315557e-04 1.1872801e-08]\n",
      "6\n"
     ]
    }
   ],
   "source": [
    "print(np.squeeze(tflite_results))\n",
    "print(np.argmax(np.squeeze(tflite_results)))"
   ]
  }
 ],
 "metadata": {
  "accelerator": "GPU",
  "colab": {
   "collapsed_sections": [],
   "name": "keypoint_classification_EN.ipynb",
   "provenance": [],
   "toc_visible": true
  },
  "kernelspec": {
   "display_name": "Python 3 (ipykernel)",
   "language": "python",
   "name": "python3"
  },
  "language_info": {
   "codemirror_mode": {
    "name": "ipython",
    "version": 3
   },
   "file_extension": ".py",
   "mimetype": "text/x-python",
   "name": "python",
   "nbconvert_exporter": "python",
   "pygments_lexer": "ipython3",
   "version": "3.8.10"
  }
 },
 "nbformat": 4,
 "nbformat_minor": 4
}
