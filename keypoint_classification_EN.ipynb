{
 "cells": [
  {
   "cell_type": "code",
   "execution_count": 23,
   "metadata": {
    "id": "igMyGnjE9hEp"
   },
   "outputs": [],
   "source": [
    "import csv\n",
    "\n",
    "import numpy as np\n",
    "import tensorflow as tf\n",
    "from sklearn.model_selection import train_test_split\n",
    "\n",
    "RANDOM_SEED = 42"
   ]
  },
  {
   "cell_type": "markdown",
   "metadata": {
    "id": "t2HDvhIu9hEr"
   },
   "source": [
    "# Specify each path"
   ]
  },
  {
   "cell_type": "code",
   "execution_count": 24,
   "metadata": {
    "id": "9NvZP2Zn9hEy"
   },
   "outputs": [],
   "source": [
    "dataset = 'model/keypoint_classifier/keypoint.csv'\n",
    "model_save_path = 'model/keypoint_classifier/keypoint_classifier.hdf5'\n",
    "tflite_save_path = 'model/keypoint_classifier/keypoint_classifier.tflite'"
   ]
  },
  {
   "cell_type": "markdown",
   "metadata": {
    "id": "s5oMH7x19hEz"
   },
   "source": [
    "# Set number of classes"
   ]
  },
  {
   "cell_type": "code",
   "execution_count": 25,
   "metadata": {
    "id": "du4kodXL9hEz"
   },
   "outputs": [],
   "source": [
    "NUM_CLASSES = 10"
   ]
  },
  {
   "cell_type": "markdown",
   "metadata": {
    "id": "XjnL0uso9hEz"
   },
   "source": [
    "# Dataset reading"
   ]
  },
  {
   "cell_type": "code",
   "execution_count": 26,
   "metadata": {
    "id": "QT5ZqtEz9hE0"
   },
   "outputs": [],
   "source": [
    "X_dataset = np.loadtxt(dataset, delimiter=',', dtype='float32', usecols=list(range(1, (21 * 2) + 1)))"
   ]
  },
  {
   "cell_type": "code",
   "execution_count": 27,
   "metadata": {
    "id": "QmoKFsp49hE0"
   },
   "outputs": [],
   "source": [
    "y_dataset = np.loadtxt(dataset, delimiter=',', dtype='int32', usecols=(0))"
   ]
  },
  {
   "cell_type": "code",
   "execution_count": 28,
   "metadata": {
    "id": "xQU7JTZ_9hE0"
   },
   "outputs": [],
   "source": [
    "X_train, X_test, y_train, y_test = train_test_split(X_dataset, y_dataset, train_size=0.75, random_state=RANDOM_SEED)"
   ]
  },
  {
   "cell_type": "markdown",
   "metadata": {
    "id": "mxK_lETT9hE0"
   },
   "source": [
    "# Model building"
   ]
  },
  {
   "cell_type": "code",
   "execution_count": 29,
   "metadata": {
    "id": "vHBmUf1t9hE1"
   },
   "outputs": [],
   "source": [
    "model = tf.keras.models.Sequential([\n",
    "    tf.keras.layers.Input((21 * 2, )),\n",
    "    tf.keras.layers.Dropout(0.2),\n",
    "    tf.keras.layers.Dense(20, activation='relu'),\n",
    "    tf.keras.layers.Dropout(0.4),\n",
    "    tf.keras.layers.Dense(10, activation='relu'),\n",
    "    tf.keras.layers.Dense(NUM_CLASSES, activation='softmax')\n",
    "])"
   ]
  },
  {
   "cell_type": "code",
   "execution_count": 30,
   "metadata": {
    "colab": {
     "base_uri": "https://localhost:8080/"
    },
    "id": "ypqky9tc9hE1",
    "outputId": "5db082bb-30e3-4110-bf63-a1ee777ecd46"
   },
   "outputs": [
    {
     "name": "stdout",
     "output_type": "stream",
     "text": [
      "Model: \"sequential_1\"\n",
      "_________________________________________________________________\n",
      " Layer (type)                Output Shape              Param #   \n",
      "=================================================================\n",
      " dropout_2 (Dropout)         (None, 42)                0         \n",
      "                                                                 \n",
      " dense_3 (Dense)             (None, 20)                860       \n",
      "                                                                 \n",
      " dropout_3 (Dropout)         (None, 20)                0         \n",
      "                                                                 \n",
      " dense_4 (Dense)             (None, 10)                210       \n",
      "                                                                 \n",
      " dense_5 (Dense)             (None, 10)                110       \n",
      "                                                                 \n",
      "=================================================================\n",
      "Total params: 1180 (4.61 KB)\n",
      "Trainable params: 1180 (4.61 KB)\n",
      "Non-trainable params: 0 (0.00 Byte)\n",
      "_________________________________________________________________\n"
     ]
    }
   ],
   "source": [
    "model.summary()  # tf.keras.utils.plot_model(model, show_shapes=True)"
   ]
  },
  {
   "cell_type": "code",
   "execution_count": 31,
   "metadata": {
    "id": "MbMjOflQ9hE1"
   },
   "outputs": [],
   "source": [
    "# Model checkpoint callback\n",
    "cp_callback = tf.keras.callbacks.ModelCheckpoint(\n",
    "    model_save_path, verbose=1, save_weights_only=False)\n",
    "# Callback for early stopping\n",
    "es_callback = tf.keras.callbacks.EarlyStopping(patience=20, verbose=1)"
   ]
  },
  {
   "cell_type": "code",
   "execution_count": 32,
   "metadata": {
    "id": "c3Dac0M_9hE2"
   },
   "outputs": [],
   "source": [
    "# Model compilation\n",
    "model.compile(\n",
    "    optimizer='adam',\n",
    "    loss='sparse_categorical_crossentropy',\n",
    "    metrics=['accuracy']\n",
    ")"
   ]
  },
  {
   "cell_type": "markdown",
   "metadata": {
    "id": "7XI0j1Iu9hE2"
   },
   "source": [
    "# Model training"
   ]
  },
  {
   "cell_type": "code",
   "execution_count": 33,
   "metadata": {
    "colab": {
     "base_uri": "https://localhost:8080/"
    },
    "id": "WirBl-JE9hE3",
    "outputId": "71b30ca2-8294-4d9d-8aa2-800d90d399de",
    "scrolled": true
   },
   "outputs": [
    {
     "name": "stdout",
     "output_type": "stream",
     "text": [
      "Epoch 1/1000\n",
      "51/53 [===========================>..] - ETA: 0s - loss: 2.2948 - accuracy: 0.1593\n",
      "Epoch 1: saving model to model/keypoint_classifier\\keypoint_classifier.hdf5\n",
      "53/53 [==============================] - 2s 11ms/step - loss: 2.2938 - accuracy: 0.1588 - val_loss: 2.2232 - val_accuracy: 0.1973\n",
      "Epoch 2/1000\n",
      "42/53 [======================>.......] - ETA: 0s - loss: 2.1864 - accuracy: 0.1987"
     ]
    },
    {
     "name": "stderr",
     "output_type": "stream",
     "text": [
      "C:\\Users\\Mohamed Ashif\\AppData\\Local\\Programs\\Python\\Python38\\lib\\site-packages\\keras\\src\\engine\\training.py:3000: UserWarning: You are saving your model as an HDF5 file via `model.save()`. This file format is considered legacy. We recommend using instead the native Keras format, e.g. `model.save('my_model.keras')`.\n",
      "  saving_api.save_model(\n"
     ]
    },
    {
     "name": "stdout",
     "output_type": "stream",
     "text": [
      "52/53 [============================>.] - ETA: 0s - loss: 2.1835 - accuracy: 0.2012\n",
      "Epoch 2: saving model to model/keypoint_classifier\\keypoint_classifier.hdf5\n",
      "53/53 [==============================] - 0s 7ms/step - loss: 2.1833 - accuracy: 0.2013 - val_loss: 2.1079 - val_accuracy: 0.2054\n",
      "Epoch 3/1000\n",
      "45/53 [========================>.....] - ETA: 0s - loss: 2.1132 - accuracy: 0.2420\n",
      "Epoch 3: saving model to model/keypoint_classifier\\keypoint_classifier.hdf5\n",
      "53/53 [==============================] - 0s 6ms/step - loss: 2.1059 - accuracy: 0.2435 - val_loss: 2.0102 - val_accuracy: 0.3200\n",
      "Epoch 4/1000\n",
      "46/53 [=========================>....] - ETA: 0s - loss: 2.0235 - accuracy: 0.2831\n",
      "Epoch 4: saving model to model/keypoint_classifier\\keypoint_classifier.hdf5\n",
      "53/53 [==============================] - 0s 6ms/step - loss: 2.0205 - accuracy: 0.2856 - val_loss: 1.9035 - val_accuracy: 0.3771\n",
      "Epoch 5/1000\n",
      "44/53 [=======================>......] - ETA: 0s - loss: 1.9425 - accuracy: 0.3120\n",
      "Epoch 5: saving model to model/keypoint_classifier\\keypoint_classifier.hdf5\n",
      "53/53 [==============================] - 0s 6ms/step - loss: 1.9328 - accuracy: 0.3177 - val_loss: 1.7790 - val_accuracy: 0.4144\n",
      "Epoch 6/1000\n",
      "45/53 [========================>.....] - ETA: 0s - loss: 1.8488 - accuracy: 0.3491\n",
      "Epoch 6: saving model to model/keypoint_classifier\\keypoint_classifier.hdf5\n",
      "53/53 [==============================] - 0s 6ms/step - loss: 1.8465 - accuracy: 0.3457 - val_loss: 1.6262 - val_accuracy: 0.4166\n",
      "Epoch 7/1000\n",
      "48/53 [==========================>...] - ETA: 0s - loss: 1.7595 - accuracy: 0.3605\n",
      "Epoch 7: saving model to model/keypoint_classifier\\keypoint_classifier.hdf5\n",
      "53/53 [==============================] - 0s 6ms/step - loss: 1.7583 - accuracy: 0.3606 - val_loss: 1.4942 - val_accuracy: 0.4512\n",
      "Epoch 8/1000\n",
      "46/53 [=========================>....] - ETA: 0s - loss: 1.6865 - accuracy: 0.3769\n",
      "Epoch 8: saving model to model/keypoint_classifier\\keypoint_classifier.hdf5\n",
      "53/53 [==============================] - 0s 6ms/step - loss: 1.6820 - accuracy: 0.3787 - val_loss: 1.3980 - val_accuracy: 0.4935\n",
      "Epoch 9/1000\n",
      "46/53 [=========================>....] - ETA: 0s - loss: 1.6306 - accuracy: 0.3832\n",
      "Epoch 9: saving model to model/keypoint_classifier\\keypoint_classifier.hdf5\n",
      "53/53 [==============================] - 0s 6ms/step - loss: 1.6256 - accuracy: 0.3874 - val_loss: 1.3197 - val_accuracy: 0.5056\n",
      "Epoch 10/1000\n",
      "45/53 [========================>.....] - ETA: 0s - loss: 1.5905 - accuracy: 0.3979\n",
      "Epoch 10: saving model to model/keypoint_classifier\\keypoint_classifier.hdf5\n",
      "53/53 [==============================] - 0s 6ms/step - loss: 1.5905 - accuracy: 0.3982 - val_loss: 1.2738 - val_accuracy: 0.5290\n",
      "Epoch 11/1000\n",
      "44/53 [=======================>......] - ETA: 0s - loss: 1.5483 - accuracy: 0.4128\n",
      "Epoch 11: saving model to model/keypoint_classifier\\keypoint_classifier.hdf5\n",
      "53/53 [==============================] - 0s 6ms/step - loss: 1.5503 - accuracy: 0.4129 - val_loss: 1.2197 - val_accuracy: 0.5546\n",
      "Epoch 12/1000\n",
      "45/53 [========================>.....] - ETA: 0s - loss: 1.5110 - accuracy: 0.4274\n",
      "Epoch 12: saving model to model/keypoint_classifier\\keypoint_classifier.hdf5\n",
      "53/53 [==============================] - 0s 6ms/step - loss: 1.5110 - accuracy: 0.4257 - val_loss: 1.1834 - val_accuracy: 0.5622\n",
      "Epoch 13/1000\n",
      "47/53 [=========================>....] - ETA: 0s - loss: 1.4845 - accuracy: 0.4317\n",
      "Epoch 13: saving model to model/keypoint_classifier\\keypoint_classifier.hdf5\n",
      "53/53 [==============================] - 0s 6ms/step - loss: 1.4854 - accuracy: 0.4317 - val_loss: 1.1618 - val_accuracy: 0.5645\n",
      "Epoch 14/1000\n",
      "43/53 [=======================>......] - ETA: 0s - loss: 1.4757 - accuracy: 0.4293\n",
      "Epoch 14: saving model to model/keypoint_classifier\\keypoint_classifier.hdf5\n",
      "53/53 [==============================] - 0s 6ms/step - loss: 1.4658 - accuracy: 0.4358 - val_loss: 1.1194 - val_accuracy: 0.5694\n",
      "Epoch 15/1000\n",
      "42/53 [======================>.......] - ETA: 0s - loss: 1.4433 - accuracy: 0.4472\n",
      "Epoch 15: saving model to model/keypoint_classifier\\keypoint_classifier.hdf5\n",
      "53/53 [==============================] - 0s 6ms/step - loss: 1.4429 - accuracy: 0.4455 - val_loss: 1.0991 - val_accuracy: 0.5897\n",
      "Epoch 16/1000\n",
      "46/53 [=========================>....] - ETA: 0s - loss: 1.4299 - accuracy: 0.4553\n",
      "Epoch 16: saving model to model/keypoint_classifier\\keypoint_classifier.hdf5\n",
      "53/53 [==============================] - 0s 6ms/step - loss: 1.4292 - accuracy: 0.4551 - val_loss: 1.0824 - val_accuracy: 0.5829\n",
      "Epoch 17/1000\n",
      "43/53 [=======================>......] - ETA: 0s - loss: 1.4192 - accuracy: 0.4618\n",
      "Epoch 17: saving model to model/keypoint_classifier\\keypoint_classifier.hdf5\n",
      "53/53 [==============================] - 0s 6ms/step - loss: 1.4123 - accuracy: 0.4643 - val_loss: 1.0574 - val_accuracy: 0.5784\n",
      "Epoch 18/1000\n",
      "45/53 [========================>.....] - ETA: 0s - loss: 1.4133 - accuracy: 0.4556\n",
      "Epoch 18: saving model to model/keypoint_classifier\\keypoint_classifier.hdf5\n",
      "53/53 [==============================] - 0s 6ms/step - loss: 1.4093 - accuracy: 0.4572 - val_loss: 1.0514 - val_accuracy: 0.5748\n",
      "Epoch 19/1000\n",
      "48/53 [==========================>...] - ETA: 0s - loss: 1.3832 - accuracy: 0.4679\n",
      "Epoch 19: saving model to model/keypoint_classifier\\keypoint_classifier.hdf5\n",
      "53/53 [==============================] - 0s 6ms/step - loss: 1.3806 - accuracy: 0.4680 - val_loss: 1.0280 - val_accuracy: 0.5915\n",
      "Epoch 20/1000\n",
      "45/53 [========================>.....] - ETA: 0s - loss: 1.3898 - accuracy: 0.4557\n",
      "Epoch 20: saving model to model/keypoint_classifier\\keypoint_classifier.hdf5\n",
      "53/53 [==============================] - 0s 6ms/step - loss: 1.3875 - accuracy: 0.4569 - val_loss: 1.0275 - val_accuracy: 0.5901\n",
      "Epoch 21/1000\n",
      "48/53 [==========================>...] - ETA: 0s - loss: 1.3809 - accuracy: 0.4665\n",
      "Epoch 21: saving model to model/keypoint_classifier\\keypoint_classifier.hdf5\n",
      "53/53 [==============================] - 0s 6ms/step - loss: 1.3768 - accuracy: 0.4673 - val_loss: 1.0096 - val_accuracy: 0.6112\n",
      "Epoch 22/1000\n",
      "43/53 [=======================>......] - ETA: 0s - loss: 1.3605 - accuracy: 0.4791\n",
      "Epoch 22: saving model to model/keypoint_classifier\\keypoint_classifier.hdf5\n",
      "53/53 [==============================] - 0s 6ms/step - loss: 1.3680 - accuracy: 0.4758 - val_loss: 1.0085 - val_accuracy: 0.5928\n",
      "Epoch 23/1000\n",
      "47/53 [=========================>....] - ETA: 0s - loss: 1.3445 - accuracy: 0.4824\n",
      "Epoch 23: saving model to model/keypoint_classifier\\keypoint_classifier.hdf5\n",
      "53/53 [==============================] - 0s 6ms/step - loss: 1.3506 - accuracy: 0.4810 - val_loss: 0.9817 - val_accuracy: 0.6175\n",
      "Epoch 24/1000\n",
      "46/53 [=========================>....] - ETA: 0s - loss: 1.3542 - accuracy: 0.4837\n",
      "Epoch 24: saving model to model/keypoint_classifier\\keypoint_classifier.hdf5\n",
      "53/53 [==============================] - 0s 6ms/step - loss: 1.3487 - accuracy: 0.4878 - val_loss: 0.9823 - val_accuracy: 0.6144\n",
      "Epoch 25/1000\n",
      "48/53 [==========================>...] - ETA: 0s - loss: 1.3326 - accuracy: 0.4893\n",
      "Epoch 25: saving model to model/keypoint_classifier\\keypoint_classifier.hdf5\n",
      "53/53 [==============================] - 0s 6ms/step - loss: 1.3284 - accuracy: 0.4924 - val_loss: 0.9736 - val_accuracy: 0.6036\n",
      "Epoch 26/1000\n",
      "47/53 [=========================>....] - ETA: 0s - loss: 1.3372 - accuracy: 0.4862\n",
      "Epoch 26: saving model to model/keypoint_classifier\\keypoint_classifier.hdf5\n",
      "53/53 [==============================] - 0s 6ms/step - loss: 1.3262 - accuracy: 0.4893 - val_loss: 0.9543 - val_accuracy: 0.6463\n",
      "Epoch 27/1000\n",
      "45/53 [========================>.....] - ETA: 0s - loss: 1.3195 - accuracy: 0.4910\n",
      "Epoch 27: saving model to model/keypoint_classifier\\keypoint_classifier.hdf5\n",
      "53/53 [==============================] - 0s 6ms/step - loss: 1.3198 - accuracy: 0.4917 - val_loss: 0.9549 - val_accuracy: 0.6148\n",
      "Epoch 28/1000\n",
      "46/53 [=========================>....] - ETA: 0s - loss: 1.3114 - accuracy: 0.4963\n",
      "Epoch 28: saving model to model/keypoint_classifier\\keypoint_classifier.hdf5\n",
      "53/53 [==============================] - 0s 6ms/step - loss: 1.3169 - accuracy: 0.4950 - val_loss: 0.9379 - val_accuracy: 0.6404\n",
      "Epoch 29/1000\n",
      "48/53 [==========================>...] - ETA: 0s - loss: 1.3117 - accuracy: 0.4992\n",
      "Epoch 29: saving model to model/keypoint_classifier\\keypoint_classifier.hdf5\n",
      "53/53 [==============================] - 0s 6ms/step - loss: 1.3141 - accuracy: 0.4980 - val_loss: 0.9299 - val_accuracy: 0.6418\n",
      "Epoch 30/1000\n",
      "46/53 [=========================>....] - ETA: 0s - loss: 1.3146 - accuracy: 0.4925\n",
      "Epoch 30: saving model to model/keypoint_classifier\\keypoint_classifier.hdf5\n",
      "53/53 [==============================] - 0s 6ms/step - loss: 1.3121 - accuracy: 0.4948 - val_loss: 0.9347 - val_accuracy: 0.6436\n",
      "Epoch 31/1000\n",
      "45/53 [========================>.....] - ETA: 0s - loss: 1.2880 - accuracy: 0.5101\n",
      "Epoch 31: saving model to model/keypoint_classifier\\keypoint_classifier.hdf5\n",
      "53/53 [==============================] - 0s 6ms/step - loss: 1.2909 - accuracy: 0.5112 - val_loss: 0.9148 - val_accuracy: 0.6499\n",
      "Epoch 32/1000\n",
      "46/53 [=========================>....] - ETA: 0s - loss: 1.2970 - accuracy: 0.4988\n",
      "Epoch 32: saving model to model/keypoint_classifier\\keypoint_classifier.hdf5\n",
      "53/53 [==============================] - 0s 6ms/step - loss: 1.2929 - accuracy: 0.5002 - val_loss: 0.9185 - val_accuracy: 0.6422\n",
      "Epoch 33/1000\n",
      "46/53 [=========================>....] - ETA: 0s - loss: 1.2833 - accuracy: 0.4990\n",
      "Epoch 33: saving model to model/keypoint_classifier\\keypoint_classifier.hdf5\n",
      "53/53 [==============================] - 0s 6ms/step - loss: 1.2828 - accuracy: 0.4996 - val_loss: 0.9132 - val_accuracy: 0.6526\n",
      "Epoch 34/1000\n",
      "45/53 [========================>.....] - ETA: 0s - loss: 1.2841 - accuracy: 0.5050\n",
      "Epoch 34: saving model to model/keypoint_classifier\\keypoint_classifier.hdf5\n",
      "53/53 [==============================] - 0s 6ms/step - loss: 1.2827 - accuracy: 0.5065 - val_loss: 0.9082 - val_accuracy: 0.6665\n",
      "Epoch 35/1000\n",
      "52/53 [============================>.] - ETA: 0s - loss: 1.2805 - accuracy: 0.5092\n",
      "Epoch 35: saving model to model/keypoint_classifier\\keypoint_classifier.hdf5\n",
      "53/53 [==============================] - 0s 7ms/step - loss: 1.2804 - accuracy: 0.5091 - val_loss: 0.9017 - val_accuracy: 0.6620\n",
      "Epoch 36/1000\n",
      "46/53 [=========================>....] - ETA: 0s - loss: 1.2789 - accuracy: 0.5107\n",
      "Epoch 36: saving model to model/keypoint_classifier\\keypoint_classifier.hdf5\n",
      "53/53 [==============================] - 0s 6ms/step - loss: 1.2783 - accuracy: 0.5121 - val_loss: 0.8878 - val_accuracy: 0.6620\n",
      "Epoch 37/1000\n",
      "47/53 [=========================>....] - ETA: 0s - loss: 1.2576 - accuracy: 0.5153\n",
      "Epoch 37: saving model to model/keypoint_classifier\\keypoint_classifier.hdf5\n",
      "53/53 [==============================] - 0s 6ms/step - loss: 1.2592 - accuracy: 0.5154 - val_loss: 0.8727 - val_accuracy: 0.6566\n",
      "Epoch 38/1000\n",
      "46/53 [=========================>....] - ETA: 0s - loss: 1.2531 - accuracy: 0.5199\n",
      "Epoch 38: saving model to model/keypoint_classifier\\keypoint_classifier.hdf5\n",
      "53/53 [==============================] - 0s 6ms/step - loss: 1.2524 - accuracy: 0.5175 - val_loss: 0.8730 - val_accuracy: 0.6800\n",
      "Epoch 39/1000\n",
      "46/53 [=========================>....] - ETA: 0s - loss: 1.2727 - accuracy: 0.5090\n",
      "Epoch 39: saving model to model/keypoint_classifier\\keypoint_classifier.hdf5\n",
      "53/53 [==============================] - 0s 6ms/step - loss: 1.2720 - accuracy: 0.5110 - val_loss: 0.8757 - val_accuracy: 0.6804\n",
      "Epoch 40/1000\n",
      "48/53 [==========================>...] - ETA: 0s - loss: 1.2512 - accuracy: 0.5125\n",
      "Epoch 40: saving model to model/keypoint_classifier\\keypoint_classifier.hdf5\n",
      "53/53 [==============================] - 0s 6ms/step - loss: 1.2511 - accuracy: 0.5139 - val_loss: 0.8676 - val_accuracy: 0.6755\n",
      "Epoch 41/1000\n",
      "46/53 [=========================>....] - ETA: 0s - loss: 1.2548 - accuracy: 0.5173\n",
      "Epoch 41: saving model to model/keypoint_classifier\\keypoint_classifier.hdf5\n",
      "53/53 [==============================] - 0s 6ms/step - loss: 1.2519 - accuracy: 0.5208 - val_loss: 0.8650 - val_accuracy: 0.6796\n",
      "Epoch 42/1000\n",
      "47/53 [=========================>....] - ETA: 0s - loss: 1.2374 - accuracy: 0.5288\n",
      "Epoch 42: saving model to model/keypoint_classifier\\keypoint_classifier.hdf5\n",
      "53/53 [==============================] - 0s 6ms/step - loss: 1.2440 - accuracy: 0.5260 - val_loss: 0.8557 - val_accuracy: 0.6984\n",
      "Epoch 43/1000\n",
      "47/53 [=========================>....] - ETA: 0s - loss: 1.2492 - accuracy: 0.5188\n",
      "Epoch 43: saving model to model/keypoint_classifier\\keypoint_classifier.hdf5\n",
      "53/53 [==============================] - 0s 6ms/step - loss: 1.2490 - accuracy: 0.5184 - val_loss: 0.8578 - val_accuracy: 0.6944\n",
      "Epoch 44/1000\n",
      "46/53 [=========================>....] - ETA: 0s - loss: 1.2451 - accuracy: 0.5226\n",
      "Epoch 44: saving model to model/keypoint_classifier\\keypoint_classifier.hdf5\n",
      "53/53 [==============================] - 0s 6ms/step - loss: 1.2416 - accuracy: 0.5229 - val_loss: 0.8516 - val_accuracy: 0.6903\n",
      "Epoch 45/1000\n",
      "45/53 [========================>.....] - ETA: 0s - loss: 1.2277 - accuracy: 0.5266\n",
      "Epoch 45: saving model to model/keypoint_classifier\\keypoint_classifier.hdf5\n",
      "53/53 [==============================] - 0s 6ms/step - loss: 1.2324 - accuracy: 0.5259 - val_loss: 0.8515 - val_accuracy: 0.6971\n",
      "Epoch 46/1000\n",
      "46/53 [=========================>....] - ETA: 0s - loss: 1.2252 - accuracy: 0.5324\n",
      "Epoch 46: saving model to model/keypoint_classifier\\keypoint_classifier.hdf5\n",
      "53/53 [==============================] - 0s 6ms/step - loss: 1.2253 - accuracy: 0.5371 - val_loss: 0.8418 - val_accuracy: 0.7025\n",
      "Epoch 47/1000\n",
      "45/53 [========================>.....] - ETA: 0s - loss: 1.2312 - accuracy: 0.5316\n",
      "Epoch 47: saving model to model/keypoint_classifier\\keypoint_classifier.hdf5\n",
      "53/53 [==============================] - 0s 6ms/step - loss: 1.2377 - accuracy: 0.5315 - val_loss: 0.8453 - val_accuracy: 0.6903\n",
      "Epoch 48/1000\n",
      "45/53 [========================>.....] - ETA: 0s - loss: 1.2370 - accuracy: 0.5271\n",
      "Epoch 48: saving model to model/keypoint_classifier\\keypoint_classifier.hdf5\n",
      "53/53 [==============================] - 0s 6ms/step - loss: 1.2308 - accuracy: 0.5305 - val_loss: 0.8358 - val_accuracy: 0.7101\n",
      "Epoch 49/1000\n",
      "45/53 [========================>.....] - ETA: 0s - loss: 1.2280 - accuracy: 0.5325\n",
      "Epoch 49: saving model to model/keypoint_classifier\\keypoint_classifier.hdf5\n",
      "53/53 [==============================] - 0s 6ms/step - loss: 1.2267 - accuracy: 0.5296 - val_loss: 0.8278 - val_accuracy: 0.7056\n",
      "Epoch 50/1000\n",
      "47/53 [=========================>....] - ETA: 0s - loss: 1.2356 - accuracy: 0.5251\n",
      "Epoch 50: saving model to model/keypoint_classifier\\keypoint_classifier.hdf5\n",
      "53/53 [==============================] - 0s 6ms/step - loss: 1.2306 - accuracy: 0.5287 - val_loss: 0.8199 - val_accuracy: 0.7061\n",
      "Epoch 51/1000\n",
      "46/53 [=========================>....] - ETA: 0s - loss: 1.2228 - accuracy: 0.5355\n",
      "Epoch 51: saving model to model/keypoint_classifier\\keypoint_classifier.hdf5\n",
      "53/53 [==============================] - 0s 6ms/step - loss: 1.2248 - accuracy: 0.5341 - val_loss: 0.8169 - val_accuracy: 0.7034\n",
      "Epoch 52/1000\n",
      "46/53 [=========================>....] - ETA: 0s - loss: 1.2178 - accuracy: 0.5409\n",
      "Epoch 52: saving model to model/keypoint_classifier\\keypoint_classifier.hdf5\n",
      "53/53 [==============================] - 0s 6ms/step - loss: 1.2134 - accuracy: 0.5405 - val_loss: 0.8092 - val_accuracy: 0.7151\n",
      "Epoch 53/1000\n",
      "43/53 [=======================>......] - ETA: 0s - loss: 1.2072 - accuracy: 0.5425\n",
      "Epoch 53: saving model to model/keypoint_classifier\\keypoint_classifier.hdf5\n",
      "53/53 [==============================] - 0s 6ms/step - loss: 1.2099 - accuracy: 0.5398 - val_loss: 0.8078 - val_accuracy: 0.7209\n",
      "Epoch 54/1000\n",
      "47/53 [=========================>....] - ETA: 0s - loss: 1.1966 - accuracy: 0.5477\n",
      "Epoch 54: saving model to model/keypoint_classifier\\keypoint_classifier.hdf5\n",
      "53/53 [==============================] - 0s 6ms/step - loss: 1.2000 - accuracy: 0.5468 - val_loss: 0.8103 - val_accuracy: 0.7106\n",
      "Epoch 55/1000\n",
      "47/53 [=========================>....] - ETA: 0s - loss: 1.1860 - accuracy: 0.5509\n",
      "Epoch 55: saving model to model/keypoint_classifier\\keypoint_classifier.hdf5\n",
      "53/53 [==============================] - 0s 6ms/step - loss: 1.1882 - accuracy: 0.5518 - val_loss: 0.7926 - val_accuracy: 0.7276\n",
      "Epoch 56/1000\n",
      "45/53 [========================>.....] - ETA: 0s - loss: 1.2015 - accuracy: 0.5488\n",
      "Epoch 56: saving model to model/keypoint_classifier\\keypoint_classifier.hdf5\n",
      "53/53 [==============================] - 0s 6ms/step - loss: 1.1974 - accuracy: 0.5503 - val_loss: 0.7895 - val_accuracy: 0.7178\n",
      "Epoch 57/1000\n",
      "45/53 [========================>.....] - ETA: 0s - loss: 1.1715 - accuracy: 0.5554\n",
      "Epoch 57: saving model to model/keypoint_classifier\\keypoint_classifier.hdf5\n",
      "53/53 [==============================] - 0s 6ms/step - loss: 1.1725 - accuracy: 0.5566 - val_loss: 0.7902 - val_accuracy: 0.7218\n",
      "Epoch 58/1000\n",
      "46/53 [=========================>....] - ETA: 0s - loss: 1.1986 - accuracy: 0.5442\n",
      "Epoch 58: saving model to model/keypoint_classifier\\keypoint_classifier.hdf5\n",
      "53/53 [==============================] - 0s 6ms/step - loss: 1.1865 - accuracy: 0.5483 - val_loss: 0.7905 - val_accuracy: 0.7330\n",
      "Epoch 59/1000\n",
      "47/53 [=========================>....] - ETA: 0s - loss: 1.1822 - accuracy: 0.5529\n",
      "Epoch 59: saving model to model/keypoint_classifier\\keypoint_classifier.hdf5\n",
      "53/53 [==============================] - 0s 6ms/step - loss: 1.1869 - accuracy: 0.5509 - val_loss: 0.7846 - val_accuracy: 0.7317\n",
      "Epoch 60/1000\n",
      "45/53 [========================>.....] - ETA: 0s - loss: 1.2013 - accuracy: 0.5441\n",
      "Epoch 60: saving model to model/keypoint_classifier\\keypoint_classifier.hdf5\n",
      "53/53 [==============================] - 0s 6ms/step - loss: 1.2051 - accuracy: 0.5456 - val_loss: 0.7833 - val_accuracy: 0.7375\n",
      "Epoch 61/1000\n",
      "48/53 [==========================>...] - ETA: 0s - loss: 1.1710 - accuracy: 0.5586\n",
      "Epoch 61: saving model to model/keypoint_classifier\\keypoint_classifier.hdf5\n",
      "53/53 [==============================] - 0s 6ms/step - loss: 1.1715 - accuracy: 0.5582 - val_loss: 0.7741 - val_accuracy: 0.7384\n",
      "Epoch 62/1000\n",
      "45/53 [========================>.....] - ETA: 0s - loss: 1.1840 - accuracy: 0.5457\n",
      "Epoch 62: saving model to model/keypoint_classifier\\keypoint_classifier.hdf5\n",
      "53/53 [==============================] - 0s 6ms/step - loss: 1.1842 - accuracy: 0.5470 - val_loss: 0.7612 - val_accuracy: 0.7443\n",
      "Epoch 63/1000\n",
      "45/53 [========================>.....] - ETA: 0s - loss: 1.1883 - accuracy: 0.5623\n",
      "Epoch 63: saving model to model/keypoint_classifier\\keypoint_classifier.hdf5\n",
      "53/53 [==============================] - 0s 6ms/step - loss: 1.1888 - accuracy: 0.5621 - val_loss: 0.7762 - val_accuracy: 0.7380\n",
      "Epoch 64/1000\n",
      "45/53 [========================>.....] - ETA: 0s - loss: 1.1636 - accuracy: 0.5594\n",
      "Epoch 64: saving model to model/keypoint_classifier\\keypoint_classifier.hdf5\n",
      "53/53 [==============================] - 0s 6ms/step - loss: 1.1639 - accuracy: 0.5614 - val_loss: 0.7727 - val_accuracy: 0.7402\n",
      "Epoch 65/1000\n",
      "45/53 [========================>.....] - ETA: 0s - loss: 1.1626 - accuracy: 0.5599\n",
      "Epoch 65: saving model to model/keypoint_classifier\\keypoint_classifier.hdf5\n",
      "53/53 [==============================] - 0s 6ms/step - loss: 1.1655 - accuracy: 0.5587 - val_loss: 0.7617 - val_accuracy: 0.7249\n",
      "Epoch 66/1000\n",
      "46/53 [=========================>....] - ETA: 0s - loss: 1.1594 - accuracy: 0.5623\n",
      "Epoch 66: saving model to model/keypoint_classifier\\keypoint_classifier.hdf5\n",
      "53/53 [==============================] - 0s 6ms/step - loss: 1.1623 - accuracy: 0.5617 - val_loss: 0.7571 - val_accuracy: 0.7362\n",
      "Epoch 67/1000\n",
      "47/53 [=========================>....] - ETA: 0s - loss: 1.1662 - accuracy: 0.5567\n",
      "Epoch 67: saving model to model/keypoint_classifier\\keypoint_classifier.hdf5\n",
      "53/53 [==============================] - 0s 6ms/step - loss: 1.1607 - accuracy: 0.5602 - val_loss: 0.7543 - val_accuracy: 0.7447\n",
      "Epoch 68/1000\n",
      "48/53 [==========================>...] - ETA: 0s - loss: 1.1362 - accuracy: 0.5744\n",
      "Epoch 68: saving model to model/keypoint_classifier\\keypoint_classifier.hdf5\n",
      "53/53 [==============================] - 0s 6ms/step - loss: 1.1435 - accuracy: 0.5734 - val_loss: 0.7499 - val_accuracy: 0.7362\n",
      "Epoch 69/1000\n",
      "46/53 [=========================>....] - ETA: 0s - loss: 1.1433 - accuracy: 0.5732\n",
      "Epoch 69: saving model to model/keypoint_classifier\\keypoint_classifier.hdf5\n",
      "53/53 [==============================] - 0s 6ms/step - loss: 1.1476 - accuracy: 0.5713 - val_loss: 0.7478 - val_accuracy: 0.7429\n",
      "Epoch 70/1000\n",
      "45/53 [========================>.....] - ETA: 0s - loss: 1.1432 - accuracy: 0.5682\n",
      "Epoch 70: saving model to model/keypoint_classifier\\keypoint_classifier.hdf5\n",
      "53/53 [==============================] - 0s 6ms/step - loss: 1.1447 - accuracy: 0.5672 - val_loss: 0.7438 - val_accuracy: 0.7622\n",
      "Epoch 71/1000\n",
      "47/53 [=========================>....] - ETA: 0s - loss: 1.1435 - accuracy: 0.5673\n",
      "Epoch 71: saving model to model/keypoint_classifier\\keypoint_classifier.hdf5\n",
      "53/53 [==============================] - 0s 6ms/step - loss: 1.1433 - accuracy: 0.5668 - val_loss: 0.7450 - val_accuracy: 0.7564\n",
      "Epoch 72/1000\n",
      "47/53 [=========================>....] - ETA: 0s - loss: 1.1441 - accuracy: 0.5623\n",
      "Epoch 72: saving model to model/keypoint_classifier\\keypoint_classifier.hdf5\n",
      "53/53 [==============================] - 0s 6ms/step - loss: 1.1476 - accuracy: 0.5614 - val_loss: 0.7342 - val_accuracy: 0.7564\n",
      "Epoch 73/1000\n",
      "47/53 [=========================>....] - ETA: 0s - loss: 1.1649 - accuracy: 0.5633\n",
      "Epoch 73: saving model to model/keypoint_classifier\\keypoint_classifier.hdf5\n",
      "53/53 [==============================] - 0s 6ms/step - loss: 1.1570 - accuracy: 0.5665 - val_loss: 0.7411 - val_accuracy: 0.7483\n",
      "Epoch 74/1000\n",
      "47/53 [=========================>....] - ETA: 0s - loss: 1.1317 - accuracy: 0.5738\n",
      "Epoch 74: saving model to model/keypoint_classifier\\keypoint_classifier.hdf5\n",
      "53/53 [==============================] - 0s 6ms/step - loss: 1.1286 - accuracy: 0.5750 - val_loss: 0.7327 - val_accuracy: 0.7569\n",
      "Epoch 75/1000\n",
      "47/53 [=========================>....] - ETA: 0s - loss: 1.1303 - accuracy: 0.5733\n",
      "Epoch 75: saving model to model/keypoint_classifier\\keypoint_classifier.hdf5\n",
      "53/53 [==============================] - 0s 6ms/step - loss: 1.1273 - accuracy: 0.5746 - val_loss: 0.7387 - val_accuracy: 0.7443\n",
      "Epoch 76/1000\n",
      "51/53 [===========================>..] - ETA: 0s - loss: 1.1230 - accuracy: 0.5832\n",
      "Epoch 76: saving model to model/keypoint_classifier\\keypoint_classifier.hdf5\n",
      "53/53 [==============================] - 0s 6ms/step - loss: 1.1238 - accuracy: 0.5822 - val_loss: 0.7332 - val_accuracy: 0.7465\n",
      "Epoch 77/1000\n",
      "49/53 [==========================>...] - ETA: 0s - loss: 1.1374 - accuracy: 0.5719\n",
      "Epoch 77: saving model to model/keypoint_classifier\\keypoint_classifier.hdf5\n",
      "53/53 [==============================] - 0s 6ms/step - loss: 1.1323 - accuracy: 0.5734 - val_loss: 0.7291 - val_accuracy: 0.7564\n",
      "Epoch 78/1000\n",
      "46/53 [=========================>....] - ETA: 0s - loss: 1.1292 - accuracy: 0.5778\n",
      "Epoch 78: saving model to model/keypoint_classifier\\keypoint_classifier.hdf5\n",
      "53/53 [==============================] - 0s 6ms/step - loss: 1.1298 - accuracy: 0.5752 - val_loss: 0.7319 - val_accuracy: 0.7555\n",
      "Epoch 79/1000\n",
      "47/53 [=========================>....] - ETA: 0s - loss: 1.1104 - accuracy: 0.5814\n",
      "Epoch 79: saving model to model/keypoint_classifier\\keypoint_classifier.hdf5\n",
      "53/53 [==============================] - 0s 6ms/step - loss: 1.1125 - accuracy: 0.5811 - val_loss: 0.7188 - val_accuracy: 0.7649\n",
      "Epoch 80/1000\n",
      "46/53 [=========================>....] - ETA: 0s - loss: 1.1207 - accuracy: 0.5800\n",
      "Epoch 80: saving model to model/keypoint_classifier\\keypoint_classifier.hdf5\n",
      "53/53 [==============================] - 0s 6ms/step - loss: 1.1198 - accuracy: 0.5779 - val_loss: 0.7256 - val_accuracy: 0.7569\n",
      "Epoch 81/1000\n",
      "49/53 [==========================>...] - ETA: 0s - loss: 1.1409 - accuracy: 0.5681\n",
      "Epoch 81: saving model to model/keypoint_classifier\\keypoint_classifier.hdf5\n",
      "53/53 [==============================] - 0s 6ms/step - loss: 1.1407 - accuracy: 0.5699 - val_loss: 0.7288 - val_accuracy: 0.7569\n",
      "Epoch 82/1000\n",
      "49/53 [==========================>...] - ETA: 0s - loss: 1.1214 - accuracy: 0.5749\n",
      "Epoch 82: saving model to model/keypoint_classifier\\keypoint_classifier.hdf5\n",
      "53/53 [==============================] - 0s 6ms/step - loss: 1.1213 - accuracy: 0.5750 - val_loss: 0.7266 - val_accuracy: 0.7636\n",
      "Epoch 83/1000\n",
      "50/53 [===========================>..] - ETA: 0s - loss: 1.0961 - accuracy: 0.5869\n",
      "Epoch 83: saving model to model/keypoint_classifier\\keypoint_classifier.hdf5\n",
      "53/53 [==============================] - 0s 6ms/step - loss: 1.1001 - accuracy: 0.5855 - val_loss: 0.7270 - val_accuracy: 0.7627\n",
      "Epoch 84/1000\n",
      "48/53 [==========================>...] - ETA: 0s - loss: 1.1072 - accuracy: 0.5791\n",
      "Epoch 84: saving model to model/keypoint_classifier\\keypoint_classifier.hdf5\n",
      "53/53 [==============================] - 0s 6ms/step - loss: 1.1086 - accuracy: 0.5773 - val_loss: 0.7251 - val_accuracy: 0.7560\n",
      "Epoch 85/1000\n",
      "45/53 [========================>.....] - ETA: 0s - loss: 1.1138 - accuracy: 0.5786\n",
      "Epoch 85: saving model to model/keypoint_classifier\\keypoint_classifier.hdf5\n",
      "53/53 [==============================] - 0s 6ms/step - loss: 1.1056 - accuracy: 0.5840 - val_loss: 0.7214 - val_accuracy: 0.7609\n",
      "Epoch 86/1000\n",
      "48/53 [==========================>...] - ETA: 0s - loss: 1.1075 - accuracy: 0.5830\n",
      "Epoch 86: saving model to model/keypoint_classifier\\keypoint_classifier.hdf5\n",
      "53/53 [==============================] - 0s 6ms/step - loss: 1.1063 - accuracy: 0.5831 - val_loss: 0.7226 - val_accuracy: 0.7663\n",
      "Epoch 87/1000\n",
      "47/53 [=========================>....] - ETA: 0s - loss: 1.0983 - accuracy: 0.5926\n",
      "Epoch 87: saving model to model/keypoint_classifier\\keypoint_classifier.hdf5\n",
      "53/53 [==============================] - 0s 6ms/step - loss: 1.0977 - accuracy: 0.5939 - val_loss: 0.7300 - val_accuracy: 0.7757\n",
      "Epoch 88/1000\n",
      "50/53 [===========================>..] - ETA: 0s - loss: 1.0725 - accuracy: 0.5959\n",
      "Epoch 88: saving model to model/keypoint_classifier\\keypoint_classifier.hdf5\n",
      "53/53 [==============================] - 0s 6ms/step - loss: 1.0748 - accuracy: 0.5951 - val_loss: 0.6957 - val_accuracy: 0.7721\n",
      "Epoch 89/1000\n",
      "48/53 [==========================>...] - ETA: 0s - loss: 1.0935 - accuracy: 0.5807\n",
      "Epoch 89: saving model to model/keypoint_classifier\\keypoint_classifier.hdf5\n",
      "53/53 [==============================] - 0s 6ms/step - loss: 1.0940 - accuracy: 0.5799 - val_loss: 0.7102 - val_accuracy: 0.7780\n",
      "Epoch 90/1000\n",
      "53/53 [==============================] - ETA: 0s - loss: 1.1020 - accuracy: 0.5852\n",
      "Epoch 90: saving model to model/keypoint_classifier\\keypoint_classifier.hdf5\n",
      "53/53 [==============================] - 0s 7ms/step - loss: 1.1020 - accuracy: 0.5852 - val_loss: 0.7029 - val_accuracy: 0.7771\n",
      "Epoch 91/1000\n",
      "45/53 [========================>.....] - ETA: 0s - loss: 1.0869 - accuracy: 0.5944\n",
      "Epoch 91: saving model to model/keypoint_classifier\\keypoint_classifier.hdf5\n",
      "53/53 [==============================] - 0s 6ms/step - loss: 1.0838 - accuracy: 0.5924 - val_loss: 0.7059 - val_accuracy: 0.7793\n",
      "Epoch 92/1000\n",
      "42/53 [======================>.......] - ETA: 0s - loss: 1.0931 - accuracy: 0.6036\n",
      "Epoch 92: saving model to model/keypoint_classifier\\keypoint_classifier.hdf5\n",
      "53/53 [==============================] - 0s 6ms/step - loss: 1.0940 - accuracy: 0.6041 - val_loss: 0.7154 - val_accuracy: 0.7928\n",
      "Epoch 93/1000\n",
      "45/53 [========================>.....] - ETA: 0s - loss: 1.0780 - accuracy: 0.5894\n",
      "Epoch 93: saving model to model/keypoint_classifier\\keypoint_classifier.hdf5\n",
      "53/53 [==============================] - 0s 6ms/step - loss: 1.0795 - accuracy: 0.5889 - val_loss: 0.7050 - val_accuracy: 0.7762\n",
      "Epoch 94/1000\n",
      "42/53 [======================>.......] - ETA: 0s - loss: 1.0753 - accuracy: 0.5930\n",
      "Epoch 94: saving model to model/keypoint_classifier\\keypoint_classifier.hdf5\n",
      "53/53 [==============================] - 0s 6ms/step - loss: 1.0701 - accuracy: 0.5964 - val_loss: 0.7028 - val_accuracy: 0.7798\n",
      "Epoch 95/1000\n",
      "42/53 [======================>.......] - ETA: 0s - loss: 1.0979 - accuracy: 0.5943\n",
      "Epoch 95: saving model to model/keypoint_classifier\\keypoint_classifier.hdf5\n",
      "53/53 [==============================] - 0s 6ms/step - loss: 1.0913 - accuracy: 0.5990 - val_loss: 0.7032 - val_accuracy: 0.7793\n",
      "Epoch 96/1000\n",
      "43/53 [=======================>......] - ETA: 0s - loss: 1.0872 - accuracy: 0.5918\n",
      "Epoch 96: saving model to model/keypoint_classifier\\keypoint_classifier.hdf5\n",
      "53/53 [==============================] - 0s 6ms/step - loss: 1.0818 - accuracy: 0.5954 - val_loss: 0.7108 - val_accuracy: 0.7825\n",
      "Epoch 97/1000\n",
      "43/53 [=======================>......] - ETA: 0s - loss: 1.0731 - accuracy: 0.5983\n",
      "Epoch 97: saving model to model/keypoint_classifier\\keypoint_classifier.hdf5\n",
      "53/53 [==============================] - 0s 6ms/step - loss: 1.0785 - accuracy: 0.5964 - val_loss: 0.7095 - val_accuracy: 0.7843\n",
      "Epoch 98/1000\n",
      "49/53 [==========================>...] - ETA: 0s - loss: 1.0713 - accuracy: 0.5981\n",
      "Epoch 98: saving model to model/keypoint_classifier\\keypoint_classifier.hdf5\n",
      "53/53 [==============================] - 0s 6ms/step - loss: 1.0727 - accuracy: 0.5946 - val_loss: 0.7083 - val_accuracy: 0.7820\n",
      "Epoch 99/1000\n",
      "46/53 [=========================>....] - ETA: 0s - loss: 1.0817 - accuracy: 0.5965\n",
      "Epoch 99: saving model to model/keypoint_classifier\\keypoint_classifier.hdf5\n",
      "53/53 [==============================] - 0s 6ms/step - loss: 1.0846 - accuracy: 0.5969 - val_loss: 0.7053 - val_accuracy: 0.8004\n",
      "Epoch 100/1000\n",
      "45/53 [========================>.....] - ETA: 0s - loss: 1.0807 - accuracy: 0.6036\n",
      "Epoch 100: saving model to model/keypoint_classifier\\keypoint_classifier.hdf5\n",
      "53/53 [==============================] - 0s 6ms/step - loss: 1.0740 - accuracy: 0.6018 - val_loss: 0.7035 - val_accuracy: 0.7829\n",
      "Epoch 101/1000\n",
      "46/53 [=========================>....] - ETA: 0s - loss: 1.0623 - accuracy: 0.6109\n",
      "Epoch 101: saving model to model/keypoint_classifier\\keypoint_classifier.hdf5\n",
      "53/53 [==============================] - 0s 7ms/step - loss: 1.0577 - accuracy: 0.6117 - val_loss: 0.7038 - val_accuracy: 0.7838\n",
      "Epoch 102/1000\n",
      "44/53 [=======================>......] - ETA: 0s - loss: 1.0536 - accuracy: 0.6035\n",
      "Epoch 102: saving model to model/keypoint_classifier\\keypoint_classifier.hdf5\n",
      "53/53 [==============================] - 0s 6ms/step - loss: 1.0597 - accuracy: 0.6059 - val_loss: 0.7056 - val_accuracy: 0.7928\n",
      "Epoch 103/1000\n",
      "46/53 [=========================>....] - ETA: 0s - loss: 1.0594 - accuracy: 0.6063\n",
      "Epoch 103: saving model to model/keypoint_classifier\\keypoint_classifier.hdf5\n",
      "53/53 [==============================] - 0s 6ms/step - loss: 1.0561 - accuracy: 0.6087 - val_loss: 0.6911 - val_accuracy: 0.7897\n",
      "Epoch 104/1000\n",
      "44/53 [=======================>......] - ETA: 0s - loss: 1.0647 - accuracy: 0.5987\n",
      "Epoch 104: saving model to model/keypoint_classifier\\keypoint_classifier.hdf5\n",
      "53/53 [==============================] - 0s 6ms/step - loss: 1.0663 - accuracy: 0.5984 - val_loss: 0.6971 - val_accuracy: 0.7879\n",
      "Epoch 105/1000\n",
      "45/53 [========================>.....] - ETA: 0s - loss: 1.0766 - accuracy: 0.5953\n",
      "Epoch 105: saving model to model/keypoint_classifier\\keypoint_classifier.hdf5\n",
      "53/53 [==============================] - 0s 6ms/step - loss: 1.0707 - accuracy: 0.5978 - val_loss: 0.7003 - val_accuracy: 0.7843\n",
      "Epoch 106/1000\n",
      "46/53 [=========================>....] - ETA: 0s - loss: 1.0475 - accuracy: 0.6075\n",
      "Epoch 106: saving model to model/keypoint_classifier\\keypoint_classifier.hdf5\n",
      "53/53 [==============================] - 0s 6ms/step - loss: 1.0492 - accuracy: 0.6051 - val_loss: 0.6788 - val_accuracy: 0.8072\n",
      "Epoch 107/1000\n",
      "46/53 [=========================>....] - ETA: 0s - loss: 1.0581 - accuracy: 0.6072\n",
      "Epoch 107: saving model to model/keypoint_classifier\\keypoint_classifier.hdf5\n",
      "53/53 [==============================] - 0s 6ms/step - loss: 1.0587 - accuracy: 0.6069 - val_loss: 0.7002 - val_accuracy: 0.7838\n",
      "Epoch 108/1000\n",
      "44/53 [=======================>......] - ETA: 0s - loss: 1.0471 - accuracy: 0.6080\n",
      "Epoch 108: saving model to model/keypoint_classifier\\keypoint_classifier.hdf5\n",
      "53/53 [==============================] - 0s 6ms/step - loss: 1.0508 - accuracy: 0.6080 - val_loss: 0.6857 - val_accuracy: 0.7928\n",
      "Epoch 109/1000\n",
      "43/53 [=======================>......] - ETA: 0s - loss: 1.0444 - accuracy: 0.6106\n",
      "Epoch 109: saving model to model/keypoint_classifier\\keypoint_classifier.hdf5\n",
      "53/53 [==============================] - 0s 6ms/step - loss: 1.0612 - accuracy: 0.6060 - val_loss: 0.7122 - val_accuracy: 0.7753\n",
      "Epoch 110/1000\n",
      "45/53 [========================>.....] - ETA: 0s - loss: 1.0445 - accuracy: 0.6151\n",
      "Epoch 110: saving model to model/keypoint_classifier\\keypoint_classifier.hdf5\n",
      "53/53 [==============================] - 0s 6ms/step - loss: 1.0425 - accuracy: 0.6144 - val_loss: 0.6952 - val_accuracy: 0.8099\n",
      "Epoch 111/1000\n",
      "44/53 [=======================>......] - ETA: 0s - loss: 1.0707 - accuracy: 0.6000\n",
      "Epoch 111: saving model to model/keypoint_classifier\\keypoint_classifier.hdf5\n",
      "53/53 [==============================] - 0s 7ms/step - loss: 1.0675 - accuracy: 0.6008 - val_loss: 0.7058 - val_accuracy: 0.7784\n",
      "Epoch 112/1000\n",
      "43/53 [=======================>......] - ETA: 0s - loss: 1.0241 - accuracy: 0.6201\n",
      "Epoch 112: saving model to model/keypoint_classifier\\keypoint_classifier.hdf5\n",
      "53/53 [==============================] - 0s 6ms/step - loss: 1.0296 - accuracy: 0.6212 - val_loss: 0.6809 - val_accuracy: 0.8162\n",
      "Epoch 113/1000\n",
      "47/53 [=========================>....] - ETA: 0s - loss: 1.0440 - accuracy: 0.6034\n",
      "Epoch 113: saving model to model/keypoint_classifier\\keypoint_classifier.hdf5\n",
      "53/53 [==============================] - 0s 6ms/step - loss: 1.0443 - accuracy: 0.6042 - val_loss: 0.6802 - val_accuracy: 0.7924\n",
      "Epoch 114/1000\n",
      "43/53 [=======================>......] - ETA: 0s - loss: 1.0385 - accuracy: 0.6165\n",
      "Epoch 114: saving model to model/keypoint_classifier\\keypoint_classifier.hdf5\n",
      "53/53 [==============================] - 0s 6ms/step - loss: 1.0378 - accuracy: 0.6155 - val_loss: 0.6949 - val_accuracy: 0.8018\n",
      "Epoch 115/1000\n",
      "47/53 [=========================>....] - ETA: 0s - loss: 1.0399 - accuracy: 0.6099\n",
      "Epoch 115: saving model to model/keypoint_classifier\\keypoint_classifier.hdf5\n",
      "53/53 [==============================] - 0s 6ms/step - loss: 1.0381 - accuracy: 0.6123 - val_loss: 0.6955 - val_accuracy: 0.8090\n",
      "Epoch 116/1000\n",
      "46/53 [=========================>....] - ETA: 0s - loss: 1.0561 - accuracy: 0.6029\n",
      "Epoch 116: saving model to model/keypoint_classifier\\keypoint_classifier.hdf5\n",
      "53/53 [==============================] - 0s 6ms/step - loss: 1.0439 - accuracy: 0.6080 - val_loss: 0.6959 - val_accuracy: 0.8166\n",
      "Epoch 117/1000\n",
      "46/53 [=========================>....] - ETA: 0s - loss: 1.0474 - accuracy: 0.6128\n",
      "Epoch 117: saving model to model/keypoint_classifier\\keypoint_classifier.hdf5\n",
      "53/53 [==============================] - 0s 6ms/step - loss: 1.0477 - accuracy: 0.6122 - val_loss: 0.6881 - val_accuracy: 0.7933\n",
      "Epoch 118/1000\n",
      "46/53 [=========================>....] - ETA: 0s - loss: 1.0455 - accuracy: 0.6170\n",
      "Epoch 118: saving model to model/keypoint_classifier\\keypoint_classifier.hdf5\n",
      "53/53 [==============================] - 0s 6ms/step - loss: 1.0381 - accuracy: 0.6176 - val_loss: 0.7005 - val_accuracy: 0.8090\n",
      "Epoch 119/1000\n",
      "46/53 [=========================>....] - ETA: 0s - loss: 1.0402 - accuracy: 0.6170\n",
      "Epoch 119: saving model to model/keypoint_classifier\\keypoint_classifier.hdf5\n",
      "53/53 [==============================] - 0s 6ms/step - loss: 1.0458 - accuracy: 0.6143 - val_loss: 0.6927 - val_accuracy: 0.7906\n",
      "Epoch 120/1000\n",
      "46/53 [=========================>....] - ETA: 0s - loss: 1.0322 - accuracy: 0.6189\n",
      "Epoch 120: saving model to model/keypoint_classifier\\keypoint_classifier.hdf5\n",
      "53/53 [==============================] - 0s 6ms/step - loss: 1.0367 - accuracy: 0.6149 - val_loss: 0.6945 - val_accuracy: 0.7924\n",
      "Epoch 121/1000\n",
      "45/53 [========================>.....] - ETA: 0s - loss: 1.0544 - accuracy: 0.6033\n",
      "Epoch 121: saving model to model/keypoint_classifier\\keypoint_classifier.hdf5\n",
      "53/53 [==============================] - 0s 6ms/step - loss: 1.0482 - accuracy: 0.6038 - val_loss: 0.6842 - val_accuracy: 0.8090\n",
      "Epoch 122/1000\n",
      "46/53 [=========================>....] - ETA: 0s - loss: 1.0183 - accuracy: 0.6208\n",
      "Epoch 122: saving model to model/keypoint_classifier\\keypoint_classifier.hdf5\n",
      "53/53 [==============================] - 0s 6ms/step - loss: 1.0201 - accuracy: 0.6201 - val_loss: 0.6663 - val_accuracy: 0.8117\n",
      "Epoch 123/1000\n",
      "43/53 [=======================>......] - ETA: 0s - loss: 1.0322 - accuracy: 0.6199\n",
      "Epoch 123: saving model to model/keypoint_classifier\\keypoint_classifier.hdf5\n",
      "53/53 [==============================] - 0s 6ms/step - loss: 1.0256 - accuracy: 0.6225 - val_loss: 0.6902 - val_accuracy: 0.7910\n",
      "Epoch 124/1000\n",
      "47/53 [=========================>....] - ETA: 0s - loss: 1.0187 - accuracy: 0.6258\n",
      "Epoch 124: saving model to model/keypoint_classifier\\keypoint_classifier.hdf5\n",
      "53/53 [==============================] - 0s 6ms/step - loss: 1.0241 - accuracy: 0.6213 - val_loss: 0.6838 - val_accuracy: 0.7937\n",
      "Epoch 125/1000\n",
      "44/53 [=======================>......] - ETA: 0s - loss: 1.0350 - accuracy: 0.6094\n",
      "Epoch 125: saving model to model/keypoint_classifier\\keypoint_classifier.hdf5\n",
      "53/53 [==============================] - 0s 6ms/step - loss: 1.0388 - accuracy: 0.6095 - val_loss: 0.6901 - val_accuracy: 0.7933\n",
      "Epoch 126/1000\n",
      "45/53 [========================>.....] - ETA: 0s - loss: 1.0194 - accuracy: 0.6283\n",
      "Epoch 126: saving model to model/keypoint_classifier\\keypoint_classifier.hdf5\n",
      "53/53 [==============================] - 0s 6ms/step - loss: 1.0198 - accuracy: 0.6257 - val_loss: 0.6920 - val_accuracy: 0.8220\n",
      "Epoch 127/1000\n",
      "44/53 [=======================>......] - ETA: 0s - loss: 1.0143 - accuracy: 0.6234\n",
      "Epoch 127: saving model to model/keypoint_classifier\\keypoint_classifier.hdf5\n",
      "53/53 [==============================] - 0s 6ms/step - loss: 1.0108 - accuracy: 0.6266 - val_loss: 0.6881 - val_accuracy: 0.7820\n",
      "Epoch 128/1000\n",
      "44/53 [=======================>......] - ETA: 0s - loss: 1.0064 - accuracy: 0.6234\n",
      "Epoch 128: saving model to model/keypoint_classifier\\keypoint_classifier.hdf5\n",
      "53/53 [==============================] - 0s 6ms/step - loss: 1.0077 - accuracy: 0.6260 - val_loss: 0.6813 - val_accuracy: 0.7978\n",
      "Epoch 129/1000\n",
      "47/53 [=========================>....] - ETA: 0s - loss: 1.0058 - accuracy: 0.6154\n",
      "Epoch 129: saving model to model/keypoint_classifier\\keypoint_classifier.hdf5\n",
      "53/53 [==============================] - 0s 6ms/step - loss: 1.0071 - accuracy: 0.6159 - val_loss: 0.6732 - val_accuracy: 0.8135\n",
      "Epoch 130/1000\n",
      "46/53 [=========================>....] - ETA: 0s - loss: 1.0244 - accuracy: 0.6160\n",
      "Epoch 130: saving model to model/keypoint_classifier\\keypoint_classifier.hdf5\n",
      "53/53 [==============================] - 0s 6ms/step - loss: 1.0181 - accuracy: 0.6228 - val_loss: 0.6656 - val_accuracy: 0.8148\n",
      "Epoch 131/1000\n",
      "43/53 [=======================>......] - ETA: 0s - loss: 1.0314 - accuracy: 0.6234\n",
      "Epoch 131: saving model to model/keypoint_classifier\\keypoint_classifier.hdf5\n",
      "53/53 [==============================] - 0s 7ms/step - loss: 1.0379 - accuracy: 0.6165 - val_loss: 0.6974 - val_accuracy: 0.8004\n",
      "Epoch 132/1000\n",
      "46/53 [=========================>....] - ETA: 0s - loss: 1.0242 - accuracy: 0.6150\n",
      "Epoch 132: saving model to model/keypoint_classifier\\keypoint_classifier.hdf5\n",
      "53/53 [==============================] - 0s 6ms/step - loss: 1.0251 - accuracy: 0.6150 - val_loss: 0.6858 - val_accuracy: 0.7874\n",
      "Epoch 133/1000\n",
      "46/53 [=========================>....] - ETA: 0s - loss: 1.0394 - accuracy: 0.6124\n",
      "Epoch 133: saving model to model/keypoint_classifier\\keypoint_classifier.hdf5\n",
      "53/53 [==============================] - 0s 6ms/step - loss: 1.0361 - accuracy: 0.6138 - val_loss: 0.6887 - val_accuracy: 0.7996\n",
      "Epoch 134/1000\n",
      "45/53 [========================>.....] - ETA: 0s - loss: 0.9899 - accuracy: 0.6313\n",
      "Epoch 134: saving model to model/keypoint_classifier\\keypoint_classifier.hdf5\n",
      "53/53 [==============================] - 0s 6ms/step - loss: 1.0055 - accuracy: 0.6248 - val_loss: 0.6847 - val_accuracy: 0.8081\n",
      "Epoch 135/1000\n",
      "45/53 [========================>.....] - ETA: 0s - loss: 1.0242 - accuracy: 0.6269\n",
      "Epoch 135: saving model to model/keypoint_classifier\\keypoint_classifier.hdf5\n",
      "53/53 [==============================] - 0s 6ms/step - loss: 1.0192 - accuracy: 0.6279 - val_loss: 0.6726 - val_accuracy: 0.7973\n",
      "Epoch 136/1000\n",
      "42/53 [======================>.......] - ETA: 0s - loss: 1.0081 - accuracy: 0.6343\n",
      "Epoch 136: saving model to model/keypoint_classifier\\keypoint_classifier.hdf5\n",
      "53/53 [==============================] - 0s 6ms/step - loss: 1.0138 - accuracy: 0.6337 - val_loss: 0.6854 - val_accuracy: 0.8027\n",
      "Epoch 137/1000\n",
      "46/53 [=========================>....] - ETA: 0s - loss: 1.0286 - accuracy: 0.6219\n",
      "Epoch 137: saving model to model/keypoint_classifier\\keypoint_classifier.hdf5\n",
      "53/53 [==============================] - 0s 6ms/step - loss: 1.0261 - accuracy: 0.6231 - val_loss: 0.6972 - val_accuracy: 0.7811\n",
      "Epoch 138/1000\n",
      "45/53 [========================>.....] - ETA: 0s - loss: 0.9850 - accuracy: 0.6306\n",
      "Epoch 138: saving model to model/keypoint_classifier\\keypoint_classifier.hdf5\n",
      "53/53 [==============================] - 0s 6ms/step - loss: 0.9847 - accuracy: 0.6318 - val_loss: 0.6897 - val_accuracy: 0.8058\n",
      "Epoch 139/1000\n",
      "42/53 [======================>.......] - ETA: 0s - loss: 1.0206 - accuracy: 0.6287\n",
      "Epoch 139: saving model to model/keypoint_classifier\\keypoint_classifier.hdf5\n",
      "53/53 [==============================] - 0s 7ms/step - loss: 1.0151 - accuracy: 0.6279 - val_loss: 0.6702 - val_accuracy: 0.8013\n",
      "Epoch 140/1000\n",
      "46/53 [=========================>....] - ETA: 0s - loss: 1.0025 - accuracy: 0.6282\n",
      "Epoch 140: saving model to model/keypoint_classifier\\keypoint_classifier.hdf5\n",
      "53/53 [==============================] - 0s 6ms/step - loss: 1.0027 - accuracy: 0.6261 - val_loss: 0.6986 - val_accuracy: 0.7964\n",
      "Epoch 141/1000\n",
      "42/53 [======================>.......] - ETA: 0s - loss: 0.9886 - accuracy: 0.6300\n",
      "Epoch 141: saving model to model/keypoint_classifier\\keypoint_classifier.hdf5\n",
      "53/53 [==============================] - 0s 6ms/step - loss: 0.9965 - accuracy: 0.6273 - val_loss: 0.6742 - val_accuracy: 0.8058\n",
      "Epoch 142/1000\n",
      "52/53 [============================>.] - ETA: 0s - loss: 0.9995 - accuracy: 0.6303\n",
      "Epoch 142: saving model to model/keypoint_classifier\\keypoint_classifier.hdf5\n",
      "53/53 [==============================] - 0s 7ms/step - loss: 1.0004 - accuracy: 0.6302 - val_loss: 0.6740 - val_accuracy: 0.8292\n",
      "Epoch 143/1000\n",
      "46/53 [=========================>....] - ETA: 0s - loss: 1.0053 - accuracy: 0.6277\n",
      "Epoch 143: saving model to model/keypoint_classifier\\keypoint_classifier.hdf5\n",
      "53/53 [==============================] - 0s 6ms/step - loss: 1.0026 - accuracy: 0.6290 - val_loss: 0.6820 - val_accuracy: 0.7960\n",
      "Epoch 144/1000\n",
      "46/53 [=========================>....] - ETA: 0s - loss: 0.9970 - accuracy: 0.6321\n",
      "Epoch 144: saving model to model/keypoint_classifier\\keypoint_classifier.hdf5\n",
      "53/53 [==============================] - 0s 6ms/step - loss: 1.0038 - accuracy: 0.6306 - val_loss: 0.6675 - val_accuracy: 0.8270\n",
      "Epoch 145/1000\n",
      "47/53 [=========================>....] - ETA: 0s - loss: 1.0250 - accuracy: 0.6198\n",
      "Epoch 145: saving model to model/keypoint_classifier\\keypoint_classifier.hdf5\n",
      "53/53 [==============================] - 0s 6ms/step - loss: 1.0215 - accuracy: 0.6212 - val_loss: 0.6786 - val_accuracy: 0.7978\n",
      "Epoch 146/1000\n",
      "44/53 [=======================>......] - ETA: 0s - loss: 1.0070 - accuracy: 0.6323\n",
      "Epoch 146: saving model to model/keypoint_classifier\\keypoint_classifier.hdf5\n",
      "53/53 [==============================] - 0s 6ms/step - loss: 1.0014 - accuracy: 0.6325 - val_loss: 0.6794 - val_accuracy: 0.8090\n",
      "Epoch 147/1000\n",
      "45/53 [========================>.....] - ETA: 0s - loss: 1.0061 - accuracy: 0.6247\n",
      "Epoch 147: saving model to model/keypoint_classifier\\keypoint_classifier.hdf5\n",
      "53/53 [==============================] - 0s 6ms/step - loss: 1.0055 - accuracy: 0.6270 - val_loss: 0.6942 - val_accuracy: 0.7847\n",
      "Epoch 148/1000\n",
      "45/53 [========================>.....] - ETA: 0s - loss: 1.0133 - accuracy: 0.6130\n",
      "Epoch 148: saving model to model/keypoint_classifier\\keypoint_classifier.hdf5\n",
      "53/53 [==============================] - 0s 6ms/step - loss: 1.0208 - accuracy: 0.6140 - val_loss: 0.6970 - val_accuracy: 0.8180\n",
      "Epoch 149/1000\n",
      "46/53 [=========================>....] - ETA: 0s - loss: 1.0099 - accuracy: 0.6265\n",
      "Epoch 149: saving model to model/keypoint_classifier\\keypoint_classifier.hdf5\n",
      "53/53 [==============================] - 0s 6ms/step - loss: 1.0164 - accuracy: 0.6227 - val_loss: 0.6798 - val_accuracy: 0.7915\n",
      "Epoch 150/1000\n",
      "48/53 [==========================>...] - ETA: 0s - loss: 1.0144 - accuracy: 0.6239\n",
      "Epoch 150: saving model to model/keypoint_classifier\\keypoint_classifier.hdf5\n",
      "53/53 [==============================] - 0s 6ms/step - loss: 1.0118 - accuracy: 0.6239 - val_loss: 0.6916 - val_accuracy: 0.8180\n",
      "Epoch 150: early stopping\n"
     ]
    },
    {
     "data": {
      "text/plain": [
       "<keras.src.callbacks.History at 0x1d1128101f0>"
      ]
     },
     "execution_count": 33,
     "metadata": {},
     "output_type": "execute_result"
    }
   ],
   "source": [
    "model.fit(\n",
    "    X_train,\n",
    "    y_train,\n",
    "    epochs=1000,\n",
    "    batch_size=128,\n",
    "    validation_data=(X_test, y_test),\n",
    "    callbacks=[cp_callback, es_callback]\n",
    ")"
   ]
  },
  {
   "cell_type": "code",
   "execution_count": 34,
   "metadata": {
    "colab": {
     "base_uri": "https://localhost:8080/"
    },
    "id": "pxvb2Y299hE3",
    "outputId": "59eb3185-2e37-4b9e-bc9d-ab1b8ac29b7f"
   },
   "outputs": [
    {
     "name": "stdout",
     "output_type": "stream",
     "text": [
      "18/18 [==============================] - 0s 3ms/step - loss: 0.6916 - accuracy: 0.8180\n"
     ]
    }
   ],
   "source": [
    "# Model evaluation\n",
    "val_loss, val_acc = model.evaluate(X_test, y_test, batch_size=128)"
   ]
  },
  {
   "cell_type": "code",
   "execution_count": 35,
   "metadata": {
    "id": "RBkmDeUW9hE4"
   },
   "outputs": [],
   "source": [
    "# Loading the saved model\n",
    "model = tf.keras.models.load_model(model_save_path)"
   ]
  },
  {
   "cell_type": "code",
   "execution_count": 36,
   "metadata": {
    "colab": {
     "base_uri": "https://localhost:8080/"
    },
    "id": "tFz9Tb0I9hE4",
    "outputId": "1c3b3528-54ae-4ee2-ab04-77429211cbef"
   },
   "outputs": [
    {
     "name": "stdout",
     "output_type": "stream",
     "text": [
      "1/1 [==============================] - 0s 93ms/step\n",
      "[2.24561766e-01 1.50571493e-02 5.17026901e-01 1.54034365e-02\n",
      " 2.16030732e-01 3.71474540e-04 9.46539827e-03 1.93474477e-03\n",
      " 1.48257794e-04 1.09942242e-07]\n",
      "2\n"
     ]
    }
   ],
   "source": [
    "# Inference test\n",
    "predict_result = model.predict(np.array([X_test[0]]))\n",
    "print(np.squeeze(predict_result))\n",
    "print(np.argmax(np.squeeze(predict_result)))"
   ]
  },
  {
   "cell_type": "markdown",
   "metadata": {
    "id": "S3U4yNWx9hE4"
   },
   "source": [
    "# Confusion matrix"
   ]
  },
  {
   "cell_type": "code",
   "execution_count": 37,
   "metadata": {
    "colab": {
     "base_uri": "https://localhost:8080/",
     "height": 582
    },
    "id": "AP1V6SCk9hE5",
    "outputId": "08e41a80-7a4a-4619-8125-ecc371368d19"
   },
   "outputs": [
    {
     "name": "stdout",
     "output_type": "stream",
     "text": [
      "70/70 [==============================] - 0s 2ms/step\n"
     ]
    },
    {
     "data": {
      "image/png": "[encoded data removed]",
      "text/plain": [
       "<Figure size 700x600 with 2 Axes>"
      ]
     },
     "metadata": {},
     "output_type": "display_data"
    },
    {
     "name": "stdout",
     "output_type": "stream",
     "text": [
      "Classification Report\n",
      "              precision    recall  f1-score   support\n",
      "\n",
      "           0       0.73      0.30      0.42       301\n",
      "           1       0.95      0.83      0.88       170\n",
      "           2       0.70      0.89      0.78       300\n",
      "           3       0.91      0.88      0.89       313\n",
      "           4       0.74      0.96      0.84       457\n",
      "           5       0.93      0.98      0.96       143\n",
      "           6       0.88      0.84      0.86       229\n",
      "           7       0.92      0.85      0.88       146\n",
      "           8       0.86      0.93      0.89       166\n",
      "\n",
      "    accuracy                           0.82      2225\n",
      "   macro avg       0.85      0.83      0.82      2225\n",
      "weighted avg       0.82      0.82      0.80      2225\n",
      "\n"
     ]
    }
   ],
   "source": [
    "import pandas as pd\n",
    "import seaborn as sns\n",
    "import matplotlib.pyplot as plt\n",
    "from sklearn.metrics import confusion_matrix, classification_report\n",
    "\n",
    "def print_confusion_matrix(y_true, y_pred, report=True):\n",
    "    labels = sorted(list(set(y_true)))\n",
    "    cmx_data = confusion_matrix(y_true, y_pred, labels=labels)\n",
    "    \n",
    "    df_cmx = pd.DataFrame(cmx_data, index=labels, columns=labels)\n",
    " \n",
    "    fig, ax = plt.subplots(figsize=(7, 6))\n",
    "    sns.heatmap(df_cmx, annot=True, fmt='g' ,square=False)\n",
    "    ax.set_ylim(len(set(y_true)), 0)\n",
    "    plt.show()\n",
    "    \n",
    "    if report:\n",
    "        print('Classification Report')\n",
    "        print(classification_report(y_test, y_pred))\n",
    "\n",
    "Y_pred = model.predict(X_test)\n",
    "y_pred = np.argmax(Y_pred, axis=1)\n",
    "\n",
    "print_confusion_matrix(y_test, y_pred)"
   ]
  },
  {
   "cell_type": "markdown",
   "metadata": {
    "id": "FNP6aqzc9hE5"
   },
   "source": [
    "# Convert to model for Tensorflow-Lite"
   ]
  },
  {
   "cell_type": "code",
   "execution_count": 38,
   "metadata": {
    "id": "ODjnYyld9hE6"
   },
   "outputs": [
    {
     "name": "stderr",
     "output_type": "stream",
     "text": [
      "C:\\Users\\Mohamed Ashif\\AppData\\Local\\Programs\\Python\\Python38\\lib\\site-packages\\keras\\src\\engine\\training.py:3000: UserWarning: You are saving your model as an HDF5 file via `model.save()`. This file format is considered legacy. We recommend using instead the native Keras format, e.g. `model.save('my_model.keras')`.\n",
      "  saving_api.save_model(\n"
     ]
    }
   ],
   "source": [
    "# Save as a model dedicated to inference\n",
    "model.save(model_save_path, include_optimizer=False)"
   ]
  },
  {
   "cell_type": "code",
   "execution_count": 39,
   "metadata": {
    "colab": {
     "base_uri": "https://localhost:8080/"
    },
    "id": "zRfuK8Y59hE6",
    "outputId": "a4ca585c-b5d5-4244-8291-8674063209bb"
   },
   "outputs": [
    {
     "name": "stdout",
     "output_type": "stream",
     "text": [
      "INFO:tensorflow:Assets written to: C:\\Users\\MOHAME~1\\AppData\\Local\\Temp\\tmpp2amxadq\\assets\n"
     ]
    },
    {
     "name": "stderr",
     "output_type": "stream",
     "text": [
      "INFO:tensorflow:Assets written to: C:\\Users\\MOHAME~1\\AppData\\Local\\Temp\\tmpp2amxadq\\assets\n"
     ]
    },
    {
     "data": {
      "text/plain": [
       "6836"
      ]
     },
     "execution_count": 39,
     "metadata": {},
     "output_type": "execute_result"
    }
   ],
   "source": [
    "# Transform model (quantization)\n",
    "\n",
    "converter = tf.lite.TFLiteConverter.from_keras_model(model)\n",
    "converter.optimizations = [tf.lite.Optimize.DEFAULT]\n",
    "tflite_quantized_model = converter.convert()\n",
    "\n",
    "open(tflite_save_path, 'wb').write(tflite_quantized_model)"
   ]
  },
  {
   "cell_type": "markdown",
   "metadata": {
    "id": "CHBPBXdx9hE6"
   },
   "source": [
    "# Inference test"
   ]
  },
  {
   "cell_type": "code",
   "execution_count": 40,
   "metadata": {
    "id": "mGAzLocO9hE7"
   },
   "outputs": [],
   "source": [
    "interpreter = tf.lite.Interpreter(model_path=tflite_save_path)\n",
    "interpreter.allocate_tensors()"
   ]
  },
  {
   "cell_type": "code",
   "execution_count": 41,
   "metadata": {
    "id": "oQuDK8YS9hE7"
   },
   "outputs": [],
   "source": [
    "# Get I / O tensor\n",
    "input_details = interpreter.get_input_details()\n",
    "output_details = interpreter.get_output_details()"
   ]
  },
  {
   "cell_type": "code",
   "execution_count": 42,
   "metadata": {
    "id": "2_ixAf_l9hE7"
   },
   "outputs": [],
   "source": [
    "interpreter.set_tensor(input_details[0]['index'], np.array([X_test[0]]))"
   ]
  },
  {
   "cell_type": "code",
   "execution_count": 43,
   "metadata": {
    "colab": {
     "base_uri": "https://localhost:8080/"
    },
    "id": "s4FoAnuc9hE7",
    "outputId": "91f18257-8d8b-4ef3-c558-e9b5f94fabbf",
    "scrolled": true
   },
   "outputs": [
    {
     "name": "stdout",
     "output_type": "stream",
     "text": [
      "CPU times: total: 0 ns\n",
      "Wall time: 0 ns\n"
     ]
    }
   ],
   "source": [
    "%%time\n",
    "# Inference implementation\n",
    "interpreter.invoke()\n",
    "tflite_results = interpreter.get_tensor(output_details[0]['index'])"
   ]
  },
  {
   "cell_type": "code",
   "execution_count": 44,
   "metadata": {
    "colab": {
     "base_uri": "https://localhost:8080/"
    },
    "id": "vONjp19J9hE8",
    "outputId": "77205e24-fd00-42c4-f7b6-e06e527c2cba"
   },
   "outputs": [
    {
     "name": "stdout",
     "output_type": "stream",
     "text": [
      "[2.24561796e-01 1.50571493e-02 5.17027020e-01 1.54034439e-02\n",
      " 2.16030657e-01 3.71474627e-04 9.46540479e-03 1.93474605e-03\n",
      " 1.48257808e-04 1.09942256e-07]\n",
      "2\n"
     ]
    }
   ],
   "source": [
    "print(np.squeeze(tflite_results))\n",
    "print(np.argmax(np.squeeze(tflite_results)))"
   ]
  }
 ],
 "metadata": {
  "accelerator": "GPU",
  "colab": {
   "collapsed_sections": [],
   "name": "keypoint_classification_EN.ipynb",
   "provenance": [],
   "toc_visible": true
  },
  "kernelspec": {
   "display_name": "Python 3 (ipykernel)",
   "language": "python",
   "name": "python3"
  },
  "language_info": {
   "codemirror_mode": {
    "name": "ipython",
    "version": 3
   },
   "file_extension": ".py",
   "mimetype": "text/x-python",
   "name": "python",
   "nbconvert_exporter": "python",
   "pygments_lexer": "ipython3",
   "version": "3.8.10"
  }
 },
 "nbformat": 4,
 "nbformat_minor": 4
}
