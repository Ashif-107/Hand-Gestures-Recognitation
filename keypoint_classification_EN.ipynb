{
 "cells": [
  {
   "cell_type": "code",
   "execution_count": 1,
   "metadata": {
    "id": "igMyGnjE9hEp"
   },
   "outputs": [],
   "source": [
    "import csv\n",
    "\n",
    "import numpy as np\n",
    "import tensorflow as tf\n",
    "from sklearn.model_selection import train_test_split\n",
    "\n",
    "RANDOM_SEED = 42"
   ]
  },
  {
   "cell_type": "markdown",
   "metadata": {
    "id": "t2HDvhIu9hEr"
   },
   "source": [
    "# Specify each path"
   ]
  },
  {
   "cell_type": "code",
   "execution_count": 2,
   "metadata": {
    "id": "9NvZP2Zn9hEy"
   },
   "outputs": [],
   "source": [
    "dataset = 'model/keypoint_classifier/keypoint.csv'\n",
    "model_save_path = 'model/keypoint_classifier/keypoint_classifier.hdf5'\n",
    "tflite_save_path = 'model/keypoint_classifier/keypoint_classifier.tflite'"
   ]
  },
  {
   "cell_type": "markdown",
   "metadata": {
    "id": "s5oMH7x19hEz"
   },
   "source": [
    "# Set number of classes"
   ]
  },
  {
   "cell_type": "code",
   "execution_count": 3,
   "metadata": {
    "id": "du4kodXL9hEz"
   },
   "outputs": [],
   "source": [
    "NUM_CLASSES = 10"
   ]
  },
  {
   "cell_type": "markdown",
   "metadata": {
    "id": "XjnL0uso9hEz"
   },
   "source": [
    "# Dataset reading"
   ]
  },
  {
   "cell_type": "code",
   "execution_count": 4,
   "metadata": {
    "id": "QT5ZqtEz9hE0"
   },
   "outputs": [],
   "source": [
    "X_dataset = np.loadtxt(dataset, delimiter=',', dtype='float32', usecols=list(range(1, (21 * 2) + 1)))"
   ]
  },
  {
   "cell_type": "code",
   "execution_count": 5,
   "metadata": {
    "id": "QmoKFsp49hE0"
   },
   "outputs": [],
   "source": [
    "y_dataset = np.loadtxt(dataset, delimiter=',', dtype='int32', usecols=(0))"
   ]
  },
  {
   "cell_type": "code",
   "execution_count": 6,
   "metadata": {
    "id": "xQU7JTZ_9hE0"
   },
   "outputs": [],
   "source": [
    "X_train, X_test, y_train, y_test = train_test_split(X_dataset, y_dataset, train_size=0.75, random_state=RANDOM_SEED)"
   ]
  },
  {
   "cell_type": "markdown",
   "metadata": {
    "id": "mxK_lETT9hE0"
   },
   "source": [
    "# Model building"
   ]
  },
  {
   "cell_type": "code",
   "execution_count": 7,
   "metadata": {
    "id": "vHBmUf1t9hE1"
   },
   "outputs": [],
   "source": [
    "model = tf.keras.models.Sequential([\n",
    "    tf.keras.layers.Input((21 * 2, )),\n",
    "    tf.keras.layers.Dropout(0.2),\n",
    "    tf.keras.layers.Dense(20, activation='relu'),\n",
    "    tf.keras.layers.Dropout(0.4),\n",
    "    tf.keras.layers.Dense(10, activation='relu'),\n",
    "    tf.keras.layers.Dense(NUM_CLASSES, activation='softmax')\n",
    "])"
   ]
  },
  {
   "cell_type": "code",
   "execution_count": 8,
   "metadata": {
    "colab": {
     "base_uri": "https://localhost:8080/"
    },
    "id": "ypqky9tc9hE1",
    "outputId": "5db082bb-30e3-4110-bf63-a1ee777ecd46"
   },
   "outputs": [
    {
     "name": "stdout",
     "output_type": "stream",
     "text": [
      "Model: \"sequential\"\n",
      "_________________________________________________________________\n",
      " Layer (type)                Output Shape              Param #   \n",
      "=================================================================\n",
      " dropout (Dropout)           (None, 42)                0         \n",
      "                                                                 \n",
      " dense (Dense)               (None, 20)                860       \n",
      "                                                                 \n",
      " dropout_1 (Dropout)         (None, 20)                0         \n",
      "                                                                 \n",
      " dense_1 (Dense)             (None, 10)                210       \n",
      "                                                                 \n",
      " dense_2 (Dense)             (None, 10)                110       \n",
      "                                                                 \n",
      "=================================================================\n",
      "Total params: 1180 (4.61 KB)\n",
      "Trainable params: 1180 (4.61 KB)\n",
      "Non-trainable params: 0 (0.00 Byte)\n",
      "_________________________________________________________________\n"
     ]
    }
   ],
   "source": [
    "model.summary()  # tf.keras.utils.plot_model(model, show_shapes=True)"
   ]
  },
  {
   "cell_type": "code",
   "execution_count": 9,
   "metadata": {
    "id": "MbMjOflQ9hE1"
   },
   "outputs": [],
   "source": [
    "# Model checkpoint callback\n",
    "cp_callback = tf.keras.callbacks.ModelCheckpoint(\n",
    "    model_save_path, verbose=1, save_weights_only=False)\n",
    "# Callback for early stopping\n",
    "es_callback = tf.keras.callbacks.EarlyStopping(patience=20, verbose=1)"
   ]
  },
  {
   "cell_type": "code",
   "execution_count": 10,
   "metadata": {
    "id": "c3Dac0M_9hE2"
   },
   "outputs": [],
   "source": [
    "# Model compilation\n",
    "model.compile(\n",
    "    optimizer='adam',\n",
    "    loss='sparse_categorical_crossentropy',\n",
    "    metrics=['accuracy']\n",
    ")"
   ]
  },
  {
   "cell_type": "markdown",
   "metadata": {
    "id": "7XI0j1Iu9hE2"
   },
   "source": [
    "# Model training"
   ]
  },
  {
   "cell_type": "code",
   "execution_count": 11,
   "metadata": {
    "colab": {
     "base_uri": "https://localhost:8080/"
    },
    "id": "WirBl-JE9hE3",
    "outputId": "71b30ca2-8294-4d9d-8aa2-800d90d399de",
    "scrolled": true
   },
   "outputs": [
    {
     "name": "stdout",
     "output_type": "stream",
     "text": [
      "Epoch 1/1000\n",
      "22/40 [===============>..............] - ETA: 0s - loss: 2.2542 - accuracy: 0.1573 \n",
      "Epoch 1: saving model to model/keypoint_classifier\\keypoint_classifier.hdf5\n",
      "40/40 [==============================] - 1s 8ms/step - loss: 2.2268 - accuracy: 0.1803 - val_loss: 2.1402 - val_accuracy: 0.2183\n",
      "Epoch 2/1000\n",
      "22/40 [===============>..............] - ETA: 0s - loss: 2.1454 - accuracy: 0.2230\n",
      "Epoch 2: saving model to model/keypoint_classifier\\keypoint_classifier.hdf5\n",
      "40/40 [==============================] - 0s 4ms/step - loss: 2.1345 - accuracy: 0.2220 - val_loss: 2.0448 - val_accuracy: 0.2444\n"
     ]
    },
    {
     "name": "stderr",
     "output_type": "stream",
     "text": [
      "C:\\Users\\Mohamed Ashif\\AppData\\Local\\Programs\\Python\\Python38\\lib\\site-packages\\keras\\src\\engine\\training.py:3000: UserWarning: You are saving your model as an HDF5 file via `model.save()`. This file format is considered legacy. We recommend using instead the native Keras format, e.g. `model.save('my_model.keras')`.\n",
      "  saving_api.save_model(\n"
     ]
    },
    {
     "name": "stdout",
     "output_type": "stream",
     "text": [
      "Epoch 3/1000\n",
      "23/40 [================>.............] - ETA: 0s - loss: 2.0659 - accuracy: 0.2476\n",
      "Epoch 3: saving model to model/keypoint_classifier\\keypoint_classifier.hdf5\n",
      "40/40 [==============================] - 0s 4ms/step - loss: 2.0551 - accuracy: 0.2446 - val_loss: 1.9455 - val_accuracy: 0.2722\n",
      "Epoch 4/1000\n",
      "23/40 [================>.............] - ETA: 0s - loss: 2.0034 - accuracy: 0.2663\n",
      "Epoch 4: saving model to model/keypoint_classifier\\keypoint_classifier.hdf5\n",
      "40/40 [==============================] - 0s 4ms/step - loss: 1.9927 - accuracy: 0.2685 - val_loss: 1.8507 - val_accuracy: 0.3399\n",
      "Epoch 5/1000\n",
      "24/40 [=================>............] - ETA: 0s - loss: 1.9502 - accuracy: 0.2835\n",
      "Epoch 5: saving model to model/keypoint_classifier\\keypoint_classifier.hdf5\n",
      "40/40 [==============================] - 0s 4ms/step - loss: 1.9302 - accuracy: 0.2942 - val_loss: 1.7572 - val_accuracy: 0.3511\n",
      "Epoch 6/1000\n",
      "25/40 [=================>............] - ETA: 0s - loss: 1.8726 - accuracy: 0.3166\n",
      "Epoch 6: saving model to model/keypoint_classifier\\keypoint_classifier.hdf5\n",
      "40/40 [==============================] - 0s 4ms/step - loss: 1.8592 - accuracy: 0.3254 - val_loss: 1.6657 - val_accuracy: 0.3826\n",
      "Epoch 7/1000\n",
      "25/40 [=================>............] - ETA: 0s - loss: 1.8248 - accuracy: 0.3366\n",
      "Epoch 7: saving model to model/keypoint_classifier\\keypoint_classifier.hdf5\n",
      "40/40 [==============================] - 0s 4ms/step - loss: 1.8047 - accuracy: 0.3486 - val_loss: 1.5693 - val_accuracy: 0.4241\n",
      "Epoch 8/1000\n",
      "26/40 [==================>...........] - ETA: 0s - loss: 1.7414 - accuracy: 0.3705\n",
      "Epoch 8: saving model to model/keypoint_classifier\\keypoint_classifier.hdf5\n",
      "40/40 [==============================] - 0s 4ms/step - loss: 1.7367 - accuracy: 0.3705 - val_loss: 1.4867 - val_accuracy: 0.4887\n",
      "Epoch 9/1000\n",
      "24/40 [=================>............] - ETA: 0s - loss: 1.6887 - accuracy: 0.3861\n",
      "Epoch 9: saving model to model/keypoint_classifier\\keypoint_classifier.hdf5\n",
      "40/40 [==============================] - 0s 4ms/step - loss: 1.6762 - accuracy: 0.3885 - val_loss: 1.3958 - val_accuracy: 0.5824\n",
      "Epoch 10/1000\n",
      "24/40 [=================>............] - ETA: 0s - loss: 1.6122 - accuracy: 0.4076\n",
      "Epoch 10: saving model to model/keypoint_classifier\\keypoint_classifier.hdf5\n",
      "40/40 [==============================] - 0s 4ms/step - loss: 1.6113 - accuracy: 0.4091 - val_loss: 1.3208 - val_accuracy: 0.6257\n",
      "Epoch 11/1000\n",
      "24/40 [=================>............] - ETA: 0s - loss: 1.5833 - accuracy: 0.4108\n",
      "Epoch 11: saving model to model/keypoint_classifier\\keypoint_classifier.hdf5\n",
      "40/40 [==============================] - 0s 4ms/step - loss: 1.5775 - accuracy: 0.4144 - val_loss: 1.2661 - val_accuracy: 0.6293\n",
      "Epoch 12/1000\n",
      "26/40 [==================>...........] - ETA: 0s - loss: 1.5472 - accuracy: 0.4192\n",
      "Epoch 12: saving model to model/keypoint_classifier\\keypoint_classifier.hdf5\n",
      "40/40 [==============================] - 0s 4ms/step - loss: 1.5399 - accuracy: 0.4292 - val_loss: 1.2124 - val_accuracy: 0.6619\n",
      "Epoch 13/1000\n",
      "25/40 [=================>............] - ETA: 0s - loss: 1.5292 - accuracy: 0.4278\n",
      "Epoch 13: saving model to model/keypoint_classifier\\keypoint_classifier.hdf5\n",
      "40/40 [==============================] - 0s 4ms/step - loss: 1.5239 - accuracy: 0.4306 - val_loss: 1.1723 - val_accuracy: 0.6779\n",
      "Epoch 14/1000\n",
      "25/40 [=================>............] - ETA: 0s - loss: 1.4974 - accuracy: 0.4506\n",
      "Epoch 14: saving model to model/keypoint_classifier\\keypoint_classifier.hdf5\n",
      "40/40 [==============================] - 0s 4ms/step - loss: 1.5007 - accuracy: 0.4440 - val_loss: 1.1411 - val_accuracy: 0.6898\n",
      "Epoch 15/1000\n",
      "24/40 [=================>............] - ETA: 0s - loss: 1.4645 - accuracy: 0.4639\n",
      "Epoch 15: saving model to model/keypoint_classifier\\keypoint_classifier.hdf5\n",
      "40/40 [==============================] - 0s 4ms/step - loss: 1.4726 - accuracy: 0.4553 - val_loss: 1.1120 - val_accuracy: 0.6874\n",
      "Epoch 16/1000\n",
      "26/40 [==================>...........] - ETA: 0s - loss: 1.4829 - accuracy: 0.4357\n",
      "Epoch 16: saving model to model/keypoint_classifier\\keypoint_classifier.hdf5\n",
      "40/40 [==============================] - 0s 4ms/step - loss: 1.4727 - accuracy: 0.4444 - val_loss: 1.0938 - val_accuracy: 0.6922\n",
      "Epoch 17/1000\n",
      "25/40 [=================>............] - ETA: 0s - loss: 1.4513 - accuracy: 0.4681\n",
      "Epoch 17: saving model to model/keypoint_classifier\\keypoint_classifier.hdf5\n",
      "40/40 [==============================] - 0s 4ms/step - loss: 1.4378 - accuracy: 0.4682 - val_loss: 1.0686 - val_accuracy: 0.7040\n",
      "Epoch 18/1000\n",
      "22/40 [===============>..............] - ETA: 0s - loss: 1.4076 - accuracy: 0.4641\n",
      "Epoch 18: saving model to model/keypoint_classifier\\keypoint_classifier.hdf5\n",
      "40/40 [==============================] - 0s 4ms/step - loss: 1.4218 - accuracy: 0.4563 - val_loss: 1.0419 - val_accuracy: 0.7064\n",
      "Epoch 19/1000\n",
      "24/40 [=================>............] - ETA: 0s - loss: 1.3947 - accuracy: 0.4766\n",
      "Epoch 19: saving model to model/keypoint_classifier\\keypoint_classifier.hdf5\n",
      "40/40 [==============================] - 0s 4ms/step - loss: 1.4014 - accuracy: 0.4794 - val_loss: 1.0220 - val_accuracy: 0.7052\n",
      "Epoch 20/1000\n",
      "24/40 [=================>............] - ETA: 0s - loss: 1.4100 - accuracy: 0.4704\n",
      "Epoch 20: saving model to model/keypoint_classifier\\keypoint_classifier.hdf5\n",
      "40/40 [==============================] - 0s 4ms/step - loss: 1.3959 - accuracy: 0.4733 - val_loss: 1.0021 - val_accuracy: 0.7165\n",
      "Epoch 21/1000\n",
      "26/40 [==================>...........] - ETA: 0s - loss: 1.3657 - accuracy: 0.4970\n",
      "Epoch 21: saving model to model/keypoint_classifier\\keypoint_classifier.hdf5\n",
      "40/40 [==============================] - 0s 4ms/step - loss: 1.3859 - accuracy: 0.4883 - val_loss: 0.9959 - val_accuracy: 0.7112\n",
      "Epoch 22/1000\n",
      "24/40 [=================>............] - ETA: 0s - loss: 1.3778 - accuracy: 0.4801\n",
      "Epoch 22: saving model to model/keypoint_classifier\\keypoint_classifier.hdf5\n",
      "40/40 [==============================] - 0s 4ms/step - loss: 1.3759 - accuracy: 0.4917 - val_loss: 0.9842 - val_accuracy: 0.7165\n",
      "Epoch 23/1000\n",
      "26/40 [==================>...........] - ETA: 0s - loss: 1.3823 - accuracy: 0.4760\n",
      "Epoch 23: saving model to model/keypoint_classifier\\keypoint_classifier.hdf5\n",
      "40/40 [==============================] - 0s 4ms/step - loss: 1.3720 - accuracy: 0.4800 - val_loss: 0.9755 - val_accuracy: 0.7177\n",
      "Epoch 24/1000\n",
      "25/40 [=================>............] - ETA: 0s - loss: 1.3601 - accuracy: 0.4897\n",
      "Epoch 24: saving model to model/keypoint_classifier\\keypoint_classifier.hdf5\n",
      "40/40 [==============================] - 0s 4ms/step - loss: 1.3529 - accuracy: 0.4873 - val_loss: 0.9494 - val_accuracy: 0.7189\n",
      "Epoch 25/1000\n",
      "24/40 [=================>............] - ETA: 0s - loss: 1.3343 - accuracy: 0.4948\n",
      "Epoch 25: saving model to model/keypoint_classifier\\keypoint_classifier.hdf5\n",
      "40/40 [==============================] - 0s 4ms/step - loss: 1.3331 - accuracy: 0.4943 - val_loss: 0.9426 - val_accuracy: 0.7189\n",
      "Epoch 26/1000\n",
      "26/40 [==================>...........] - ETA: 0s - loss: 1.3603 - accuracy: 0.4910\n",
      "Epoch 26: saving model to model/keypoint_classifier\\keypoint_classifier.hdf5\n",
      "40/40 [==============================] - 0s 3ms/step - loss: 1.3526 - accuracy: 0.4937 - val_loss: 0.9370 - val_accuracy: 0.7129\n",
      "Epoch 27/1000\n",
      "20/40 [==============>...............] - ETA: 0s - loss: 1.3460 - accuracy: 0.4984\n",
      "Epoch 27: saving model to model/keypoint_classifier\\keypoint_classifier.hdf5\n",
      "40/40 [==============================] - 0s 4ms/step - loss: 1.3413 - accuracy: 0.4957 - val_loss: 0.9387 - val_accuracy: 0.7117\n",
      "Epoch 28/1000\n",
      "24/40 [=================>............] - ETA: 0s - loss: 1.3049 - accuracy: 0.5091\n",
      "Epoch 28: saving model to model/keypoint_classifier\\keypoint_classifier.hdf5\n",
      "40/40 [==============================] - 0s 4ms/step - loss: 1.3256 - accuracy: 0.5022 - val_loss: 0.9233 - val_accuracy: 0.7123\n",
      "Epoch 29/1000\n",
      "24/40 [=================>............] - ETA: 0s - loss: 1.3352 - accuracy: 0.4876\n",
      "Epoch 29: saving model to model/keypoint_classifier\\keypoint_classifier.hdf5\n",
      "40/40 [==============================] - 0s 4ms/step - loss: 1.3156 - accuracy: 0.4976 - val_loss: 0.9057 - val_accuracy: 0.7189\n",
      "Epoch 30/1000\n",
      "22/40 [===============>..............] - ETA: 0s - loss: 1.3154 - accuracy: 0.4961\n",
      "Epoch 30: saving model to model/keypoint_classifier\\keypoint_classifier.hdf5\n",
      "40/40 [==============================] - 0s 4ms/step - loss: 1.3057 - accuracy: 0.5038 - val_loss: 0.9075 - val_accuracy: 0.7266\n",
      "Epoch 31/1000\n",
      "24/40 [=================>............] - ETA: 0s - loss: 1.2991 - accuracy: 0.5088\n",
      "Epoch 31: saving model to model/keypoint_classifier\\keypoint_classifier.hdf5\n",
      "40/40 [==============================] - 0s 4ms/step - loss: 1.3045 - accuracy: 0.5107 - val_loss: 0.8924 - val_accuracy: 0.7189\n",
      "Epoch 32/1000\n",
      "26/40 [==================>...........] - ETA: 0s - loss: 1.2931 - accuracy: 0.5153\n",
      "Epoch 32: saving model to model/keypoint_classifier\\keypoint_classifier.hdf5\n",
      "40/40 [==============================] - 0s 4ms/step - loss: 1.2867 - accuracy: 0.5233 - val_loss: 0.8896 - val_accuracy: 0.7337\n",
      "Epoch 33/1000\n",
      "24/40 [=================>............] - ETA: 0s - loss: 1.2537 - accuracy: 0.5387\n",
      "Epoch 33: saving model to model/keypoint_classifier\\keypoint_classifier.hdf5\n",
      "40/40 [==============================] - 0s 4ms/step - loss: 1.2640 - accuracy: 0.5308 - val_loss: 0.8781 - val_accuracy: 0.7189\n",
      "Epoch 34/1000\n",
      "23/40 [================>.............] - ETA: 0s - loss: 1.2828 - accuracy: 0.5200\n",
      "Epoch 34: saving model to model/keypoint_classifier\\keypoint_classifier.hdf5\n",
      "40/40 [==============================] - 0s 4ms/step - loss: 1.2901 - accuracy: 0.5146 - val_loss: 0.8761 - val_accuracy: 0.7319\n",
      "Epoch 35/1000\n",
      "23/40 [================>.............] - ETA: 0s - loss: 1.2728 - accuracy: 0.5265\n",
      "Epoch 35: saving model to model/keypoint_classifier\\keypoint_classifier.hdf5\n",
      "40/40 [==============================] - 0s 4ms/step - loss: 1.2758 - accuracy: 0.5295 - val_loss: 0.8799 - val_accuracy: 0.7509\n",
      "Epoch 36/1000\n",
      "25/40 [=================>............] - ETA: 0s - loss: 1.2613 - accuracy: 0.5366\n",
      "Epoch 36: saving model to model/keypoint_classifier\\keypoint_classifier.hdf5\n",
      "40/40 [==============================] - 0s 4ms/step - loss: 1.2713 - accuracy: 0.5295 - val_loss: 0.8571 - val_accuracy: 0.7586\n",
      "Epoch 37/1000\n",
      "26/40 [==================>...........] - ETA: 0s - loss: 1.2947 - accuracy: 0.5198\n",
      "Epoch 37: saving model to model/keypoint_classifier\\keypoint_classifier.hdf5\n",
      "40/40 [==============================] - 0s 4ms/step - loss: 1.2798 - accuracy: 0.5241 - val_loss: 0.8534 - val_accuracy: 0.7361\n",
      "Epoch 38/1000\n",
      "23/40 [================>.............] - ETA: 0s - loss: 1.2609 - accuracy: 0.5397\n",
      "Epoch 38: saving model to model/keypoint_classifier\\keypoint_classifier.hdf5\n",
      "40/40 [==============================] - 0s 4ms/step - loss: 1.2608 - accuracy: 0.5415 - val_loss: 0.8432 - val_accuracy: 0.7568\n",
      "Epoch 39/1000\n",
      "24/40 [=================>............] - ETA: 0s - loss: 1.2441 - accuracy: 0.5456\n",
      "Epoch 39: saving model to model/keypoint_classifier\\keypoint_classifier.hdf5\n",
      "40/40 [==============================] - 0s 4ms/step - loss: 1.2292 - accuracy: 0.5455 - val_loss: 0.8388 - val_accuracy: 0.7610\n",
      "Epoch 40/1000\n",
      "24/40 [=================>............] - ETA: 0s - loss: 1.2435 - accuracy: 0.5404\n",
      "Epoch 40: saving model to model/keypoint_classifier\\keypoint_classifier.hdf5\n",
      "40/40 [==============================] - 0s 4ms/step - loss: 1.2387 - accuracy: 0.5461 - val_loss: 0.8297 - val_accuracy: 0.7681\n",
      "Epoch 41/1000\n",
      "27/40 [===================>..........] - ETA: 0s - loss: 1.2611 - accuracy: 0.5420\n",
      "Epoch 41: saving model to model/keypoint_classifier\\keypoint_classifier.hdf5\n",
      "40/40 [==============================] - 0s 4ms/step - loss: 1.2463 - accuracy: 0.5397 - val_loss: 0.8302 - val_accuracy: 0.7497\n",
      "Epoch 42/1000\n",
      "22/40 [===============>..............] - ETA: 0s - loss: 1.2449 - accuracy: 0.5384\n",
      "Epoch 42: saving model to model/keypoint_classifier\\keypoint_classifier.hdf5\n",
      "40/40 [==============================] - 0s 4ms/step - loss: 1.2366 - accuracy: 0.5360 - val_loss: 0.8338 - val_accuracy: 0.7527\n",
      "Epoch 43/1000\n",
      "27/40 [===================>..........] - ETA: 0s - loss: 1.2358 - accuracy: 0.5431\n",
      "Epoch 43: saving model to model/keypoint_classifier\\keypoint_classifier.hdf5\n",
      "40/40 [==============================] - 0s 4ms/step - loss: 1.2393 - accuracy: 0.5384 - val_loss: 0.8234 - val_accuracy: 0.7580\n",
      "Epoch 44/1000\n",
      "22/40 [===============>..............] - ETA: 0s - loss: 1.2209 - accuracy: 0.5508\n",
      "Epoch 44: saving model to model/keypoint_classifier\\keypoint_classifier.hdf5\n",
      "40/40 [==============================] - 0s 4ms/step - loss: 1.2155 - accuracy: 0.5514 - val_loss: 0.8021 - val_accuracy: 0.7764\n",
      "Epoch 45/1000\n",
      "21/40 [==============>...............] - ETA: 0s - loss: 1.2092 - accuracy: 0.5528\n",
      "Epoch 45: saving model to model/keypoint_classifier\\keypoint_classifier.hdf5\n",
      "40/40 [==============================] - 0s 4ms/step - loss: 1.2112 - accuracy: 0.5510 - val_loss: 0.7984 - val_accuracy: 0.7746\n",
      "Epoch 46/1000\n",
      "24/40 [=================>............] - ETA: 0s - loss: 1.2268 - accuracy: 0.5462\n",
      "Epoch 46: saving model to model/keypoint_classifier\\keypoint_classifier.hdf5\n",
      "40/40 [==============================] - 0s 4ms/step - loss: 1.2195 - accuracy: 0.5544 - val_loss: 0.7985 - val_accuracy: 0.7800\n",
      "Epoch 47/1000\n",
      "23/40 [================>.............] - ETA: 0s - loss: 1.2061 - accuracy: 0.5611\n",
      "Epoch 47: saving model to model/keypoint_classifier\\keypoint_classifier.hdf5\n",
      "40/40 [==============================] - 0s 4ms/step - loss: 1.2120 - accuracy: 0.5565 - val_loss: 0.7870 - val_accuracy: 0.7859\n",
      "Epoch 48/1000\n",
      "22/40 [===============>..............] - ETA: 0s - loss: 1.1784 - accuracy: 0.5732\n",
      "Epoch 48: saving model to model/keypoint_classifier\\keypoint_classifier.hdf5\n",
      "40/40 [==============================] - 0s 4ms/step - loss: 1.1965 - accuracy: 0.5611 - val_loss: 0.7879 - val_accuracy: 0.7823\n",
      "Epoch 49/1000\n",
      "22/40 [===============>..............] - ETA: 0s - loss: 1.2182 - accuracy: 0.5568\n",
      "Epoch 49: saving model to model/keypoint_classifier\\keypoint_classifier.hdf5\n",
      "40/40 [==============================] - 0s 4ms/step - loss: 1.1988 - accuracy: 0.5591 - val_loss: 0.7797 - val_accuracy: 0.7871\n",
      "Epoch 50/1000\n",
      "23/40 [================>.............] - ETA: 0s - loss: 1.1875 - accuracy: 0.5598\n",
      "Epoch 50: saving model to model/keypoint_classifier\\keypoint_classifier.hdf5\n",
      "40/40 [==============================] - 0s 4ms/step - loss: 1.1962 - accuracy: 0.5561 - val_loss: 0.7818 - val_accuracy: 0.7800\n",
      "Epoch 51/1000\n",
      "24/40 [=================>............] - ETA: 0s - loss: 1.1859 - accuracy: 0.5641\n",
      "Epoch 51: saving model to model/keypoint_classifier\\keypoint_classifier.hdf5\n",
      "40/40 [==============================] - 0s 4ms/step - loss: 1.1833 - accuracy: 0.5660 - val_loss: 0.7766 - val_accuracy: 0.7722\n",
      "Epoch 52/1000\n",
      "22/40 [===============>..............] - ETA: 0s - loss: 1.2036 - accuracy: 0.5607\n",
      "Epoch 52: saving model to model/keypoint_classifier\\keypoint_classifier.hdf5\n",
      "40/40 [==============================] - 0s 4ms/step - loss: 1.1956 - accuracy: 0.5652 - val_loss: 0.7654 - val_accuracy: 0.7835\n",
      "Epoch 53/1000\n",
      "26/40 [==================>...........] - ETA: 0s - loss: 1.1954 - accuracy: 0.5661\n",
      "Epoch 53: saving model to model/keypoint_classifier\\keypoint_classifier.hdf5\n",
      "40/40 [==============================] - 0s 3ms/step - loss: 1.1936 - accuracy: 0.5643 - val_loss: 0.7679 - val_accuracy: 0.7900\n",
      "Epoch 54/1000\n",
      "26/40 [==================>...........] - ETA: 0s - loss: 1.1828 - accuracy: 0.5595\n",
      "Epoch 54: saving model to model/keypoint_classifier\\keypoint_classifier.hdf5\n",
      "40/40 [==============================] - 0s 4ms/step - loss: 1.1801 - accuracy: 0.5662 - val_loss: 0.7619 - val_accuracy: 0.7972\n",
      "Epoch 55/1000\n",
      "25/40 [=================>............] - ETA: 0s - loss: 1.1863 - accuracy: 0.5562\n",
      "Epoch 55: saving model to model/keypoint_classifier\\keypoint_classifier.hdf5\n",
      "40/40 [==============================] - 0s 4ms/step - loss: 1.1849 - accuracy: 0.5611 - val_loss: 0.7622 - val_accuracy: 0.7960\n",
      "Epoch 56/1000\n",
      "24/40 [=================>............] - ETA: 0s - loss: 1.1697 - accuracy: 0.5804\n",
      "Epoch 56: saving model to model/keypoint_classifier\\keypoint_classifier.hdf5\n",
      "40/40 [==============================] - 0s 4ms/step - loss: 1.1736 - accuracy: 0.5781 - val_loss: 0.7524 - val_accuracy: 0.8013\n",
      "Epoch 57/1000\n",
      "24/40 [=================>............] - ETA: 0s - loss: 1.1831 - accuracy: 0.5658\n",
      "Epoch 57: saving model to model/keypoint_classifier\\keypoint_classifier.hdf5\n",
      "40/40 [==============================] - 0s 4ms/step - loss: 1.1699 - accuracy: 0.5733 - val_loss: 0.7493 - val_accuracy: 0.7942\n",
      "Epoch 58/1000\n",
      "22/40 [===============>..............] - ETA: 0s - loss: 1.1594 - accuracy: 0.5749\n",
      "Epoch 58: saving model to model/keypoint_classifier\\keypoint_classifier.hdf5\n",
      "40/40 [==============================] - 0s 4ms/step - loss: 1.1655 - accuracy: 0.5767 - val_loss: 0.7462 - val_accuracy: 0.8013\n",
      "Epoch 59/1000\n",
      "27/40 [===================>..........] - ETA: 0s - loss: 1.1336 - accuracy: 0.5741\n",
      "Epoch 59: saving model to model/keypoint_classifier\\keypoint_classifier.hdf5\n",
      "40/40 [==============================] - 0s 4ms/step - loss: 1.1361 - accuracy: 0.5801 - val_loss: 0.7371 - val_accuracy: 0.8025\n",
      "Epoch 60/1000\n",
      "25/40 [=================>............] - ETA: 0s - loss: 1.1802 - accuracy: 0.5634\n",
      "Epoch 60: saving model to model/keypoint_classifier\\keypoint_classifier.hdf5\n",
      "40/40 [==============================] - 0s 4ms/step - loss: 1.1541 - accuracy: 0.5753 - val_loss: 0.7316 - val_accuracy: 0.8090\n",
      "Epoch 61/1000\n",
      "21/40 [==============>...............] - ETA: 0s - loss: 1.1186 - accuracy: 0.5852\n",
      "Epoch 61: saving model to model/keypoint_classifier\\keypoint_classifier.hdf5\n",
      "40/40 [==============================] - 0s 4ms/step - loss: 1.1456 - accuracy: 0.5838 - val_loss: 0.7324 - val_accuracy: 0.8078\n",
      "Epoch 62/1000\n",
      "22/40 [===============>..............] - ETA: 0s - loss: 1.1661 - accuracy: 0.5778\n",
      "Epoch 62: saving model to model/keypoint_classifier\\keypoint_classifier.hdf5\n",
      "40/40 [==============================] - 0s 4ms/step - loss: 1.1657 - accuracy: 0.5724 - val_loss: 0.7448 - val_accuracy: 0.8043\n",
      "Epoch 63/1000\n",
      "26/40 [==================>...........] - ETA: 0s - loss: 1.1631 - accuracy: 0.5754\n",
      "Epoch 63: saving model to model/keypoint_classifier\\keypoint_classifier.hdf5\n",
      "40/40 [==============================] - 0s 4ms/step - loss: 1.1564 - accuracy: 0.5773 - val_loss: 0.7231 - val_accuracy: 0.8126\n",
      "Epoch 64/1000\n",
      "22/40 [===============>..............] - ETA: 0s - loss: 1.1736 - accuracy: 0.5735\n",
      "Epoch 64: saving model to model/keypoint_classifier\\keypoint_classifier.hdf5\n",
      "40/40 [==============================] - 0s 5ms/step - loss: 1.1652 - accuracy: 0.5710 - val_loss: 0.7288 - val_accuracy: 0.8102\n",
      "Epoch 65/1000\n",
      "21/40 [==============>...............] - ETA: 0s - loss: 1.1624 - accuracy: 0.5841\n",
      "Epoch 65: saving model to model/keypoint_classifier\\keypoint_classifier.hdf5\n",
      "40/40 [==============================] - 0s 4ms/step - loss: 1.1509 - accuracy: 0.5805 - val_loss: 0.7234 - val_accuracy: 0.8043\n",
      "Epoch 66/1000\n",
      "22/40 [===============>..............] - ETA: 0s - loss: 1.1135 - accuracy: 0.5977\n",
      "Epoch 66: saving model to model/keypoint_classifier\\keypoint_classifier.hdf5\n",
      "40/40 [==============================] - 0s 4ms/step - loss: 1.1251 - accuracy: 0.5925 - val_loss: 0.7130 - val_accuracy: 0.8090\n",
      "Epoch 67/1000\n",
      "23/40 [================>.............] - ETA: 0s - loss: 1.1560 - accuracy: 0.5754\n",
      "Epoch 67: saving model to model/keypoint_classifier\\keypoint_classifier.hdf5\n",
      "40/40 [==============================] - 0s 4ms/step - loss: 1.1532 - accuracy: 0.5787 - val_loss: 0.7228 - val_accuracy: 0.8090\n",
      "Epoch 68/1000\n",
      "22/40 [===============>..............] - ETA: 0s - loss: 1.1421 - accuracy: 0.5785\n",
      "Epoch 68: saving model to model/keypoint_classifier\\keypoint_classifier.hdf5\n",
      "40/40 [==============================] - 0s 4ms/step - loss: 1.1487 - accuracy: 0.5801 - val_loss: 0.7202 - val_accuracy: 0.8149\n",
      "Epoch 69/1000\n",
      "27/40 [===================>..........] - ETA: 0s - loss: 1.1507 - accuracy: 0.5868\n",
      "Epoch 69: saving model to model/keypoint_classifier\\keypoint_classifier.hdf5\n",
      "40/40 [==============================] - 0s 4ms/step - loss: 1.1389 - accuracy: 0.5876 - val_loss: 0.7141 - val_accuracy: 0.8102\n",
      "Epoch 70/1000\n",
      "24/40 [=================>............] - ETA: 0s - loss: 1.1275 - accuracy: 0.5641\n",
      "Epoch 70: saving model to model/keypoint_classifier\\keypoint_classifier.hdf5\n",
      "40/40 [==============================] - 0s 4ms/step - loss: 1.1488 - accuracy: 0.5666 - val_loss: 0.7084 - val_accuracy: 0.8084\n",
      "Epoch 71/1000\n",
      "24/40 [=================>............] - ETA: 0s - loss: 1.1397 - accuracy: 0.5830\n",
      "Epoch 71: saving model to model/keypoint_classifier\\keypoint_classifier.hdf5\n",
      "40/40 [==============================] - 0s 4ms/step - loss: 1.1374 - accuracy: 0.5850 - val_loss: 0.7093 - val_accuracy: 0.8144\n",
      "Epoch 72/1000\n",
      "24/40 [=================>............] - ETA: 0s - loss: 1.1375 - accuracy: 0.5710\n",
      "Epoch 72: saving model to model/keypoint_classifier\\keypoint_classifier.hdf5\n",
      "40/40 [==============================] - 0s 4ms/step - loss: 1.1200 - accuracy: 0.5862 - val_loss: 0.6938 - val_accuracy: 0.8138\n",
      "Epoch 73/1000\n",
      "40/40 [==============================] - ETA: 0s - loss: 1.1377 - accuracy: 0.5854\n",
      "Epoch 73: saving model to model/keypoint_classifier\\keypoint_classifier.hdf5\n",
      "40/40 [==============================] - 0s 4ms/step - loss: 1.1377 - accuracy: 0.5854 - val_loss: 0.7063 - val_accuracy: 0.8090\n",
      "Epoch 74/1000\n",
      "22/40 [===============>..............] - ETA: 0s - loss: 1.1306 - accuracy: 0.5948\n",
      "Epoch 74: saving model to model/keypoint_classifier\\keypoint_classifier.hdf5\n",
      "40/40 [==============================] - 0s 4ms/step - loss: 1.1252 - accuracy: 0.5965 - val_loss: 0.7045 - val_accuracy: 0.8126\n",
      "Epoch 75/1000\n",
      "23/40 [================>.............] - ETA: 0s - loss: 1.1163 - accuracy: 0.5853\n",
      "Epoch 75: saving model to model/keypoint_classifier\\keypoint_classifier.hdf5\n",
      "40/40 [==============================] - 0s 4ms/step - loss: 1.1092 - accuracy: 0.5894 - val_loss: 0.6977 - val_accuracy: 0.8179\n",
      "Epoch 76/1000\n",
      "21/40 [==============>...............] - ETA: 0s - loss: 1.1187 - accuracy: 0.5811\n",
      "Epoch 76: saving model to model/keypoint_classifier\\keypoint_classifier.hdf5\n",
      "40/40 [==============================] - 0s 4ms/step - loss: 1.1245 - accuracy: 0.5834 - val_loss: 0.7019 - val_accuracy: 0.8132\n",
      "Epoch 77/1000\n",
      "24/40 [=================>............] - ETA: 0s - loss: 1.1350 - accuracy: 0.5931\n",
      "Epoch 77: saving model to model/keypoint_classifier\\keypoint_classifier.hdf5\n",
      "40/40 [==============================] - 0s 4ms/step - loss: 1.1327 - accuracy: 0.5866 - val_loss: 0.7021 - val_accuracy: 0.8120\n",
      "Epoch 78/1000\n",
      "23/40 [================>.............] - ETA: 0s - loss: 1.1291 - accuracy: 0.5938\n",
      "Epoch 78: saving model to model/keypoint_classifier\\keypoint_classifier.hdf5\n",
      "40/40 [==============================] - 0s 5ms/step - loss: 1.1141 - accuracy: 0.5981 - val_loss: 0.7030 - val_accuracy: 0.8120\n",
      "Epoch 79/1000\n",
      "34/40 [========================>.....] - ETA: 0s - loss: 1.1029 - accuracy: 0.6039\n",
      "Epoch 79: saving model to model/keypoint_classifier\\keypoint_classifier.hdf5\n",
      "40/40 [==============================] - 0s 5ms/step - loss: 1.1076 - accuracy: 0.6030 - val_loss: 0.6883 - val_accuracy: 0.8114\n",
      "Epoch 80/1000\n",
      "23/40 [================>.............] - ETA: 0s - loss: 1.1061 - accuracy: 0.6046\n",
      "Epoch 80: saving model to model/keypoint_classifier\\keypoint_classifier.hdf5\n",
      "40/40 [==============================] - 0s 4ms/step - loss: 1.1111 - accuracy: 0.5996 - val_loss: 0.6966 - val_accuracy: 0.8037\n",
      "Epoch 81/1000\n",
      "35/40 [=========================>....] - ETA: 0s - loss: 1.0890 - accuracy: 0.5991\n",
      "Epoch 81: saving model to model/keypoint_classifier\\keypoint_classifier.hdf5\n",
      "40/40 [==============================] - 0s 6ms/step - loss: 1.0913 - accuracy: 0.6008 - val_loss: 0.6801 - val_accuracy: 0.8179\n",
      "Epoch 82/1000\n",
      "30/40 [=====================>........] - ETA: 0s - loss: 1.1277 - accuracy: 0.5904\n",
      "Epoch 82: saving model to model/keypoint_classifier\\keypoint_classifier.hdf5\n",
      "40/40 [==============================] - 0s 6ms/step - loss: 1.1235 - accuracy: 0.5919 - val_loss: 0.6863 - val_accuracy: 0.8185\n",
      "Epoch 83/1000\n",
      "26/40 [==================>...........] - ETA: 0s - loss: 1.1174 - accuracy: 0.5898\n",
      "Epoch 83: saving model to model/keypoint_classifier\\keypoint_classifier.hdf5\n",
      "40/40 [==============================] - 0s 3ms/step - loss: 1.1173 - accuracy: 0.5933 - val_loss: 0.7002 - val_accuracy: 0.8031\n",
      "Epoch 84/1000\n",
      "23/40 [================>.............] - ETA: 0s - loss: 1.1162 - accuracy: 0.5999\n",
      "Epoch 84: saving model to model/keypoint_classifier\\keypoint_classifier.hdf5\n",
      "40/40 [==============================] - 0s 4ms/step - loss: 1.1205 - accuracy: 0.5957 - val_loss: 0.6808 - val_accuracy: 0.8268\n",
      "Epoch 85/1000\n",
      "23/40 [================>.............] - ETA: 0s - loss: 1.1046 - accuracy: 0.5934\n",
      "Epoch 85: saving model to model/keypoint_classifier\\keypoint_classifier.hdf5\n",
      "40/40 [==============================] - 0s 4ms/step - loss: 1.0959 - accuracy: 0.5975 - val_loss: 0.6826 - val_accuracy: 0.8126\n",
      "Epoch 86/1000\n",
      "23/40 [================>.............] - ETA: 0s - loss: 1.0884 - accuracy: 0.6039\n",
      "Epoch 86: saving model to model/keypoint_classifier\\keypoint_classifier.hdf5\n",
      "40/40 [==============================] - 0s 4ms/step - loss: 1.1069 - accuracy: 0.5949 - val_loss: 0.6850 - val_accuracy: 0.8203\n",
      "Epoch 87/1000\n",
      "21/40 [==============>...............] - ETA: 0s - loss: 1.0816 - accuracy: 0.6094\n",
      "Epoch 87: saving model to model/keypoint_classifier\\keypoint_classifier.hdf5\n",
      "40/40 [==============================] - 0s 4ms/step - loss: 1.1036 - accuracy: 0.5991 - val_loss: 0.6885 - val_accuracy: 0.8102\n",
      "Epoch 88/1000\n",
      "24/40 [=================>............] - ETA: 0s - loss: 1.0924 - accuracy: 0.6042\n",
      "Epoch 88: saving model to model/keypoint_classifier\\keypoint_classifier.hdf5\n",
      "40/40 [==============================] - 0s 5ms/step - loss: 1.0869 - accuracy: 0.6048 - val_loss: 0.6810 - val_accuracy: 0.8191\n",
      "Epoch 89/1000\n",
      "34/40 [========================>.....] - ETA: 0s - loss: 1.0754 - accuracy: 0.6121\n",
      "Epoch 89: saving model to model/keypoint_classifier\\keypoint_classifier.hdf5\n",
      "40/40 [==============================] - 0s 4ms/step - loss: 1.0778 - accuracy: 0.6085 - val_loss: 0.6651 - val_accuracy: 0.8132\n",
      "Epoch 90/1000\n",
      "23/40 [================>.............] - ETA: 0s - loss: 1.0990 - accuracy: 0.5934\n",
      "Epoch 90: saving model to model/keypoint_classifier\\keypoint_classifier.hdf5\n",
      "40/40 [==============================] - 0s 4ms/step - loss: 1.1076 - accuracy: 0.5957 - val_loss: 0.6909 - val_accuracy: 0.8126\n",
      "Epoch 91/1000\n",
      "24/40 [=================>............] - ETA: 0s - loss: 1.0728 - accuracy: 0.6074\n",
      "Epoch 91: saving model to model/keypoint_classifier\\keypoint_classifier.hdf5\n",
      "40/40 [==============================] - 0s 4ms/step - loss: 1.0775 - accuracy: 0.6064 - val_loss: 0.6822 - val_accuracy: 0.8138\n",
      "Epoch 92/1000\n",
      "22/40 [===============>..............] - ETA: 0s - loss: 1.1021 - accuracy: 0.6055\n",
      "Epoch 92: saving model to model/keypoint_classifier\\keypoint_classifier.hdf5\n",
      "40/40 [==============================] - 0s 4ms/step - loss: 1.0716 - accuracy: 0.6153 - val_loss: 0.6636 - val_accuracy: 0.8233\n",
      "Epoch 93/1000\n",
      "23/40 [================>.............] - ETA: 0s - loss: 1.0803 - accuracy: 0.6029\n",
      "Epoch 93: saving model to model/keypoint_classifier\\keypoint_classifier.hdf5\n",
      "40/40 [==============================] - 0s 4ms/step - loss: 1.0898 - accuracy: 0.5927 - val_loss: 0.6611 - val_accuracy: 0.8268\n",
      "Epoch 94/1000\n",
      "22/40 [===============>..............] - ETA: 0s - loss: 1.1094 - accuracy: 0.6012\n",
      "Epoch 94: saving model to model/keypoint_classifier\\keypoint_classifier.hdf5\n",
      "40/40 [==============================] - 0s 4ms/step - loss: 1.0944 - accuracy: 0.6062 - val_loss: 0.6714 - val_accuracy: 0.8149\n",
      "Epoch 95/1000\n",
      "23/40 [================>.............] - ETA: 0s - loss: 1.0487 - accuracy: 0.6189\n",
      "Epoch 95: saving model to model/keypoint_classifier\\keypoint_classifier.hdf5\n",
      "40/40 [==============================] - 0s 4ms/step - loss: 1.0737 - accuracy: 0.6141 - val_loss: 0.6608 - val_accuracy: 0.8167\n",
      "Epoch 96/1000\n",
      "38/40 [===========================>..] - ETA: 0s - loss: 1.1036 - accuracy: 0.6071\n",
      "Epoch 96: saving model to model/keypoint_classifier\\keypoint_classifier.hdf5\n",
      "40/40 [==============================] - 0s 4ms/step - loss: 1.1011 - accuracy: 0.6083 - val_loss: 0.6678 - val_accuracy: 0.8233\n",
      "Epoch 97/1000\n",
      "26/40 [==================>...........] - ETA: 0s - loss: 1.0562 - accuracy: 0.6205\n",
      "Epoch 97: saving model to model/keypoint_classifier\\keypoint_classifier.hdf5\n",
      "40/40 [==============================] - 0s 4ms/step - loss: 1.0738 - accuracy: 0.6151 - val_loss: 0.6543 - val_accuracy: 0.8262\n",
      "Epoch 98/1000\n",
      "20/40 [==============>...............] - ETA: 0s - loss: 1.0757 - accuracy: 0.6133\n",
      "Epoch 98: saving model to model/keypoint_classifier\\keypoint_classifier.hdf5\n",
      "40/40 [==============================] - 0s 4ms/step - loss: 1.0809 - accuracy: 0.6115 - val_loss: 0.6638 - val_accuracy: 0.8173\n",
      "Epoch 99/1000\n",
      "19/40 [=============>................] - ETA: 0s - loss: 1.0975 - accuracy: 0.6044\n",
      "Epoch 99: saving model to model/keypoint_classifier\\keypoint_classifier.hdf5\n",
      "40/40 [==============================] - 0s 4ms/step - loss: 1.0821 - accuracy: 0.6078 - val_loss: 0.6639 - val_accuracy: 0.8155\n",
      "Epoch 100/1000\n",
      "22/40 [===============>..............] - ETA: 0s - loss: 1.0403 - accuracy: 0.6193\n",
      "Epoch 100: saving model to model/keypoint_classifier\\keypoint_classifier.hdf5\n",
      "40/40 [==============================] - 0s 4ms/step - loss: 1.0428 - accuracy: 0.6198 - val_loss: 0.6607 - val_accuracy: 0.8238\n",
      "Epoch 101/1000\n",
      "23/40 [================>.............] - ETA: 0s - loss: 1.1048 - accuracy: 0.5999\n",
      "Epoch 101: saving model to model/keypoint_classifier\\keypoint_classifier.hdf5\n",
      "40/40 [==============================] - 0s 4ms/step - loss: 1.0848 - accuracy: 0.6056 - val_loss: 0.6698 - val_accuracy: 0.8179\n",
      "Epoch 102/1000\n",
      "20/40 [==============>...............] - ETA: 0s - loss: 1.0576 - accuracy: 0.6082\n",
      "Epoch 102: saving model to model/keypoint_classifier\\keypoint_classifier.hdf5\n",
      "40/40 [==============================] - 0s 4ms/step - loss: 1.0566 - accuracy: 0.6141 - val_loss: 0.6617 - val_accuracy: 0.8179\n",
      "Epoch 103/1000\n",
      "22/40 [===============>..............] - ETA: 0s - loss: 1.0677 - accuracy: 0.6051\n",
      "Epoch 103: saving model to model/keypoint_classifier\\keypoint_classifier.hdf5\n",
      "40/40 [==============================] - 0s 4ms/step - loss: 1.0785 - accuracy: 0.6024 - val_loss: 0.6613 - val_accuracy: 0.8268\n",
      "Epoch 104/1000\n",
      "22/40 [===============>..............] - ETA: 0s - loss: 1.0609 - accuracy: 0.6168\n",
      "Epoch 104: saving model to model/keypoint_classifier\\keypoint_classifier.hdf5\n",
      "40/40 [==============================] - 0s 4ms/step - loss: 1.0668 - accuracy: 0.6131 - val_loss: 0.6669 - val_accuracy: 0.8233\n",
      "Epoch 105/1000\n",
      "18/40 [============>.................] - ETA: 0s - loss: 1.0351 - accuracy: 0.6298\n",
      "Epoch 105: saving model to model/keypoint_classifier\\keypoint_classifier.hdf5\n",
      "40/40 [==============================] - 0s 4ms/step - loss: 1.0507 - accuracy: 0.6198 - val_loss: 0.6559 - val_accuracy: 0.8203\n",
      "Epoch 106/1000\n",
      "24/40 [=================>............] - ETA: 0s - loss: 1.0662 - accuracy: 0.6230\n",
      "Epoch 106: saving model to model/keypoint_classifier\\keypoint_classifier.hdf5\n",
      "40/40 [==============================] - 0s 4ms/step - loss: 1.0649 - accuracy: 0.6208 - val_loss: 0.6566 - val_accuracy: 0.8155\n",
      "Epoch 107/1000\n",
      "24/40 [=================>............] - ETA: 0s - loss: 1.0516 - accuracy: 0.6165\n",
      "Epoch 107: saving model to model/keypoint_classifier\\keypoint_classifier.hdf5\n",
      "40/40 [==============================] - 0s 4ms/step - loss: 1.0475 - accuracy: 0.6218 - val_loss: 0.6380 - val_accuracy: 0.8387\n",
      "Epoch 108/1000\n",
      "24/40 [=================>............] - ETA: 0s - loss: 1.0631 - accuracy: 0.6156\n",
      "Epoch 108: saving model to model/keypoint_classifier\\keypoint_classifier.hdf5\n",
      "40/40 [==============================] - 0s 4ms/step - loss: 1.0600 - accuracy: 0.6166 - val_loss: 0.6617 - val_accuracy: 0.8233\n",
      "Epoch 109/1000\n",
      "25/40 [=================>............] - ETA: 0s - loss: 1.0884 - accuracy: 0.6037\n",
      "Epoch 109: saving model to model/keypoint_classifier\\keypoint_classifier.hdf5\n",
      "40/40 [==============================] - 0s 4ms/step - loss: 1.0803 - accuracy: 0.6087 - val_loss: 0.6477 - val_accuracy: 0.8221\n",
      "Epoch 110/1000\n",
      "23/40 [================>.............] - ETA: 0s - loss: 1.0982 - accuracy: 0.6036\n",
      "Epoch 110: saving model to model/keypoint_classifier\\keypoint_classifier.hdf5\n",
      "40/40 [==============================] - 0s 4ms/step - loss: 1.0823 - accuracy: 0.6087 - val_loss: 0.6529 - val_accuracy: 0.8256\n",
      "Epoch 111/1000\n",
      "22/40 [===============>..............] - ETA: 0s - loss: 1.0591 - accuracy: 0.6250\n",
      "Epoch 111: saving model to model/keypoint_classifier\\keypoint_classifier.hdf5\n",
      "40/40 [==============================] - 0s 4ms/step - loss: 1.0559 - accuracy: 0.6261 - val_loss: 0.6494 - val_accuracy: 0.8262\n",
      "Epoch 112/1000\n",
      "24/40 [=================>............] - ETA: 0s - loss: 1.0423 - accuracy: 0.6234\n",
      "Epoch 112: saving model to model/keypoint_classifier\\keypoint_classifier.hdf5\n",
      "40/40 [==============================] - 0s 3ms/step - loss: 1.0396 - accuracy: 0.6285 - val_loss: 0.6521 - val_accuracy: 0.8191\n",
      "Epoch 113/1000\n",
      "21/40 [==============>...............] - ETA: 0s - loss: 1.0533 - accuracy: 0.6131\n",
      "Epoch 113: saving model to model/keypoint_classifier\\keypoint_classifier.hdf5\n",
      "40/40 [==============================] - 0s 4ms/step - loss: 1.0480 - accuracy: 0.6224 - val_loss: 0.6515 - val_accuracy: 0.8256\n",
      "Epoch 114/1000\n",
      "23/40 [================>.............] - ETA: 0s - loss: 1.1109 - accuracy: 0.5887\n",
      "Epoch 114: saving model to model/keypoint_classifier\\keypoint_classifier.hdf5\n",
      "40/40 [==============================] - 0s 4ms/step - loss: 1.0645 - accuracy: 0.6085 - val_loss: 0.6490 - val_accuracy: 0.8286\n",
      "Epoch 115/1000\n",
      "23/40 [================>.............] - ETA: 0s - loss: 1.0638 - accuracy: 0.5992\n",
      "Epoch 115: saving model to model/keypoint_classifier\\keypoint_classifier.hdf5\n",
      "40/40 [==============================] - 0s 4ms/step - loss: 1.0582 - accuracy: 0.6046 - val_loss: 0.6478 - val_accuracy: 0.8316\n",
      "Epoch 116/1000\n",
      "23/40 [================>.............] - ETA: 0s - loss: 1.0279 - accuracy: 0.6236\n",
      "Epoch 116: saving model to model/keypoint_classifier\\keypoint_classifier.hdf5\n",
      "40/40 [==============================] - 0s 4ms/step - loss: 1.0578 - accuracy: 0.6149 - val_loss: 0.6503 - val_accuracy: 0.8238\n",
      "Epoch 117/1000\n",
      "24/40 [=================>............] - ETA: 0s - loss: 1.0545 - accuracy: 0.5999\n",
      "Epoch 117: saving model to model/keypoint_classifier\\keypoint_classifier.hdf5\n",
      "40/40 [==============================] - 0s 4ms/step - loss: 1.0496 - accuracy: 0.6081 - val_loss: 0.6494 - val_accuracy: 0.8185\n",
      "Epoch 118/1000\n",
      "23/40 [================>.............] - ETA: 0s - loss: 1.0608 - accuracy: 0.6019\n",
      "Epoch 118: saving model to model/keypoint_classifier\\keypoint_classifier.hdf5\n",
      "40/40 [==============================] - 0s 4ms/step - loss: 1.0614 - accuracy: 0.6074 - val_loss: 0.6471 - val_accuracy: 0.8262\n",
      "Epoch 119/1000\n",
      "21/40 [==============>...............] - ETA: 0s - loss: 1.0298 - accuracy: 0.6436\n",
      "Epoch 119: saving model to model/keypoint_classifier\\keypoint_classifier.hdf5\n",
      "40/40 [==============================] - 0s 4ms/step - loss: 1.0414 - accuracy: 0.6271 - val_loss: 0.6486 - val_accuracy: 0.8363\n",
      "Epoch 120/1000\n",
      "24/40 [=================>............] - ETA: 0s - loss: 1.0618 - accuracy: 0.6208\n",
      "Epoch 120: saving model to model/keypoint_classifier\\keypoint_classifier.hdf5\n",
      "40/40 [==============================] - 0s 4ms/step - loss: 1.0465 - accuracy: 0.6238 - val_loss: 0.6419 - val_accuracy: 0.8262\n",
      "Epoch 121/1000\n",
      "22/40 [===============>..............] - ETA: 0s - loss: 1.0273 - accuracy: 0.6250\n",
      "Epoch 121: saving model to model/keypoint_classifier\\keypoint_classifier.hdf5\n",
      "40/40 [==============================] - 0s 4ms/step - loss: 1.0304 - accuracy: 0.6240 - val_loss: 0.6319 - val_accuracy: 0.8292\n",
      "Epoch 122/1000\n",
      "20/40 [==============>...............] - ETA: 0s - loss: 1.0615 - accuracy: 0.6141\n",
      "Epoch 122: saving model to model/keypoint_classifier\\keypoint_classifier.hdf5\n",
      "40/40 [==============================] - 0s 4ms/step - loss: 1.0579 - accuracy: 0.6172 - val_loss: 0.6396 - val_accuracy: 0.8381\n",
      "Epoch 123/1000\n",
      "21/40 [==============>...............] - ETA: 0s - loss: 1.0111 - accuracy: 0.6283\n",
      "Epoch 123: saving model to model/keypoint_classifier\\keypoint_classifier.hdf5\n",
      "40/40 [==============================] - 0s 4ms/step - loss: 1.0305 - accuracy: 0.6279 - val_loss: 0.6433 - val_accuracy: 0.8422\n",
      "Epoch 124/1000\n",
      "21/40 [==============>...............] - ETA: 0s - loss: 1.0324 - accuracy: 0.6261\n",
      "Epoch 124: saving model to model/keypoint_classifier\\keypoint_classifier.hdf5\n",
      "40/40 [==============================] - 0s 4ms/step - loss: 1.0240 - accuracy: 0.6224 - val_loss: 0.6371 - val_accuracy: 0.8310\n",
      "Epoch 125/1000\n",
      "23/40 [================>.............] - ETA: 0s - loss: 1.0604 - accuracy: 0.6304\n",
      "Epoch 125: saving model to model/keypoint_classifier\\keypoint_classifier.hdf5\n",
      "40/40 [==============================] - 0s 4ms/step - loss: 1.0513 - accuracy: 0.6293 - val_loss: 0.6457 - val_accuracy: 0.8244\n",
      "Epoch 126/1000\n",
      "21/40 [==============>...............] - ETA: 0s - loss: 1.0485 - accuracy: 0.6176\n",
      "Epoch 126: saving model to model/keypoint_classifier\\keypoint_classifier.hdf5\n",
      "40/40 [==============================] - 0s 4ms/step - loss: 1.0398 - accuracy: 0.6192 - val_loss: 0.6496 - val_accuracy: 0.8333\n",
      "Epoch 127/1000\n",
      "21/40 [==============>...............] - ETA: 0s - loss: 1.0414 - accuracy: 0.6150\n",
      "Epoch 127: saving model to model/keypoint_classifier\\keypoint_classifier.hdf5\n",
      "40/40 [==============================] - 0s 4ms/step - loss: 1.0491 - accuracy: 0.6164 - val_loss: 0.6509 - val_accuracy: 0.8256\n",
      "Epoch 128/1000\n",
      "24/40 [=================>............] - ETA: 0s - loss: 1.0482 - accuracy: 0.6243\n",
      "Epoch 128: saving model to model/keypoint_classifier\\keypoint_classifier.hdf5\n",
      "40/40 [==============================] - 0s 4ms/step - loss: 1.0355 - accuracy: 0.6291 - val_loss: 0.6358 - val_accuracy: 0.8333\n",
      "Epoch 129/1000\n",
      "25/40 [=================>............] - ETA: 0s - loss: 1.0502 - accuracy: 0.6284\n",
      "Epoch 129: saving model to model/keypoint_classifier\\keypoint_classifier.hdf5\n",
      "40/40 [==============================] - 0s 4ms/step - loss: 1.0485 - accuracy: 0.6232 - val_loss: 0.6356 - val_accuracy: 0.8262\n",
      "Epoch 130/1000\n",
      "22/40 [===============>..............] - ETA: 0s - loss: 1.0164 - accuracy: 0.6232\n",
      "Epoch 130: saving model to model/keypoint_classifier\\keypoint_classifier.hdf5\n",
      "40/40 [==============================] - 0s 4ms/step - loss: 1.0292 - accuracy: 0.6236 - val_loss: 0.6515 - val_accuracy: 0.8286\n",
      "Epoch 131/1000\n",
      "24/40 [=================>............] - ETA: 0s - loss: 1.0397 - accuracy: 0.6221\n",
      "Epoch 131: saving model to model/keypoint_classifier\\keypoint_classifier.hdf5\n",
      "40/40 [==============================] - 0s 4ms/step - loss: 1.0399 - accuracy: 0.6200 - val_loss: 0.6435 - val_accuracy: 0.8274\n",
      "Epoch 132/1000\n",
      "22/40 [===============>..............] - ETA: 0s - loss: 1.0487 - accuracy: 0.6310\n",
      "Epoch 132: saving model to model/keypoint_classifier\\keypoint_classifier.hdf5\n",
      "40/40 [==============================] - 0s 4ms/step - loss: 1.0510 - accuracy: 0.6273 - val_loss: 0.6529 - val_accuracy: 0.8292\n",
      "Epoch 133/1000\n",
      "39/40 [============================>.] - ETA: 0s - loss: 1.0161 - accuracy: 0.6342\n",
      "Epoch 133: saving model to model/keypoint_classifier\\keypoint_classifier.hdf5\n",
      "40/40 [==============================] - 0s 4ms/step - loss: 1.0143 - accuracy: 0.6342 - val_loss: 0.6383 - val_accuracy: 0.8316\n",
      "Epoch 134/1000\n",
      "21/40 [==============>...............] - ETA: 0s - loss: 1.0017 - accuracy: 0.6269\n",
      "Epoch 134: saving model to model/keypoint_classifier\\keypoint_classifier.hdf5\n",
      "40/40 [==============================] - 0s 4ms/step - loss: 1.0223 - accuracy: 0.6200 - val_loss: 0.6338 - val_accuracy: 0.8357\n",
      "Epoch 135/1000\n",
      "25/40 [=================>............] - ETA: 0s - loss: 1.0351 - accuracy: 0.6275\n",
      "Epoch 135: saving model to model/keypoint_classifier\\keypoint_classifier.hdf5\n",
      "40/40 [==============================] - 0s 4ms/step - loss: 1.0300 - accuracy: 0.6269 - val_loss: 0.6423 - val_accuracy: 0.8286\n",
      "Epoch 136/1000\n",
      "25/40 [=================>............] - ETA: 0s - loss: 1.0253 - accuracy: 0.6231\n",
      "Epoch 136: saving model to model/keypoint_classifier\\keypoint_classifier.hdf5\n",
      "40/40 [==============================] - 0s 4ms/step - loss: 1.0361 - accuracy: 0.6184 - val_loss: 0.6457 - val_accuracy: 0.8280\n",
      "Epoch 137/1000\n",
      "21/40 [==============>...............] - ETA: 0s - loss: 1.0065 - accuracy: 0.6313\n",
      "Epoch 137: saving model to model/keypoint_classifier\\keypoint_classifier.hdf5\n",
      "40/40 [==============================] - 0s 4ms/step - loss: 1.0274 - accuracy: 0.6279 - val_loss: 0.6441 - val_accuracy: 0.8310\n",
      "Epoch 138/1000\n",
      "18/40 [============>.................] - ETA: 0s - loss: 1.0686 - accuracy: 0.6159\n",
      "Epoch 138: saving model to model/keypoint_classifier\\keypoint_classifier.hdf5\n",
      "40/40 [==============================] - 0s 5ms/step - loss: 1.0315 - accuracy: 0.6222 - val_loss: 0.6450 - val_accuracy: 0.8262\n",
      "Epoch 139/1000\n",
      "26/40 [==================>...........] - ETA: 0s - loss: 1.0178 - accuracy: 0.6457\n",
      "Epoch 139: saving model to model/keypoint_classifier\\keypoint_classifier.hdf5\n",
      "40/40 [==============================] - 0s 4ms/step - loss: 1.0213 - accuracy: 0.6418 - val_loss: 0.6417 - val_accuracy: 0.8250\n",
      "Epoch 140/1000\n",
      "28/40 [====================>.........] - ETA: 0s - loss: 1.0182 - accuracy: 0.6306\n",
      "Epoch 140: saving model to model/keypoint_classifier\\keypoint_classifier.hdf5\n",
      "40/40 [==============================] - 0s 4ms/step - loss: 1.0168 - accuracy: 0.6295 - val_loss: 0.6235 - val_accuracy: 0.8321\n",
      "Epoch 141/1000\n",
      "22/40 [===============>..............] - ETA: 0s - loss: 1.0189 - accuracy: 0.6165\n",
      "Epoch 141: saving model to model/keypoint_classifier\\keypoint_classifier.hdf5\n",
      "40/40 [==============================] - 0s 4ms/step - loss: 1.0136 - accuracy: 0.6285 - val_loss: 0.6341 - val_accuracy: 0.8292\n",
      "Epoch 142/1000\n",
      "25/40 [=================>............] - ETA: 0s - loss: 1.0108 - accuracy: 0.6331\n",
      "Epoch 142: saving model to model/keypoint_classifier\\keypoint_classifier.hdf5\n",
      "40/40 [==============================] - 0s 4ms/step - loss: 1.0116 - accuracy: 0.6333 - val_loss: 0.6295 - val_accuracy: 0.8268\n",
      "Epoch 143/1000\n",
      "24/40 [=================>............] - ETA: 0s - loss: 1.0204 - accuracy: 0.6211\n",
      "Epoch 143: saving model to model/keypoint_classifier\\keypoint_classifier.hdf5\n",
      "40/40 [==============================] - 0s 4ms/step - loss: 1.0159 - accuracy: 0.6285 - val_loss: 0.6356 - val_accuracy: 0.8381\n",
      "Epoch 144/1000\n",
      "21/40 [==============>...............] - ETA: 0s - loss: 1.0452 - accuracy: 0.6306\n",
      "Epoch 144: saving model to model/keypoint_classifier\\keypoint_classifier.hdf5\n",
      "40/40 [==============================] - 0s 4ms/step - loss: 1.0201 - accuracy: 0.6378 - val_loss: 0.6383 - val_accuracy: 0.8244\n",
      "Epoch 145/1000\n",
      "23/40 [================>.............] - ETA: 0s - loss: 1.0287 - accuracy: 0.6240\n",
      "Epoch 145: saving model to model/keypoint_classifier\\keypoint_classifier.hdf5\n",
      "40/40 [==============================] - 0s 4ms/step - loss: 1.0316 - accuracy: 0.6220 - val_loss: 0.6279 - val_accuracy: 0.8339\n",
      "Epoch 146/1000\n",
      "23/40 [================>.............] - ETA: 0s - loss: 1.0028 - accuracy: 0.6321\n",
      "Epoch 146: saving model to model/keypoint_classifier\\keypoint_classifier.hdf5\n",
      "40/40 [==============================] - 0s 4ms/step - loss: 1.0144 - accuracy: 0.6285 - val_loss: 0.6437 - val_accuracy: 0.8280\n",
      "Epoch 147/1000\n",
      "40/40 [==============================] - ETA: 0s - loss: 1.0275 - accuracy: 0.6246\n",
      "Epoch 147: saving model to model/keypoint_classifier\\keypoint_classifier.hdf5\n",
      "40/40 [==============================] - 0s 5ms/step - loss: 1.0275 - accuracy: 0.6246 - val_loss: 0.6410 - val_accuracy: 0.8280\n",
      "Epoch 148/1000\n",
      "18/40 [============>.................] - ETA: 0s - loss: 1.0290 - accuracy: 0.6237\n",
      "Epoch 148: saving model to model/keypoint_classifier\\keypoint_classifier.hdf5\n",
      "40/40 [==============================] - 0s 4ms/step - loss: 1.0254 - accuracy: 0.6216 - val_loss: 0.6433 - val_accuracy: 0.8351\n",
      "Epoch 149/1000\n",
      "21/40 [==============>...............] - ETA: 0s - loss: 1.0347 - accuracy: 0.6250\n",
      "Epoch 149: saving model to model/keypoint_classifier\\keypoint_classifier.hdf5\n",
      "40/40 [==============================] - 0s 4ms/step - loss: 1.0286 - accuracy: 0.6283 - val_loss: 0.6431 - val_accuracy: 0.8339\n",
      "Epoch 150/1000\n",
      "23/40 [================>.............] - ETA: 0s - loss: 1.0182 - accuracy: 0.6287\n",
      "Epoch 150: saving model to model/keypoint_classifier\\keypoint_classifier.hdf5\n",
      "40/40 [==============================] - 0s 4ms/step - loss: 1.0052 - accuracy: 0.6331 - val_loss: 0.6304 - val_accuracy: 0.8316\n",
      "Epoch 151/1000\n",
      "25/40 [=================>............] - ETA: 0s - loss: 0.9803 - accuracy: 0.6453\n",
      "Epoch 151: saving model to model/keypoint_classifier\\keypoint_classifier.hdf5\n",
      "40/40 [==============================] - 0s 4ms/step - loss: 1.0004 - accuracy: 0.6416 - val_loss: 0.6436 - val_accuracy: 0.8292\n",
      "Epoch 152/1000\n",
      "24/40 [=================>............] - ETA: 0s - loss: 1.0173 - accuracy: 0.6387\n",
      "Epoch 152: saving model to model/keypoint_classifier\\keypoint_classifier.hdf5\n",
      "40/40 [==============================] - 0s 4ms/step - loss: 1.0097 - accuracy: 0.6380 - val_loss: 0.6376 - val_accuracy: 0.8369\n",
      "Epoch 153/1000\n",
      "25/40 [=================>............] - ETA: 0s - loss: 0.9963 - accuracy: 0.6403\n",
      "Epoch 153: saving model to model/keypoint_classifier\\keypoint_classifier.hdf5\n",
      "40/40 [==============================] - 0s 4ms/step - loss: 1.0103 - accuracy: 0.6378 - val_loss: 0.6297 - val_accuracy: 0.8381\n",
      "Epoch 154/1000\n",
      "22/40 [===============>..............] - ETA: 0s - loss: 1.0209 - accuracy: 0.6296\n",
      "Epoch 154: saving model to model/keypoint_classifier\\keypoint_classifier.hdf5\n",
      "40/40 [==============================] - 0s 4ms/step - loss: 1.0164 - accuracy: 0.6323 - val_loss: 0.6251 - val_accuracy: 0.8333\n",
      "Epoch 155/1000\n",
      "22/40 [===============>..............] - ETA: 0s - loss: 0.9992 - accuracy: 0.6452\n",
      "Epoch 155: saving model to model/keypoint_classifier\\keypoint_classifier.hdf5\n",
      "40/40 [==============================] - 0s 4ms/step - loss: 1.0022 - accuracy: 0.6449 - val_loss: 0.6287 - val_accuracy: 0.8375\n",
      "Epoch 156/1000\n",
      "23/40 [================>.............] - ETA: 0s - loss: 0.9827 - accuracy: 0.6478\n",
      "Epoch 156: saving model to model/keypoint_classifier\\keypoint_classifier.hdf5\n",
      "40/40 [==============================] - 0s 5ms/step - loss: 0.9970 - accuracy: 0.6457 - val_loss: 0.6328 - val_accuracy: 0.8268\n",
      "Epoch 157/1000\n",
      "20/40 [==============>...............] - ETA: 0s - loss: 1.0422 - accuracy: 0.6273\n",
      "Epoch 157: saving model to model/keypoint_classifier\\keypoint_classifier.hdf5\n",
      "40/40 [==============================] - 0s 4ms/step - loss: 1.0227 - accuracy: 0.6336 - val_loss: 0.6389 - val_accuracy: 0.8410\n",
      "Epoch 158/1000\n",
      "25/40 [=================>............] - ETA: 0s - loss: 1.0183 - accuracy: 0.6363\n",
      "Epoch 158: saving model to model/keypoint_classifier\\keypoint_classifier.hdf5\n",
      "40/40 [==============================] - 0s 4ms/step - loss: 1.0168 - accuracy: 0.6338 - val_loss: 0.6498 - val_accuracy: 0.8339\n",
      "Epoch 159/1000\n",
      "21/40 [==============>...............] - ETA: 0s - loss: 1.0065 - accuracy: 0.6403\n",
      "Epoch 159: saving model to model/keypoint_classifier\\keypoint_classifier.hdf5\n",
      "40/40 [==============================] - 0s 4ms/step - loss: 1.0072 - accuracy: 0.6388 - val_loss: 0.6428 - val_accuracy: 0.8321\n",
      "Epoch 160/1000\n",
      "24/40 [=================>............] - ETA: 0s - loss: 1.0154 - accuracy: 0.6348\n",
      "Epoch 160: saving model to model/keypoint_classifier\\keypoint_classifier.hdf5\n",
      "40/40 [==============================] - 0s 4ms/step - loss: 1.0136 - accuracy: 0.6313 - val_loss: 0.6444 - val_accuracy: 0.8357\n",
      "Epoch 160: early stopping\n"
     ]
    },
    {
     "data": {
      "text/plain": [
       "<keras.src.callbacks.History at 0x260a7149a90>"
      ]
     },
     "execution_count": 11,
     "metadata": {},
     "output_type": "execute_result"
    }
   ],
   "source": [
    "model.fit(\n",
    "    X_train,\n",
    "    y_train,\n",
    "    epochs=1000,\n",
    "    batch_size=128,\n",
    "    validation_data=(X_test, y_test),\n",
    "    callbacks=[cp_callback, es_callback]\n",
    ")"
   ]
  },
  {
   "cell_type": "code",
   "execution_count": 12,
   "metadata": {
    "colab": {
     "base_uri": "https://localhost:8080/"
    },
    "id": "pxvb2Y299hE3",
    "outputId": "59eb3185-2e37-4b9e-bc9d-ab1b8ac29b7f"
   },
   "outputs": [
    {
     "name": "stdout",
     "output_type": "stream",
     "text": [
      "14/14 [==============================] - 0s 2ms/step - loss: 0.6444 - accuracy: 0.8357\n"
     ]
    }
   ],
   "source": [
    "# Model evaluation\n",
    "val_loss, val_acc = model.evaluate(X_test, y_test, batch_size=128)"
   ]
  },
  {
   "cell_type": "code",
   "execution_count": 13,
   "metadata": {
    "id": "RBkmDeUW9hE4"
   },
   "outputs": [],
   "source": [
    "# Loading the saved model\n",
    "model = tf.keras.models.load_model(model_save_path)"
   ]
  },
  {
   "cell_type": "code",
   "execution_count": 14,
   "metadata": {
    "colab": {
     "base_uri": "https://localhost:8080/"
    },
    "id": "tFz9Tb0I9hE4",
    "outputId": "1c3b3528-54ae-4ee2-ab04-77429211cbef"
   },
   "outputs": [
    {
     "name": "stdout",
     "output_type": "stream",
     "text": [
      "1/1 [==============================] - 0s 90ms/step\n",
      "[2.6128772e-01 8.8639939e-03 5.6722122e-01 1.1035615e-02 1.3344452e-01\n",
      " 3.1375517e-03 1.3661943e-02 1.2155571e-03 1.3122897e-04 6.0304473e-07]\n",
      "2\n"
     ]
    }
   ],
   "source": [
    "# Inference test\n",
    "predict_result = model.predict(np.array([X_test[0]]))\n",
    "print(np.squeeze(predict_result))\n",
    "print(np.argmax(np.squeeze(predict_result)))"
   ]
  },
  {
   "cell_type": "markdown",
   "metadata": {
    "id": "S3U4yNWx9hE4"
   },
   "source": [
    "# Confusion matrix"
   ]
  },
  {
   "cell_type": "code",
   "execution_count": 15,
   "metadata": {
    "colab": {
     "base_uri": "https://localhost:8080/",
     "height": 582
    },
    "id": "AP1V6SCk9hE5",
    "outputId": "08e41a80-7a4a-4619-8125-ecc371368d19"
   },
   "outputs": [
    {
     "name": "stdout",
     "output_type": "stream",
     "text": [
      "53/53 [==============================] - 0s 1ms/step\n"
     ]
    },
    {
     "data": {
      "image/png": "[encoded data removed]",
      "text/plain": [
       "<Figure size 700x600 with 2 Axes>"
      ]
     },
     "metadata": {},
     "output_type": "display_data"
    },
    {
     "name": "stdout",
     "output_type": "stream",
     "text": [
      "Classification Report\n",
      "              precision    recall  f1-score   support\n",
      "\n",
      "           0       0.72      0.44      0.55       290\n",
      "           1       0.96      0.88      0.92       187\n",
      "           2       0.69      0.96      0.80       331\n",
      "           3       0.94      0.97      0.96       160\n",
      "           4       0.86      0.84      0.85       279\n",
      "           5       0.92      0.98      0.95       128\n",
      "           6       0.96      0.88      0.92        80\n",
      "           7       0.90      0.93      0.92       121\n",
      "           8       0.97      0.92      0.94       110\n",
      "\n",
      "    accuracy                           0.84      1686\n",
      "   macro avg       0.88      0.87      0.87      1686\n",
      "weighted avg       0.84      0.84      0.83      1686\n",
      "\n"
     ]
    }
   ],
   "source": [
    "import pandas as pd\n",
    "import seaborn as sns\n",
    "import matplotlib.pyplot as plt\n",
    "from sklearn.metrics import confusion_matrix, classification_report\n",
    "\n",
    "def print_confusion_matrix(y_true, y_pred, report=True):\n",
    "    labels = sorted(list(set(y_true)))\n",
    "    cmx_data = confusion_matrix(y_true, y_pred, labels=labels)\n",
    "    \n",
    "    df_cmx = pd.DataFrame(cmx_data, index=labels, columns=labels)\n",
    " \n",
    "    fig, ax = plt.subplots(figsize=(7, 6))\n",
    "    sns.heatmap(df_cmx, annot=True, fmt='g' ,square=False)\n",
    "    ax.set_ylim(len(set(y_true)), 0)\n",
    "    plt.show()\n",
    "    \n",
    "    if report:\n",
    "        print('Classification Report')\n",
    "        print(classification_report(y_test, y_pred))\n",
    "\n",
    "Y_pred = model.predict(X_test)\n",
    "y_pred = np.argmax(Y_pred, axis=1)\n",
    "\n",
    "print_confusion_matrix(y_test, y_pred)"
   ]
  },
  {
   "cell_type": "markdown",
   "metadata": {
    "id": "FNP6aqzc9hE5"
   },
   "source": [
    "# Convert to model for Tensorflow-Lite"
   ]
  },
  {
   "cell_type": "code",
   "execution_count": 16,
   "metadata": {
    "id": "ODjnYyld9hE6"
   },
   "outputs": [
    {
     "name": "stderr",
     "output_type": "stream",
     "text": [
      "C:\\Users\\Mohamed Ashif\\AppData\\Local\\Programs\\Python\\Python38\\lib\\site-packages\\keras\\src\\engine\\training.py:3000: UserWarning: You are saving your model as an HDF5 file via `model.save()`. This file format is considered legacy. We recommend using instead the native Keras format, e.g. `model.save('my_model.keras')`.\n",
      "  saving_api.save_model(\n"
     ]
    }
   ],
   "source": [
    "# Save as a model dedicated to inference\n",
    "model.save(model_save_path, include_optimizer=False)"
   ]
  },
  {
   "cell_type": "code",
   "execution_count": 17,
   "metadata": {
    "colab": {
     "base_uri": "https://localhost:8080/"
    },
    "id": "zRfuK8Y59hE6",
    "outputId": "a4ca585c-b5d5-4244-8291-8674063209bb"
   },
   "outputs": [
    {
     "name": "stdout",
     "output_type": "stream",
     "text": [
      "INFO:tensorflow:Assets written to: C:\\Users\\MOHAME~1\\AppData\\Local\\Temp\\tmpuhaguy6g\\assets\n"
     ]
    },
    {
     "name": "stderr",
     "output_type": "stream",
     "text": [
      "INFO:tensorflow:Assets written to: C:\\Users\\MOHAME~1\\AppData\\Local\\Temp\\tmpuhaguy6g\\assets\n"
     ]
    },
    {
     "data": {
      "text/plain": [
       "6808"
      ]
     },
     "execution_count": 17,
     "metadata": {},
     "output_type": "execute_result"
    }
   ],
   "source": [
    "# Transform model (quantization)\n",
    "\n",
    "converter = tf.lite.TFLiteConverter.from_keras_model(model)\n",
    "converter.optimizations = [tf.lite.Optimize.DEFAULT]\n",
    "tflite_quantized_model = converter.convert()\n",
    "\n",
    "open(tflite_save_path, 'wb').write(tflite_quantized_model)"
   ]
  },
  {
   "cell_type": "markdown",
   "metadata": {
    "id": "CHBPBXdx9hE6"
   },
   "source": [
    "# Inference test"
   ]
  },
  {
   "cell_type": "code",
   "execution_count": 18,
   "metadata": {
    "id": "mGAzLocO9hE7"
   },
   "outputs": [],
   "source": [
    "interpreter = tf.lite.Interpreter(model_path=tflite_save_path)\n",
    "interpreter.allocate_tensors()"
   ]
  },
  {
   "cell_type": "code",
   "execution_count": 19,
   "metadata": {
    "id": "oQuDK8YS9hE7"
   },
   "outputs": [],
   "source": [
    "# Get I / O tensor\n",
    "input_details = interpreter.get_input_details()\n",
    "output_details = interpreter.get_output_details()"
   ]
  },
  {
   "cell_type": "code",
   "execution_count": 20,
   "metadata": {
    "id": "2_ixAf_l9hE7"
   },
   "outputs": [],
   "source": [
    "interpreter.set_tensor(input_details[0]['index'], np.array([X_test[0]]))"
   ]
  },
  {
   "cell_type": "code",
   "execution_count": 21,
   "metadata": {
    "colab": {
     "base_uri": "https://localhost:8080/"
    },
    "id": "s4FoAnuc9hE7",
    "outputId": "91f18257-8d8b-4ef3-c558-e9b5f94fabbf",
    "scrolled": true
   },
   "outputs": [
    {
     "name": "stdout",
     "output_type": "stream",
     "text": [
      "CPU times: total: 0 ns\n",
      "Wall time: 0 ns\n"
     ]
    }
   ],
   "source": [
    "%%time\n",
    "# Inference implementation\n",
    "interpreter.invoke()\n",
    "tflite_results = interpreter.get_tensor(output_details[0]['index'])"
   ]
  },
  {
   "cell_type": "code",
   "execution_count": 22,
   "metadata": {
    "colab": {
     "base_uri": "https://localhost:8080/"
    },
    "id": "vONjp19J9hE8",
    "outputId": "77205e24-fd00-42c4-f7b6-e06e527c2cba"
   },
   "outputs": [
    {
     "name": "stdout",
     "output_type": "stream",
     "text": [
      "[2.6128769e-01 8.8639865e-03 5.6722128e-01 1.1035607e-02 1.3344447e-01\n",
      " 3.1375519e-03 1.3661939e-02 1.2155561e-03 1.3122872e-04 6.0304353e-07]\n",
      "2\n"
     ]
    }
   ],
   "source": [
    "print(np.squeeze(tflite_results))\n",
    "print(np.argmax(np.squeeze(tflite_results)))"
   ]
  }
 ],
 "metadata": {
  "accelerator": "GPU",
  "colab": {
   "collapsed_sections": [],
   "name": "keypoint_classification_EN.ipynb",
   "provenance": [],
   "toc_visible": true
  },
  "kernelspec": {
   "display_name": "Python 3 (ipykernel)",
   "language": "python",
   "name": "python3"
  },
  "language_info": {
   "codemirror_mode": {
    "name": "ipython",
    "version": 3
   },
   "file_extension": ".py",
   "mimetype": "text/x-python",
   "name": "python",
   "nbconvert_exporter": "python",
   "pygments_lexer": "ipython3",
   "version": "3.8.10"
  }
 },
 "nbformat": 4,
 "nbformat_minor": 4
}
